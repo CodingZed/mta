{
 "cells": [
  {
   "cell_type": "markdown",
   "metadata": {},
   "source": [
    "## Import dataset "
   ]
  },
  {
   "cell_type": "code",
   "execution_count": 1,
   "metadata": {
    "collapsed": true
   },
   "outputs": [],
   "source": [
    "import pandas as pd\n",
    "import numpy as np\n",
    "import matplotlib.pyplot as plt\n",
    "import datetime\n",
    "import re"
   ]
  },
  {
   "cell_type": "code",
   "execution_count": 2,
   "metadata": {
    "collapsed": true
   },
   "outputs": [],
   "source": [
    "plt.style.use('ggplot')\n",
    "%matplotlib inline"
   ]
  },
  {
   "cell_type": "code",
   "execution_count": 3,
   "metadata": {
    "collapsed": false
   },
   "outputs": [
    {
     "name": "stderr",
     "output_type": "stream",
     "text": [
      "/usr/local/lib/python3.5/dist-packages/IPython/core/interactiveshell.py:2698: DtypeWarning: Columns (7) have mixed types. Specify dtype option on import or set low_memory=False.\n",
      "  interactivity=interactivity, compiler=compiler, result=result)\n"
     ]
    }
   ],
   "source": [
    "df_all = pd.read_csv('data/april_report.csv')"
   ]
  },
  {
   "cell_type": "code",
   "execution_count": 4,
   "metadata": {
    "collapsed": true
   },
   "outputs": [],
   "source": [
    "df_all.columns = [col.lower().replace(' ','_') for col in df_all.columns.tolist()]\n",
    "df_all.columns = [col.lower().replace('/timestamp','') for col in df_all.columns.tolist()]"
   ]
  },
  {
   "cell_type": "code",
   "execution_count": 5,
   "metadata": {
    "collapsed": true
   },
   "outputs": [],
   "source": [
    "date_col = [col for col in df_all.columns.tolist() if 'date' in col]\n",
    "df_all[date_col] = df_all[date_col].apply(pd.to_datetime,format = \"%m/%d/%Y %H:%M:%S\")"
   ]
  },
  {
   "cell_type": "code",
   "execution_count": 6,
   "metadata": {
    "collapsed": false,
    "scrolled": true
   },
   "outputs": [
    {
     "name": "stdout",
     "output_type": "stream",
     "text": [
      "<class 'pandas.core.frame.DataFrame'>\n",
      "RangeIndex: 1253306 entries, 0 to 1253305\n",
      "Data columns (total 23 columns):\n",
      "unique_row_id           1253306 non-null object\n",
      "cvo_sid                 1253306 non-null object\n",
      "event_site_id           1253306 non-null int64\n",
      "touchpoint_site_id      1253306 non-null int64\n",
      "event_site_name         1253306 non-null object\n",
      "touchpoint_site_name    1253306 non-null object\n",
      "event_type              1253306 non-null object\n",
      "event_id                1253306 non-null object\n",
      "event_date              1253306 non-null datetime64[ns]\n",
      "touchpoint_date         1253306 non-null datetime64[ns]\n",
      "total_event_value       1253306 non-null float64\n",
      "touchpoint_revenue      1253306 non-null float64\n",
      "conversion              1253306 non-null float64\n",
      "touchpoint_type         1027589 non-null object\n",
      "first_touch_date        1253306 non-null datetime64[ns]\n",
      "last_touch_date         1253306 non-null datetime64[ns]\n",
      "source_1                1253306 non-null object\n",
      "source_2                1253306 non-null object\n",
      "source_3                1253306 non-null object\n",
      "touchpoints_in_path     1253306 non-null int64\n",
      "attribution_sequence    1253306 non-null int64\n",
      "path_position           1253306 non-null object\n",
      "device                  1253306 non-null object\n",
      "dtypes: datetime64[ns](4), float64(3), int64(4), object(12)\n",
      "memory usage: 219.9+ MB\n"
     ]
    }
   ],
   "source": [
    "df_all.info()"
   ]
  },
  {
   "cell_type": "markdown",
   "metadata": {},
   "source": [
    "## Clean\n",
    "* pick columns\n",
    "* remove channel base\n"
   ]
  },
  {
   "cell_type": "code",
   "execution_count": 7,
   "metadata": {
    "collapsed": true
   },
   "outputs": [],
   "source": [
    "selected_col=['event_id','source_1','attribution_sequence','conversion','touchpoints_in_path']\n",
    "#selected_col.extend(date_col)\n",
    "\n",
    "df_prep=df_all[selected_col]"
   ]
  },
  {
   "cell_type": "code",
   "execution_count": 8,
   "metadata": {
    "collapsed": false
   },
   "outputs": [],
   "source": [
    "df_prep = df_prep[df_prep.source_1!='base']\n",
    "df_prep = df_prep[df_prep.touchpoints_in_path<50]\n",
    "df_prep.reset_index(drop=True, inplace=True)\n",
    "df_prep.loc[df_prep.source_1.str.contains('social'),'source_1']='social'"
   ]
  },
  {
   "cell_type": "code",
   "execution_count": 9,
   "metadata": {
    "collapsed": true
   },
   "outputs": [],
   "source": [
    "def remove_small_category(df,col):\n",
    "    count = df[col].value_counts()\n",
    "    index = count[count<1000].index.tolist()\n",
    "    return df[~df[col].isin(index)]"
   ]
  },
  {
   "cell_type": "code",
   "execution_count": 10,
   "metadata": {
    "collapsed": false
   },
   "outputs": [],
   "source": [
    "df_prep = remove_small_category(df_prep,'source_1')\n",
    "# df_prep = remove_small_category(df_prep,'event_type')"
   ]
  },
  {
   "cell_type": "markdown",
   "metadata": {},
   "source": [
    "# process"
   ]
  },
  {
   "cell_type": "code",
   "execution_count": 11,
   "metadata": {
    "collapsed": false
   },
   "outputs": [],
   "source": [
    "df_prep = df_prep.drop_duplicates(subset=['event_id','attribution_sequence'])\n",
    "\n",
    "df_prep['source_sequence'] = df_prep.source_1+'_'+df_prep.attribution_sequence.astype(str)\n",
    "\n",
    "df_conversion = df_prep.groupby('event_id',as_index=False).conversion.sum()"
   ]
  },
  {
   "cell_type": "code",
   "execution_count": 16,
   "metadata": {
    "collapsed": false
   },
   "outputs": [],
   "source": [
    "df_dummys = pd.get_dummies(df_prep,columns=['source_sequence'],prefix=[''])\n",
    "\n",
    "df_dummys = df_dummys.drop(['source_1','attribution_sequence','conversion','touchpoints_in_path'],axis=1)"
   ]
  },
  {
   "cell_type": "code",
   "execution_count": 17,
   "metadata": {
    "collapsed": false
   },
   "outputs": [],
   "source": [
    "df_dummys_sum = df_dummys.groupby('event_id',as_index=False)[df_dummys.columns[1:]].sum()\n",
    "\n",
    "df_dummys_sum['conversion'] = df_conversion.conversion"
   ]
  },
  {
   "cell_type": "code",
   "execution_count": 18,
   "metadata": {
    "collapsed": false
   },
   "outputs": [
    {
     "data": {
      "text/plain": [
       "(128245, 457)"
      ]
     },
     "execution_count": 18,
     "metadata": {},
     "output_type": "execute_result"
    }
   ],
   "source": [
    "df_dummys_sum.shape"
   ]
  },
  {
   "cell_type": "code",
   "execution_count": 19,
   "metadata": {
    "collapsed": false
   },
   "outputs": [
    {
     "data": {
      "text/html": [
       "<div>\n",
       "<table border=\"1\" class=\"dataframe\">\n",
       "  <thead>\n",
       "    <tr style=\"text-align: right;\">\n",
       "      <th></th>\n",
       "      <th>event_id</th>\n",
       "      <th>_content_1</th>\n",
       "      <th>_content_10</th>\n",
       "      <th>_content_11</th>\n",
       "      <th>_content_12</th>\n",
       "      <th>_content_13</th>\n",
       "      <th>_content_14</th>\n",
       "      <th>_content_15</th>\n",
       "      <th>_content_16</th>\n",
       "      <th>_content_17</th>\n",
       "      <th>...</th>\n",
       "      <th>_video_46</th>\n",
       "      <th>_video_47</th>\n",
       "      <th>_video_48</th>\n",
       "      <th>_video_49</th>\n",
       "      <th>_video_5</th>\n",
       "      <th>_video_6</th>\n",
       "      <th>_video_7</th>\n",
       "      <th>_video_8</th>\n",
       "      <th>_video_9</th>\n",
       "      <th>conversion</th>\n",
       "    </tr>\n",
       "  </thead>\n",
       "  <tbody>\n",
       "    <tr>\n",
       "      <th>0</th>\n",
       "      <td>149231181</td>\n",
       "      <td>0</td>\n",
       "      <td>0</td>\n",
       "      <td>0</td>\n",
       "      <td>0</td>\n",
       "      <td>0</td>\n",
       "      <td>0</td>\n",
       "      <td>0</td>\n",
       "      <td>0</td>\n",
       "      <td>0</td>\n",
       "      <td>...</td>\n",
       "      <td>0</td>\n",
       "      <td>0</td>\n",
       "      <td>0</td>\n",
       "      <td>0</td>\n",
       "      <td>0</td>\n",
       "      <td>0</td>\n",
       "      <td>0</td>\n",
       "      <td>0</td>\n",
       "      <td>0</td>\n",
       "      <td>0.102254</td>\n",
       "    </tr>\n",
       "    <tr>\n",
       "      <th>1</th>\n",
       "      <td>149299440</td>\n",
       "      <td>0</td>\n",
       "      <td>0</td>\n",
       "      <td>0</td>\n",
       "      <td>0</td>\n",
       "      <td>0</td>\n",
       "      <td>0</td>\n",
       "      <td>0</td>\n",
       "      <td>0</td>\n",
       "      <td>0</td>\n",
       "      <td>...</td>\n",
       "      <td>0</td>\n",
       "      <td>0</td>\n",
       "      <td>0</td>\n",
       "      <td>0</td>\n",
       "      <td>0</td>\n",
       "      <td>0</td>\n",
       "      <td>0</td>\n",
       "      <td>0</td>\n",
       "      <td>0</td>\n",
       "      <td>1.000000</td>\n",
       "    </tr>\n",
       "    <tr>\n",
       "      <th>2</th>\n",
       "      <td>1491860635</td>\n",
       "      <td>0</td>\n",
       "      <td>0</td>\n",
       "      <td>0</td>\n",
       "      <td>0</td>\n",
       "      <td>0</td>\n",
       "      <td>0</td>\n",
       "      <td>0</td>\n",
       "      <td>0</td>\n",
       "      <td>0</td>\n",
       "      <td>...</td>\n",
       "      <td>0</td>\n",
       "      <td>0</td>\n",
       "      <td>0</td>\n",
       "      <td>0</td>\n",
       "      <td>0</td>\n",
       "      <td>0</td>\n",
       "      <td>0</td>\n",
       "      <td>0</td>\n",
       "      <td>0</td>\n",
       "      <td>0.129704</td>\n",
       "    </tr>\n",
       "    <tr>\n",
       "      <th>3</th>\n",
       "      <td>1491963826</td>\n",
       "      <td>0</td>\n",
       "      <td>0</td>\n",
       "      <td>0</td>\n",
       "      <td>0</td>\n",
       "      <td>0</td>\n",
       "      <td>0</td>\n",
       "      <td>0</td>\n",
       "      <td>0</td>\n",
       "      <td>0</td>\n",
       "      <td>...</td>\n",
       "      <td>0</td>\n",
       "      <td>0</td>\n",
       "      <td>0</td>\n",
       "      <td>0</td>\n",
       "      <td>0</td>\n",
       "      <td>0</td>\n",
       "      <td>0</td>\n",
       "      <td>0</td>\n",
       "      <td>0</td>\n",
       "      <td>0.068284</td>\n",
       "    </tr>\n",
       "    <tr>\n",
       "      <th>4</th>\n",
       "      <td>1491987395</td>\n",
       "      <td>0</td>\n",
       "      <td>0</td>\n",
       "      <td>0</td>\n",
       "      <td>0</td>\n",
       "      <td>0</td>\n",
       "      <td>0</td>\n",
       "      <td>0</td>\n",
       "      <td>0</td>\n",
       "      <td>0</td>\n",
       "      <td>...</td>\n",
       "      <td>0</td>\n",
       "      <td>0</td>\n",
       "      <td>0</td>\n",
       "      <td>0</td>\n",
       "      <td>0</td>\n",
       "      <td>0</td>\n",
       "      <td>0</td>\n",
       "      <td>0</td>\n",
       "      <td>0</td>\n",
       "      <td>0.101388</td>\n",
       "    </tr>\n",
       "  </tbody>\n",
       "</table>\n",
       "<p>5 rows × 457 columns</p>\n",
       "</div>"
      ],
      "text/plain": [
       "     event_id  _content_1  _content_10  _content_11  _content_12  _content_13  \\\n",
       "0   149231181           0            0            0            0            0   \n",
       "1   149299440           0            0            0            0            0   \n",
       "2  1491860635           0            0            0            0            0   \n",
       "3  1491963826           0            0            0            0            0   \n",
       "4  1491987395           0            0            0            0            0   \n",
       "\n",
       "   _content_14  _content_15  _content_16  _content_17     ...      _video_46  \\\n",
       "0            0            0            0            0     ...              0   \n",
       "1            0            0            0            0     ...              0   \n",
       "2            0            0            0            0     ...              0   \n",
       "3            0            0            0            0     ...              0   \n",
       "4            0            0            0            0     ...              0   \n",
       "\n",
       "   _video_47  _video_48  _video_49  _video_5  _video_6  _video_7  _video_8  \\\n",
       "0          0          0          0         0         0         0         0   \n",
       "1          0          0          0         0         0         0         0   \n",
       "2          0          0          0         0         0         0         0   \n",
       "3          0          0          0         0         0         0         0   \n",
       "4          0          0          0         0         0         0         0   \n",
       "\n",
       "   _video_9  conversion  \n",
       "0         0    0.102254  \n",
       "1         0    1.000000  \n",
       "2         0    0.129704  \n",
       "3         0    0.068284  \n",
       "4         0    0.101388  \n",
       "\n",
       "[5 rows x 457 columns]"
      ]
     },
     "execution_count": 19,
     "metadata": {},
     "output_type": "execute_result"
    }
   ],
   "source": [
    "df_dummys_sum.head()"
   ]
  },
  {
   "cell_type": "code",
   "execution_count": null,
   "metadata": {
    "collapsed": true
   },
   "outputs": [],
   "source": []
  }
 ],
 "metadata": {
  "anaconda-cloud": {},
  "kernelspec": {
   "display_name": "Python 3",
   "language": "python",
   "name": "python3"
  },
  "language_info": {
   "codemirror_mode": {
    "name": "ipython",
    "version": 3
   },
   "file_extension": ".py",
   "mimetype": "text/x-python",
   "name": "python",
   "nbconvert_exporter": "python",
   "pygments_lexer": "ipython3",
   "version": "3.5.2"
  }
 },
 "nbformat": 4,
 "nbformat_minor": 2
}
