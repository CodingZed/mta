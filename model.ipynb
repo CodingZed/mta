{
 "cells": [
  {
   "cell_type": "markdown",
   "metadata": {},
   "source": [
    "## Import dataset "
   ]
  },
  {
   "cell_type": "code",
   "execution_count": 1,
   "metadata": {
    "collapsed": true
   },
   "outputs": [],
   "source": [
    "import pandas as pd\n",
    "import numpy as np\n",
    "import matplotlib.pyplot as plt\n",
    "import datetime\n",
    "import re"
   ]
  },
  {
   "cell_type": "code",
   "execution_count": 2,
   "metadata": {
    "collapsed": true
   },
   "outputs": [],
   "source": [
    "plt.style.use('ggplot')\n",
    "%matplotlib inline"
   ]
  },
  {
   "cell_type": "code",
   "execution_count": 3,
   "metadata": {
    "collapsed": false
   },
   "outputs": [
    {
     "name": "stderr",
     "output_type": "stream",
     "text": [
      "/usr/local/lib/python3.5/dist-packages/IPython/core/interactiveshell.py:2698: DtypeWarning: Columns (7) have mixed types. Specify dtype option on import or set low_memory=False.\n",
      "  interactivity=interactivity, compiler=compiler, result=result)\n"
     ]
    }
   ],
   "source": [
    "df_all = pd.read_csv('data/april_report.csv')"
   ]
  },
  {
   "cell_type": "code",
   "execution_count": 4,
   "metadata": {
    "collapsed": true
   },
   "outputs": [],
   "source": [
    "df_all.columns = [col.lower().replace(' ','_') for col in df_all.columns.tolist()]\n",
    "df_all.columns = [col.lower().replace('/timestamp','') for col in df_all.columns.tolist()]"
   ]
  },
  {
   "cell_type": "code",
   "execution_count": 5,
   "metadata": {
    "collapsed": true
   },
   "outputs": [],
   "source": [
    "date_col = [col for col in df_all.columns.tolist() if 'date' in col]\n",
    "df_all[date_col] = df_all[date_col].apply(pd.to_datetime,format = \"%m/%d/%Y %H:%M:%S\")"
   ]
  },
  {
   "cell_type": "code",
   "execution_count": 6,
   "metadata": {
    "collapsed": false
   },
   "outputs": [
    {
     "name": "stdout",
     "output_type": "stream",
     "text": [
      "<class 'pandas.core.frame.DataFrame'>\n",
      "RangeIndex: 1253306 entries, 0 to 1253305\n",
      "Data columns (total 23 columns):\n",
      "unique_row_id           1253306 non-null object\n",
      "cvo_sid                 1253306 non-null object\n",
      "event_site_id           1253306 non-null int64\n",
      "touchpoint_site_id      1253306 non-null int64\n",
      "event_site_name         1253306 non-null object\n",
      "touchpoint_site_name    1253306 non-null object\n",
      "event_type              1253306 non-null object\n",
      "event_id                1253306 non-null object\n",
      "event_date              1253306 non-null datetime64[ns]\n",
      "touchpoint_date         1253306 non-null datetime64[ns]\n",
      "total_event_value       1253306 non-null float64\n",
      "touchpoint_revenue      1253306 non-null float64\n",
      "conversion              1253306 non-null float64\n",
      "touchpoint_type         1027589 non-null object\n",
      "first_touch_date        1253306 non-null datetime64[ns]\n",
      "last_touch_date         1253306 non-null datetime64[ns]\n",
      "source_1                1253306 non-null object\n",
      "source_2                1253306 non-null object\n",
      "source_3                1253306 non-null object\n",
      "touchpoints_in_path     1253306 non-null int64\n",
      "attribution_sequence    1253306 non-null int64\n",
      "path_position           1253306 non-null object\n",
      "device                  1253306 non-null object\n",
      "dtypes: datetime64[ns](4), float64(3), int64(4), object(12)\n",
      "memory usage: 219.9+ MB\n"
     ]
    }
   ],
   "source": [
    "df_all.info()"
   ]
  },
  {
   "cell_type": "markdown",
   "metadata": {},
   "source": [
    "## Clean\n",
    "* pick columns\n",
    "* remove channel base\n"
   ]
  },
  {
   "cell_type": "code",
   "execution_count": 19,
   "metadata": {
    "collapsed": true
   },
   "outputs": [],
   "source": [
    "selected_col=['event_site_name','touchpoint_site_name','event_type','conversion','touchpoint_type','source_1','source_3','touchpoints_in_path','attribution_sequence','path_position']\n",
    "selected_col.extend(date_col)\n",
    "\n",
    "df_prep=df_all[selected_col]"
   ]
  },
  {
   "cell_type": "code",
   "execution_count": 20,
   "metadata": {
    "collapsed": true
   },
   "outputs": [],
   "source": [
    "df_prep = df_prep[df_prep.source_1!='base']\n",
    "# df_prep = df_prep[df_prep.touchpoints_in_path<50]\n",
    "df_prep.reset_index(drop=True, inplace=True)\n",
    "df_prep.loc[df_prep.source_1.str.contains('social'),'source_1']='social'"
   ]
  },
  {
   "cell_type": "code",
   "execution_count": 21,
   "metadata": {
    "collapsed": true
   },
   "outputs": [],
   "source": [
    "def remove_small_category(df,col):\n",
    "    count = df[col].value_counts()\n",
    "    index = count[count<1000].index.tolist()\n",
    "    return df[~df[col].isin(index)]"
   ]
  },
  {
   "cell_type": "code",
   "execution_count": 22,
   "metadata": {
    "collapsed": false
   },
   "outputs": [],
   "source": [
    "df_prep = remove_small_category(df_prep,'source_1')\n",
    "df_prep = remove_small_category(df_prep,'event_type')"
   ]
  },
  {
   "cell_type": "code",
   "execution_count": 24,
   "metadata": {
    "collapsed": false
   },
   "outputs": [
    {
     "data": {
      "text/plain": [
       "display                 726559\n",
       "video                   164456\n",
       "ppc brand                36791\n",
       "organic not provided     22399\n",
       "content                  18998\n",
       "other                    15348\n",
       "social                   14918\n",
       "coupon                   11951\n",
       "ppc nonbrand              7640\n",
       "email                     6023\n",
       "organic brand             1452\n",
       "Name: source_1, dtype: int64"
      ]
     },
     "execution_count": 24,
     "metadata": {},
     "output_type": "execute_result"
    }
   ],
   "source": [
    "df_prep.source_1.value_counts()"
   ]
  },
  {
   "cell_type": "code",
   "execution_count": 25,
   "metadata": {
    "collapsed": false
   },
   "outputs": [
    {
     "data": {
      "text/plain": [
       "(1026535, 14)"
      ]
     },
     "execution_count": 25,
     "metadata": {},
     "output_type": "execute_result"
    }
   ],
   "source": [
    "df_prep.shape"
   ]
  },
  {
   "cell_type": "markdown",
   "metadata": {},
   "source": [
    "## procesing\n",
    "* conbime servel social\n",
    "* days from first to last touch\n",
    "* distance to event\n",
    "* mean of __event, source, path distant, path position, touch point type__"
   ]
  },
  {
   "cell_type": "code",
   "execution_count": 26,
   "metadata": {
    "collapsed": false
   },
   "outputs": [],
   "source": [
    "df_prep['event_to_touchpoint']=(df_prep.event_date-df_prep.touchpoint_date).dt.days\n",
    "\n",
    "df_prep['day_of_week']=df_prep.touchpoint_date.dt.weekday\n",
    "\n",
    "df_prep['month']=df_prep.touchpoint_date.dt.month\n",
    "\n",
    "df_prep['week_of_month']=(df_prep.touchpoint_date.dt.day-1)//7+1\n",
    "\n",
    "df_prep['distance_event'] = df_prep.touchpoints_in_path - df_prep.attribution_sequence"
   ]
  },
  {
   "cell_type": "code",
   "execution_count": 28,
   "metadata": {
    "collapsed": false,
    "scrolled": false
   },
   "outputs": [
    {
     "data": {
      "text/html": [
       "<div>\n",
       "<table border=\"1\" class=\"dataframe\">\n",
       "  <thead>\n",
       "    <tr style=\"text-align: right;\">\n",
       "      <th></th>\n",
       "      <th>event_site_name</th>\n",
       "      <th>touchpoint_site_name</th>\n",
       "      <th>event_type</th>\n",
       "      <th>conversion</th>\n",
       "      <th>touchpoint_type</th>\n",
       "      <th>source_1</th>\n",
       "      <th>source_3</th>\n",
       "      <th>touchpoints_in_path</th>\n",
       "      <th>attribution_sequence</th>\n",
       "      <th>path_position</th>\n",
       "      <th>event_date</th>\n",
       "      <th>touchpoint_date</th>\n",
       "      <th>first_touch_date</th>\n",
       "      <th>last_touch_date</th>\n",
       "      <th>event_to_touchpoint</th>\n",
       "      <th>day_of_week</th>\n",
       "      <th>month</th>\n",
       "      <th>week_of_month</th>\n",
       "      <th>distance_event</th>\n",
       "    </tr>\n",
       "  </thead>\n",
       "  <tbody>\n",
       "    <tr>\n",
       "      <th>0</th>\n",
       "      <td>Nexium24hour</td>\n",
       "      <td>Nexium24hour</td>\n",
       "      <td>nexium24hour-buy.now</td>\n",
       "      <td>1.000000</td>\n",
       "      <td>visit</td>\n",
       "      <td>ppc nonbrand</td>\n",
       "      <td>+cure +heartburn</td>\n",
       "      <td>1</td>\n",
       "      <td>1</td>\n",
       "      <td>only</td>\n",
       "      <td>2017-04-07 17:54:58</td>\n",
       "      <td>2017-04-07 17:54:58</td>\n",
       "      <td>2017-04-07 17:54:58</td>\n",
       "      <td>2017-04-07 17:54:58</td>\n",
       "      <td>0</td>\n",
       "      <td>4</td>\n",
       "      <td>4</td>\n",
       "      <td>1</td>\n",
       "      <td>0</td>\n",
       "    </tr>\n",
       "    <tr>\n",
       "      <th>1</th>\n",
       "      <td>Centrum</td>\n",
       "      <td>Centrum</td>\n",
       "      <td>centrum-coupon.submit</td>\n",
       "      <td>0.000047</td>\n",
       "      <td>visit</td>\n",
       "      <td>organic not provided</td>\n",
       "      <td>centrum.com/offers</td>\n",
       "      <td>2</td>\n",
       "      <td>1</td>\n",
       "      <td>introducer</td>\n",
       "      <td>2017-04-21 17:52:51</td>\n",
       "      <td>2017-04-12 12:26:32</td>\n",
       "      <td>2017-04-12 12:26:32</td>\n",
       "      <td>2017-04-21 17:52:51</td>\n",
       "      <td>9</td>\n",
       "      <td>2</td>\n",
       "      <td>4</td>\n",
       "      <td>2</td>\n",
       "      <td>1</td>\n",
       "    </tr>\n",
       "    <tr>\n",
       "      <th>2</th>\n",
       "      <td>Centrum</td>\n",
       "      <td>Centrum</td>\n",
       "      <td>centrum-coupon.submit</td>\n",
       "      <td>0.011891</td>\n",
       "      <td>visit</td>\n",
       "      <td>organic not provided</td>\n",
       "      <td>centrum.com/offers</td>\n",
       "      <td>2</td>\n",
       "      <td>2</td>\n",
       "      <td>closer</td>\n",
       "      <td>2017-04-21 17:52:51</td>\n",
       "      <td>2017-04-21 17:50:56</td>\n",
       "      <td>2017-04-12 12:26:32</td>\n",
       "      <td>2017-04-21 17:52:51</td>\n",
       "      <td>0</td>\n",
       "      <td>4</td>\n",
       "      <td>4</td>\n",
       "      <td>3</td>\n",
       "      <td>0</td>\n",
       "    </tr>\n",
       "    <tr>\n",
       "      <th>3</th>\n",
       "      <td>Centrum</td>\n",
       "      <td>Centrum</td>\n",
       "      <td>centrum-coupon.submit</td>\n",
       "      <td>0.197314</td>\n",
       "      <td>visit</td>\n",
       "      <td>ppc brand</td>\n",
       "      <td>centrum coupon</td>\n",
       "      <td>1</td>\n",
       "      <td>1</td>\n",
       "      <td>only</td>\n",
       "      <td>2017-04-30 18:04:52</td>\n",
       "      <td>2017-04-30 18:04:22</td>\n",
       "      <td>2017-04-30 18:04:22</td>\n",
       "      <td>2017-04-30 18:04:52</td>\n",
       "      <td>0</td>\n",
       "      <td>6</td>\n",
       "      <td>4</td>\n",
       "      <td>5</td>\n",
       "      <td>0</td>\n",
       "    </tr>\n",
       "    <tr>\n",
       "      <th>4</th>\n",
       "      <td>Centrum</td>\n",
       "      <td>Centrum</td>\n",
       "      <td>centrum-email.sign.up</td>\n",
       "      <td>1.000000</td>\n",
       "      <td>visit</td>\n",
       "      <td>social</td>\n",
       "      <td>rffb_dlxmultibuyersorllbuyers_movingdadgif041717</td>\n",
       "      <td>1</td>\n",
       "      <td>1</td>\n",
       "      <td>only</td>\n",
       "      <td>2017-04-19 14:12:59</td>\n",
       "      <td>2017-04-19 14:12:00</td>\n",
       "      <td>2017-04-19 14:12:00</td>\n",
       "      <td>2017-04-19 14:12:00</td>\n",
       "      <td>0</td>\n",
       "      <td>2</td>\n",
       "      <td>4</td>\n",
       "      <td>3</td>\n",
       "      <td>0</td>\n",
       "    </tr>\n",
       "    <tr>\n",
       "      <th>5</th>\n",
       "      <td>Advil PM</td>\n",
       "      <td>Nexium24hour</td>\n",
       "      <td>sale.advilpm</td>\n",
       "      <td>0.000002</td>\n",
       "      <td>impression</td>\n",
       "      <td>content</td>\n",
       "      <td>142293644</td>\n",
       "      <td>4</td>\n",
       "      <td>1</td>\n",
       "      <td>introducer</td>\n",
       "      <td>2017-04-19 14:49:00</td>\n",
       "      <td>2016-12-21 11:39:44</td>\n",
       "      <td>2016-12-21 11:39:44</td>\n",
       "      <td>2017-04-19 14:49:00</td>\n",
       "      <td>119</td>\n",
       "      <td>2</td>\n",
       "      <td>12</td>\n",
       "      <td>3</td>\n",
       "      <td>3</td>\n",
       "    </tr>\n",
       "    <tr>\n",
       "      <th>6</th>\n",
       "      <td>Advil PM</td>\n",
       "      <td>Nexium24hour</td>\n",
       "      <td>sale.advilpm</td>\n",
       "      <td>0.000002</td>\n",
       "      <td>impression</td>\n",
       "      <td>content</td>\n",
       "      <td>141628154</td>\n",
       "      <td>4</td>\n",
       "      <td>2</td>\n",
       "      <td>influencer</td>\n",
       "      <td>2017-04-19 14:49:00</td>\n",
       "      <td>2016-12-22 23:41:43</td>\n",
       "      <td>2016-12-21 11:39:44</td>\n",
       "      <td>2017-04-19 14:49:00</td>\n",
       "      <td>117</td>\n",
       "      <td>3</td>\n",
       "      <td>12</td>\n",
       "      <td>4</td>\n",
       "      <td>2</td>\n",
       "    </tr>\n",
       "    <tr>\n",
       "      <th>7</th>\n",
       "      <td>Advil PM</td>\n",
       "      <td>Nexium24hour</td>\n",
       "      <td>sale.advilpm</td>\n",
       "      <td>0.000002</td>\n",
       "      <td>impression</td>\n",
       "      <td>content</td>\n",
       "      <td>142293645</td>\n",
       "      <td>4</td>\n",
       "      <td>3</td>\n",
       "      <td>influencer</td>\n",
       "      <td>2017-04-19 14:49:00</td>\n",
       "      <td>2016-12-25 08:50:56</td>\n",
       "      <td>2016-12-21 11:39:44</td>\n",
       "      <td>2017-04-19 14:49:00</td>\n",
       "      <td>115</td>\n",
       "      <td>6</td>\n",
       "      <td>12</td>\n",
       "      <td>4</td>\n",
       "      <td>1</td>\n",
       "    </tr>\n",
       "    <tr>\n",
       "      <th>8</th>\n",
       "      <td>Advil PM</td>\n",
       "      <td>Centrum</td>\n",
       "      <td>sale.advilpm</td>\n",
       "      <td>0.000002</td>\n",
       "      <td>impression</td>\n",
       "      <td>display</td>\n",
       "      <td>142449245</td>\n",
       "      <td>4</td>\n",
       "      <td>4</td>\n",
       "      <td>closer</td>\n",
       "      <td>2017-04-19 14:49:00</td>\n",
       "      <td>2017-04-14 18:37:58</td>\n",
       "      <td>2016-12-21 11:39:44</td>\n",
       "      <td>2017-04-19 14:49:00</td>\n",
       "      <td>4</td>\n",
       "      <td>4</td>\n",
       "      <td>4</td>\n",
       "      <td>2</td>\n",
       "      <td>0</td>\n",
       "    </tr>\n",
       "    <tr>\n",
       "      <th>9</th>\n",
       "      <td>Advil</td>\n",
       "      <td>Advil</td>\n",
       "      <td>sale.advil</td>\n",
       "      <td>0.014566</td>\n",
       "      <td>impression</td>\n",
       "      <td>video</td>\n",
       "      <td>143085908</td>\n",
       "      <td>1</td>\n",
       "      <td>1</td>\n",
       "      <td>only</td>\n",
       "      <td>2017-04-17 12:54:00</td>\n",
       "      <td>2017-02-08 07:57:06</td>\n",
       "      <td>2017-02-08 07:57:06</td>\n",
       "      <td>2017-04-17 12:54:00</td>\n",
       "      <td>68</td>\n",
       "      <td>2</td>\n",
       "      <td>2</td>\n",
       "      <td>2</td>\n",
       "      <td>0</td>\n",
       "    </tr>\n",
       "    <tr>\n",
       "      <th>10</th>\n",
       "      <td>Centrum</td>\n",
       "      <td>Preparationh</td>\n",
       "      <td>centrum-email.sign.up</td>\n",
       "      <td>0.333333</td>\n",
       "      <td>impression</td>\n",
       "      <td>display</td>\n",
       "      <td>142735815</td>\n",
       "      <td>24</td>\n",
       "      <td>1</td>\n",
       "      <td>introducer</td>\n",
       "      <td>2017-04-16 09:27:44</td>\n",
       "      <td>2017-04-02 08:28:39</td>\n",
       "      <td>2017-04-02 08:28:39</td>\n",
       "      <td>2017-04-16 09:26:43</td>\n",
       "      <td>14</td>\n",
       "      <td>6</td>\n",
       "      <td>4</td>\n",
       "      <td>1</td>\n",
       "      <td>23</td>\n",
       "    </tr>\n",
       "    <tr>\n",
       "      <th>11</th>\n",
       "      <td>Centrum</td>\n",
       "      <td>Centrum</td>\n",
       "      <td>centrum-email.sign.up</td>\n",
       "      <td>0.015149</td>\n",
       "      <td>impression</td>\n",
       "      <td>display</td>\n",
       "      <td>142516157</td>\n",
       "      <td>24</td>\n",
       "      <td>2</td>\n",
       "      <td>influencer</td>\n",
       "      <td>2017-04-16 09:27:44</td>\n",
       "      <td>2017-04-16 09:09:13</td>\n",
       "      <td>2017-04-02 08:28:39</td>\n",
       "      <td>2017-04-16 09:26:43</td>\n",
       "      <td>0</td>\n",
       "      <td>6</td>\n",
       "      <td>4</td>\n",
       "      <td>3</td>\n",
       "      <td>22</td>\n",
       "    </tr>\n",
       "    <tr>\n",
       "      <th>12</th>\n",
       "      <td>Centrum</td>\n",
       "      <td>Centrum</td>\n",
       "      <td>centrum-email.sign.up</td>\n",
       "      <td>0.015149</td>\n",
       "      <td>impression</td>\n",
       "      <td>display</td>\n",
       "      <td>142516157</td>\n",
       "      <td>24</td>\n",
       "      <td>3</td>\n",
       "      <td>influencer</td>\n",
       "      <td>2017-04-16 09:27:44</td>\n",
       "      <td>2017-04-16 09:09:54</td>\n",
       "      <td>2017-04-02 08:28:39</td>\n",
       "      <td>2017-04-16 09:26:43</td>\n",
       "      <td>0</td>\n",
       "      <td>6</td>\n",
       "      <td>4</td>\n",
       "      <td>3</td>\n",
       "      <td>21</td>\n",
       "    </tr>\n",
       "    <tr>\n",
       "      <th>13</th>\n",
       "      <td>Centrum</td>\n",
       "      <td>Centrum</td>\n",
       "      <td>centrum-email.sign.up</td>\n",
       "      <td>0.015149</td>\n",
       "      <td>impression</td>\n",
       "      <td>display</td>\n",
       "      <td>142516157</td>\n",
       "      <td>24</td>\n",
       "      <td>4</td>\n",
       "      <td>influencer</td>\n",
       "      <td>2017-04-16 09:27:44</td>\n",
       "      <td>2017-04-16 09:10:17</td>\n",
       "      <td>2017-04-02 08:28:39</td>\n",
       "      <td>2017-04-16 09:26:43</td>\n",
       "      <td>0</td>\n",
       "      <td>6</td>\n",
       "      <td>4</td>\n",
       "      <td>3</td>\n",
       "      <td>20</td>\n",
       "    </tr>\n",
       "    <tr>\n",
       "      <th>14</th>\n",
       "      <td>Centrum</td>\n",
       "      <td>Centrum</td>\n",
       "      <td>centrum-email.sign.up</td>\n",
       "      <td>0.015150</td>\n",
       "      <td>impression</td>\n",
       "      <td>display</td>\n",
       "      <td>142516157</td>\n",
       "      <td>24</td>\n",
       "      <td>5</td>\n",
       "      <td>influencer</td>\n",
       "      <td>2017-04-16 09:27:44</td>\n",
       "      <td>2017-04-16 09:14:38</td>\n",
       "      <td>2017-04-02 08:28:39</td>\n",
       "      <td>2017-04-16 09:26:43</td>\n",
       "      <td>0</td>\n",
       "      <td>6</td>\n",
       "      <td>4</td>\n",
       "      <td>3</td>\n",
       "      <td>19</td>\n",
       "    </tr>\n",
       "    <tr>\n",
       "      <th>15</th>\n",
       "      <td>Centrum</td>\n",
       "      <td>Centrum</td>\n",
       "      <td>centrum-email.sign.up</td>\n",
       "      <td>0.015150</td>\n",
       "      <td>impression</td>\n",
       "      <td>display</td>\n",
       "      <td>142516157</td>\n",
       "      <td>24</td>\n",
       "      <td>6</td>\n",
       "      <td>influencer</td>\n",
       "      <td>2017-04-16 09:27:44</td>\n",
       "      <td>2017-04-16 09:15:10</td>\n",
       "      <td>2017-04-02 08:28:39</td>\n",
       "      <td>2017-04-16 09:26:43</td>\n",
       "      <td>0</td>\n",
       "      <td>6</td>\n",
       "      <td>4</td>\n",
       "      <td>3</td>\n",
       "      <td>18</td>\n",
       "    </tr>\n",
       "    <tr>\n",
       "      <th>16</th>\n",
       "      <td>Centrum</td>\n",
       "      <td>Centrum</td>\n",
       "      <td>centrum-email.sign.up</td>\n",
       "      <td>0.015151</td>\n",
       "      <td>impression</td>\n",
       "      <td>display</td>\n",
       "      <td>142516157</td>\n",
       "      <td>24</td>\n",
       "      <td>7</td>\n",
       "      <td>influencer</td>\n",
       "      <td>2017-04-16 09:27:44</td>\n",
       "      <td>2017-04-16 09:15:31</td>\n",
       "      <td>2017-04-02 08:28:39</td>\n",
       "      <td>2017-04-16 09:26:43</td>\n",
       "      <td>0</td>\n",
       "      <td>6</td>\n",
       "      <td>4</td>\n",
       "      <td>3</td>\n",
       "      <td>17</td>\n",
       "    </tr>\n",
       "    <tr>\n",
       "      <th>17</th>\n",
       "      <td>Centrum</td>\n",
       "      <td>Centrum</td>\n",
       "      <td>centrum-email.sign.up</td>\n",
       "      <td>0.015151</td>\n",
       "      <td>impression</td>\n",
       "      <td>display</td>\n",
       "      <td>142516157</td>\n",
       "      <td>24</td>\n",
       "      <td>8</td>\n",
       "      <td>influencer</td>\n",
       "      <td>2017-04-16 09:27:44</td>\n",
       "      <td>2017-04-16 09:15:49</td>\n",
       "      <td>2017-04-02 08:28:39</td>\n",
       "      <td>2017-04-16 09:26:43</td>\n",
       "      <td>0</td>\n",
       "      <td>6</td>\n",
       "      <td>4</td>\n",
       "      <td>3</td>\n",
       "      <td>16</td>\n",
       "    </tr>\n",
       "    <tr>\n",
       "      <th>18</th>\n",
       "      <td>Centrum</td>\n",
       "      <td>Centrum</td>\n",
       "      <td>centrum-email.sign.up</td>\n",
       "      <td>0.015151</td>\n",
       "      <td>impression</td>\n",
       "      <td>display</td>\n",
       "      <td>142516157</td>\n",
       "      <td>24</td>\n",
       "      <td>9</td>\n",
       "      <td>influencer</td>\n",
       "      <td>2017-04-16 09:27:44</td>\n",
       "      <td>2017-04-16 09:16:14</td>\n",
       "      <td>2017-04-02 08:28:39</td>\n",
       "      <td>2017-04-16 09:26:43</td>\n",
       "      <td>0</td>\n",
       "      <td>6</td>\n",
       "      <td>4</td>\n",
       "      <td>3</td>\n",
       "      <td>15</td>\n",
       "    </tr>\n",
       "    <tr>\n",
       "      <th>19</th>\n",
       "      <td>Centrum</td>\n",
       "      <td>Centrum</td>\n",
       "      <td>centrum-email.sign.up</td>\n",
       "      <td>0.015151</td>\n",
       "      <td>impression</td>\n",
       "      <td>display</td>\n",
       "      <td>142516157</td>\n",
       "      <td>24</td>\n",
       "      <td>10</td>\n",
       "      <td>influencer</td>\n",
       "      <td>2017-04-16 09:27:44</td>\n",
       "      <td>2017-04-16 09:16:48</td>\n",
       "      <td>2017-04-02 08:28:39</td>\n",
       "      <td>2017-04-16 09:26:43</td>\n",
       "      <td>0</td>\n",
       "      <td>6</td>\n",
       "      <td>4</td>\n",
       "      <td>3</td>\n",
       "      <td>14</td>\n",
       "    </tr>\n",
       "  </tbody>\n",
       "</table>\n",
       "</div>"
      ],
      "text/plain": [
       "   event_site_name touchpoint_site_name             event_type  conversion  \\\n",
       "0     Nexium24hour         Nexium24hour   nexium24hour-buy.now    1.000000   \n",
       "1          Centrum              Centrum  centrum-coupon.submit    0.000047   \n",
       "2          Centrum              Centrum  centrum-coupon.submit    0.011891   \n",
       "3          Centrum              Centrum  centrum-coupon.submit    0.197314   \n",
       "4          Centrum              Centrum  centrum-email.sign.up    1.000000   \n",
       "5         Advil PM         Nexium24hour           sale.advilpm    0.000002   \n",
       "6         Advil PM         Nexium24hour           sale.advilpm    0.000002   \n",
       "7         Advil PM         Nexium24hour           sale.advilpm    0.000002   \n",
       "8         Advil PM              Centrum           sale.advilpm    0.000002   \n",
       "9            Advil                Advil             sale.advil    0.014566   \n",
       "10         Centrum         Preparationh  centrum-email.sign.up    0.333333   \n",
       "11         Centrum              Centrum  centrum-email.sign.up    0.015149   \n",
       "12         Centrum              Centrum  centrum-email.sign.up    0.015149   \n",
       "13         Centrum              Centrum  centrum-email.sign.up    0.015149   \n",
       "14         Centrum              Centrum  centrum-email.sign.up    0.015150   \n",
       "15         Centrum              Centrum  centrum-email.sign.up    0.015150   \n",
       "16         Centrum              Centrum  centrum-email.sign.up    0.015151   \n",
       "17         Centrum              Centrum  centrum-email.sign.up    0.015151   \n",
       "18         Centrum              Centrum  centrum-email.sign.up    0.015151   \n",
       "19         Centrum              Centrum  centrum-email.sign.up    0.015151   \n",
       "\n",
       "   touchpoint_type              source_1  \\\n",
       "0            visit          ppc nonbrand   \n",
       "1            visit  organic not provided   \n",
       "2            visit  organic not provided   \n",
       "3            visit             ppc brand   \n",
       "4            visit                social   \n",
       "5       impression               content   \n",
       "6       impression               content   \n",
       "7       impression               content   \n",
       "8       impression               display   \n",
       "9       impression                 video   \n",
       "10      impression               display   \n",
       "11      impression               display   \n",
       "12      impression               display   \n",
       "13      impression               display   \n",
       "14      impression               display   \n",
       "15      impression               display   \n",
       "16      impression               display   \n",
       "17      impression               display   \n",
       "18      impression               display   \n",
       "19      impression               display   \n",
       "\n",
       "                                            source_3  touchpoints_in_path  \\\n",
       "0                                   +cure +heartburn                    1   \n",
       "1                                 centrum.com/offers                    2   \n",
       "2                                 centrum.com/offers                    2   \n",
       "3                                     centrum coupon                    1   \n",
       "4   rffb_dlxmultibuyersorllbuyers_movingdadgif041717                    1   \n",
       "5                                          142293644                    4   \n",
       "6                                          141628154                    4   \n",
       "7                                          142293645                    4   \n",
       "8                                          142449245                    4   \n",
       "9                                          143085908                    1   \n",
       "10                                         142735815                   24   \n",
       "11                                         142516157                   24   \n",
       "12                                         142516157                   24   \n",
       "13                                         142516157                   24   \n",
       "14                                         142516157                   24   \n",
       "15                                         142516157                   24   \n",
       "16                                         142516157                   24   \n",
       "17                                         142516157                   24   \n",
       "18                                         142516157                   24   \n",
       "19                                         142516157                   24   \n",
       "\n",
       "    attribution_sequence path_position          event_date  \\\n",
       "0                      1          only 2017-04-07 17:54:58   \n",
       "1                      1    introducer 2017-04-21 17:52:51   \n",
       "2                      2        closer 2017-04-21 17:52:51   \n",
       "3                      1          only 2017-04-30 18:04:52   \n",
       "4                      1          only 2017-04-19 14:12:59   \n",
       "5                      1    introducer 2017-04-19 14:49:00   \n",
       "6                      2    influencer 2017-04-19 14:49:00   \n",
       "7                      3    influencer 2017-04-19 14:49:00   \n",
       "8                      4        closer 2017-04-19 14:49:00   \n",
       "9                      1          only 2017-04-17 12:54:00   \n",
       "10                     1    introducer 2017-04-16 09:27:44   \n",
       "11                     2    influencer 2017-04-16 09:27:44   \n",
       "12                     3    influencer 2017-04-16 09:27:44   \n",
       "13                     4    influencer 2017-04-16 09:27:44   \n",
       "14                     5    influencer 2017-04-16 09:27:44   \n",
       "15                     6    influencer 2017-04-16 09:27:44   \n",
       "16                     7    influencer 2017-04-16 09:27:44   \n",
       "17                     8    influencer 2017-04-16 09:27:44   \n",
       "18                     9    influencer 2017-04-16 09:27:44   \n",
       "19                    10    influencer 2017-04-16 09:27:44   \n",
       "\n",
       "       touchpoint_date    first_touch_date     last_touch_date  \\\n",
       "0  2017-04-07 17:54:58 2017-04-07 17:54:58 2017-04-07 17:54:58   \n",
       "1  2017-04-12 12:26:32 2017-04-12 12:26:32 2017-04-21 17:52:51   \n",
       "2  2017-04-21 17:50:56 2017-04-12 12:26:32 2017-04-21 17:52:51   \n",
       "3  2017-04-30 18:04:22 2017-04-30 18:04:22 2017-04-30 18:04:52   \n",
       "4  2017-04-19 14:12:00 2017-04-19 14:12:00 2017-04-19 14:12:00   \n",
       "5  2016-12-21 11:39:44 2016-12-21 11:39:44 2017-04-19 14:49:00   \n",
       "6  2016-12-22 23:41:43 2016-12-21 11:39:44 2017-04-19 14:49:00   \n",
       "7  2016-12-25 08:50:56 2016-12-21 11:39:44 2017-04-19 14:49:00   \n",
       "8  2017-04-14 18:37:58 2016-12-21 11:39:44 2017-04-19 14:49:00   \n",
       "9  2017-02-08 07:57:06 2017-02-08 07:57:06 2017-04-17 12:54:00   \n",
       "10 2017-04-02 08:28:39 2017-04-02 08:28:39 2017-04-16 09:26:43   \n",
       "11 2017-04-16 09:09:13 2017-04-02 08:28:39 2017-04-16 09:26:43   \n",
       "12 2017-04-16 09:09:54 2017-04-02 08:28:39 2017-04-16 09:26:43   \n",
       "13 2017-04-16 09:10:17 2017-04-02 08:28:39 2017-04-16 09:26:43   \n",
       "14 2017-04-16 09:14:38 2017-04-02 08:28:39 2017-04-16 09:26:43   \n",
       "15 2017-04-16 09:15:10 2017-04-02 08:28:39 2017-04-16 09:26:43   \n",
       "16 2017-04-16 09:15:31 2017-04-02 08:28:39 2017-04-16 09:26:43   \n",
       "17 2017-04-16 09:15:49 2017-04-02 08:28:39 2017-04-16 09:26:43   \n",
       "18 2017-04-16 09:16:14 2017-04-02 08:28:39 2017-04-16 09:26:43   \n",
       "19 2017-04-16 09:16:48 2017-04-02 08:28:39 2017-04-16 09:26:43   \n",
       "\n",
       "    event_to_touchpoint  day_of_week  month  week_of_month  distance_event  \n",
       "0                     0            4      4              1               0  \n",
       "1                     9            2      4              2               1  \n",
       "2                     0            4      4              3               0  \n",
       "3                     0            6      4              5               0  \n",
       "4                     0            2      4              3               0  \n",
       "5                   119            2     12              3               3  \n",
       "6                   117            3     12              4               2  \n",
       "7                   115            6     12              4               1  \n",
       "8                     4            4      4              2               0  \n",
       "9                    68            2      2              2               0  \n",
       "10                   14            6      4              1              23  \n",
       "11                    0            6      4              3              22  \n",
       "12                    0            6      4              3              21  \n",
       "13                    0            6      4              3              20  \n",
       "14                    0            6      4              3              19  \n",
       "15                    0            6      4              3              18  \n",
       "16                    0            6      4              3              17  \n",
       "17                    0            6      4              3              16  \n",
       "18                    0            6      4              3              15  \n",
       "19                    0            6      4              3              14  "
      ]
     },
     "execution_count": 28,
     "metadata": {},
     "output_type": "execute_result"
    }
   ],
   "source": [
    "df_prep.head(20)"
   ]
  },
  {
   "cell_type": "code",
   "execution_count": 15,
   "metadata": {
    "collapsed": false
   },
   "outputs": [],
   "source": [
    "df_prep['round_conversion'] = df_prep.conversion.round(decimals=4)"
   ]
  },
  {
   "cell_type": "code",
   "execution_count": 72,
   "metadata": {
    "collapsed": false
   },
   "outputs": [],
   "source": [
    "df_prep['cate'] = pd.cut(df_prep.conversion,100,labels=False)"
   ]
  },
  {
   "cell_type": "markdown",
   "metadata": {},
   "source": [
    " Get Dummies"
   ]
  },
  {
   "cell_type": "code",
   "execution_count": 74,
   "metadata": {
    "collapsed": true
   },
   "outputs": [],
   "source": [
    "df_prep_dummies=pd.get_dummies(df_prep,columns=['event_site_name','event_type','touchpoint_type','source_1','path_position'],\n",
    "                          drop_first=True)"
   ]
  },
  {
   "cell_type": "code",
   "execution_count": 75,
   "metadata": {
    "collapsed": true
   },
   "outputs": [],
   "source": [
    "#drop column with date\n",
    "df_model=df_prep_dummies.drop(date_col,axis=1)"
   ]
  },
  {
   "cell_type": "code",
   "execution_count": 18,
   "metadata": {
    "collapsed": false
   },
   "outputs": [],
   "source": [
    "from sklearn.model_selection import train_test_split"
   ]
  },
  {
   "cell_type": "raw",
   "metadata": {
    "collapsed": false
   },
   "source": [
    "conversion_source1_mean = df_prep.groupby('source_1',as_index=False)['conversion'].mean()\n",
    "conversion_event_mean = df_prep.groupby('event_type',as_index=False)['conversion'].mean()\n",
    "conversion_distant_mean = df_prep.groupby('distance_event',as_index=False)['conversion'].mean()\n",
    "conversion_position_mean = df_prep.groupby('path_position',as_index=False)['conversion'].mean()\n",
    "conversion_touchpoint_mean = df_prep.groupby('touchpoint_type',as_index=False)['conversion'].mean()\n",
    "\n",
    "\n",
    "df_prep= df_prep.merge(conversion_source1_mean,on='source_1',how='left',suffixes=('','_source1_mean'))\n",
    "df_prep= df_prep.merge(conversion_event_mean,on='event_type',how='left',suffixes=('','_event_type_mean'))\n",
    "df_prep= df_prep.merge(conversion_distant_mean,on='distance_event',how='left',suffixes=('','_distance_event_mean'))\n",
    "df_prep= df_prep.merge(conversion_position_mean,on='path_position',how='left',suffixes=('','_path_position_mean'))\n",
    "df_prep= df_prep.merge(conversion_touchpoint_mean,on='touchpoint_type',how='left',suffixes=('','_touchpoint_mean'))"
   ]
  },
  {
   "cell_type": "code",
   "execution_count": 87,
   "metadata": {
    "collapsed": false
   },
   "outputs": [],
   "source": [
    "label = df_model.cate\n",
    "feature = df_model.drop(['conversion','round_conversion','cate'],axis=1)"
   ]
  },
  {
   "cell_type": "code",
   "execution_count": 20,
   "metadata": {
    "collapsed": true
   },
   "outputs": [],
   "source": [
    "from sklearn.preprocessing import LabelEncoder\n",
    "\n",
    "le = LabelEncoder()\n",
    "label = le.fit_transform(label)"
   ]
  },
  {
   "cell_type": "code",
   "execution_count": 88,
   "metadata": {
    "collapsed": false
   },
   "outputs": [],
   "source": [
    "df_train,df_test,label_train,label_test = train_test_split(feature,label,test_size=.3,random_state=0)"
   ]
  },
  {
   "cell_type": "markdown",
   "metadata": {},
   "source": [
    "## modeling"
   ]
  },
  {
   "cell_type": "code",
   "execution_count": 104,
   "metadata": {
    "collapsed": true
   },
   "outputs": [],
   "source": [
    "from sklearn.multiclass import OneVsRestClassifier\n",
    "from sklearn.ensemble import RandomForestClassifier\n",
    "from sklearn.preprocessing import LabelEncoder\n",
    "from sklearn import svm"
   ]
  },
  {
   "cell_type": "code",
   "execution_count": 78,
   "metadata": {
    "collapsed": true
   },
   "outputs": [],
   "source": [
    "from sklearn.naive_bayes import GaussianNB"
   ]
  },
  {
   "cell_type": "code",
   "execution_count": 89,
   "metadata": {
    "collapsed": false,
    "scrolled": true
   },
   "outputs": [
    {
     "data": {
      "text/plain": [
       "GaussianNB(priors=None)"
      ]
     },
     "execution_count": 89,
     "metadata": {},
     "output_type": "execute_result"
    }
   ],
   "source": [
    "clf = GaussianNB()\n",
    "clf.fit(df_train,label_train)"
   ]
  },
  {
   "cell_type": "code",
   "execution_count": 90,
   "metadata": {
    "collapsed": false
   },
   "outputs": [],
   "source": [
    "pred = clf.predict(df_test)"
   ]
  },
  {
   "cell_type": "code",
   "execution_count": 91,
   "metadata": {
    "collapsed": false
   },
   "outputs": [
    {
     "data": {
      "text/plain": [
       "0.72503336461435053"
      ]
     },
     "execution_count": 91,
     "metadata": {},
     "output_type": "execute_result"
    }
   ],
   "source": [
    "metrics.accuracy_score(label_test,pred)"
   ]
  },
  {
   "cell_type": "code",
   "execution_count": 44,
   "metadata": {
    "collapsed": false
   },
   "outputs": [],
   "source": [
    "a1 = le.inverse_transform(pred)"
   ]
  },
  {
   "cell_type": "code",
   "execution_count": 92,
   "metadata": {
    "collapsed": false
   },
   "outputs": [
    {
     "data": {
      "text/plain": [
       "array([ 0,  0,  0,  0,  3,  0,  0, 11,  0,  0,  0,  4,  0, 33,  0,  0, 79,\n",
       "        0,  1,  0,  0,  0,  0,  1,  0,  0, 55, 55,  0,  0,  0,  1,  0,  0,\n",
       "        0, 33,  0,  0,  0,  0,  1,  0, 44, 77,  0,  0, 94,  0,  0,  0,  1,\n",
       "       25,  0,  0, 33,  0,  0,  0, 45,  0,  0,  0,  0, 73,  0,  0,  0,  0,\n",
       "        0, 33,  0,  0, 79,  0, 76,  0,  0,  0, 24,  0,  5,  0,  0,  0,  0,\n",
       "        0,  0,  0,  0,  0,  0,  0,  0,  0, 45,  5, 33,  0,  0, 33], dtype=int64)"
      ]
     },
     "execution_count": 92,
     "metadata": {},
     "output_type": "execute_result"
    }
   ],
   "source": [
    "pred[:100]"
   ]
  },
  {
   "cell_type": "code",
   "execution_count": 83,
   "metadata": {
    "collapsed": false,
    "scrolled": true
   },
   "outputs": [
    {
     "data": {
      "text/plain": [
       "array([ 0,  0,  0,  0,  0,  1,  0,  0,  0,  0,  0,  3,  0,  0,  0,  0,  6,\n",
       "        0,  0,  0,  0,  0,  0,  0,  0,  0, 10,  0,  0,  0,  0,  0,  0,  0,\n",
       "        0,  0,  0,  0,  0,  0,  0,  0,  0, 26,  0,  0, 50,  0,  0,  0,  0,\n",
       "        0,  0,  0,  0,  0,  0,  0,  5,  0,  0,  0,  0,  5,  0,  0,  0,  0,\n",
       "        0,  2,  0,  0, 10,  0, 99,  0,  0,  0,  2,  1,  0,  0,  0,  0,  0,\n",
       "        0,  0,  0,  0,  0,  0,  0,  0,  0, 99,  0,  0,  0,  0,  0], dtype=int64)"
      ]
     },
     "execution_count": 83,
     "metadata": {},
     "output_type": "execute_result"
    }
   ],
   "source": [
    "label_test[:100].values"
   ]
  },
  {
   "cell_type": "code",
   "execution_count": null,
   "metadata": {
    "collapsed": false,
    "scrolled": true
   },
   "outputs": [],
   "source": [
    "clf = svm.SVC()\n",
    "clf.fit(df_train,label_train,)"
   ]
  },
  {
   "cell_type": "code",
   "execution_count": null,
   "metadata": {
    "collapsed": true
   },
   "outputs": [],
   "source": []
  },
  {
   "cell_type": "code",
   "execution_count": null,
   "metadata": {
    "collapsed": true
   },
   "outputs": [],
   "source": []
  },
  {
   "cell_type": "code",
   "execution_count": null,
   "metadata": {
    "collapsed": true
   },
   "outputs": [],
   "source": []
  },
  {
   "cell_type": "code",
   "execution_count": 43,
   "metadata": {
    "collapsed": true
   },
   "outputs": [],
   "source": [
    "from sklearn.linear_model import LinearRegression\n",
    "from sklearn.linear_model import Lasso\n",
    "from sklearn.linear_model import ElasticNet\n",
    "from sklearn.linear_model import (Ridge, TheilSenRegressor, RANSACRegressor, HuberRegressor)\n",
    "\n",
    "from sklearn.ensemble import (RandomForestRegressor, ExtraTreesRegressor, BaggingRegressor,\n",
    "                              AdaBoostRegressor, GradientBoostingRegressor)\n",
    "\n",
    "from sklearn.neighbors import KNeighborsRegressor\n",
    "from sklearn.tree import DecisionTreeRegressor\n",
    "\n",
    "from sklearn import metrics"
   ]
  },
  {
   "cell_type": "markdown",
   "metadata": {},
   "source": [
    "* random forest"
   ]
  },
  {
   "cell_type": "code",
   "execution_count": null,
   "metadata": {
    "collapsed": true
   },
   "outputs": [],
   "source": [
    "rf = RandomForestRegressor(n_estimators=50,max_depth=10,random_state=0)"
   ]
  },
  {
   "cell_type": "code",
   "execution_count": null,
   "metadata": {
    "collapsed": false
   },
   "outputs": [],
   "source": [
    "rf.fit(df_train,label_train)"
   ]
  },
  {
   "cell_type": "code",
   "execution_count": null,
   "metadata": {
    "collapsed": false
   },
   "outputs": [],
   "source": [
    "rf.score(df_test,label_test)"
   ]
  },
  {
   "cell_type": "code",
   "execution_count": null,
   "metadata": {
    "collapsed": false
   },
   "outputs": [],
   "source": [
    "predict1 = rf.predict(df_test)\n",
    "\n",
    "metrics.mean_squared_error(label_test,predict1)"
   ]
  },
  {
   "cell_type": "markdown",
   "metadata": {
    "collapsed": true
   },
   "source": [
    "* knn"
   ]
  },
  {
   "cell_type": "code",
   "execution_count": null,
   "metadata": {
    "collapsed": true
   },
   "outputs": [],
   "source": [
    "knn = KNeighborsRegressor(n_neighbors=10)"
   ]
  },
  {
   "cell_type": "code",
   "execution_count": null,
   "metadata": {
    "collapsed": false
   },
   "outputs": [],
   "source": [
    "knn.fit(df_train,label_train)"
   ]
  },
  {
   "cell_type": "code",
   "execution_count": null,
   "metadata": {
    "collapsed": false
   },
   "outputs": [],
   "source": [
    "knn.score(df_test,label_test)"
   ]
  },
  {
   "cell_type": "markdown",
   "metadata": {},
   "source": [
    "* elstic net"
   ]
  },
  {
   "cell_type": "code",
   "execution_count": null,
   "metadata": {
    "collapsed": true
   },
   "outputs": [],
   "source": [
    "eln = ElasticNet(alpha=0.05)"
   ]
  },
  {
   "cell_type": "code",
   "execution_count": null,
   "metadata": {
    "collapsed": false
   },
   "outputs": [],
   "source": [
    "eln.fit(df_train,label_train)"
   ]
  },
  {
   "cell_type": "code",
   "execution_count": null,
   "metadata": {
    "collapsed": false
   },
   "outputs": [],
   "source": [
    "eln.score(df_test,label_test)"
   ]
  },
  {
   "cell_type": "markdown",
   "metadata": {},
   "source": [
    "* grainting boosting"
   ]
  },
  {
   "cell_type": "code",
   "execution_count": null,
   "metadata": {
    "collapsed": true
   },
   "outputs": [],
   "source": [
    "gbr = GradientBoostingRegressor(random_state=0)"
   ]
  },
  {
   "cell_type": "code",
   "execution_count": null,
   "metadata": {
    "collapsed": false
   },
   "outputs": [],
   "source": [
    "gbr.fit(df_train,label_train)"
   ]
  },
  {
   "cell_type": "code",
   "execution_count": null,
   "metadata": {
    "collapsed": false
   },
   "outputs": [],
   "source": [
    "gbr.score(df_test,label_test)"
   ]
  },
  {
   "cell_type": "markdown",
   "metadata": {},
   "source": [
    "* bagging regressor"
   ]
  },
  {
   "cell_type": "code",
   "execution_count": null,
   "metadata": {
    "collapsed": true
   },
   "outputs": [],
   "source": [
    "bag = BaggingRegressor(random_state=0)"
   ]
  },
  {
   "cell_type": "code",
   "execution_count": null,
   "metadata": {
    "collapsed": false
   },
   "outputs": [],
   "source": [
    "bag.fit(df_train,label_train)"
   ]
  },
  {
   "cell_type": "code",
   "execution_count": null,
   "metadata": {
    "collapsed": false
   },
   "outputs": [],
   "source": [
    "bag.score(df_test,label_test)"
   ]
  },
  {
   "cell_type": "code",
   "execution_count": null,
   "metadata": {
    "collapsed": false
   },
   "outputs": [],
   "source": [
    "predict1 = bag.predict(df_test)\n",
    "\n",
    "metrics.mean_squared_error(label_test,predict1)"
   ]
  }
 ],
 "metadata": {
  "anaconda-cloud": {},
  "kernelspec": {
   "display_name": "Python 3",
   "language": "python",
   "name": "python3"
  },
  "language_info": {
   "codemirror_mode": {
    "name": "ipython",
    "version": 3
   },
   "file_extension": ".py",
   "mimetype": "text/x-python",
   "name": "python",
   "nbconvert_exporter": "python",
   "pygments_lexer": "ipython3",
   "version": "3.5.2"
  }
 },
 "nbformat": 4,
 "nbformat_minor": 2
}
