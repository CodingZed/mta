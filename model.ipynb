{
 "cells": [
  {
   "cell_type": "markdown",
   "metadata": {},
   "source": [
    "## Import dataset "
   ]
  },
  {
   "cell_type": "code",
   "execution_count": 1,
   "metadata": {
    "collapsed": true
   },
   "outputs": [],
   "source": [
    "import pandas as pd\n",
    "import numpy as np\n",
    "import matplotlib.pyplot as plt\n",
    "import datetime"
   ]
  },
  {
   "cell_type": "code",
   "execution_count": 2,
   "metadata": {
    "collapsed": true
   },
   "outputs": [],
   "source": [
    "plt.style.use('ggplot')\n",
    "%matplotlib inline"
   ]
  },
  {
   "cell_type": "code",
   "execution_count": 4,
   "metadata": {
    "collapsed": false
   },
   "outputs": [
    {
     "name": "stderr",
     "output_type": "stream",
     "text": [
      "/usr/local/lib/python3.5/dist-packages/IPython/core/interactiveshell.py:2698: DtypeWarning: Columns (7) have mixed types. Specify dtype option on import or set low_memory=False.\n",
      "  interactivity=interactivity, compiler=compiler, result=result)\n"
     ]
    }
   ],
   "source": [
    "df_all = pd.read_csv('data/april_report.csv')"
   ]
  },
  {
   "cell_type": "code",
   "execution_count": 5,
   "metadata": {
    "collapsed": true
   },
   "outputs": [],
   "source": [
    "df_all.columns = [col.lower().replace(' ','_') for col in df_all.columns.tolist()]\n",
    "df_all.columns = [col.lower().replace('/timestamp','') for col in df_all.columns.tolist()]"
   ]
  },
  {
   "cell_type": "code",
   "execution_count": 6,
   "metadata": {
    "collapsed": true
   },
   "outputs": [],
   "source": [
    "date_col = [col for col in df_all.columns.tolist() if 'date' in col]\n",
    "df_all[date_col] = df_all[date_col].apply(pd.to_datetime,format = \"%m/%d/%Y %H:%M:%S\")"
   ]
  },
  {
   "cell_type": "code",
   "execution_count": 7,
   "metadata": {
    "collapsed": false
   },
   "outputs": [
    {
     "name": "stdout",
     "output_type": "stream",
     "text": [
      "<class 'pandas.core.frame.DataFrame'>\n",
      "RangeIndex: 1253306 entries, 0 to 1253305\n",
      "Data columns (total 23 columns):\n",
      "unique_row_id           1253306 non-null object\n",
      "cvo_sid                 1253306 non-null object\n",
      "event_site_id           1253306 non-null int64\n",
      "touchpoint_site_id      1253306 non-null int64\n",
      "event_site_name         1253306 non-null object\n",
      "touchpoint_site_name    1253306 non-null object\n",
      "event_type              1253306 non-null object\n",
      "event_id                1253306 non-null object\n",
      "event_date              1253306 non-null datetime64[ns]\n",
      "touchpoint_date         1253306 non-null datetime64[ns]\n",
      "total_event_value       1253306 non-null float64\n",
      "touchpoint_revenue      1253306 non-null float64\n",
      "conversion              1253306 non-null float64\n",
      "touchpoint_type         1027589 non-null object\n",
      "first_touch_date        1253306 non-null datetime64[ns]\n",
      "last_touch_date         1253306 non-null datetime64[ns]\n",
      "source_1                1253306 non-null object\n",
      "source_2                1253306 non-null object\n",
      "source_3                1253306 non-null object\n",
      "touchpoints_in_path     1253306 non-null int64\n",
      "attribution_sequence    1253306 non-null int64\n",
      "path_position           1253306 non-null object\n",
      "device                  1253306 non-null object\n",
      "dtypes: datetime64[ns](4), float64(3), int64(4), object(12)\n",
      "memory usage: 219.9+ MB\n"
     ]
    }
   ],
   "source": [
    "df_all.info()"
   ]
  },
  {
   "cell_type": "markdown",
   "metadata": {},
   "source": [
    "## Clean"
   ]
  },
  {
   "cell_type": "code",
   "execution_count": 33,
   "metadata": {
    "collapsed": true
   },
   "outputs": [],
   "source": [
    "selected_col=['event_type','conversion','touchpoint_type','source_1','touchpoints_in_path','attribution_sequence','path_position']\n",
    "selected_col.extend(date_col)"
   ]
  },
  {
   "cell_type": "code",
   "execution_count": 34,
   "metadata": {
    "collapsed": true
   },
   "outputs": [],
   "source": [
    "df_model=df_all[selected_col]"
   ]
  },
  {
   "cell_type": "code",
   "execution_count": 35,
   "metadata": {
    "collapsed": true
   },
   "outputs": [],
   "source": [
    "df_model = df_model[df_model.source_1!='base']\n",
    "df_model.reset_index(drop=True, inplace=True)"
   ]
  },
  {
   "cell_type": "code",
   "execution_count": 36,
   "metadata": {
    "collapsed": false
   },
   "outputs": [
    {
     "data": {
      "text/html": [
       "<div>\n",
       "<table border=\"1\" class=\"dataframe\">\n",
       "  <thead>\n",
       "    <tr style=\"text-align: right;\">\n",
       "      <th></th>\n",
       "      <th>event_type</th>\n",
       "      <th>conversion</th>\n",
       "      <th>touchpoint_type</th>\n",
       "      <th>source_1</th>\n",
       "      <th>touchpoints_in_path</th>\n",
       "      <th>attribution_sequence</th>\n",
       "      <th>path_position</th>\n",
       "      <th>event_date</th>\n",
       "      <th>touchpoint_date</th>\n",
       "      <th>first_touch_date</th>\n",
       "      <th>last_touch_date</th>\n",
       "    </tr>\n",
       "  </thead>\n",
       "  <tbody>\n",
       "    <tr>\n",
       "      <th>0</th>\n",
       "      <td>nexium24hour-buy.now</td>\n",
       "      <td>1.000000</td>\n",
       "      <td>visit</td>\n",
       "      <td>ppc nonbrand</td>\n",
       "      <td>1</td>\n",
       "      <td>1</td>\n",
       "      <td>only</td>\n",
       "      <td>2017-04-07 17:54:58</td>\n",
       "      <td>2017-04-07 17:54:58</td>\n",
       "      <td>2017-04-07 17:54:58</td>\n",
       "      <td>2017-04-07 17:54:58</td>\n",
       "    </tr>\n",
       "    <tr>\n",
       "      <th>1</th>\n",
       "      <td>centrum-coupon.submit</td>\n",
       "      <td>0.000047</td>\n",
       "      <td>visit</td>\n",
       "      <td>organic not provided</td>\n",
       "      <td>2</td>\n",
       "      <td>1</td>\n",
       "      <td>introducer</td>\n",
       "      <td>2017-04-21 17:52:51</td>\n",
       "      <td>2017-04-12 12:26:32</td>\n",
       "      <td>2017-04-12 12:26:32</td>\n",
       "      <td>2017-04-21 17:52:51</td>\n",
       "    </tr>\n",
       "    <tr>\n",
       "      <th>2</th>\n",
       "      <td>centrum-coupon.submit</td>\n",
       "      <td>0.011891</td>\n",
       "      <td>visit</td>\n",
       "      <td>organic not provided</td>\n",
       "      <td>2</td>\n",
       "      <td>2</td>\n",
       "      <td>closer</td>\n",
       "      <td>2017-04-21 17:52:51</td>\n",
       "      <td>2017-04-21 17:50:56</td>\n",
       "      <td>2017-04-12 12:26:32</td>\n",
       "      <td>2017-04-21 17:52:51</td>\n",
       "    </tr>\n",
       "    <tr>\n",
       "      <th>3</th>\n",
       "      <td>centrum-coupon.submit</td>\n",
       "      <td>0.197314</td>\n",
       "      <td>visit</td>\n",
       "      <td>ppc brand</td>\n",
       "      <td>1</td>\n",
       "      <td>1</td>\n",
       "      <td>only</td>\n",
       "      <td>2017-04-30 18:04:52</td>\n",
       "      <td>2017-04-30 18:04:22</td>\n",
       "      <td>2017-04-30 18:04:22</td>\n",
       "      <td>2017-04-30 18:04:52</td>\n",
       "    </tr>\n",
       "    <tr>\n",
       "      <th>4</th>\n",
       "      <td>centrum-email.sign.up</td>\n",
       "      <td>1.000000</td>\n",
       "      <td>visit</td>\n",
       "      <td>social network  paid</td>\n",
       "      <td>1</td>\n",
       "      <td>1</td>\n",
       "      <td>only</td>\n",
       "      <td>2017-04-19 14:12:59</td>\n",
       "      <td>2017-04-19 14:12:00</td>\n",
       "      <td>2017-04-19 14:12:00</td>\n",
       "      <td>2017-04-19 14:12:00</td>\n",
       "    </tr>\n",
       "  </tbody>\n",
       "</table>\n",
       "</div>"
      ],
      "text/plain": [
       "              event_type  conversion touchpoint_type              source_1  \\\n",
       "0   nexium24hour-buy.now    1.000000           visit          ppc nonbrand   \n",
       "1  centrum-coupon.submit    0.000047           visit  organic not provided   \n",
       "2  centrum-coupon.submit    0.011891           visit  organic not provided   \n",
       "3  centrum-coupon.submit    0.197314           visit             ppc brand   \n",
       "4  centrum-email.sign.up    1.000000           visit  social network  paid   \n",
       "\n",
       "   touchpoints_in_path  attribution_sequence path_position  \\\n",
       "0                    1                     1          only   \n",
       "1                    2                     1    introducer   \n",
       "2                    2                     2        closer   \n",
       "3                    1                     1          only   \n",
       "4                    1                     1          only   \n",
       "\n",
       "           event_date     touchpoint_date    first_touch_date  \\\n",
       "0 2017-04-07 17:54:58 2017-04-07 17:54:58 2017-04-07 17:54:58   \n",
       "1 2017-04-21 17:52:51 2017-04-12 12:26:32 2017-04-12 12:26:32   \n",
       "2 2017-04-21 17:52:51 2017-04-21 17:50:56 2017-04-12 12:26:32   \n",
       "3 2017-04-30 18:04:52 2017-04-30 18:04:22 2017-04-30 18:04:22   \n",
       "4 2017-04-19 14:12:59 2017-04-19 14:12:00 2017-04-19 14:12:00   \n",
       "\n",
       "      last_touch_date  \n",
       "0 2017-04-07 17:54:58  \n",
       "1 2017-04-21 17:52:51  \n",
       "2 2017-04-21 17:52:51  \n",
       "3 2017-04-30 18:04:52  \n",
       "4 2017-04-19 14:12:00  "
      ]
     },
     "execution_count": 36,
     "metadata": {},
     "output_type": "execute_result"
    }
   ],
   "source": [
    "df_model.head()"
   ]
  },
  {
   "cell_type": "markdown",
   "metadata": {},
   "source": [
    "## procesing"
   ]
  },
  {
   "cell_type": "code",
   "execution_count": 37,
   "metadata": {
    "collapsed": true
   },
   "outputs": [],
   "source": [
    "df_model['event_to_touchpoint']=(df_model.event_date-df_model.touchpoint_date).dt.total_seconds()"
   ]
  },
  {
   "cell_type": "code",
   "execution_count": 38,
   "metadata": {
    "collapsed": false
   },
   "outputs": [
    {
     "data": {
      "text/plain": [
       "array(['nexium24hour-buy.now', 'centrum-coupon.submit',\n",
       "       'centrum-email.sign.up', 'sale.advilpm', 'sale.advil',\n",
       "       'preparationh-coupon.submit', 'preparationh-buy.now',\n",
       "       'sale.centrum', 'preparationh-email.sign.up', 'advil pm-buy.now',\n",
       "       'advil-buy.now', 'centrum-buy.now', 'sale.nexium',\n",
       "       'emergenc-coupon.submit', 'sale.preparationh',\n",
       "       'emergenc-email.sign.up', 'emergenc-buy.now', 'sale.emergenc',\n",
       "       'emergenc-add.to.cart', 'emergenc-freesample.submit',\n",
       "       'advil-coupon.submit', 'advil-email.sign.up',\n",
       "       'nexium24hour-coupon.submit', 'nexium24hour-email.sign.up',\n",
       "       'advil pm-coupon.submit', 'advil pm-email.sign.up',\n",
       "       'nexium24hour-sweepstakes.social.share',\n",
       "       'nexium24hour-sweepstakes.submit', 'emergenc-sale.online'], dtype=object)"
      ]
     },
     "execution_count": 38,
     "metadata": {},
     "output_type": "execute_result"
    }
   ],
   "source": [
    "df_model.event_type.unique()"
   ]
  },
  {
   "cell_type": "code",
   "execution_count": 39,
   "metadata": {
    "collapsed": true
   },
   "outputs": [],
   "source": [
    "df_model['day_of_week']=df_model.touchpoint_date.dt.weekday_name"
   ]
  },
  {
   "cell_type": "code",
   "execution_count": 40,
   "metadata": {
    "collapsed": true
   },
   "outputs": [],
   "source": [
    "df_model['month']=df_model.touchpoint_date.dt.month"
   ]
  },
  {
   "cell_type": "code",
   "execution_count": 41,
   "metadata": {
    "collapsed": true
   },
   "outputs": [],
   "source": [
    "df_model['week_of_month']=(df_model.touchpoint_date.dt.day-1)//7+1"
   ]
  },
  {
   "cell_type": "code",
   "execution_count": 42,
   "metadata": {
    "collapsed": true
   },
   "outputs": [],
   "source": [
    "#drop column with date\n",
    "df_model=df_model.drop(date_col,axis=1)"
   ]
  },
  {
   "cell_type": "code",
   "execution_count": 43,
   "metadata": {
    "collapsed": false
   },
   "outputs": [
    {
     "data": {
      "text/html": [
       "<div>\n",
       "<table border=\"1\" class=\"dataframe\">\n",
       "  <thead>\n",
       "    <tr style=\"text-align: right;\">\n",
       "      <th></th>\n",
       "      <th>event_type</th>\n",
       "      <th>conversion</th>\n",
       "      <th>touchpoint_type</th>\n",
       "      <th>source_1</th>\n",
       "      <th>touchpoints_in_path</th>\n",
       "      <th>attribution_sequence</th>\n",
       "      <th>path_position</th>\n",
       "      <th>event_to_touchpoint</th>\n",
       "      <th>day_of_week</th>\n",
       "      <th>month</th>\n",
       "      <th>week_of_month</th>\n",
       "    </tr>\n",
       "  </thead>\n",
       "  <tbody>\n",
       "    <tr>\n",
       "      <th>0</th>\n",
       "      <td>nexium24hour-buy.now</td>\n",
       "      <td>1.000000</td>\n",
       "      <td>visit</td>\n",
       "      <td>ppc nonbrand</td>\n",
       "      <td>1</td>\n",
       "      <td>1</td>\n",
       "      <td>only</td>\n",
       "      <td>0.0</td>\n",
       "      <td>Friday</td>\n",
       "      <td>4</td>\n",
       "      <td>1</td>\n",
       "    </tr>\n",
       "    <tr>\n",
       "      <th>1</th>\n",
       "      <td>centrum-coupon.submit</td>\n",
       "      <td>0.000047</td>\n",
       "      <td>visit</td>\n",
       "      <td>organic not provided</td>\n",
       "      <td>2</td>\n",
       "      <td>1</td>\n",
       "      <td>introducer</td>\n",
       "      <td>797179.0</td>\n",
       "      <td>Wednesday</td>\n",
       "      <td>4</td>\n",
       "      <td>2</td>\n",
       "    </tr>\n",
       "    <tr>\n",
       "      <th>2</th>\n",
       "      <td>centrum-coupon.submit</td>\n",
       "      <td>0.011891</td>\n",
       "      <td>visit</td>\n",
       "      <td>organic not provided</td>\n",
       "      <td>2</td>\n",
       "      <td>2</td>\n",
       "      <td>closer</td>\n",
       "      <td>115.0</td>\n",
       "      <td>Friday</td>\n",
       "      <td>4</td>\n",
       "      <td>3</td>\n",
       "    </tr>\n",
       "    <tr>\n",
       "      <th>3</th>\n",
       "      <td>centrum-coupon.submit</td>\n",
       "      <td>0.197314</td>\n",
       "      <td>visit</td>\n",
       "      <td>ppc brand</td>\n",
       "      <td>1</td>\n",
       "      <td>1</td>\n",
       "      <td>only</td>\n",
       "      <td>30.0</td>\n",
       "      <td>Sunday</td>\n",
       "      <td>4</td>\n",
       "      <td>5</td>\n",
       "    </tr>\n",
       "    <tr>\n",
       "      <th>4</th>\n",
       "      <td>centrum-email.sign.up</td>\n",
       "      <td>1.000000</td>\n",
       "      <td>visit</td>\n",
       "      <td>social network  paid</td>\n",
       "      <td>1</td>\n",
       "      <td>1</td>\n",
       "      <td>only</td>\n",
       "      <td>59.0</td>\n",
       "      <td>Wednesday</td>\n",
       "      <td>4</td>\n",
       "      <td>3</td>\n",
       "    </tr>\n",
       "  </tbody>\n",
       "</table>\n",
       "</div>"
      ],
      "text/plain": [
       "              event_type  conversion touchpoint_type              source_1  \\\n",
       "0   nexium24hour-buy.now    1.000000           visit          ppc nonbrand   \n",
       "1  centrum-coupon.submit    0.000047           visit  organic not provided   \n",
       "2  centrum-coupon.submit    0.011891           visit  organic not provided   \n",
       "3  centrum-coupon.submit    0.197314           visit             ppc brand   \n",
       "4  centrum-email.sign.up    1.000000           visit  social network  paid   \n",
       "\n",
       "   touchpoints_in_path  attribution_sequence path_position  \\\n",
       "0                    1                     1          only   \n",
       "1                    2                     1    introducer   \n",
       "2                    2                     2        closer   \n",
       "3                    1                     1          only   \n",
       "4                    1                     1          only   \n",
       "\n",
       "   event_to_touchpoint day_of_week  month  week_of_month  \n",
       "0                  0.0      Friday      4              1  \n",
       "1             797179.0   Wednesday      4              2  \n",
       "2                115.0      Friday      4              3  \n",
       "3                 30.0      Sunday      4              5  \n",
       "4                 59.0   Wednesday      4              3  "
      ]
     },
     "execution_count": 43,
     "metadata": {},
     "output_type": "execute_result"
    }
   ],
   "source": [
    "df_model.head()"
   ]
  },
  {
   "cell_type": "markdown",
   "metadata": {},
   "source": [
    "## Get Dummies"
   ]
  },
  {
   "cell_type": "code",
   "execution_count": 44,
   "metadata": {
    "collapsed": true
   },
   "outputs": [],
   "source": [
    "df_model_dummies=pd.get_dummies(df_model,columns=['event_type','touchpoint_type','source_1','path_position','day_of_week','month','week_of_month'],\n",
    "                          drop_first=True)"
   ]
  },
  {
   "cell_type": "code",
   "execution_count": 45,
   "metadata": {
    "collapsed": false
   },
   "outputs": [
    {
     "data": {
      "text/html": [
       "<div>\n",
       "<table border=\"1\" class=\"dataframe\">\n",
       "  <thead>\n",
       "    <tr style=\"text-align: right;\">\n",
       "      <th></th>\n",
       "      <th>conversion</th>\n",
       "      <th>touchpoints_in_path</th>\n",
       "      <th>attribution_sequence</th>\n",
       "      <th>event_to_touchpoint</th>\n",
       "      <th>event_type_advil pm-coupon.submit</th>\n",
       "      <th>event_type_advil pm-email.sign.up</th>\n",
       "      <th>event_type_advil-buy.now</th>\n",
       "      <th>event_type_advil-coupon.submit</th>\n",
       "      <th>event_type_advil-email.sign.up</th>\n",
       "      <th>event_type_centrum-buy.now</th>\n",
       "      <th>...</th>\n",
       "      <th>day_of_week_Wednesday</th>\n",
       "      <th>month_2</th>\n",
       "      <th>month_3</th>\n",
       "      <th>month_4</th>\n",
       "      <th>month_11</th>\n",
       "      <th>month_12</th>\n",
       "      <th>week_of_month_2</th>\n",
       "      <th>week_of_month_3</th>\n",
       "      <th>week_of_month_4</th>\n",
       "      <th>week_of_month_5</th>\n",
       "    </tr>\n",
       "  </thead>\n",
       "  <tbody>\n",
       "    <tr>\n",
       "      <th>0</th>\n",
       "      <td>1.000000</td>\n",
       "      <td>1</td>\n",
       "      <td>1</td>\n",
       "      <td>0.0</td>\n",
       "      <td>0</td>\n",
       "      <td>0</td>\n",
       "      <td>0</td>\n",
       "      <td>0</td>\n",
       "      <td>0</td>\n",
       "      <td>0</td>\n",
       "      <td>...</td>\n",
       "      <td>0</td>\n",
       "      <td>0</td>\n",
       "      <td>0</td>\n",
       "      <td>1</td>\n",
       "      <td>0</td>\n",
       "      <td>0</td>\n",
       "      <td>0</td>\n",
       "      <td>0</td>\n",
       "      <td>0</td>\n",
       "      <td>0</td>\n",
       "    </tr>\n",
       "    <tr>\n",
       "      <th>1</th>\n",
       "      <td>0.000047</td>\n",
       "      <td>2</td>\n",
       "      <td>1</td>\n",
       "      <td>797179.0</td>\n",
       "      <td>0</td>\n",
       "      <td>0</td>\n",
       "      <td>0</td>\n",
       "      <td>0</td>\n",
       "      <td>0</td>\n",
       "      <td>0</td>\n",
       "      <td>...</td>\n",
       "      <td>1</td>\n",
       "      <td>0</td>\n",
       "      <td>0</td>\n",
       "      <td>1</td>\n",
       "      <td>0</td>\n",
       "      <td>0</td>\n",
       "      <td>1</td>\n",
       "      <td>0</td>\n",
       "      <td>0</td>\n",
       "      <td>0</td>\n",
       "    </tr>\n",
       "    <tr>\n",
       "      <th>2</th>\n",
       "      <td>0.011891</td>\n",
       "      <td>2</td>\n",
       "      <td>2</td>\n",
       "      <td>115.0</td>\n",
       "      <td>0</td>\n",
       "      <td>0</td>\n",
       "      <td>0</td>\n",
       "      <td>0</td>\n",
       "      <td>0</td>\n",
       "      <td>0</td>\n",
       "      <td>...</td>\n",
       "      <td>0</td>\n",
       "      <td>0</td>\n",
       "      <td>0</td>\n",
       "      <td>1</td>\n",
       "      <td>0</td>\n",
       "      <td>0</td>\n",
       "      <td>0</td>\n",
       "      <td>1</td>\n",
       "      <td>0</td>\n",
       "      <td>0</td>\n",
       "    </tr>\n",
       "    <tr>\n",
       "      <th>3</th>\n",
       "      <td>0.197314</td>\n",
       "      <td>1</td>\n",
       "      <td>1</td>\n",
       "      <td>30.0</td>\n",
       "      <td>0</td>\n",
       "      <td>0</td>\n",
       "      <td>0</td>\n",
       "      <td>0</td>\n",
       "      <td>0</td>\n",
       "      <td>0</td>\n",
       "      <td>...</td>\n",
       "      <td>0</td>\n",
       "      <td>0</td>\n",
       "      <td>0</td>\n",
       "      <td>1</td>\n",
       "      <td>0</td>\n",
       "      <td>0</td>\n",
       "      <td>0</td>\n",
       "      <td>0</td>\n",
       "      <td>0</td>\n",
       "      <td>1</td>\n",
       "    </tr>\n",
       "    <tr>\n",
       "      <th>4</th>\n",
       "      <td>1.000000</td>\n",
       "      <td>1</td>\n",
       "      <td>1</td>\n",
       "      <td>59.0</td>\n",
       "      <td>0</td>\n",
       "      <td>0</td>\n",
       "      <td>0</td>\n",
       "      <td>0</td>\n",
       "      <td>0</td>\n",
       "      <td>0</td>\n",
       "      <td>...</td>\n",
       "      <td>1</td>\n",
       "      <td>0</td>\n",
       "      <td>0</td>\n",
       "      <td>1</td>\n",
       "      <td>0</td>\n",
       "      <td>0</td>\n",
       "      <td>0</td>\n",
       "      <td>1</td>\n",
       "      <td>0</td>\n",
       "      <td>0</td>\n",
       "    </tr>\n",
       "  </tbody>\n",
       "</table>\n",
       "<p>5 rows × 72 columns</p>\n",
       "</div>"
      ],
      "text/plain": [
       "   conversion  touchpoints_in_path  attribution_sequence  event_to_touchpoint  \\\n",
       "0    1.000000                    1                     1                  0.0   \n",
       "1    0.000047                    2                     1             797179.0   \n",
       "2    0.011891                    2                     2                115.0   \n",
       "3    0.197314                    1                     1                 30.0   \n",
       "4    1.000000                    1                     1                 59.0   \n",
       "\n",
       "   event_type_advil pm-coupon.submit  event_type_advil pm-email.sign.up  \\\n",
       "0                                  0                                  0   \n",
       "1                                  0                                  0   \n",
       "2                                  0                                  0   \n",
       "3                                  0                                  0   \n",
       "4                                  0                                  0   \n",
       "\n",
       "   event_type_advil-buy.now  event_type_advil-coupon.submit  \\\n",
       "0                         0                               0   \n",
       "1                         0                               0   \n",
       "2                         0                               0   \n",
       "3                         0                               0   \n",
       "4                         0                               0   \n",
       "\n",
       "   event_type_advil-email.sign.up  event_type_centrum-buy.now  \\\n",
       "0                               0                           0   \n",
       "1                               0                           0   \n",
       "2                               0                           0   \n",
       "3                               0                           0   \n",
       "4                               0                           0   \n",
       "\n",
       "        ...         day_of_week_Wednesday  month_2  month_3  month_4  \\\n",
       "0       ...                             0        0        0        1   \n",
       "1       ...                             1        0        0        1   \n",
       "2       ...                             0        0        0        1   \n",
       "3       ...                             0        0        0        1   \n",
       "4       ...                             1        0        0        1   \n",
       "\n",
       "   month_11  month_12  week_of_month_2  week_of_month_3  week_of_month_4  \\\n",
       "0         0         0                0                0                0   \n",
       "1         0         0                1                0                0   \n",
       "2         0         0                0                1                0   \n",
       "3         0         0                0                0                0   \n",
       "4         0         0                0                1                0   \n",
       "\n",
       "   week_of_month_5  \n",
       "0                0  \n",
       "1                0  \n",
       "2                0  \n",
       "3                1  \n",
       "4                0  \n",
       "\n",
       "[5 rows x 72 columns]"
      ]
     },
     "execution_count": 45,
     "metadata": {},
     "output_type": "execute_result"
    }
   ],
   "source": [
    "df_model_dummies.head()"
   ]
  },
  {
   "cell_type": "markdown",
   "metadata": {},
   "source": [
    "## Model Creation "
   ]
  },
  {
   "cell_type": "code",
   "execution_count": 28,
   "metadata": {
    "collapsed": true
   },
   "outputs": [],
   "source": [
    "from sklearn.preprocessing import StandardScaler\n",
    "from sklearn.cross_validation import train_test_split,KFold"
   ]
  },
  {
   "cell_type": "code",
   "execution_count": 46,
   "metadata": {
    "collapsed": true
   },
   "outputs": [],
   "source": [
    "scaler=StandardScaler()"
   ]
  },
  {
   "cell_type": "code",
   "execution_count": 47,
   "metadata": {
    "collapsed": false
   },
   "outputs": [
    {
     "data": {
      "text/plain": [
       "array([[ 6.11264301, -0.29509504, -0.25276149, ..., -0.52404415,\n",
       "        -0.5207466 , -0.31968957],\n",
       "       [-0.25557136, -0.29175445, -0.25276149, ..., -0.52404415,\n",
       "        -0.5207466 , -0.31968957],\n",
       "       [-0.18014268, -0.29175445, -0.24703877, ...,  1.90823618,\n",
       "        -0.5207466 , -0.31968957],\n",
       "       ..., \n",
       "       [-0.16953274, -0.29509504, -0.25276149, ...,  1.90823618,\n",
       "        -0.5207466 , -0.31968957],\n",
       "       [ 4.23897533, -0.29509504, -0.25276149, ..., -0.52404415,\n",
       "        -0.5207466 ,  3.12803446],\n",
       "       [ 2.26882468, -0.29509504, -0.25276149, ..., -0.52404415,\n",
       "        -0.5207466 ,  3.12803446]])"
      ]
     },
     "execution_count": 47,
     "metadata": {},
     "output_type": "execute_result"
    }
   ],
   "source": [
    "scaler.fit_transform(df_model_dummies)"
   ]
  },
  {
   "cell_type": "code",
   "execution_count": 51,
   "metadata": {
    "collapsed": false
   },
   "outputs": [
    {
     "data": {
      "text/html": [
       "<div>\n",
       "<table border=\"1\" class=\"dataframe\">\n",
       "  <thead>\n",
       "    <tr style=\"text-align: right;\">\n",
       "      <th></th>\n",
       "      <th>touchpoints_in_path</th>\n",
       "      <th>attribution_sequence</th>\n",
       "      <th>event_to_touchpoint</th>\n",
       "      <th>event_type_advil pm-coupon.submit</th>\n",
       "      <th>event_type_advil pm-email.sign.up</th>\n",
       "      <th>event_type_advil-buy.now</th>\n",
       "      <th>event_type_advil-coupon.submit</th>\n",
       "      <th>event_type_advil-email.sign.up</th>\n",
       "      <th>event_type_centrum-buy.now</th>\n",
       "      <th>event_type_centrum-coupon.submit</th>\n",
       "      <th>...</th>\n",
       "      <th>day_of_week_Wednesday</th>\n",
       "      <th>month_2</th>\n",
       "      <th>month_3</th>\n",
       "      <th>month_4</th>\n",
       "      <th>month_11</th>\n",
       "      <th>month_12</th>\n",
       "      <th>week_of_month_2</th>\n",
       "      <th>week_of_month_3</th>\n",
       "      <th>week_of_month_4</th>\n",
       "      <th>week_of_month_5</th>\n",
       "    </tr>\n",
       "  </thead>\n",
       "  <tbody>\n",
       "    <tr>\n",
       "      <th>0</th>\n",
       "      <td>1</td>\n",
       "      <td>1</td>\n",
       "      <td>0.0</td>\n",
       "      <td>0</td>\n",
       "      <td>0</td>\n",
       "      <td>0</td>\n",
       "      <td>0</td>\n",
       "      <td>0</td>\n",
       "      <td>0</td>\n",
       "      <td>0</td>\n",
       "      <td>...</td>\n",
       "      <td>0</td>\n",
       "      <td>0</td>\n",
       "      <td>0</td>\n",
       "      <td>1</td>\n",
       "      <td>0</td>\n",
       "      <td>0</td>\n",
       "      <td>0</td>\n",
       "      <td>0</td>\n",
       "      <td>0</td>\n",
       "      <td>0</td>\n",
       "    </tr>\n",
       "    <tr>\n",
       "      <th>1</th>\n",
       "      <td>2</td>\n",
       "      <td>1</td>\n",
       "      <td>797179.0</td>\n",
       "      <td>0</td>\n",
       "      <td>0</td>\n",
       "      <td>0</td>\n",
       "      <td>0</td>\n",
       "      <td>0</td>\n",
       "      <td>0</td>\n",
       "      <td>1</td>\n",
       "      <td>...</td>\n",
       "      <td>1</td>\n",
       "      <td>0</td>\n",
       "      <td>0</td>\n",
       "      <td>1</td>\n",
       "      <td>0</td>\n",
       "      <td>0</td>\n",
       "      <td>1</td>\n",
       "      <td>0</td>\n",
       "      <td>0</td>\n",
       "      <td>0</td>\n",
       "    </tr>\n",
       "    <tr>\n",
       "      <th>2</th>\n",
       "      <td>2</td>\n",
       "      <td>2</td>\n",
       "      <td>115.0</td>\n",
       "      <td>0</td>\n",
       "      <td>0</td>\n",
       "      <td>0</td>\n",
       "      <td>0</td>\n",
       "      <td>0</td>\n",
       "      <td>0</td>\n",
       "      <td>1</td>\n",
       "      <td>...</td>\n",
       "      <td>0</td>\n",
       "      <td>0</td>\n",
       "      <td>0</td>\n",
       "      <td>1</td>\n",
       "      <td>0</td>\n",
       "      <td>0</td>\n",
       "      <td>0</td>\n",
       "      <td>1</td>\n",
       "      <td>0</td>\n",
       "      <td>0</td>\n",
       "    </tr>\n",
       "    <tr>\n",
       "      <th>3</th>\n",
       "      <td>1</td>\n",
       "      <td>1</td>\n",
       "      <td>30.0</td>\n",
       "      <td>0</td>\n",
       "      <td>0</td>\n",
       "      <td>0</td>\n",
       "      <td>0</td>\n",
       "      <td>0</td>\n",
       "      <td>0</td>\n",
       "      <td>1</td>\n",
       "      <td>...</td>\n",
       "      <td>0</td>\n",
       "      <td>0</td>\n",
       "      <td>0</td>\n",
       "      <td>1</td>\n",
       "      <td>0</td>\n",
       "      <td>0</td>\n",
       "      <td>0</td>\n",
       "      <td>0</td>\n",
       "      <td>0</td>\n",
       "      <td>1</td>\n",
       "    </tr>\n",
       "    <tr>\n",
       "      <th>4</th>\n",
       "      <td>1</td>\n",
       "      <td>1</td>\n",
       "      <td>59.0</td>\n",
       "      <td>0</td>\n",
       "      <td>0</td>\n",
       "      <td>0</td>\n",
       "      <td>0</td>\n",
       "      <td>0</td>\n",
       "      <td>0</td>\n",
       "      <td>0</td>\n",
       "      <td>...</td>\n",
       "      <td>1</td>\n",
       "      <td>0</td>\n",
       "      <td>0</td>\n",
       "      <td>1</td>\n",
       "      <td>0</td>\n",
       "      <td>0</td>\n",
       "      <td>0</td>\n",
       "      <td>1</td>\n",
       "      <td>0</td>\n",
       "      <td>0</td>\n",
       "    </tr>\n",
       "  </tbody>\n",
       "</table>\n",
       "<p>5 rows × 71 columns</p>\n",
       "</div>"
      ],
      "text/plain": [
       "   touchpoints_in_path  attribution_sequence  event_to_touchpoint  \\\n",
       "0                    1                     1                  0.0   \n",
       "1                    2                     1             797179.0   \n",
       "2                    2                     2                115.0   \n",
       "3                    1                     1                 30.0   \n",
       "4                    1                     1                 59.0   \n",
       "\n",
       "   event_type_advil pm-coupon.submit  event_type_advil pm-email.sign.up  \\\n",
       "0                                  0                                  0   \n",
       "1                                  0                                  0   \n",
       "2                                  0                                  0   \n",
       "3                                  0                                  0   \n",
       "4                                  0                                  0   \n",
       "\n",
       "   event_type_advil-buy.now  event_type_advil-coupon.submit  \\\n",
       "0                         0                               0   \n",
       "1                         0                               0   \n",
       "2                         0                               0   \n",
       "3                         0                               0   \n",
       "4                         0                               0   \n",
       "\n",
       "   event_type_advil-email.sign.up  event_type_centrum-buy.now  \\\n",
       "0                               0                           0   \n",
       "1                               0                           0   \n",
       "2                               0                           0   \n",
       "3                               0                           0   \n",
       "4                               0                           0   \n",
       "\n",
       "   event_type_centrum-coupon.submit       ...         day_of_week_Wednesday  \\\n",
       "0                                 0       ...                             0   \n",
       "1                                 1       ...                             1   \n",
       "2                                 1       ...                             0   \n",
       "3                                 1       ...                             0   \n",
       "4                                 0       ...                             1   \n",
       "\n",
       "   month_2  month_3  month_4  month_11  month_12  week_of_month_2  \\\n",
       "0        0        0        1         0         0                0   \n",
       "1        0        0        1         0         0                1   \n",
       "2        0        0        1         0         0                0   \n",
       "3        0        0        1         0         0                0   \n",
       "4        0        0        1         0         0                0   \n",
       "\n",
       "   week_of_month_3  week_of_month_4  week_of_month_5  \n",
       "0                0                0                0  \n",
       "1                0                0                0  \n",
       "2                1                0                0  \n",
       "3                0                0                1  \n",
       "4                1                0                0  \n",
       "\n",
       "[5 rows x 71 columns]"
      ]
     },
     "execution_count": 51,
     "metadata": {},
     "output_type": "execute_result"
    }
   ],
   "source": [
    "df_model_dummies.head()"
   ]
  },
  {
   "cell_type": "code",
   "execution_count": 50,
   "metadata": {
    "collapsed": false
   },
   "outputs": [],
   "source": [
    "label = df_model_dummies.conversion\n",
    "df_model_dummies.drop('conversion',axis=1,inplace=True)"
   ]
  },
  {
   "cell_type": "code",
   "execution_count": 52,
   "metadata": {
    "collapsed": true
   },
   "outputs": [],
   "source": [
    "df_train,df_test,label_train,label_test = train_test_split(df_model_dummies,label,test_size=.3)"
   ]
  },
  {
   "cell_type": "code",
   "execution_count": 53,
   "metadata": {
    "collapsed": true
   },
   "outputs": [],
   "source": [
    "from sklearn import metrics"
   ]
  },
  {
   "cell_type": "markdown",
   "metadata": {},
   "source": [
    "* Ridge"
   ]
  },
  {
   "cell_type": "code",
   "execution_count": 54,
   "metadata": {
    "collapsed": true
   },
   "outputs": [],
   "source": [
    "from sklearn.linear_model import Ridge,Lasso\n",
    "# predictors=[x for x in train.columns.tolist() if x!=['conversion']]\n",
    "alg=Ridge(alpha=0.05)"
   ]
  },
  {
   "cell_type": "code",
   "execution_count": 55,
   "metadata": {
    "collapsed": false
   },
   "outputs": [
    {
     "data": {
      "text/plain": [
       "Ridge(alpha=0.05, copy_X=True, fit_intercept=True, max_iter=None,\n",
       "   normalize=False, random_state=None, solver='auto', tol=0.001)"
      ]
     },
     "execution_count": 55,
     "metadata": {},
     "output_type": "execute_result"
    }
   ],
   "source": [
    "alg.fit(df_train,label_train)"
   ]
  },
  {
   "cell_type": "code",
   "execution_count": 58,
   "metadata": {
    "collapsed": false
   },
   "outputs": [],
   "source": [
    "predict = alg.predict(df_test)"
   ]
  },
  {
   "cell_type": "code",
   "execution_count": 59,
   "metadata": {
    "collapsed": false
   },
   "outputs": [
    {
     "data": {
      "text/plain": [
       "0.011945381943696242"
      ]
     },
     "execution_count": 59,
     "metadata": {},
     "output_type": "execute_result"
    }
   ],
   "source": [
    "metrics.mean_squared_error(label_test,predict)"
   ]
  },
  {
   "cell_type": "markdown",
   "metadata": {},
   "source": [
    "* random forest"
   ]
  },
  {
   "cell_type": "code",
   "execution_count": 71,
   "metadata": {
    "collapsed": true
   },
   "outputs": [],
   "source": [
    "from sklearn.ensemble import RandomForestRegressor"
   ]
  },
  {
   "cell_type": "code",
   "execution_count": 72,
   "metadata": {
    "collapsed": true
   },
   "outputs": [],
   "source": [
    "rf = RandomForestRegressor(n_estimators=50,max_depth=10,random_state=2000)"
   ]
  },
  {
   "cell_type": "code",
   "execution_count": 73,
   "metadata": {
    "collapsed": false
   },
   "outputs": [
    {
     "data": {
      "text/plain": [
       "RandomForestRegressor(bootstrap=True, criterion='mse', max_depth=10,\n",
       "           max_features='auto', max_leaf_nodes=None,\n",
       "           min_impurity_split=1e-07, min_samples_leaf=1,\n",
       "           min_samples_split=2, min_weight_fraction_leaf=0.0,\n",
       "           n_estimators=50, n_jobs=1, oob_score=False, random_state=2000,\n",
       "           verbose=0, warm_start=False)"
      ]
     },
     "execution_count": 73,
     "metadata": {},
     "output_type": "execute_result"
    }
   ],
   "source": [
    "rf.fit(df_train,label_train)"
   ]
  },
  {
   "cell_type": "code",
   "execution_count": 74,
   "metadata": {
    "collapsed": true
   },
   "outputs": [],
   "source": [
    "predict1 = rf.predict(df_test)"
   ]
  },
  {
   "cell_type": "code",
   "execution_count": 75,
   "metadata": {
    "collapsed": false
   },
   "outputs": [
    {
     "data": {
      "text/plain": [
       "0.009202070605306022"
      ]
     },
     "execution_count": 75,
     "metadata": {},
     "output_type": "execute_result"
    }
   ],
   "source": [
    "metrics.mean_squared_error(label_test,predict1)"
   ]
  },
  {
   "cell_type": "code",
   "execution_count": 76,
   "metadata": {
    "collapsed": false
   },
   "outputs": [
    {
     "data": {
      "text/html": [
       "<div>\n",
       "<table border=\"1\" class=\"dataframe\">\n",
       "  <thead>\n",
       "    <tr style=\"text-align: right;\">\n",
       "      <th></th>\n",
       "      <th>0</th>\n",
       "      <th>1</th>\n",
       "      <th>2</th>\n",
       "      <th>3</th>\n",
       "      <th>4</th>\n",
       "      <th>5</th>\n",
       "      <th>6</th>\n",
       "      <th>7</th>\n",
       "      <th>8</th>\n",
       "      <th>9</th>\n",
       "      <th>...</th>\n",
       "      <th>308267</th>\n",
       "      <th>308268</th>\n",
       "      <th>308269</th>\n",
       "      <th>308270</th>\n",
       "      <th>308271</th>\n",
       "      <th>308272</th>\n",
       "      <th>308273</th>\n",
       "      <th>308274</th>\n",
       "      <th>308275</th>\n",
       "      <th>308276</th>\n",
       "    </tr>\n",
       "  </thead>\n",
       "  <tbody>\n",
       "    <tr>\n",
       "      <th>0</th>\n",
       "      <td>0.000016</td>\n",
       "      <td>0.000000</td>\n",
       "      <td>0.045442</td>\n",
       "      <td>0.000001</td>\n",
       "      <td>0.006212</td>\n",
       "      <td>0.000436</td>\n",
       "      <td>0.000000</td>\n",
       "      <td>0.000002</td>\n",
       "      <td>0.009634</td>\n",
       "      <td>0.000177</td>\n",
       "      <td>...</td>\n",
       "      <td>0.000004</td>\n",
       "      <td>0.000931</td>\n",
       "      <td>0.000026</td>\n",
       "      <td>0.259669</td>\n",
       "      <td>0.001806</td>\n",
       "      <td>0.000007</td>\n",
       "      <td>0.013259</td>\n",
       "      <td>0.093565</td>\n",
       "      <td>0.007128</td>\n",
       "      <td>0.002351</td>\n",
       "    </tr>\n",
       "    <tr>\n",
       "      <th>1</th>\n",
       "      <td>0.122620</td>\n",
       "      <td>0.027876</td>\n",
       "      <td>0.064147</td>\n",
       "      <td>0.003485</td>\n",
       "      <td>0.022338</td>\n",
       "      <td>0.002521</td>\n",
       "      <td>0.005034</td>\n",
       "      <td>-0.007606</td>\n",
       "      <td>-0.011746</td>\n",
       "      <td>-0.004912</td>\n",
       "      <td>...</td>\n",
       "      <td>0.001178</td>\n",
       "      <td>-0.005102</td>\n",
       "      <td>-0.032237</td>\n",
       "      <td>0.355850</td>\n",
       "      <td>-0.004030</td>\n",
       "      <td>0.001360</td>\n",
       "      <td>0.243013</td>\n",
       "      <td>0.541976</td>\n",
       "      <td>-0.003919</td>\n",
       "      <td>0.001642</td>\n",
       "    </tr>\n",
       "  </tbody>\n",
       "</table>\n",
       "<p>2 rows × 308277 columns</p>\n",
       "</div>"
      ],
      "text/plain": [
       "     0         1         2         3         4         5         6       \\\n",
       "0  0.000016  0.000000  0.045442  0.000001  0.006212  0.000436  0.000000   \n",
       "1  0.122620  0.027876  0.064147  0.003485  0.022338  0.002521  0.005034   \n",
       "\n",
       "     7         8         9         ...       308267    308268    308269  \\\n",
       "0  0.000002  0.009634  0.000177    ...     0.000004  0.000931  0.000026   \n",
       "1 -0.007606 -0.011746 -0.004912    ...     0.001178 -0.005102 -0.032237   \n",
       "\n",
       "     308270    308271    308272    308273    308274    308275    308276  \n",
       "0  0.259669  0.001806  0.000007  0.013259  0.093565  0.007128  0.002351  \n",
       "1  0.355850 -0.004030  0.001360  0.243013  0.541976 -0.003919  0.001642  \n",
       "\n",
       "[2 rows x 308277 columns]"
      ]
     },
     "execution_count": 76,
     "metadata": {},
     "output_type": "execute_result"
    }
   ],
   "source": [
    "pd.DataFrame([label_test.values,predict])"
   ]
  },
  {
   "cell_type": "code",
   "execution_count": null,
   "metadata": {
    "collapsed": true
   },
   "outputs": [],
   "source": []
  }
 ],
 "metadata": {
  "anaconda-cloud": {},
  "kernelspec": {
   "display_name": "Python 3",
   "language": "python",
   "name": "python3"
  },
  "language_info": {
   "codemirror_mode": {
    "name": "ipython",
    "version": 3
   },
   "file_extension": ".py",
   "mimetype": "text/x-python",
   "name": "python",
   "nbconvert_exporter": "python",
   "pygments_lexer": "ipython3",
   "version": "3.5.2"
  }
 },
 "nbformat": 4,
 "nbformat_minor": 2
}
