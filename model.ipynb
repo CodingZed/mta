{
 "cells": [
  {
   "cell_type": "markdown",
   "metadata": {},
   "source": [
    "## Import dataset "
   ]
  },
  {
   "cell_type": "code",
   "execution_count": 1,
   "metadata": {
    "collapsed": true
   },
   "outputs": [],
   "source": [
    "import pandas as pd\n",
    "import numpy as np\n",
    "import matplotlib.pyplot as plt\n",
    "import datetime\n",
    "import re"
   ]
  },
  {
   "cell_type": "code",
   "execution_count": 2,
   "metadata": {
    "collapsed": true
   },
   "outputs": [],
   "source": [
    "plt.style.use('ggplot')\n",
    "%matplotlib inline"
   ]
  },
  {
   "cell_type": "code",
   "execution_count": 3,
   "metadata": {
    "collapsed": false
   },
   "outputs": [
    {
     "name": "stderr",
     "output_type": "stream",
     "text": [
      "/usr/local/lib/python3.5/dist-packages/IPython/core/interactiveshell.py:2698: DtypeWarning: Columns (7) have mixed types. Specify dtype option on import or set low_memory=False.\n",
      "  interactivity=interactivity, compiler=compiler, result=result)\n"
     ]
    }
   ],
   "source": [
    "df_all = pd.read_csv('data/april_report.csv')"
   ]
  },
  {
   "cell_type": "code",
   "execution_count": 4,
   "metadata": {
    "collapsed": true
   },
   "outputs": [],
   "source": [
    "df_all.columns = [col.lower().replace(' ','_') for col in df_all.columns.tolist()]\n",
    "df_all.columns = [col.lower().replace('/timestamp','') for col in df_all.columns.tolist()]"
   ]
  },
  {
   "cell_type": "code",
   "execution_count": 5,
   "metadata": {
    "collapsed": true
   },
   "outputs": [],
   "source": [
    "date_col = [col for col in df_all.columns.tolist() if 'date' in col]\n",
    "df_all[date_col] = df_all[date_col].apply(pd.to_datetime,format = \"%m/%d/%Y %H:%M:%S\")"
   ]
  },
  {
   "cell_type": "code",
   "execution_count": 6,
   "metadata": {
    "collapsed": false
   },
   "outputs": [
    {
     "name": "stdout",
     "output_type": "stream",
     "text": [
      "<class 'pandas.core.frame.DataFrame'>\n",
      "RangeIndex: 1253306 entries, 0 to 1253305\n",
      "Data columns (total 23 columns):\n",
      "unique_row_id           1253306 non-null object\n",
      "cvo_sid                 1253306 non-null object\n",
      "event_site_id           1253306 non-null int64\n",
      "touchpoint_site_id      1253306 non-null int64\n",
      "event_site_name         1253306 non-null object\n",
      "touchpoint_site_name    1253306 non-null object\n",
      "event_type              1253306 non-null object\n",
      "event_id                1253306 non-null object\n",
      "event_date              1253306 non-null datetime64[ns]\n",
      "touchpoint_date         1253306 non-null datetime64[ns]\n",
      "total_event_value       1253306 non-null float64\n",
      "touchpoint_revenue      1253306 non-null float64\n",
      "conversion              1253306 non-null float64\n",
      "touchpoint_type         1027589 non-null object\n",
      "first_touch_date        1253306 non-null datetime64[ns]\n",
      "last_touch_date         1253306 non-null datetime64[ns]\n",
      "source_1                1253306 non-null object\n",
      "source_2                1253306 non-null object\n",
      "source_3                1253306 non-null object\n",
      "touchpoints_in_path     1253306 non-null int64\n",
      "attribution_sequence    1253306 non-null int64\n",
      "path_position           1253306 non-null object\n",
      "device                  1253306 non-null object\n",
      "dtypes: datetime64[ns](4), float64(3), int64(4), object(12)\n",
      "memory usage: 219.9+ MB\n"
     ]
    }
   ],
   "source": [
    "df_all.info()"
   ]
  },
  {
   "cell_type": "markdown",
   "metadata": {},
   "source": [
    "## Clean\n",
    "* pick columns\n",
    "* remove channel base\n"
   ]
  },
  {
   "cell_type": "code",
   "execution_count": 7,
   "metadata": {
    "collapsed": true
   },
   "outputs": [],
   "source": [
    "selected_col=['event_site_name','touchpoint_site_name','event_type','conversion','touchpoint_type','source_1','touchpoints_in_path','attribution_sequence','path_position']\n",
    "selected_col.extend(date_col)\n",
    "\n",
    "df_prep=df_all[selected_col]"
   ]
  },
  {
   "cell_type": "code",
   "execution_count": 8,
   "metadata": {
    "collapsed": true
   },
   "outputs": [],
   "source": [
    "df_prep = df_prep[df_prep.source_1!='base']\n",
    "# df_prep = df_prep[df_prep.touchpoints_in_path<50]\n",
    "df_prep.reset_index(drop=True, inplace=True)\n",
    "df_prep.loc[df_prep.source_1.str.contains('social'),'source_1']='social'"
   ]
  },
  {
   "cell_type": "code",
   "execution_count": 9,
   "metadata": {
    "collapsed": true
   },
   "outputs": [],
   "source": [
    "def remove_small_category(df,col):\n",
    "    count = df[col].value_counts()\n",
    "    index = count[count<1000].index.tolist()\n",
    "    return df[~df[col].isin(index)]"
   ]
  },
  {
   "cell_type": "code",
   "execution_count": 10,
   "metadata": {
    "collapsed": false
   },
   "outputs": [],
   "source": [
    "df_prep = remove_small_category(df_prep,'source_1')\n",
    "df_prep = remove_small_category(df_prep,'event_type')"
   ]
  },
  {
   "cell_type": "code",
   "execution_count": 11,
   "metadata": {
    "collapsed": false
   },
   "outputs": [
    {
     "data": {
      "text/html": [
       "<div>\n",
       "<table border=\"1\" class=\"dataframe\">\n",
       "  <thead>\n",
       "    <tr style=\"text-align: right;\">\n",
       "      <th></th>\n",
       "      <th>event_site_name</th>\n",
       "      <th>event_type</th>\n",
       "      <th>conversion</th>\n",
       "      <th>touchpoint_type</th>\n",
       "      <th>source_1</th>\n",
       "      <th>touchpoints_in_path</th>\n",
       "      <th>attribution_sequence</th>\n",
       "      <th>path_position</th>\n",
       "      <th>event_date</th>\n",
       "      <th>touchpoint_date</th>\n",
       "      <th>first_touch_date</th>\n",
       "      <th>last_touch_date</th>\n",
       "    </tr>\n",
       "  </thead>\n",
       "  <tbody>\n",
       "    <tr>\n",
       "      <th>0</th>\n",
       "      <td>Nexium24hour</td>\n",
       "      <td>nexium24hour-buy.now</td>\n",
       "      <td>1.000000</td>\n",
       "      <td>visit</td>\n",
       "      <td>ppc nonbrand</td>\n",
       "      <td>1</td>\n",
       "      <td>1</td>\n",
       "      <td>only</td>\n",
       "      <td>2017-04-07 17:54:58</td>\n",
       "      <td>2017-04-07 17:54:58</td>\n",
       "      <td>2017-04-07 17:54:58</td>\n",
       "      <td>2017-04-07 17:54:58</td>\n",
       "    </tr>\n",
       "    <tr>\n",
       "      <th>1</th>\n",
       "      <td>Centrum</td>\n",
       "      <td>centrum-coupon.submit</td>\n",
       "      <td>0.000047</td>\n",
       "      <td>visit</td>\n",
       "      <td>organic not provided</td>\n",
       "      <td>2</td>\n",
       "      <td>1</td>\n",
       "      <td>introducer</td>\n",
       "      <td>2017-04-21 17:52:51</td>\n",
       "      <td>2017-04-12 12:26:32</td>\n",
       "      <td>2017-04-12 12:26:32</td>\n",
       "      <td>2017-04-21 17:52:51</td>\n",
       "    </tr>\n",
       "    <tr>\n",
       "      <th>2</th>\n",
       "      <td>Centrum</td>\n",
       "      <td>centrum-coupon.submit</td>\n",
       "      <td>0.011891</td>\n",
       "      <td>visit</td>\n",
       "      <td>organic not provided</td>\n",
       "      <td>2</td>\n",
       "      <td>2</td>\n",
       "      <td>closer</td>\n",
       "      <td>2017-04-21 17:52:51</td>\n",
       "      <td>2017-04-21 17:50:56</td>\n",
       "      <td>2017-04-12 12:26:32</td>\n",
       "      <td>2017-04-21 17:52:51</td>\n",
       "    </tr>\n",
       "    <tr>\n",
       "      <th>3</th>\n",
       "      <td>Centrum</td>\n",
       "      <td>centrum-coupon.submit</td>\n",
       "      <td>0.197314</td>\n",
       "      <td>visit</td>\n",
       "      <td>ppc brand</td>\n",
       "      <td>1</td>\n",
       "      <td>1</td>\n",
       "      <td>only</td>\n",
       "      <td>2017-04-30 18:04:52</td>\n",
       "      <td>2017-04-30 18:04:22</td>\n",
       "      <td>2017-04-30 18:04:22</td>\n",
       "      <td>2017-04-30 18:04:52</td>\n",
       "    </tr>\n",
       "    <tr>\n",
       "      <th>4</th>\n",
       "      <td>Centrum</td>\n",
       "      <td>centrum-email.sign.up</td>\n",
       "      <td>1.000000</td>\n",
       "      <td>visit</td>\n",
       "      <td>social</td>\n",
       "      <td>1</td>\n",
       "      <td>1</td>\n",
       "      <td>only</td>\n",
       "      <td>2017-04-19 14:12:59</td>\n",
       "      <td>2017-04-19 14:12:00</td>\n",
       "      <td>2017-04-19 14:12:00</td>\n",
       "      <td>2017-04-19 14:12:00</td>\n",
       "    </tr>\n",
       "  </tbody>\n",
       "</table>\n",
       "</div>"
      ],
      "text/plain": [
       "  event_site_name             event_type  conversion touchpoint_type  \\\n",
       "0    Nexium24hour   nexium24hour-buy.now    1.000000           visit   \n",
       "1         Centrum  centrum-coupon.submit    0.000047           visit   \n",
       "2         Centrum  centrum-coupon.submit    0.011891           visit   \n",
       "3         Centrum  centrum-coupon.submit    0.197314           visit   \n",
       "4         Centrum  centrum-email.sign.up    1.000000           visit   \n",
       "\n",
       "               source_1  touchpoints_in_path  attribution_sequence  \\\n",
       "0          ppc nonbrand                    1                     1   \n",
       "1  organic not provided                    2                     1   \n",
       "2  organic not provided                    2                     2   \n",
       "3             ppc brand                    1                     1   \n",
       "4                social                    1                     1   \n",
       "\n",
       "  path_position          event_date     touchpoint_date    first_touch_date  \\\n",
       "0          only 2017-04-07 17:54:58 2017-04-07 17:54:58 2017-04-07 17:54:58   \n",
       "1    introducer 2017-04-21 17:52:51 2017-04-12 12:26:32 2017-04-12 12:26:32   \n",
       "2        closer 2017-04-21 17:52:51 2017-04-21 17:50:56 2017-04-12 12:26:32   \n",
       "3          only 2017-04-30 18:04:52 2017-04-30 18:04:22 2017-04-30 18:04:22   \n",
       "4          only 2017-04-19 14:12:59 2017-04-19 14:12:00 2017-04-19 14:12:00   \n",
       "\n",
       "      last_touch_date  \n",
       "0 2017-04-07 17:54:58  \n",
       "1 2017-04-21 17:52:51  \n",
       "2 2017-04-21 17:52:51  \n",
       "3 2017-04-30 18:04:52  \n",
       "4 2017-04-19 14:12:00  "
      ]
     },
     "execution_count": 11,
     "metadata": {},
     "output_type": "execute_result"
    }
   ],
   "source": [
    "df_prep.head()"
   ]
  },
  {
   "cell_type": "code",
   "execution_count": 12,
   "metadata": {
    "collapsed": false
   },
   "outputs": [
    {
     "data": {
      "text/plain": [
       "display                 726559\n",
       "video                   164456\n",
       "ppc brand                36791\n",
       "organic not provided     22399\n",
       "content                  18998\n",
       "other                    15348\n",
       "social                   14918\n",
       "coupon                   11951\n",
       "ppc nonbrand              7640\n",
       "email                     6023\n",
       "organic brand             1452\n",
       "Name: source_1, dtype: int64"
      ]
     },
     "execution_count": 12,
     "metadata": {},
     "output_type": "execute_result"
    }
   ],
   "source": [
    "df_prep.source_1.value_counts()"
   ]
  },
  {
   "cell_type": "code",
   "execution_count": 13,
   "metadata": {
    "collapsed": false
   },
   "outputs": [
    {
     "data": {
      "text/plain": [
       "(1026535, 12)"
      ]
     },
     "execution_count": 13,
     "metadata": {},
     "output_type": "execute_result"
    }
   ],
   "source": [
    "df_prep.shape"
   ]
  },
  {
   "cell_type": "markdown",
   "metadata": {},
   "source": [
    "## procesing\n",
    "* conbime servel social\n",
    "* days from first to last touch\n",
    "* distance to event\n",
    "* mean of __event, source, path distant, path position, touch point type__"
   ]
  },
  {
   "cell_type": "code",
   "execution_count": 13,
   "metadata": {
    "collapsed": false
   },
   "outputs": [],
   "source": [
    "df_prep['event_to_touchpoint']=(df_prep.event_date-df_prep.touchpoint_date).dt.days\n",
    "\n",
    "df_prep['day_of_week']=df_prep.touchpoint_date.dt.weekday\n",
    "\n",
    "df_prep['month']=df_prep.touchpoint_date.dt.month\n",
    "\n",
    "df_prep['week_of_month']=(df_prep.touchpoint_date.dt.day-1)//7+1\n",
    "\n",
    "df_prep['distance_event'] = df_prep.touchpoints_in_path - df_prep.attribution_sequence"
   ]
  },
  {
   "cell_type": "code",
   "execution_count": 14,
   "metadata": {
    "collapsed": false,
    "scrolled": false
   },
   "outputs": [
    {
     "data": {
      "text/html": [
       "<div>\n",
       "<table border=\"1\" class=\"dataframe\">\n",
       "  <thead>\n",
       "    <tr style=\"text-align: right;\">\n",
       "      <th></th>\n",
       "      <th>event_site_name</th>\n",
       "      <th>event_type</th>\n",
       "      <th>conversion</th>\n",
       "      <th>touchpoint_type</th>\n",
       "      <th>source_1</th>\n",
       "      <th>touchpoints_in_path</th>\n",
       "      <th>attribution_sequence</th>\n",
       "      <th>path_position</th>\n",
       "      <th>event_date</th>\n",
       "      <th>touchpoint_date</th>\n",
       "      <th>first_touch_date</th>\n",
       "      <th>last_touch_date</th>\n",
       "      <th>event_to_touchpoint</th>\n",
       "      <th>day_of_week</th>\n",
       "      <th>month</th>\n",
       "      <th>week_of_month</th>\n",
       "      <th>distance_event</th>\n",
       "    </tr>\n",
       "  </thead>\n",
       "  <tbody>\n",
       "    <tr>\n",
       "      <th>0</th>\n",
       "      <td>Nexium24hour</td>\n",
       "      <td>nexium24hour-buy.now</td>\n",
       "      <td>1.000000</td>\n",
       "      <td>visit</td>\n",
       "      <td>ppc nonbrand</td>\n",
       "      <td>1</td>\n",
       "      <td>1</td>\n",
       "      <td>only</td>\n",
       "      <td>2017-04-07 17:54:58</td>\n",
       "      <td>2017-04-07 17:54:58</td>\n",
       "      <td>2017-04-07 17:54:58</td>\n",
       "      <td>2017-04-07 17:54:58</td>\n",
       "      <td>0</td>\n",
       "      <td>4</td>\n",
       "      <td>4</td>\n",
       "      <td>1</td>\n",
       "      <td>0</td>\n",
       "    </tr>\n",
       "    <tr>\n",
       "      <th>1</th>\n",
       "      <td>Centrum</td>\n",
       "      <td>centrum-coupon.submit</td>\n",
       "      <td>0.000047</td>\n",
       "      <td>visit</td>\n",
       "      <td>organic not provided</td>\n",
       "      <td>2</td>\n",
       "      <td>1</td>\n",
       "      <td>introducer</td>\n",
       "      <td>2017-04-21 17:52:51</td>\n",
       "      <td>2017-04-12 12:26:32</td>\n",
       "      <td>2017-04-12 12:26:32</td>\n",
       "      <td>2017-04-21 17:52:51</td>\n",
       "      <td>9</td>\n",
       "      <td>2</td>\n",
       "      <td>4</td>\n",
       "      <td>2</td>\n",
       "      <td>1</td>\n",
       "    </tr>\n",
       "    <tr>\n",
       "      <th>2</th>\n",
       "      <td>Centrum</td>\n",
       "      <td>centrum-coupon.submit</td>\n",
       "      <td>0.011891</td>\n",
       "      <td>visit</td>\n",
       "      <td>organic not provided</td>\n",
       "      <td>2</td>\n",
       "      <td>2</td>\n",
       "      <td>closer</td>\n",
       "      <td>2017-04-21 17:52:51</td>\n",
       "      <td>2017-04-21 17:50:56</td>\n",
       "      <td>2017-04-12 12:26:32</td>\n",
       "      <td>2017-04-21 17:52:51</td>\n",
       "      <td>0</td>\n",
       "      <td>4</td>\n",
       "      <td>4</td>\n",
       "      <td>3</td>\n",
       "      <td>0</td>\n",
       "    </tr>\n",
       "    <tr>\n",
       "      <th>3</th>\n",
       "      <td>Centrum</td>\n",
       "      <td>centrum-coupon.submit</td>\n",
       "      <td>0.197314</td>\n",
       "      <td>visit</td>\n",
       "      <td>ppc brand</td>\n",
       "      <td>1</td>\n",
       "      <td>1</td>\n",
       "      <td>only</td>\n",
       "      <td>2017-04-30 18:04:52</td>\n",
       "      <td>2017-04-30 18:04:22</td>\n",
       "      <td>2017-04-30 18:04:22</td>\n",
       "      <td>2017-04-30 18:04:52</td>\n",
       "      <td>0</td>\n",
       "      <td>6</td>\n",
       "      <td>4</td>\n",
       "      <td>5</td>\n",
       "      <td>0</td>\n",
       "    </tr>\n",
       "    <tr>\n",
       "      <th>4</th>\n",
       "      <td>Centrum</td>\n",
       "      <td>centrum-email.sign.up</td>\n",
       "      <td>1.000000</td>\n",
       "      <td>visit</td>\n",
       "      <td>social</td>\n",
       "      <td>1</td>\n",
       "      <td>1</td>\n",
       "      <td>only</td>\n",
       "      <td>2017-04-19 14:12:59</td>\n",
       "      <td>2017-04-19 14:12:00</td>\n",
       "      <td>2017-04-19 14:12:00</td>\n",
       "      <td>2017-04-19 14:12:00</td>\n",
       "      <td>0</td>\n",
       "      <td>2</td>\n",
       "      <td>4</td>\n",
       "      <td>3</td>\n",
       "      <td>0</td>\n",
       "    </tr>\n",
       "  </tbody>\n",
       "</table>\n",
       "</div>"
      ],
      "text/plain": [
       "  event_site_name             event_type  conversion touchpoint_type  \\\n",
       "0    Nexium24hour   nexium24hour-buy.now    1.000000           visit   \n",
       "1         Centrum  centrum-coupon.submit    0.000047           visit   \n",
       "2         Centrum  centrum-coupon.submit    0.011891           visit   \n",
       "3         Centrum  centrum-coupon.submit    0.197314           visit   \n",
       "4         Centrum  centrum-email.sign.up    1.000000           visit   \n",
       "\n",
       "               source_1  touchpoints_in_path  attribution_sequence  \\\n",
       "0          ppc nonbrand                    1                     1   \n",
       "1  organic not provided                    2                     1   \n",
       "2  organic not provided                    2                     2   \n",
       "3             ppc brand                    1                     1   \n",
       "4                social                    1                     1   \n",
       "\n",
       "  path_position          event_date     touchpoint_date    first_touch_date  \\\n",
       "0          only 2017-04-07 17:54:58 2017-04-07 17:54:58 2017-04-07 17:54:58   \n",
       "1    introducer 2017-04-21 17:52:51 2017-04-12 12:26:32 2017-04-12 12:26:32   \n",
       "2        closer 2017-04-21 17:52:51 2017-04-21 17:50:56 2017-04-12 12:26:32   \n",
       "3          only 2017-04-30 18:04:52 2017-04-30 18:04:22 2017-04-30 18:04:22   \n",
       "4          only 2017-04-19 14:12:59 2017-04-19 14:12:00 2017-04-19 14:12:00   \n",
       "\n",
       "      last_touch_date  event_to_touchpoint  day_of_week  month  week_of_month  \\\n",
       "0 2017-04-07 17:54:58                    0            4      4              1   \n",
       "1 2017-04-21 17:52:51                    9            2      4              2   \n",
       "2 2017-04-21 17:52:51                    0            4      4              3   \n",
       "3 2017-04-30 18:04:52                    0            6      4              5   \n",
       "4 2017-04-19 14:12:00                    0            2      4              3   \n",
       "\n",
       "   distance_event  \n",
       "0               0  \n",
       "1               1  \n",
       "2               0  \n",
       "3               0  \n",
       "4               0  "
      ]
     },
     "execution_count": 14,
     "metadata": {},
     "output_type": "execute_result"
    }
   ],
   "source": [
    "df_prep.head()"
   ]
  },
  {
   "cell_type": "code",
   "execution_count": 15,
   "metadata": {
    "collapsed": false
   },
   "outputs": [],
   "source": [
    "df_prep['round_conversion'] = df_prep.conversion.round(decimals=4)"
   ]
  },
  {
   "cell_type": "code",
   "execution_count": 67,
   "metadata": {
    "collapsed": false
   },
   "outputs": [
    {
     "data": {
      "text/plain": [
       "0.00    0.000000\n",
       "0.05    0.000000\n",
       "0.10    0.000000\n",
       "0.15    0.000001\n",
       "0.20    0.000002\n",
       "0.25    0.000004\n",
       "0.30    0.000008\n",
       "0.35    0.000031\n",
       "0.40    0.000164\n",
       "0.45    0.000371\n",
       "0.50    0.000648\n",
       "0.55    0.000986\n",
       "0.60    0.001451\n",
       "0.65    0.002141\n",
       "0.70    0.003176\n",
       "0.75    0.004795\n",
       "0.80    0.007491\n",
       "0.85    0.013747\n",
       "0.90    0.040693\n",
       "0.95    0.218315\n",
       "Name: conversion, dtype: float64"
      ]
     },
     "execution_count": 67,
     "metadata": {},
     "output_type": "execute_result"
    }
   ],
   "source": [
    "df_prep.conversion.quantile(np.arange(0,1,0.05))"
   ]
  },
  {
   "cell_type": "markdown",
   "metadata": {},
   "source": [
    "add feature mean"
   ]
  },
  {
   "cell_type": "markdown",
   "metadata": {},
   "source": [
    " Get Dummies"
   ]
  },
  {
   "cell_type": "code",
   "execution_count": 16,
   "metadata": {
    "collapsed": true
   },
   "outputs": [],
   "source": [
    "df_prep_dummies=pd.get_dummies(df_prep,columns=['event_site_name','event_type','touchpoint_type','source_1','path_position'],\n",
    "                          drop_first=True)"
   ]
  },
  {
   "cell_type": "code",
   "execution_count": 17,
   "metadata": {
    "collapsed": true
   },
   "outputs": [],
   "source": [
    "#drop column with date\n",
    "df_model=df_prep_dummies.drop(date_col,axis=1)"
   ]
  },
  {
   "cell_type": "code",
   "execution_count": 18,
   "metadata": {
    "collapsed": false
   },
   "outputs": [],
   "source": [
    "from sklearn.model_selection import train_test_split"
   ]
  },
  {
   "cell_type": "raw",
   "metadata": {
    "collapsed": false
   },
   "source": [
    "conversion_source1_mean = df_prep.groupby('source_1',as_index=False)['conversion'].mean()\n",
    "conversion_event_mean = df_prep.groupby('event_type',as_index=False)['conversion'].mean()\n",
    "conversion_distant_mean = df_prep.groupby('distance_event',as_index=False)['conversion'].mean()\n",
    "conversion_position_mean = df_prep.groupby('path_position',as_index=False)['conversion'].mean()\n",
    "conversion_touchpoint_mean = df_prep.groupby('touchpoint_type',as_index=False)['conversion'].mean()\n",
    "\n",
    "\n",
    "df_prep= df_prep.merge(conversion_source1_mean,on='source_1',how='left',suffixes=('','_source1_mean'))\n",
    "df_prep= df_prep.merge(conversion_event_mean,on='event_type',how='left',suffixes=('','_event_type_mean'))\n",
    "df_prep= df_prep.merge(conversion_distant_mean,on='distance_event',how='left',suffixes=('','_distance_event_mean'))\n",
    "df_prep= df_prep.merge(conversion_position_mean,on='path_position',how='left',suffixes=('','_path_position_mean'))\n",
    "df_prep= df_prep.merge(conversion_touchpoint_mean,on='touchpoint_type',how='left',suffixes=('','_touchpoint_mean'))"
   ]
  },
  {
   "cell_type": "code",
   "execution_count": 19,
   "metadata": {
    "collapsed": false
   },
   "outputs": [],
   "source": [
    "label = df_model.round_conversion\n",
    "feature = df_model.drop(['conversion','round_conversion'],axis=1)"
   ]
  },
  {
   "cell_type": "code",
   "execution_count": 20,
   "metadata": {
    "collapsed": true
   },
   "outputs": [],
   "source": [
    "from sklearn.preprocessing import LabelEncoder\n",
    "\n",
    "le = LabelEncoder()\n",
    "label = le.fit_transform(label)"
   ]
  },
  {
   "cell_type": "code",
   "execution_count": 22,
   "metadata": {
    "collapsed": false
   },
   "outputs": [],
   "source": [
    "df_train,df_test,label_train,label_test = train_test_split(feature,label,test_size=.3,random_state=0)"
   ]
  },
  {
   "cell_type": "markdown",
   "metadata": {},
   "source": [
    "## modeling"
   ]
  },
  {
   "cell_type": "code",
   "execution_count": 23,
   "metadata": {
    "collapsed": true
   },
   "outputs": [],
   "source": [
    "from sklearn.multiclass import OneVsRestClassifier\n",
    "from sklearn.ensemble import RandomForestClassifier\n",
    "from sklearn.preprocessing import LabelEncoder"
   ]
  },
  {
   "cell_type": "code",
   "execution_count": 24,
   "metadata": {
    "collapsed": true
   },
   "outputs": [],
   "source": [
    "from sklearn.naive_bayes import GaussianNB"
   ]
  },
  {
   "cell_type": "code",
   "execution_count": 25,
   "metadata": {
    "collapsed": false,
    "scrolled": true
   },
   "outputs": [
    {
     "data": {
      "text/plain": [
       "GaussianNB(priors=None)"
      ]
     },
     "execution_count": 25,
     "metadata": {},
     "output_type": "execute_result"
    }
   ],
   "source": [
    "clf = GaussianNB()\n",
    "clf.fit(df_train,label_train)"
   ]
  },
  {
   "cell_type": "code",
   "execution_count": 38,
   "metadata": {
    "collapsed": false
   },
   "outputs": [],
   "source": [
    "pred = clf.predict(df_test.iloc[0:100,:])"
   ]
  },
  {
   "cell_type": "code",
   "execution_count": 44,
   "metadata": {
    "collapsed": false
   },
   "outputs": [],
   "source": [
    "a1 = le.inverse_transform(pred)"
   ]
  },
  {
   "cell_type": "code",
   "execution_count": 45,
   "metadata": {
    "collapsed": false,
    "scrolled": true
   },
   "outputs": [],
   "source": [
    "a2=le.inverse_transform(label_test[:100])"
   ]
  },
  {
   "cell_type": "code",
   "execution_count": 50,
   "metadata": {
    "collapsed": false,
    "scrolled": true
   },
   "outputs": [
    {
     "data": {
      "text/plain": [
       "-0.49339174175748424"
      ]
     },
     "execution_count": 50,
     "metadata": {},
     "output_type": "execute_result"
    }
   ],
   "source": [
    "metrics.r2_score(a2,a1)"
   ]
  },
  {
   "cell_type": "code",
   "execution_count": null,
   "metadata": {
    "collapsed": true
   },
   "outputs": [],
   "source": []
  },
  {
   "cell_type": "code",
   "execution_count": null,
   "metadata": {
    "collapsed": true
   },
   "outputs": [],
   "source": []
  },
  {
   "cell_type": "code",
   "execution_count": null,
   "metadata": {
    "collapsed": true
   },
   "outputs": [],
   "source": []
  },
  {
   "cell_type": "code",
   "execution_count": null,
   "metadata": {
    "collapsed": true
   },
   "outputs": [],
   "source": []
  },
  {
   "cell_type": "code",
   "execution_count": null,
   "metadata": {
    "collapsed": true
   },
   "outputs": [],
   "source": []
  },
  {
   "cell_type": "code",
   "execution_count": 43,
   "metadata": {
    "collapsed": true
   },
   "outputs": [],
   "source": [
    "from sklearn.linear_model import LinearRegression\n",
    "from sklearn.linear_model import Lasso\n",
    "from sklearn.linear_model import ElasticNet\n",
    "from sklearn.linear_model import (Ridge, TheilSenRegressor, RANSACRegressor, HuberRegressor)\n",
    "\n",
    "from sklearn.ensemble import (RandomForestRegressor, ExtraTreesRegressor, BaggingRegressor,\n",
    "                              AdaBoostRegressor, GradientBoostingRegressor)\n",
    "\n",
    "from sklearn.neighbors import KNeighborsRegressor\n",
    "from sklearn.tree import DecisionTreeRegressor\n",
    "\n",
    "from sklearn import metrics"
   ]
  },
  {
   "cell_type": "markdown",
   "metadata": {},
   "source": [
    "* random forest"
   ]
  },
  {
   "cell_type": "code",
   "execution_count": null,
   "metadata": {
    "collapsed": true
   },
   "outputs": [],
   "source": [
    "rf = RandomForestRegressor(n_estimators=50,max_depth=10,random_state=0)"
   ]
  },
  {
   "cell_type": "code",
   "execution_count": null,
   "metadata": {
    "collapsed": false
   },
   "outputs": [],
   "source": [
    "rf.fit(df_train,label_train)"
   ]
  },
  {
   "cell_type": "code",
   "execution_count": null,
   "metadata": {
    "collapsed": false
   },
   "outputs": [],
   "source": [
    "rf.score(df_test,label_test)"
   ]
  },
  {
   "cell_type": "code",
   "execution_count": null,
   "metadata": {
    "collapsed": false
   },
   "outputs": [],
   "source": [
    "predict1 = rf.predict(df_test)\n",
    "\n",
    "metrics.mean_squared_error(label_test,predict1)"
   ]
  },
  {
   "cell_type": "markdown",
   "metadata": {
    "collapsed": true
   },
   "source": [
    "* knn"
   ]
  },
  {
   "cell_type": "code",
   "execution_count": null,
   "metadata": {
    "collapsed": true
   },
   "outputs": [],
   "source": [
    "knn = KNeighborsRegressor(n_neighbors=10)"
   ]
  },
  {
   "cell_type": "code",
   "execution_count": null,
   "metadata": {
    "collapsed": false
   },
   "outputs": [],
   "source": [
    "knn.fit(df_train,label_train)"
   ]
  },
  {
   "cell_type": "code",
   "execution_count": null,
   "metadata": {
    "collapsed": false
   },
   "outputs": [],
   "source": [
    "knn.score(df_test,label_test)"
   ]
  },
  {
   "cell_type": "markdown",
   "metadata": {},
   "source": [
    "* elstic net"
   ]
  },
  {
   "cell_type": "code",
   "execution_count": null,
   "metadata": {
    "collapsed": true
   },
   "outputs": [],
   "source": [
    "eln = ElasticNet(alpha=0.05)"
   ]
  },
  {
   "cell_type": "code",
   "execution_count": null,
   "metadata": {
    "collapsed": false
   },
   "outputs": [],
   "source": [
    "eln.fit(df_train,label_train)"
   ]
  },
  {
   "cell_type": "code",
   "execution_count": null,
   "metadata": {
    "collapsed": false
   },
   "outputs": [],
   "source": [
    "eln.score(df_test,label_test)"
   ]
  },
  {
   "cell_type": "markdown",
   "metadata": {},
   "source": [
    "* grainting boosting"
   ]
  },
  {
   "cell_type": "code",
   "execution_count": null,
   "metadata": {
    "collapsed": true
   },
   "outputs": [],
   "source": [
    "gbr = GradientBoostingRegressor(random_state=0)"
   ]
  },
  {
   "cell_type": "code",
   "execution_count": null,
   "metadata": {
    "collapsed": false
   },
   "outputs": [],
   "source": [
    "gbr.fit(df_train,label_train)"
   ]
  },
  {
   "cell_type": "code",
   "execution_count": null,
   "metadata": {
    "collapsed": false
   },
   "outputs": [],
   "source": [
    "gbr.score(df_test,label_test)"
   ]
  },
  {
   "cell_type": "markdown",
   "metadata": {},
   "source": [
    "* bagging regressor"
   ]
  },
  {
   "cell_type": "code",
   "execution_count": null,
   "metadata": {
    "collapsed": true
   },
   "outputs": [],
   "source": [
    "bag = BaggingRegressor(random_state=0)"
   ]
  },
  {
   "cell_type": "code",
   "execution_count": null,
   "metadata": {
    "collapsed": false
   },
   "outputs": [],
   "source": [
    "bag.fit(df_train,label_train)"
   ]
  },
  {
   "cell_type": "code",
   "execution_count": null,
   "metadata": {
    "collapsed": false
   },
   "outputs": [],
   "source": [
    "bag.score(df_test,label_test)"
   ]
  },
  {
   "cell_type": "code",
   "execution_count": null,
   "metadata": {
    "collapsed": false
   },
   "outputs": [],
   "source": [
    "predict1 = bag.predict(df_test)\n",
    "\n",
    "metrics.mean_squared_error(label_test,predict1)"
   ]
  }
 ],
 "metadata": {
  "anaconda-cloud": {},
  "kernelspec": {
   "display_name": "Python 3",
   "language": "python",
   "name": "python3"
  },
  "language_info": {
   "codemirror_mode": {
    "name": "ipython",
    "version": 3
   },
   "file_extension": ".py",
   "mimetype": "text/x-python",
   "name": "python",
   "nbconvert_exporter": "python",
   "pygments_lexer": "ipython3",
   "version": "3.5.2"
  }
 },
 "nbformat": 4,
 "nbformat_minor": 2
}
