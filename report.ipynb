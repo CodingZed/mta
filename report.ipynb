{
 "cells": [
  {
   "cell_type": "markdown",
   "metadata": {
    "deletable": true,
    "editable": true
   },
   "source": [
    "## Import dataset "
   ]
  },
  {
   "cell_type": "code",
   "execution_count": 1,
   "metadata": {
    "collapsed": true,
    "deletable": true,
    "editable": true
   },
   "outputs": [],
   "source": [
    "import pandas as pd\n",
    "import numpy as np\n",
    "import matplotlib.pyplot as plt\n",
    "import datetime"
   ]
  },
  {
   "cell_type": "code",
   "execution_count": 2,
   "metadata": {
    "collapsed": true,
    "deletable": true,
    "editable": true
   },
   "outputs": [],
   "source": [
    "plt.style.use('ggplot')\n",
    "%matplotlib inline"
   ]
  },
  {
   "cell_type": "code",
   "execution_count": 3,
   "metadata": {
    "collapsed": false,
    "deletable": true,
    "editable": true
   },
   "outputs": [
    {
     "name": "stderr",
     "output_type": "stream",
     "text": [
      "C:\\Users\\zfang\\AppData\\Local\\Continuum\\Anaconda3\\lib\\site-packages\\IPython\\core\\interactiveshell.py:2717: DtypeWarning: Columns (7) have mixed types. Specify dtype option on import or set low_memory=False.\n",
      "  interactivity=interactivity, compiler=compiler, result=result)\n"
     ]
    }
   ],
   "source": [
    "df_all = pd.read_csv('DCD_April.csv')"
   ]
  },
  {
   "cell_type": "code",
   "execution_count": 4,
   "metadata": {
    "collapsed": true,
    "deletable": true,
    "editable": true
   },
   "outputs": [],
   "source": [
    "df_all.columns = [col.lower().replace(' ','_') for col in df_all.columns.tolist()]\n",
    "df_all.columns = [col.lower().replace('/timestamp','') for col in df_all.columns.tolist()]"
   ]
  },
  {
   "cell_type": "code",
   "execution_count": 5,
   "metadata": {
    "collapsed": false,
    "deletable": true,
    "editable": true
   },
   "outputs": [],
   "source": [
    "date_col = [col for col in df_all.columns.tolist() if 'date' in col]\n",
    "df_all[date_col] = df_all[date_col].apply(pd.to_datetime,format = \"%m/%d/%Y %H:%M:%S\")"
   ]
  },
  {
   "cell_type": "code",
   "execution_count": 6,
   "metadata": {
    "collapsed": false,
    "deletable": true,
    "editable": true
   },
   "outputs": [
    {
     "data": {
      "text/plain": [
       "(array(['Nexium24hour', 'Centrum', 'Advil', 'Advil PM', 'Preparationh',\n",
       "        'Emergenc', 'default'], dtype=object),\n",
       " array(['nexium24hour-buy.now', 'centrum-coupon.submit', 'sale.advil',\n",
       "        'centrum-email.sign.up', 'sale.advilpm', 'sale.centrum',\n",
       "        'preparationh-coupon.submit', 'preparationh-buy.now', 'sale.nexium',\n",
       "        'preparationh-email.sign.up', 'advil pm-buy.now', 'advil-buy.now',\n",
       "        'emergenc-buy.now', 'centrum-buy.now', 'sale.preparationh',\n",
       "        'emergenc-coupon.submit', 'emergenc-email.sign.up',\n",
       "        'emergenc-add.to.cart', 'sale.emergenc',\n",
       "        'emergenc-freesample.submit', 'advil-coupon.submit',\n",
       "        'advil-email.sign.up', 'nexium24hour-coupon.submit',\n",
       "        'nexium24hour-email.sign.up', 'advil pm-coupon.submit',\n",
       "        'advil pm-email.sign.up', 'nexium24hour-sweepstakes.social.share',\n",
       "        'nexium24hour-sweepstakes.submit', 'emergenc-sale.online'], dtype=object))"
      ]
     },
     "execution_count": 6,
     "metadata": {},
     "output_type": "execute_result"
    }
   ],
   "source": [
    "df_all.event_site_name.unique(),df_all.event_type.unique()"
   ]
  },
  {
   "cell_type": "code",
   "execution_count": 7,
   "metadata": {
    "collapsed": false,
    "deletable": true,
    "editable": true
   },
   "outputs": [
    {
     "name": "stdout",
     "output_type": "stream",
     "text": [
      "<class 'pandas.core.frame.DataFrame'>\n",
      "RangeIndex: 1253319 entries, 0 to 1253318\n",
      "Data columns (total 22 columns):\n",
      "unique_row_id           1253319 non-null object\n",
      "cvo_sid                 1253319 non-null object\n",
      "event_site_id           1253319 non-null int64\n",
      "touchpoint_site_id      1253319 non-null int64\n",
      "event_site_name         1253319 non-null object\n",
      "touchpoint_site_name    1253319 non-null object\n",
      "event_type              1253319 non-null object\n",
      "event_id                1253319 non-null object\n",
      "event_date              1253319 non-null datetime64[ns]\n",
      "touchpoint_date         1253319 non-null datetime64[ns]\n",
      "total_event_value       1253319 non-null float64\n",
      "touchpoint_revenue      1253319 non-null float64\n",
      "conversion              1253319 non-null float64\n",
      "touchpoint_type         1027602 non-null object\n",
      "first_touch_date        1253319 non-null datetime64[ns]\n",
      "last_touch_date         1253319 non-null datetime64[ns]\n",
      "source_1                1253319 non-null object\n",
      "source_2                1253319 non-null object\n",
      "source_3                1253319 non-null object\n",
      "touchpoints_in_path     1253319 non-null int64\n",
      "attribution_sequence    1253319 non-null int64\n",
      "path_position           1253319 non-null object\n",
      "dtypes: datetime64[ns](4), float64(3), int64(4), object(11)\n",
      "memory usage: 210.4+ MB\n"
     ]
    }
   ],
   "source": [
    "df_all.info()"
   ]
  },
  {
   "cell_type": "markdown",
   "metadata": {
    "deletable": true,
    "editable": true
   },
   "source": [
    "## frequency on sales"
   ]
  },
  {
   "cell_type": "markdown",
   "metadata": {
    "deletable": true,
    "editable": true
   },
   "source": [
    "conversion window 30days\n",
    "\n",
    "continous window 14 days\n",
    "\n",
    "max path length 30\n",
    "\n",
    "event sales\n",
    "\n",
    "sourse 1 not base\n"
   ]
  },
  {
   "cell_type": "code",
   "execution_count": 8,
   "metadata": {
    "collapsed": true,
    "deletable": true,
    "editable": true
   },
   "outputs": [],
   "source": [
    "sale_df = df_all[df_all.event_type.str.contains('sale')]"
   ]
  },
  {
   "cell_type": "code",
   "execution_count": 9,
   "metadata": {
    "collapsed": false,
    "deletable": true,
    "editable": true
   },
   "outputs": [],
   "source": [
    "sale_df = sale_df[sale_df.source_1!='base']\n",
    "\n",
    "sale_df['touch_to_last'] = (sale_df.event_date-sale_df.touchpoint_date).dt.days\n",
    "\n",
    "df_sale_convwin = sale_df[sale_df.touch_to_last<30]"
   ]
  },
  {
   "cell_type": "code",
   "execution_count": 10,
   "metadata": {
    "collapsed": false,
    "deletable": true,
    "editable": true
   },
   "outputs": [],
   "source": [
    "df_sale_fre = pd.DataFrame({'count':df_sale_convwin.groupby('event_id')['event_id'].count()}).reset_index()"
   ]
  },
  {
   "cell_type": "code",
   "execution_count": 11,
   "metadata": {
    "collapsed": false,
    "deletable": true,
    "editable": true
   },
   "outputs": [],
   "source": [
    "df_sale_fre_count = df_sale_fre.groupby('count')['count'].count().sort_index()[:30]"
   ]
  },
  {
   "cell_type": "code",
   "execution_count": 12,
   "metadata": {
    "collapsed": false,
    "deletable": true,
    "editable": true
   },
   "outputs": [
    {
     "data": {
      "text/plain": [
       "<matplotlib.axes._subplots.AxesSubplot at 0x21dd5fbdcf8>"
      ]
     },
     "execution_count": 12,
     "metadata": {},
     "output_type": "execute_result"
    },
    {
     "data": {
      "image/png": "[encoded data removed]",
      "text/plain": [
       "<matplotlib.figure.Figure at 0x21dd5fbd3c8>"
      ]
     },
     "metadata": {},
     "output_type": "display_data"
    }
   ],
   "source": [
    "(df_sale_fre_count/df_sale_fre_count.sum()).cumsum()[:15].plot(figsize = (15,10))"
   ]
  },
  {
   "cell_type": "markdown",
   "metadata": {},
   "source": [
    "## Feature Engineering"
   ]
  },
  {
   "cell_type": "code",
   "execution_count": 13,
   "metadata": {
    "collapsed": false
   },
   "outputs": [],
   "source": [
    "df_nobase=df_all[df_all['source_1']!='base']"
   ]
  },
  {
   "cell_type": "code",
   "execution_count": 14,
   "metadata": {
    "collapsed": false
   },
   "outputs": [
    {
     "name": "stdout",
     "output_type": "stream",
     "text": [
      "<class 'pandas.core.frame.DataFrame'>\n",
      "Int64Index: 1027602 entries, 0 to 1253318\n",
      "Data columns (total 22 columns):\n",
      "unique_row_id           1027602 non-null object\n",
      "cvo_sid                 1027602 non-null object\n",
      "event_site_id           1027602 non-null int64\n",
      "touchpoint_site_id      1027602 non-null int64\n",
      "event_site_name         1027602 non-null object\n",
      "touchpoint_site_name    1027602 non-null object\n",
      "event_type              1027602 non-null object\n",
      "event_id                1027602 non-null object\n",
      "event_date              1027602 non-null datetime64[ns]\n",
      "touchpoint_date         1027602 non-null datetime64[ns]\n",
      "total_event_value       1027602 non-null float64\n",
      "touchpoint_revenue      1027602 non-null float64\n",
      "conversion              1027602 non-null float64\n",
      "touchpoint_type         1027602 non-null object\n",
      "first_touch_date        1027602 non-null datetime64[ns]\n",
      "last_touch_date         1027602 non-null datetime64[ns]\n",
      "source_1                1027602 non-null object\n",
      "source_2                1027602 non-null object\n",
      "source_3                1027602 non-null object\n",
      "touchpoints_in_path     1027602 non-null int64\n",
      "attribution_sequence    1027602 non-null int64\n",
      "path_position           1027602 non-null object\n",
      "dtypes: datetime64[ns](4), float64(3), int64(4), object(11)\n",
      "memory usage: 180.3+ MB\n"
     ]
    }
   ],
   "source": [
    "df_nobase.info()"
   ]
  },
  {
   "cell_type": "code",
   "execution_count": 15,
   "metadata": {
    "collapsed": true
   },
   "outputs": [],
   "source": [
    "selected_col=['event_site_name','event_type','conversion','touchpoint_type','source_1','touchpoints_in_path','attribution_sequence','path_position']"
   ]
  },
  {
   "cell_type": "code",
   "execution_count": 16,
   "metadata": {
    "collapsed": true
   },
   "outputs": [],
   "source": [
    "df_col=[x for x in df_nobase.columns.tolist() if x in selected_col]\n",
    "\n",
    "df_col.extend(date_col)"
   ]
  },
  {
   "cell_type": "code",
   "execution_count": 17,
   "metadata": {
    "collapsed": false
   },
   "outputs": [
    {
     "data": {
      "text/plain": [
       "['event_site_name',\n",
       " 'event_type',\n",
       " 'conversion',\n",
       " 'touchpoint_type',\n",
       " 'source_1',\n",
       " 'touchpoints_in_path',\n",
       " 'attribution_sequence',\n",
       " 'path_position',\n",
       " 'event_date',\n",
       " 'touchpoint_date',\n",
       " 'first_touch_date',\n",
       " 'last_touch_date']"
      ]
     },
     "execution_count": 17,
     "metadata": {},
     "output_type": "execute_result"
    }
   ],
   "source": [
    "df_col"
   ]
  },
  {
   "cell_type": "code",
   "execution_count": 18,
   "metadata": {
    "collapsed": false
   },
   "outputs": [],
   "source": [
    "df_model=df_nobase[df_col]"
   ]
  },
  {
   "cell_type": "code",
   "execution_count": 19,
   "metadata": {
    "collapsed": false
   },
   "outputs": [
    {
     "data": {
      "text/html": [
       "<div>\n",
       "<table border=\"1\" class=\"dataframe\">\n",
       "  <thead>\n",
       "    <tr style=\"text-align: right;\">\n",
       "      <th></th>\n",
       "      <th>event_site_name</th>\n",
       "      <th>event_type</th>\n",
       "      <th>conversion</th>\n",
       "      <th>touchpoint_type</th>\n",
       "      <th>source_1</th>\n",
       "      <th>touchpoints_in_path</th>\n",
       "      <th>attribution_sequence</th>\n",
       "      <th>path_position</th>\n",
       "      <th>event_date</th>\n",
       "      <th>touchpoint_date</th>\n",
       "      <th>first_touch_date</th>\n",
       "      <th>last_touch_date</th>\n",
       "    </tr>\n",
       "  </thead>\n",
       "  <tbody>\n",
       "    <tr>\n",
       "      <th>0</th>\n",
       "      <td>Nexium24hour</td>\n",
       "      <td>nexium24hour-buy.now</td>\n",
       "      <td>1.000000</td>\n",
       "      <td>visit</td>\n",
       "      <td>ppc nonbrand</td>\n",
       "      <td>1</td>\n",
       "      <td>1</td>\n",
       "      <td>only</td>\n",
       "      <td>2017-04-07 17:54:58</td>\n",
       "      <td>2017-04-07 17:54:58</td>\n",
       "      <td>2017-04-07 17:54:58</td>\n",
       "      <td>2017-04-07 17:54:58</td>\n",
       "    </tr>\n",
       "    <tr>\n",
       "      <th>2</th>\n",
       "      <td>Centrum</td>\n",
       "      <td>centrum-coupon.submit</td>\n",
       "      <td>0.000047</td>\n",
       "      <td>visit</td>\n",
       "      <td>organic not provided</td>\n",
       "      <td>2</td>\n",
       "      <td>1</td>\n",
       "      <td>introducer</td>\n",
       "      <td>2017-04-21 17:52:51</td>\n",
       "      <td>2017-04-12 12:26:32</td>\n",
       "      <td>2017-04-12 12:26:32</td>\n",
       "      <td>2017-04-21 17:52:51</td>\n",
       "    </tr>\n",
       "    <tr>\n",
       "      <th>3</th>\n",
       "      <td>Centrum</td>\n",
       "      <td>centrum-coupon.submit</td>\n",
       "      <td>0.011891</td>\n",
       "      <td>visit</td>\n",
       "      <td>organic not provided</td>\n",
       "      <td>2</td>\n",
       "      <td>2</td>\n",
       "      <td>closer</td>\n",
       "      <td>2017-04-21 17:52:51</td>\n",
       "      <td>2017-04-21 17:50:56</td>\n",
       "      <td>2017-04-12 12:26:32</td>\n",
       "      <td>2017-04-21 17:52:51</td>\n",
       "    </tr>\n",
       "    <tr>\n",
       "      <th>7</th>\n",
       "      <td>Centrum</td>\n",
       "      <td>centrum-coupon.submit</td>\n",
       "      <td>0.197314</td>\n",
       "      <td>visit</td>\n",
       "      <td>ppc brand</td>\n",
       "      <td>1</td>\n",
       "      <td>1</td>\n",
       "      <td>only</td>\n",
       "      <td>2017-04-30 18:04:52</td>\n",
       "      <td>2017-04-30 18:04:22</td>\n",
       "      <td>2017-04-30 18:04:22</td>\n",
       "      <td>2017-04-30 18:04:52</td>\n",
       "    </tr>\n",
       "    <tr>\n",
       "      <th>8</th>\n",
       "      <td>Centrum</td>\n",
       "      <td>centrum-email.sign.up</td>\n",
       "      <td>1.000000</td>\n",
       "      <td>visit</td>\n",
       "      <td>social network  paid</td>\n",
       "      <td>1</td>\n",
       "      <td>1</td>\n",
       "      <td>only</td>\n",
       "      <td>2017-04-19 14:12:59</td>\n",
       "      <td>2017-04-19 14:12:00</td>\n",
       "      <td>2017-04-19 14:12:00</td>\n",
       "      <td>2017-04-19 14:12:00</td>\n",
       "    </tr>\n",
       "  </tbody>\n",
       "</table>\n",
       "</div>"
      ],
      "text/plain": [
       "  event_site_name             event_type  conversion touchpoint_type  \\\n",
       "0    Nexium24hour   nexium24hour-buy.now    1.000000           visit   \n",
       "2         Centrum  centrum-coupon.submit    0.000047           visit   \n",
       "3         Centrum  centrum-coupon.submit    0.011891           visit   \n",
       "7         Centrum  centrum-coupon.submit    0.197314           visit   \n",
       "8         Centrum  centrum-email.sign.up    1.000000           visit   \n",
       "\n",
       "               source_1  touchpoints_in_path  attribution_sequence  \\\n",
       "0          ppc nonbrand                    1                     1   \n",
       "2  organic not provided                    2                     1   \n",
       "3  organic not provided                    2                     2   \n",
       "7             ppc brand                    1                     1   \n",
       "8  social network  paid                    1                     1   \n",
       "\n",
       "  path_position          event_date     touchpoint_date    first_touch_date  \\\n",
       "0          only 2017-04-07 17:54:58 2017-04-07 17:54:58 2017-04-07 17:54:58   \n",
       "2    introducer 2017-04-21 17:52:51 2017-04-12 12:26:32 2017-04-12 12:26:32   \n",
       "3        closer 2017-04-21 17:52:51 2017-04-21 17:50:56 2017-04-12 12:26:32   \n",
       "7          only 2017-04-30 18:04:52 2017-04-30 18:04:22 2017-04-30 18:04:22   \n",
       "8          only 2017-04-19 14:12:59 2017-04-19 14:12:00 2017-04-19 14:12:00   \n",
       "\n",
       "      last_touch_date  \n",
       "0 2017-04-07 17:54:58  \n",
       "2 2017-04-21 17:52:51  \n",
       "3 2017-04-21 17:52:51  \n",
       "7 2017-04-30 18:04:52  \n",
       "8 2017-04-19 14:12:00  "
      ]
     },
     "execution_count": 19,
     "metadata": {},
     "output_type": "execute_result"
    }
   ],
   "source": [
    "df_model.head()"
   ]
  },
  {
   "cell_type": "code",
   "execution_count": 37,
   "metadata": {
    "collapsed": false
   },
   "outputs": [
    {
     "data": {
      "text/plain": [
       "source_1\n",
       "content                  18998\n",
       "coupon                   11957\n",
       "display                 726649\n",
       "ecrm                       102\n",
       "email                     6028\n",
       "influencer                 311\n",
       "organic brand             1461\n",
       "organic nonbrand           197\n",
       "organic not provided     22413\n",
       "other                    15354\n",
       "pchbrands                   93\n",
       "ppc brand                36791\n",
       "ppc content                  8\n",
       "ppc nonbrand              7640\n",
       "social n etwork paid       536\n",
       "social n etworkpaid          4\n",
       "social network            9324\n",
       "social network  paid       244\n",
       "social network paid       4813\n",
       "text                       215\n",
       "video                   164463\n",
       "zalo                         1\n",
       "Name: source_1, dtype: int64"
      ]
     },
     "execution_count": 37,
     "metadata": {},
     "output_type": "execute_result"
    }
   ],
   "source": [
    "df_model.groupby('source_1').source_1.count()"
   ]
  },
  {
   "cell_type": "code",
   "execution_count": 38,
   "metadata": {
    "collapsed": false
   },
   "outputs": [
    {
     "name": "stderr",
     "output_type": "stream",
     "text": [
      "C:\\Users\\zfang\\AppData\\Local\\Continuum\\Anaconda3\\lib\\site-packages\\pandas\\core\\generic.py:3554: SettingWithCopyWarning: \n",
      "A value is trying to be set on a copy of a slice from a DataFrame\n",
      "\n",
      "See the caveats in the documentation: http://pandas.pydata.org/pandas-docs/stable/indexing.html#indexing-view-versus-copy\n",
      "  self._update_inplace(new_data)\n"
     ]
    }
   ],
   "source": [
    "df_model['source_1'].replace({'social n etwork paid': 'social network paid',\n",
    "                              'social n etworkpaid':'social network paid',\n",
    "                              'social network  paid':'social network paid',\n",
    "                              'pchbrands':'ppc brand'},inplace=True)"
   ]
  },
  {
   "cell_type": "code",
   "execution_count": 39,
   "metadata": {
    "collapsed": false
   },
   "outputs": [
    {
     "data": {
      "text/plain": [
       "source_1\n",
       "content                  18998\n",
       "coupon                   11957\n",
       "display                 726649\n",
       "ecrm                       102\n",
       "email                     6028\n",
       "influencer                 311\n",
       "organic brand             1461\n",
       "organic nonbrand           197\n",
       "organic not provided     22413\n",
       "other                    15354\n",
       "ppc brand                36884\n",
       "ppc content                  8\n",
       "ppc nonbrand              7640\n",
       "social network            9324\n",
       "social network paid       5597\n",
       "text                       215\n",
       "video                   164463\n",
       "zalo                         1\n",
       "Name: source_1, dtype: int64"
      ]
     },
     "execution_count": 39,
     "metadata": {},
     "output_type": "execute_result"
    }
   ],
   "source": [
    "df_model.groupby('source_1').source_1.count()"
   ]
  },
  {
   "cell_type": "code",
   "execution_count": 40,
   "metadata": {
    "collapsed": false
   },
   "outputs": [
    {
     "name": "stderr",
     "output_type": "stream",
     "text": [
      "C:\\Users\\zfang\\AppData\\Local\\Continuum\\Anaconda3\\lib\\site-packages\\ipykernel\\__main__.py:1: SettingWithCopyWarning: \n",
      "A value is trying to be set on a copy of a slice from a DataFrame.\n",
      "Try using .loc[row_indexer,col_indexer] = value instead\n",
      "\n",
      "See the caveats in the documentation: http://pandas.pydata.org/pandas-docs/stable/indexing.html#indexing-view-versus-copy\n",
      "  if __name__ == '__main__':\n"
     ]
    }
   ],
   "source": [
    "df_model['event_to_touchpoint']=(df_model.event_date-df_model.touchpoint_date).dt.total_seconds()"
   ]
  },
  {
   "cell_type": "code",
   "execution_count": 41,
   "metadata": {
    "collapsed": false
   },
   "outputs": [
    {
     "data": {
      "text/plain": [
       "(array([  4.09192000e+05,   1.44245000e+05,   1.00133000e+05,\n",
       "          9.37340000e+04,   8.42980000e+04,   6.28760000e+04,\n",
       "          7.06750000e+04,   5.61630000e+04,   6.01700000e+03,\n",
       "          2.69000000e+02]),\n",
       " array([        0. ,   1311754.9,   2623509.8,   3935264.7,   5247019.6,\n",
       "          6558774.5,   7870529.4,   9182284.3,  10494039.2,  11805794.1,\n",
       "         13117549. ]),\n",
       " <a list of 10 Patch objects>)"
      ]
     },
     "execution_count": 41,
     "metadata": {},
     "output_type": "execute_result"
    },
    {
     "data": {
      "image/png": "[encoded data removed]",
      "text/plain": [
       "<matplotlib.figure.Figure at 0x21dd13db4a8>"
      ]
     },
     "metadata": {},
     "output_type": "display_data"
    }
   ],
   "source": [
    "plt.hist(df_model['event_to_touchpoint'])"
   ]
  },
  {
   "cell_type": "code",
   "execution_count": 42,
   "metadata": {
    "collapsed": false
   },
   "outputs": [
    {
     "name": "stderr",
     "output_type": "stream",
     "text": [
      "C:\\Users\\zfang\\AppData\\Local\\Continuum\\Anaconda3\\lib\\site-packages\\ipykernel\\__main__.py:1: SettingWithCopyWarning: \n",
      "A value is trying to be set on a copy of a slice from a DataFrame.\n",
      "Try using .loc[row_indexer,col_indexer] = value instead\n",
      "\n",
      "See the caveats in the documentation: http://pandas.pydata.org/pandas-docs/stable/indexing.html#indexing-view-versus-copy\n",
      "  if __name__ == '__main__':\n"
     ]
    }
   ],
   "source": [
    "df_model['event_to_touchpoint']=df_model['event_to_touchpoint']+1"
   ]
  },
  {
   "cell_type": "code",
   "execution_count": 43,
   "metadata": {
    "collapsed": false
   },
   "outputs": [
    {
     "name": "stderr",
     "output_type": "stream",
     "text": [
      "C:\\Users\\zfang\\AppData\\Local\\Continuum\\Anaconda3\\lib\\site-packages\\ipykernel\\__main__.py:1: SettingWithCopyWarning: \n",
      "A value is trying to be set on a copy of a slice from a DataFrame.\n",
      "Try using .loc[row_indexer,col_indexer] = value instead\n",
      "\n",
      "See the caveats in the documentation: http://pandas.pydata.org/pandas-docs/stable/indexing.html#indexing-view-versus-copy\n",
      "  if __name__ == '__main__':\n"
     ]
    }
   ],
   "source": [
    "df_model['log_event_to_touchpoint']=np.log(df_model['event_to_touchpoint'])"
   ]
  },
  {
   "cell_type": "code",
   "execution_count": 44,
   "metadata": {
    "collapsed": false
   },
   "outputs": [
    {
     "data": {
      "text/plain": [
       "0     0.000000\n",
       "2    13.588836\n",
       "3     4.753590\n",
       "7     3.433987\n",
       "8     4.094345\n",
       "Name: log_event_to_touchpoint, dtype: float64"
      ]
     },
     "execution_count": 44,
     "metadata": {},
     "output_type": "execute_result"
    }
   ],
   "source": [
    "df_model['log_event_to_touchpoint'].head()"
   ]
  },
  {
   "cell_type": "code",
   "execution_count": 45,
   "metadata": {
    "collapsed": false
   },
   "outputs": [
    {
     "name": "stderr",
     "output_type": "stream",
     "text": [
      "C:\\Users\\zfang\\AppData\\Local\\Continuum\\Anaconda3\\lib\\site-packages\\ipykernel\\__main__.py:1: SettingWithCopyWarning: \n",
      "A value is trying to be set on a copy of a slice from a DataFrame.\n",
      "Try using .loc[row_indexer,col_indexer] = value instead\n",
      "\n",
      "See the caveats in the documentation: http://pandas.pydata.org/pandas-docs/stable/indexing.html#indexing-view-versus-copy\n",
      "  if __name__ == '__main__':\n"
     ]
    }
   ],
   "source": [
    "df_model['day_of_week']=df_model.touchpoint_date.dt.weekday_name"
   ]
  },
  {
   "cell_type": "code",
   "execution_count": 46,
   "metadata": {
    "collapsed": false
   },
   "outputs": [
    {
     "name": "stderr",
     "output_type": "stream",
     "text": [
      "C:\\Users\\zfang\\AppData\\Local\\Continuum\\Anaconda3\\lib\\site-packages\\ipykernel\\__main__.py:1: SettingWithCopyWarning: \n",
      "A value is trying to be set on a copy of a slice from a DataFrame.\n",
      "Try using .loc[row_indexer,col_indexer] = value instead\n",
      "\n",
      "See the caveats in the documentation: http://pandas.pydata.org/pandas-docs/stable/indexing.html#indexing-view-versus-copy\n",
      "  if __name__ == '__main__':\n"
     ]
    }
   ],
   "source": [
    "df_model['month']=df_model.touchpoint_date.dt.month"
   ]
  },
  {
   "cell_type": "code",
   "execution_count": 47,
   "metadata": {
    "collapsed": false
   },
   "outputs": [
    {
     "name": "stderr",
     "output_type": "stream",
     "text": [
      "C:\\Users\\zfang\\AppData\\Local\\Continuum\\Anaconda3\\lib\\site-packages\\ipykernel\\__main__.py:1: SettingWithCopyWarning: \n",
      "A value is trying to be set on a copy of a slice from a DataFrame.\n",
      "Try using .loc[row_indexer,col_indexer] = value instead\n",
      "\n",
      "See the caveats in the documentation: http://pandas.pydata.org/pandas-docs/stable/indexing.html#indexing-view-versus-copy\n",
      "  if __name__ == '__main__':\n"
     ]
    }
   ],
   "source": [
    "df_model['week_of_month']=(df_model.touchpoint_date.dt.day-1)//7+1"
   ]
  },
  {
   "cell_type": "code",
   "execution_count": 48,
   "metadata": {
    "collapsed": false
   },
   "outputs": [
    {
     "name": "stderr",
     "output_type": "stream",
     "text": [
      "C:\\Users\\zfang\\AppData\\Local\\Continuum\\Anaconda3\\lib\\site-packages\\ipykernel\\__main__.py:1: SettingWithCopyWarning: \n",
      "A value is trying to be set on a copy of a slice from a DataFrame\n",
      "\n",
      "See the caveats in the documentation: http://pandas.pydata.org/pandas-docs/stable/indexing.html#indexing-view-versus-copy\n",
      "  if __name__ == '__main__':\n"
     ]
    }
   ],
   "source": [
    "df_model.drop('event_to_touchpoint',inplace=True,axis=1)"
   ]
  },
  {
   "cell_type": "code",
   "execution_count": 49,
   "metadata": {
    "collapsed": false
   },
   "outputs": [
    {
     "name": "stdout",
     "output_type": "stream",
     "text": [
      "<class 'pandas.core.frame.DataFrame'>\n",
      "Int64Index: 1027602 entries, 0 to 1253318\n",
      "Data columns (total 16 columns):\n",
      "event_site_name            1027602 non-null object\n",
      "event_type                 1027602 non-null object\n",
      "conversion                 1027602 non-null float64\n",
      "touchpoint_type            1027602 non-null object\n",
      "source_1                   1027602 non-null object\n",
      "touchpoints_in_path        1027602 non-null int64\n",
      "attribution_sequence       1027602 non-null int64\n",
      "path_position              1027602 non-null object\n",
      "event_date                 1027602 non-null datetime64[ns]\n",
      "touchpoint_date            1027602 non-null datetime64[ns]\n",
      "first_touch_date           1027602 non-null datetime64[ns]\n",
      "last_touch_date            1027602 non-null datetime64[ns]\n",
      "log_event_to_touchpoint    1027602 non-null float64\n",
      "day_of_week                1027602 non-null object\n",
      "month                      1027602 non-null int64\n",
      "week_of_month              1027602 non-null int64\n",
      "dtypes: datetime64[ns](4), float64(2), int64(4), object(6)\n",
      "memory usage: 133.3+ MB\n"
     ]
    }
   ],
   "source": [
    "df_model.info()"
   ]
  },
  {
   "cell_type": "markdown",
   "metadata": {},
   "source": [
    "## Get Dummies"
   ]
  },
  {
   "cell_type": "code",
   "execution_count": 50,
   "metadata": {
    "collapsed": false
   },
   "outputs": [],
   "source": [
    "df_dummies=pd.get_dummies(df_model,columns=['event_site_name','event_type','touchpoint_type','source_1','path_position','day_of_week','month','week_of_month'],\n",
    "                          drop_first=True)"
   ]
  },
  {
   "cell_type": "code",
   "execution_count": 51,
   "metadata": {
    "collapsed": false
   },
   "outputs": [
    {
     "name": "stdout",
     "output_type": "stream",
     "text": [
      "<class 'pandas.core.frame.DataFrame'>\n",
      "Int64Index: 1027602 entries, 0 to 1253318\n",
      "Data columns (total 78 columns):\n",
      "conversion                                          1027602 non-null float64\n",
      "touchpoints_in_path                                 1027602 non-null int64\n",
      "attribution_sequence                                1027602 non-null int64\n",
      "event_date                                          1027602 non-null datetime64[ns]\n",
      "touchpoint_date                                     1027602 non-null datetime64[ns]\n",
      "first_touch_date                                    1027602 non-null datetime64[ns]\n",
      "last_touch_date                                     1027602 non-null datetime64[ns]\n",
      "log_event_to_touchpoint                             1027602 non-null float64\n",
      "event_site_name_Advil PM                            1027602 non-null uint8\n",
      "event_site_name_Centrum                             1027602 non-null uint8\n",
      "event_site_name_Emergenc                            1027602 non-null uint8\n",
      "event_site_name_Nexium24hour                        1027602 non-null uint8\n",
      "event_site_name_Preparationh                        1027602 non-null uint8\n",
      "event_site_name_default                             1027602 non-null uint8\n",
      "event_type_advil pm-coupon.submit                   1027602 non-null uint8\n",
      "event_type_advil pm-email.sign.up                   1027602 non-null uint8\n",
      "event_type_advil-buy.now                            1027602 non-null uint8\n",
      "event_type_advil-coupon.submit                      1027602 non-null uint8\n",
      "event_type_advil-email.sign.up                      1027602 non-null uint8\n",
      "event_type_centrum-buy.now                          1027602 non-null uint8\n",
      "event_type_centrum-coupon.submit                    1027602 non-null uint8\n",
      "event_type_centrum-email.sign.up                    1027602 non-null uint8\n",
      "event_type_emergenc-add.to.cart                     1027602 non-null uint8\n",
      "event_type_emergenc-buy.now                         1027602 non-null uint8\n",
      "event_type_emergenc-coupon.submit                   1027602 non-null uint8\n",
      "event_type_emergenc-email.sign.up                   1027602 non-null uint8\n",
      "event_type_emergenc-freesample.submit               1027602 non-null uint8\n",
      "event_type_emergenc-sale.online                     1027602 non-null uint8\n",
      "event_type_nexium24hour-buy.now                     1027602 non-null uint8\n",
      "event_type_nexium24hour-coupon.submit               1027602 non-null uint8\n",
      "event_type_nexium24hour-email.sign.up               1027602 non-null uint8\n",
      "event_type_nexium24hour-sweepstakes.social.share    1027602 non-null uint8\n",
      "event_type_nexium24hour-sweepstakes.submit          1027602 non-null uint8\n",
      "event_type_preparationh-buy.now                     1027602 non-null uint8\n",
      "event_type_preparationh-coupon.submit               1027602 non-null uint8\n",
      "event_type_preparationh-email.sign.up               1027602 non-null uint8\n",
      "event_type_sale.advil                               1027602 non-null uint8\n",
      "event_type_sale.advilpm                             1027602 non-null uint8\n",
      "event_type_sale.centrum                             1027602 non-null uint8\n",
      "event_type_sale.emergenc                            1027602 non-null uint8\n",
      "event_type_sale.nexium                              1027602 non-null uint8\n",
      "event_type_sale.preparationh                        1027602 non-null uint8\n",
      "touchpoint_type_visit                               1027602 non-null uint8\n",
      "source_1_coupon                                     1027602 non-null uint8\n",
      "source_1_display                                    1027602 non-null uint8\n",
      "source_1_ecrm                                       1027602 non-null uint8\n",
      "source_1_email                                      1027602 non-null uint8\n",
      "source_1_influencer                                 1027602 non-null uint8\n",
      "source_1_organic brand                              1027602 non-null uint8\n",
      "source_1_organic nonbrand                           1027602 non-null uint8\n",
      "source_1_organic not provided                       1027602 non-null uint8\n",
      "source_1_other                                      1027602 non-null uint8\n",
      "source_1_ppc brand                                  1027602 non-null uint8\n",
      "source_1_ppc content                                1027602 non-null uint8\n",
      "source_1_ppc nonbrand                               1027602 non-null uint8\n",
      "source_1_social network                             1027602 non-null uint8\n",
      "source_1_social network paid                        1027602 non-null uint8\n",
      "source_1_text                                       1027602 non-null uint8\n",
      "source_1_video                                      1027602 non-null uint8\n",
      "source_1_zalo                                       1027602 non-null uint8\n",
      "path_position_influencer                            1027602 non-null uint8\n",
      "path_position_introducer                            1027602 non-null uint8\n",
      "path_position_only                                  1027602 non-null uint8\n",
      "day_of_week_Monday                                  1027602 non-null uint8\n",
      "day_of_week_Saturday                                1027602 non-null uint8\n",
      "day_of_week_Sunday                                  1027602 non-null uint8\n",
      "day_of_week_Thursday                                1027602 non-null uint8\n",
      "day_of_week_Tuesday                                 1027602 non-null uint8\n",
      "day_of_week_Wednesday                               1027602 non-null uint8\n",
      "month_2                                             1027602 non-null uint8\n",
      "month_3                                             1027602 non-null uint8\n",
      "month_4                                             1027602 non-null uint8\n",
      "month_11                                            1027602 non-null uint8\n",
      "month_12                                            1027602 non-null uint8\n",
      "week_of_month_2                                     1027602 non-null uint8\n",
      "week_of_month_3                                     1027602 non-null uint8\n",
      "week_of_month_4                                     1027602 non-null uint8\n",
      "week_of_month_5                                     1027602 non-null uint8\n",
      "dtypes: datetime64[ns](4), float64(2), int64(2), uint8(70)\n",
      "memory usage: 139.2 MB\n"
     ]
    }
   ],
   "source": [
    "df_dummies.info()"
   ]
  },
  {
   "cell_type": "markdown",
   "metadata": {},
   "source": [
    "## Model Creation "
   ]
  },
  {
   "cell_type": "code",
   "execution_count": 52,
   "metadata": {
    "collapsed": true
   },
   "outputs": [],
   "source": [
    "import os"
   ]
  },
  {
   "cell_type": "code",
   "execution_count": 53,
   "metadata": {
    "collapsed": true
   },
   "outputs": [],
   "source": [
    "#environment for xgboost\n",
    "mingw_path = 'C:\\\\Program Files\\\\mingw-w64\\\\x86_64-7.1.0-posix-seh-rt_v5-rev0\\\\mingw64\\\\bin'\n",
    "\n",
    "os.environ['PATH'] = mingw_path + ';' + os.environ['PATH']\n"
   ]
  },
  {
   "cell_type": "code",
   "execution_count": 98,
   "metadata": {
    "collapsed": true
   },
   "outputs": [],
   "source": [
    "from xgboost import XGBRegressor"
   ]
  },
  {
   "cell_type": "code",
   "execution_count": 55,
   "metadata": {
    "collapsed": false
   },
   "outputs": [],
   "source": [
    "from sklearn.linear_model import LinearRegression\n",
    "from sklearn.linear_model import Lasso\n",
    "from sklearn.linear_model import ElasticNet\n",
    "from sklearn.linear_model import (Ridge, TheilSenRegressor, RANSACRegressor, HuberRegressor)\n",
    "\n",
    "from sklearn.ensemble import (RandomForestRegressor, ExtraTreesRegressor, BaggingRegressor,\n",
    "                              AdaBoostRegressor, GradientBoostingRegressor)\n",
    "from sklearn.neighbors import (KNeighborsRegressor)\n",
    "from sklearn.tree import DecisionTreeRegressor \n",
    "import xgboost as xgb"
   ]
  },
  {
   "cell_type": "markdown",
   "metadata": {},
   "source": [
    "### Ridge "
   ]
  },
  {
   "cell_type": "code",
   "execution_count": 56,
   "metadata": {
    "collapsed": false
   },
   "outputs": [],
   "source": [
    "#drop column with date\n",
    "df_dummies=df_dummies.drop(df_dummies[date_col],axis=1)"
   ]
  },
  {
   "cell_type": "code",
   "execution_count": 57,
   "metadata": {
    "collapsed": false
   },
   "outputs": [],
   "source": [
    "target = df_dummies.conversion\n",
    "df_dummies.drop('conversion',axis=1,inplace=True)"
   ]
  },
  {
   "cell_type": "code",
   "execution_count": 58,
   "metadata": {
    "collapsed": false
   },
   "outputs": [
    {
     "name": "stderr",
     "output_type": "stream",
     "text": [
      "C:\\Users\\zfang\\AppData\\Local\\Continuum\\Anaconda3\\lib\\site-packages\\sklearn\\cross_validation.py:44: DeprecationWarning: This module was deprecated in version 0.18 in favor of the model_selection module into which all the refactored classes and functions are moved. Also note that the interface of the new CV iterators are different from that of this module. This module will be removed in 0.20.\n",
      "  \"This module will be removed in 0.20.\", DeprecationWarning)\n"
     ]
    }
   ],
   "source": [
    "from sklearn.cross_validation import train_test_split"
   ]
  },
  {
   "cell_type": "code",
   "execution_count": 59,
   "metadata": {
    "collapsed": true
   },
   "outputs": [],
   "source": [
    "df_train,df_test,target_train,target_test = train_test_split(df_dummies,target,test_size=0.2)"
   ]
  },
  {
   "cell_type": "code",
   "execution_count": 60,
   "metadata": {
    "collapsed": true
   },
   "outputs": [],
   "source": [
    "from sklearn import metrics"
   ]
  },
  {
   "cell_type": "code",
   "execution_count": 61,
   "metadata": {
    "collapsed": false
   },
   "outputs": [],
   "source": [
    "from sklearn.linear_model import Ridge,Lasso\n",
    "alg=Ridge(alpha=0.05,normalize=True)"
   ]
  },
  {
   "cell_type": "code",
   "execution_count": 62,
   "metadata": {
    "collapsed": false
   },
   "outputs": [
    {
     "data": {
      "text/plain": [
       "Ridge(alpha=0.05, copy_X=True, fit_intercept=True, max_iter=None,\n",
       "   normalize=True, random_state=None, solver='auto', tol=0.001)"
      ]
     },
     "execution_count": 62,
     "metadata": {},
     "output_type": "execute_result"
    }
   ],
   "source": [
    "alg.fit(df_train,target_train)"
   ]
  },
  {
   "cell_type": "code",
   "execution_count": 63,
   "metadata": {
    "collapsed": false
   },
   "outputs": [
    {
     "data": {
      "text/plain": [
       "0.011560833776528071"
      ]
     },
     "execution_count": 63,
     "metadata": {},
     "output_type": "execute_result"
    }
   ],
   "source": [
    "metrics.mean_squared_error(target_test,alg.predict(df_test))"
   ]
  },
  {
   "cell_type": "code",
   "execution_count": 64,
   "metadata": {
    "collapsed": false
   },
   "outputs": [],
   "source": [
    "predict = alg.predict(df_test)"
   ]
  },
  {
   "cell_type": "code",
   "execution_count": 65,
   "metadata": {
    "collapsed": false
   },
   "outputs": [
    {
     "data": {
      "text/plain": [
       "array([-0.00633304, -0.00399121, -0.00131714, ..., -0.00898369,\n",
       "       -0.00897612, -0.00651716])"
      ]
     },
     "execution_count": 65,
     "metadata": {},
     "output_type": "execute_result"
    }
   ],
   "source": [
    "predict"
   ]
  },
  {
   "cell_type": "code",
   "execution_count": 66,
   "metadata": {
    "collapsed": false
   },
   "outputs": [],
   "source": [
    "df_test.reset_index(drop=True, inplace=True)"
   ]
  },
  {
   "cell_type": "code",
   "execution_count": 67,
   "metadata": {
    "collapsed": false
   },
   "outputs": [
    {
     "data": {
      "text/html": [
       "<div>\n",
       "<table border=\"1\" class=\"dataframe\">\n",
       "  <thead>\n",
       "    <tr style=\"text-align: right;\">\n",
       "      <th></th>\n",
       "      <th>0</th>\n",
       "      <th>1</th>\n",
       "    </tr>\n",
       "  </thead>\n",
       "  <tbody>\n",
       "    <tr>\n",
       "      <th>0</th>\n",
       "      <td>0.000110</td>\n",
       "      <td>-0.006333</td>\n",
       "    </tr>\n",
       "    <tr>\n",
       "      <th>1</th>\n",
       "      <td>0.001278</td>\n",
       "      <td>-0.003991</td>\n",
       "    </tr>\n",
       "    <tr>\n",
       "      <th>2</th>\n",
       "      <td>0.000001</td>\n",
       "      <td>-0.001317</td>\n",
       "    </tr>\n",
       "    <tr>\n",
       "      <th>3</th>\n",
       "      <td>0.053701</td>\n",
       "      <td>-0.000326</td>\n",
       "    </tr>\n",
       "    <tr>\n",
       "      <th>4</th>\n",
       "      <td>0.000003</td>\n",
       "      <td>0.004099</td>\n",
       "    </tr>\n",
       "  </tbody>\n",
       "</table>\n",
       "</div>"
      ],
      "text/plain": [
       "          0         1\n",
       "0  0.000110 -0.006333\n",
       "1  0.001278 -0.003991\n",
       "2  0.000001 -0.001317\n",
       "3  0.053701 -0.000326\n",
       "4  0.000003  0.004099"
      ]
     },
     "execution_count": 67,
     "metadata": {},
     "output_type": "execute_result"
    }
   ],
   "source": [
    "pd.DataFrame([target_test.values,predict]).T.head()"
   ]
  },
  {
   "cell_type": "code",
   "execution_count": 68,
   "metadata": {
    "collapsed": false
   },
   "outputs": [],
   "source": [
    "from sklearn.cross_validation import KFold,cross_val_score,train_test_split"
   ]
  },
  {
   "cell_type": "code",
   "execution_count": 69,
   "metadata": {
    "collapsed": false
   },
   "outputs": [],
   "source": [
    "kf=KFold(len(df_dummies),n_folds=10,\n",
    "         shuffle=True,random_state=0)\n"
   ]
  },
  {
   "cell_type": "code",
   "execution_count": 70,
   "metadata": {
    "collapsed": false
   },
   "outputs": [
    {
     "name": "stdout",
     "output_type": "stream",
     "text": [
      "-0.0115761624188\n"
     ]
    }
   ],
   "source": [
    "print (cross_val_score(alg,df_dummies,target,\n",
    "               cv=kf,scoring='neg_mean_squared_error').mean())"
   ]
  },
  {
   "cell_type": "markdown",
   "metadata": {},
   "source": [
    "### Random Forest "
   ]
  },
  {
   "cell_type": "code",
   "execution_count": 71,
   "metadata": {
    "collapsed": true
   },
   "outputs": [],
   "source": [
    "from sklearn.ensemble import RandomForestRegressor"
   ]
  },
  {
   "cell_type": "code",
   "execution_count": 72,
   "metadata": {
    "collapsed": true
   },
   "outputs": [],
   "source": [
    "rf=RandomForestRegressor(n_estimators=52,max_depth=None,n_jobs=-1)"
   ]
  },
  {
   "cell_type": "code",
   "execution_count": 73,
   "metadata": {
    "collapsed": false
   },
   "outputs": [
    {
     "data": {
      "text/plain": [
       "RandomForestRegressor(bootstrap=True, criterion='mse', max_depth=None,\n",
       "           max_features='auto', max_leaf_nodes=None,\n",
       "           min_impurity_split=1e-07, min_samples_leaf=1,\n",
       "           min_samples_split=2, min_weight_fraction_leaf=0.0,\n",
       "           n_estimators=52, n_jobs=-1, oob_score=False, random_state=None,\n",
       "           verbose=0, warm_start=False)"
      ]
     },
     "execution_count": 73,
     "metadata": {},
     "output_type": "execute_result"
    }
   ],
   "source": [
    "rf.fit(df_train,target_train)"
   ]
  },
  {
   "cell_type": "code",
   "execution_count": 74,
   "metadata": {
    "collapsed": true
   },
   "outputs": [],
   "source": [
    "predict1=rf.predict(df_test)"
   ]
  },
  {
   "cell_type": "code",
   "execution_count": 75,
   "metadata": {
    "collapsed": false
   },
   "outputs": [
    {
     "data": {
      "text/plain": [
       "0.0086459644691454039"
      ]
     },
     "execution_count": 75,
     "metadata": {},
     "output_type": "execute_result"
    }
   ],
   "source": [
    "metrics.mean_squared_error(target_test,predict1)"
   ]
  },
  {
   "cell_type": "code",
   "execution_count": 76,
   "metadata": {
    "collapsed": false
   },
   "outputs": [
    {
     "data": {
      "text/html": [
       "<div>\n",
       "<table border=\"1\" class=\"dataframe\">\n",
       "  <thead>\n",
       "    <tr style=\"text-align: right;\">\n",
       "      <th></th>\n",
       "      <th>0</th>\n",
       "      <th>1</th>\n",
       "      <th>2</th>\n",
       "      <th>3</th>\n",
       "      <th>4</th>\n",
       "      <th>5</th>\n",
       "      <th>6</th>\n",
       "      <th>7</th>\n",
       "      <th>8</th>\n",
       "      <th>9</th>\n",
       "      <th>...</th>\n",
       "      <th>205511</th>\n",
       "      <th>205512</th>\n",
       "      <th>205513</th>\n",
       "      <th>205514</th>\n",
       "      <th>205515</th>\n",
       "      <th>205516</th>\n",
       "      <th>205517</th>\n",
       "      <th>205518</th>\n",
       "      <th>205519</th>\n",
       "      <th>205520</th>\n",
       "    </tr>\n",
       "  </thead>\n",
       "  <tbody>\n",
       "    <tr>\n",
       "      <th>0</th>\n",
       "      <td>0.000110</td>\n",
       "      <td>0.001278</td>\n",
       "      <td>0.000001</td>\n",
       "      <td>0.053701</td>\n",
       "      <td>0.000003</td>\n",
       "      <td>0.000001</td>\n",
       "      <td>0.003042</td>\n",
       "      <td>0.048383</td>\n",
       "      <td>0.002340</td>\n",
       "      <td>0.000088</td>\n",
       "      <td>...</td>\n",
       "      <td>0.001574</td>\n",
       "      <td>0.000000</td>\n",
       "      <td>0.164261</td>\n",
       "      <td>0.000014</td>\n",
       "      <td>0.000001</td>\n",
       "      <td>0.000535</td>\n",
       "      <td>0.000001</td>\n",
       "      <td>0.000904</td>\n",
       "      <td>0.009321</td>\n",
       "      <td>0.002339</td>\n",
       "    </tr>\n",
       "    <tr>\n",
       "      <th>1</th>\n",
       "      <td>0.000038</td>\n",
       "      <td>0.002901</td>\n",
       "      <td>0.000148</td>\n",
       "      <td>0.039957</td>\n",
       "      <td>0.000970</td>\n",
       "      <td>0.010250</td>\n",
       "      <td>0.004214</td>\n",
       "      <td>0.006582</td>\n",
       "      <td>0.001387</td>\n",
       "      <td>0.000215</td>\n",
       "      <td>...</td>\n",
       "      <td>0.007166</td>\n",
       "      <td>0.022643</td>\n",
       "      <td>0.100202</td>\n",
       "      <td>0.001168</td>\n",
       "      <td>0.001258</td>\n",
       "      <td>0.003061</td>\n",
       "      <td>0.000524</td>\n",
       "      <td>0.000893</td>\n",
       "      <td>0.003931</td>\n",
       "      <td>0.001757</td>\n",
       "    </tr>\n",
       "  </tbody>\n",
       "</table>\n",
       "<p>2 rows × 205521 columns</p>\n",
       "</div>"
      ],
      "text/plain": [
       "     0         1         2         3         4         5         6       \\\n",
       "0  0.000110  0.001278  0.000001  0.053701  0.000003  0.000001  0.003042   \n",
       "1  0.000038  0.002901  0.000148  0.039957  0.000970  0.010250  0.004214   \n",
       "\n",
       "     7         8         9         ...       205511    205512    205513  \\\n",
       "0  0.048383  0.002340  0.000088    ...     0.001574  0.000000  0.164261   \n",
       "1  0.006582  0.001387  0.000215    ...     0.007166  0.022643  0.100202   \n",
       "\n",
       "     205514    205515    205516    205517    205518    205519    205520  \n",
       "0  0.000014  0.000001  0.000535  0.000001  0.000904  0.009321  0.002339  \n",
       "1  0.001168  0.001258  0.003061  0.000524  0.000893  0.003931  0.001757  \n",
       "\n",
       "[2 rows x 205521 columns]"
      ]
     },
     "execution_count": 76,
     "metadata": {},
     "output_type": "execute_result"
    }
   ],
   "source": [
    "pd.DataFrame([target_test.values,predict1])"
   ]
  },
  {
   "cell_type": "markdown",
   "metadata": {},
   "source": [
    "* Get the best Random Forest"
   ]
  },
  {
   "cell_type": "code",
   "execution_count": 77,
   "metadata": {
    "collapsed": false
   },
   "outputs": [],
   "source": [
    "#n_trees=range(50,55)\n",
    "#n_scores= []\n",
    "#for n in n_trees:\n",
    "#    rf=RandomForestRegressor(n_estimators=n,max_depth=10)\n",
    "#    rf.fit(df_train,target_train)\n",
    "#    score=metrics.mean_squared_error(target_test,rf.predict(df_test))\n",
    "#    n_scores.append(score)"
   ]
  },
  {
   "cell_type": "code",
   "execution_count": 78,
   "metadata": {
    "collapsed": false
   },
   "outputs": [],
   "source": [
    "#plt.plot(n_trees,n_scores)\n",
    "#plt.xlabel('Value of Trees for Random Forest')\n",
    "#plt.ylabel('Random Forest Mean Squared Error')"
   ]
  },
  {
   "cell_type": "code",
   "execution_count": 79,
   "metadata": {
    "collapsed": false
   },
   "outputs": [],
   "source": [
    "#scores=cross_val_score(rf,df_dummies,target,cv=2,scoring='neg_mean_squared_error')"
   ]
  },
  {
   "cell_type": "code",
   "execution_count": 80,
   "metadata": {
    "collapsed": false
   },
   "outputs": [],
   "source": [
    "#scores"
   ]
  },
  {
   "cell_type": "code",
   "execution_count": 81,
   "metadata": {
    "collapsed": false
   },
   "outputs": [
    {
     "data": {
      "text/plain": [
       "0.65102295303443236"
      ]
     },
     "execution_count": 81,
     "metadata": {},
     "output_type": "execute_result"
    }
   ],
   "source": [
    "rf.score(df_test,target_test)"
   ]
  },
  {
   "cell_type": "markdown",
   "metadata": {},
   "source": [
    "### Decision Tree "
   ]
  },
  {
   "cell_type": "code",
   "execution_count": 82,
   "metadata": {
    "collapsed": true
   },
   "outputs": [],
   "source": [
    "from sklearn.tree import DecisionTreeRegressor"
   ]
  },
  {
   "cell_type": "code",
   "execution_count": 83,
   "metadata": {
    "collapsed": true
   },
   "outputs": [],
   "source": [
    "dt=DecisionTreeRegressor(max_depth=40)"
   ]
  },
  {
   "cell_type": "code",
   "execution_count": 84,
   "metadata": {
    "collapsed": false
   },
   "outputs": [
    {
     "data": {
      "text/plain": [
       "DecisionTreeRegressor(criterion='mse', max_depth=40, max_features=None,\n",
       "           max_leaf_nodes=None, min_impurity_split=1e-07,\n",
       "           min_samples_leaf=1, min_samples_split=2,\n",
       "           min_weight_fraction_leaf=0.0, presort=False, random_state=None,\n",
       "           splitter='best')"
      ]
     },
     "execution_count": 84,
     "metadata": {},
     "output_type": "execute_result"
    }
   ],
   "source": [
    "dt.fit(df_train,target_train)"
   ]
  },
  {
   "cell_type": "code",
   "execution_count": 85,
   "metadata": {
    "collapsed": true
   },
   "outputs": [],
   "source": [
    "predict2 = dt.predict(df_test)"
   ]
  },
  {
   "cell_type": "code",
   "execution_count": 86,
   "metadata": {
    "collapsed": false
   },
   "outputs": [
    {
     "data": {
      "text/plain": [
       "0.013819363590343107"
      ]
     },
     "execution_count": 86,
     "metadata": {},
     "output_type": "execute_result"
    }
   ],
   "source": [
    "metrics.mean_squared_error(target_test,predict2)"
   ]
  },
  {
   "cell_type": "code",
   "execution_count": 87,
   "metadata": {
    "collapsed": false
   },
   "outputs": [
    {
     "data": {
      "text/plain": [
       "0.44220905441933783"
      ]
     },
     "execution_count": 87,
     "metadata": {},
     "output_type": "execute_result"
    }
   ],
   "source": [
    "dt.score(df_test,target_test)"
   ]
  },
  {
   "cell_type": "markdown",
   "metadata": {},
   "source": [
    "### Elastic Net"
   ]
  },
  {
   "cell_type": "code",
   "execution_count": 88,
   "metadata": {
    "collapsed": true
   },
   "outputs": [],
   "source": [
    "elastic=ElasticNet(alpha=0.1,l1_ratio=0.1)"
   ]
  },
  {
   "cell_type": "code",
   "execution_count": 89,
   "metadata": {
    "collapsed": false
   },
   "outputs": [
    {
     "data": {
      "text/plain": [
       "ElasticNet(alpha=0.1, copy_X=True, fit_intercept=True, l1_ratio=0.1,\n",
       "      max_iter=1000, normalize=False, positive=False, precompute=False,\n",
       "      random_state=None, selection='cyclic', tol=0.0001, warm_start=False)"
      ]
     },
     "execution_count": 89,
     "metadata": {},
     "output_type": "execute_result"
    }
   ],
   "source": [
    "elastic.fit(df_train,target_train)"
   ]
  },
  {
   "cell_type": "code",
   "execution_count": 90,
   "metadata": {
    "collapsed": true
   },
   "outputs": [],
   "source": [
    "predict2 = elastic.predict(df_test)"
   ]
  },
  {
   "cell_type": "code",
   "execution_count": 91,
   "metadata": {
    "collapsed": false
   },
   "outputs": [
    {
     "data": {
      "text/plain": [
       "0.016174085188107604"
      ]
     },
     "execution_count": 91,
     "metadata": {},
     "output_type": "execute_result"
    }
   ],
   "source": [
    "metrics.mean_squared_error(target_test,predict2)"
   ]
  },
  {
   "cell_type": "code",
   "execution_count": 92,
   "metadata": {
    "collapsed": false
   },
   "outputs": [
    {
     "data": {
      "text/plain": [
       "0.34716543117216525"
      ]
     },
     "execution_count": 92,
     "metadata": {},
     "output_type": "execute_result"
    }
   ],
   "source": [
    "elastic.score(df_test,target_test)"
   ]
  },
  {
   "cell_type": "markdown",
   "metadata": {},
   "source": [
    "### GBR"
   ]
  },
  {
   "cell_type": "code",
   "execution_count": 93,
   "metadata": {
    "collapsed": true
   },
   "outputs": [],
   "source": [
    "gbr=GradientBoostingRegressor(n_estimators=52,learning_rate=0.1,max_depth=5,subsample=0.8)"
   ]
  },
  {
   "cell_type": "code",
   "execution_count": 94,
   "metadata": {
    "collapsed": false
   },
   "outputs": [
    {
     "data": {
      "text/plain": [
       "GradientBoostingRegressor(alpha=0.9, criterion='friedman_mse', init=None,\n",
       "             learning_rate=0.1, loss='ls', max_depth=5, max_features=None,\n",
       "             max_leaf_nodes=None, min_impurity_split=1e-07,\n",
       "             min_samples_leaf=1, min_samples_split=2,\n",
       "             min_weight_fraction_leaf=0.0, n_estimators=52, presort='auto',\n",
       "             random_state=None, subsample=0.8, verbose=0, warm_start=False)"
      ]
     },
     "execution_count": 94,
     "metadata": {},
     "output_type": "execute_result"
    }
   ],
   "source": [
    "gbr.fit(df_train,target_train)"
   ]
  },
  {
   "cell_type": "code",
   "execution_count": 95,
   "metadata": {
    "collapsed": true
   },
   "outputs": [],
   "source": [
    "predict3=gbr.predict(df_test)"
   ]
  },
  {
   "cell_type": "code",
   "execution_count": 96,
   "metadata": {
    "collapsed": false
   },
   "outputs": [
    {
     "data": {
      "text/plain": [
       "0.0091534109783051217"
      ]
     },
     "execution_count": 96,
     "metadata": {},
     "output_type": "execute_result"
    }
   ],
   "source": [
    "metrics.mean_squared_error(target_test,predict3)"
   ]
  },
  {
   "cell_type": "code",
   "execution_count": 97,
   "metadata": {
    "collapsed": false
   },
   "outputs": [
    {
     "data": {
      "text/plain": [
       "0.63054089057725826"
      ]
     },
     "execution_count": 97,
     "metadata": {},
     "output_type": "execute_result"
    }
   ],
   "source": [
    "gbr.score(df_test,target_test)"
   ]
  },
  {
   "cell_type": "markdown",
   "metadata": {},
   "source": [
    "### XGBoost "
   ]
  },
  {
   "cell_type": "code",
   "execution_count": 99,
   "metadata": {
    "collapsed": true
   },
   "outputs": [],
   "source": [
    "xgboost=XGBRegressor()"
   ]
  },
  {
   "cell_type": "code",
   "execution_count": 100,
   "metadata": {
    "collapsed": false
   },
   "outputs": [
    {
     "data": {
      "text/plain": [
       "XGBRegressor(base_score=0.5, booster='gbtree', colsample_bylevel=1,\n",
       "       colsample_bytree=1, gamma=0, learning_rate=0.1, max_delta_step=0,\n",
       "       max_depth=3, min_child_weight=1, missing=None, n_estimators=100,\n",
       "       n_jobs=1, nthread=1, objective='reg:linear', random_state=0,\n",
       "       reg_alpha=0, reg_lambda=1, scale_pos_weight=1, seed=0, silent=True,\n",
       "       subsample=1)"
      ]
     },
     "execution_count": 100,
     "metadata": {},
     "output_type": "execute_result"
    }
   ],
   "source": [
    "xgboost.fit(df_train,target_train)"
   ]
  },
  {
   "cell_type": "code",
   "execution_count": 101,
   "metadata": {
    "collapsed": true
   },
   "outputs": [],
   "source": [
    "predict4=xgboost.predict(df_test)"
   ]
  },
  {
   "cell_type": "code",
   "execution_count": 103,
   "metadata": {
    "collapsed": false
   },
   "outputs": [
    {
     "data": {
      "text/plain": [
       "0.0095035068452969315"
      ]
     },
     "execution_count": 103,
     "metadata": {},
     "output_type": "execute_result"
    }
   ],
   "source": [
    "metrics.mean_squared_error(target_test,predict4)"
   ]
  },
  {
   "cell_type": "code",
   "execution_count": 104,
   "metadata": {
    "collapsed": false
   },
   "outputs": [
    {
     "data": {
      "text/plain": [
       "0.61640997178229262"
      ]
     },
     "execution_count": 104,
     "metadata": {},
     "output_type": "execute_result"
    }
   ],
   "source": [
    "xgboost.score(df_test,target_test)"
   ]
  },
  {
   "cell_type": "code",
   "execution_count": null,
   "metadata": {
    "collapsed": true
   },
   "outputs": [],
   "source": []
  }
 ],
 "metadata": {
  "anaconda-cloud": {},
  "kernelspec": {
   "display_name": "Python [default]",
   "language": "python",
   "name": "python3"
  },
  "language_info": {
   "codemirror_mode": {
    "name": "ipython",
    "version": 3
   },
   "file_extension": ".py",
   "mimetype": "text/x-python",
   "name": "python",
   "nbconvert_exporter": "python",
   "pygments_lexer": "ipython3",
   "version": "3.5.2"
  }
 },
 "nbformat": 4,
 "nbformat_minor": 2
}
