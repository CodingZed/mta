{
 "cells": [
  {
   "cell_type": "markdown",
   "metadata": {
    "deletable": true,
    "editable": true
   },
   "source": [
    "## Import dataset "
   ]
  },
  {
   "cell_type": "code",
   "execution_count": 29,
   "metadata": {
    "collapsed": true,
    "deletable": true,
    "editable": true
   },
   "outputs": [],
   "source": [
    "import pandas as pd\n",
    "import numpy as np\n",
    "import matplotlib.pyplot as plt\n",
    "import datetime"
   ]
  },
  {
   "cell_type": "code",
   "execution_count": 2,
   "metadata": {
    "collapsed": true,
    "deletable": true,
    "editable": true
   },
   "outputs": [],
   "source": [
    "plt.style.use('ggplot')\n",
    "%matplotlib inline"
   ]
  },
  {
   "cell_type": "code",
   "execution_count": 3,
   "metadata": {
    "collapsed": false,
    "deletable": true,
    "editable": true
   },
   "outputs": [
    {
     "name": "stderr",
     "output_type": "stream",
     "text": [
      "/home/william/.local/lib/python3.5/site-packages/IPython/core/interactiveshell.py:2717: DtypeWarning: Columns (7) have mixed types. Specify dtype option on import or set low_memory=False.\n",
      "  interactivity=interactivity, compiler=compiler, result=result)\n"
     ]
    }
   ],
   "source": [
    "df_all = pd.read_csv('data/april_report.csv')"
   ]
  },
  {
   "cell_type": "code",
   "execution_count": 5,
   "metadata": {
    "collapsed": true,
    "deletable": true,
    "editable": true
   },
   "outputs": [],
   "source": [
    "df_all.columns = [col.lower().replace(' ','_') for col in df_all.columns.tolist()]\n",
    "df_all.columns = [col.lower().replace('/timestamp','') for col in df_all.columns.tolist()]"
   ]
  },
  {
   "cell_type": "code",
   "execution_count": 45,
   "metadata": {
    "collapsed": false,
    "deletable": true,
    "editable": true
   },
   "outputs": [],
   "source": [
    "date_col = [col for col in df_all.columns.tolist() if 'date' in col]\n",
    "df_all[date_col] = df_all[date_col].apply(pd.to_datetime,format = \"%m/%d/%Y %H:%M:%S\")"
   ]
  },
  {
   "cell_type": "code",
   "execution_count": 6,
   "metadata": {
    "collapsed": false,
    "deletable": true,
    "editable": true
   },
   "outputs": [
    {
     "data": {
      "text/plain": [
       "(array(['Nexium24hour', 'Centrum', 'Advil', 'Advil PM', 'Preparationh',\n",
       "        'Emergenc', 'default'], dtype=object),\n",
       " array(['nexium24hour-buy.now', 'centrum-coupon.submit', 'sale.advil',\n",
       "        'centrum-email.sign.up', 'sale.advilpm', 'sale.centrum',\n",
       "        'preparationh-coupon.submit', 'preparationh-buy.now', 'sale.nexium',\n",
       "        'preparationh-email.sign.up', 'advil pm-buy.now', 'advil-buy.now',\n",
       "        'emergenc-buy.now', 'centrum-buy.now', 'sale.preparationh',\n",
       "        'emergenc-coupon.submit', 'emergenc-email.sign.up',\n",
       "        'emergenc-add.to.cart', 'sale.emergenc',\n",
       "        'emergenc-freesample.submit', 'advil-coupon.submit',\n",
       "        'advil-email.sign.up', 'nexium24hour-coupon.submit',\n",
       "        'nexium24hour-email.sign.up', 'advil pm-coupon.submit',\n",
       "        'advil pm-email.sign.up', 'nexium24hour-sweepstakes.social.share',\n",
       "        'nexium24hour-sweepstakes.submit', 'emergenc-sale.online'], dtype=object))"
      ]
     },
     "execution_count": 6,
     "metadata": {},
     "output_type": "execute_result"
    }
   ],
   "source": [
    "df_all.event_site_name.unique(),df_all.event_type.unique()"
   ]
  },
  {
   "cell_type": "code",
   "execution_count": 72,
   "metadata": {
    "collapsed": false,
    "deletable": true,
    "editable": true
   },
   "outputs": [
    {
     "name": "stdout",
     "output_type": "stream",
     "text": [
      "<class 'pandas.core.frame.DataFrame'>\n",
      "RangeIndex: 1253306 entries, 0 to 1253305\n",
      "Data columns (total 23 columns):\n",
      "unique_row_id           1253306 non-null object\n",
      "cvo_sid                 1253306 non-null object\n",
      "event_site_id           1253306 non-null int64\n",
      "touchpoint_site_id      1253306 non-null int64\n",
      "event_site_name         1253306 non-null object\n",
      "touchpoint_site_name    1253306 non-null object\n",
      "event_type              1253306 non-null object\n",
      "event_id                1253306 non-null object\n",
      "event_date              1253306 non-null datetime64[ns]\n",
      "touchpoint_date         1253306 non-null datetime64[ns]\n",
      "total_event_value       1253306 non-null float64\n",
      "touchpoint_revenue      1253306 non-null float64\n",
      "conversion              1253306 non-null float64\n",
      "touchpoint_type         1027589 non-null object\n",
      "first_touch_date        1253306 non-null datetime64[ns]\n",
      "last_touch_date         1253306 non-null datetime64[ns]\n",
      "source_1                1253306 non-null object\n",
      "source_2                1253306 non-null object\n",
      "source_3                1253306 non-null object\n",
      "touchpoints_in_path     1253306 non-null int64\n",
      "attribution_sequence    1253306 non-null int64\n",
      "path_position           1253306 non-null object\n",
      "device                  1253306 non-null object\n",
      "dtypes: datetime64[ns](4), float64(3), int64(4), object(12)\n",
      "memory usage: 219.9+ MB\n"
     ]
    }
   ],
   "source": [
    "df_all.info()"
   ]
  },
  {
   "cell_type": "markdown",
   "metadata": {
    "deletable": true,
    "editable": true
   },
   "source": [
    "## frequency on sales"
   ]
  },
  {
   "cell_type": "markdown",
   "metadata": {
    "deletable": true,
    "editable": true
   },
   "source": [
    "conversion window 30days\n",
    "\n",
    "continous window 14 days\n",
    "\n",
    "max path length 30\n",
    "\n",
    "event sales\n",
    "\n",
    "sourse 1 not base\n"
   ]
  },
  {
   "cell_type": "code",
   "execution_count": 55,
   "metadata": {
    "collapsed": true,
    "deletable": true,
    "editable": true
   },
   "outputs": [],
   "source": [
    "sale_df = df_all[df_all.event_type.str.contains('sale')]"
   ]
  },
  {
   "cell_type": "code",
   "execution_count": 78,
   "metadata": {
    "collapsed": true,
    "deletable": true,
    "editable": true
   },
   "outputs": [],
   "source": [
    "sale_df = sale_df[sale_df.source_1!='base']\n",
    "\n",
    "sale_df['touch_to_last'] = (sale_df.event_date-sale_df.touchpoint_date).dt.days\n",
    "\n",
    "df_sale_convwin = sale_df[sale_df.touch_to_last<30]"
   ]
  },
  {
   "cell_type": "code",
   "execution_count": 86,
   "metadata": {
    "collapsed": false,
    "deletable": true,
    "editable": true
   },
   "outputs": [],
   "source": [
    "df_sale_fre = pd.DataFrame({'count':df_sale_convwin.groupby('event_id')['event_id'].count()}).reset_index()"
   ]
  },
  {
   "cell_type": "code",
   "execution_count": 98,
   "metadata": {
    "collapsed": false,
    "deletable": true,
    "editable": true
   },
   "outputs": [],
   "source": [
    "df_sale_fre_count = df_sale_fre.groupby('count')['count'].count().sort_index()[:30]"
   ]
  },
  {
   "cell_type": "code",
   "execution_count": 106,
   "metadata": {
    "collapsed": false,
    "deletable": true,
    "editable": true
   },
   "outputs": [
    {
     "data": {
      "text/plain": [
       "<matplotlib.axes._subplots.AxesSubplot at 0x7f6be1c32f60>"
      ]
     },
     "execution_count": 106,
     "metadata": {},
     "output_type": "execute_result"
    },
    {
     "data": {
      "image/png": "[encoded data removed]",
      "text/plain": [
       "<matplotlib.figure.Figure at 0x7f6bca4aa4e0>"
      ]
     },
     "metadata": {},
     "output_type": "display_data"
    }
   ],
   "source": [
    "(df_sale_fre_count/df_sale_fre_count.sum()).cumsum()[:15].plot(figsize = (15,10))"
   ]
  },
  {
   "cell_type": "code",
   "execution_count": null,
   "metadata": {
    "collapsed": true,
    "deletable": true,
    "editable": true
   },
   "outputs": [],
   "source": []
  }
 ],
 "metadata": {
  "kernelspec": {
   "display_name": "Python 3",
   "language": "python",
   "name": "python3"
  },
  "language_info": {
   "codemirror_mode": {
    "name": "ipython",
    "version": 3
   },
   "file_extension": ".py",
   "mimetype": "text/x-python",
   "name": "python",
   "nbconvert_exporter": "python",
   "pygments_lexer": "ipython3",
   "version": "3.5.2"
  }
 },
 "nbformat": 4,
 "nbformat_minor": 2
}
