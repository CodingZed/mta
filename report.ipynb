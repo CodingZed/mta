{
 "cells": [
  {
   "cell_type": "markdown",
   "metadata": {
    "deletable": true,
    "editable": true
   },
   "source": [
    "## Import dataset "
   ]
  },
  {
   "cell_type": "code",
   "execution_count": 1,
   "metadata": {
    "collapsed": true,
    "deletable": true,
    "editable": true
   },
   "outputs": [],
   "source": [
    "import pandas as pd\n",
    "import numpy as np\n",
    "import matplotlib.pyplot as plt\n",
    "import datetime"
   ]
  },
  {
   "cell_type": "code",
   "execution_count": 2,
   "metadata": {
    "collapsed": true,
    "deletable": true,
    "editable": true
   },
   "outputs": [],
   "source": [
    "plt.style.use('ggplot')\n",
    "%matplotlib inline"
   ]
  },
  {
   "cell_type": "code",
   "execution_count": 3,
   "metadata": {
    "collapsed": false,
    "deletable": true,
    "editable": true
   },
   "outputs": [
    {
     "name": "stderr",
     "output_type": "stream",
     "text": [
      "C:\\Users\\zfang\\AppData\\Local\\Continuum\\Anaconda3\\lib\\site-packages\\IPython\\core\\interactiveshell.py:2717: DtypeWarning: Columns (7) have mixed types. Specify dtype option on import or set low_memory=False.\n",
      "  interactivity=interactivity, compiler=compiler, result=result)\n"
     ]
    }
   ],
   "source": [
    "df_all = pd.read_csv('DCD_April.csv')"
   ]
  },
  {
   "cell_type": "code",
   "execution_count": 4,
   "metadata": {
    "collapsed": true,
    "deletable": true,
    "editable": true
   },
   "outputs": [],
   "source": [
    "df_all.columns = [col.lower().replace(' ','_') for col in df_all.columns.tolist()]\n",
    "df_all.columns = [col.lower().replace('/timestamp','') for col in df_all.columns.tolist()]"
   ]
  },
  {
   "cell_type": "code",
   "execution_count": 5,
   "metadata": {
    "collapsed": false,
    "deletable": true,
    "editable": true
   },
   "outputs": [],
   "source": [
    "date_col = [col for col in df_all.columns.tolist() if 'date' in col]\n",
    "df_all[date_col] = df_all[date_col].apply(pd.to_datetime,format = \"%m/%d/%Y %H:%M:%S\")"
   ]
  },
  {
   "cell_type": "code",
   "execution_count": 6,
   "metadata": {
    "collapsed": false,
    "deletable": true,
    "editable": true
   },
   "outputs": [
    {
     "data": {
      "text/plain": [
       "(array(['Nexium24hour', 'Centrum', 'Advil', 'Advil PM', 'Preparationh',\n",
       "        'Emergenc', 'default'], dtype=object),\n",
       " array(['nexium24hour-buy.now', 'centrum-coupon.submit', 'sale.advil',\n",
       "        'centrum-email.sign.up', 'sale.advilpm', 'sale.centrum',\n",
       "        'preparationh-coupon.submit', 'preparationh-buy.now', 'sale.nexium',\n",
       "        'preparationh-email.sign.up', 'advil pm-buy.now', 'advil-buy.now',\n",
       "        'emergenc-buy.now', 'centrum-buy.now', 'sale.preparationh',\n",
       "        'emergenc-coupon.submit', 'emergenc-email.sign.up',\n",
       "        'emergenc-add.to.cart', 'sale.emergenc',\n",
       "        'emergenc-freesample.submit', 'advil-coupon.submit',\n",
       "        'advil-email.sign.up', 'nexium24hour-coupon.submit',\n",
       "        'nexium24hour-email.sign.up', 'advil pm-coupon.submit',\n",
       "        'advil pm-email.sign.up', 'nexium24hour-sweepstakes.social.share',\n",
       "        'nexium24hour-sweepstakes.submit', 'emergenc-sale.online'], dtype=object))"
      ]
     },
     "execution_count": 6,
     "metadata": {},
     "output_type": "execute_result"
    }
   ],
   "source": [
    "df_all.event_site_name.unique(),df_all.event_type.unique()"
   ]
  },
  {
   "cell_type": "code",
   "execution_count": 7,
   "metadata": {
    "collapsed": false,
    "deletable": true,
    "editable": true
   },
   "outputs": [
    {
     "name": "stdout",
     "output_type": "stream",
     "text": [
      "<class 'pandas.core.frame.DataFrame'>\n",
      "RangeIndex: 1253319 entries, 0 to 1253318\n",
      "Data columns (total 22 columns):\n",
      "unique_row_id           1253319 non-null object\n",
      "cvo_sid                 1253319 non-null object\n",
      "event_site_id           1253319 non-null int64\n",
      "touchpoint_site_id      1253319 non-null int64\n",
      "event_site_name         1253319 non-null object\n",
      "touchpoint_site_name    1253319 non-null object\n",
      "event_type              1253319 non-null object\n",
      "event_id                1253319 non-null object\n",
      "event_date              1253319 non-null datetime64[ns]\n",
      "touchpoint_date         1253319 non-null datetime64[ns]\n",
      "total_event_value       1253319 non-null float64\n",
      "touchpoint_revenue      1253319 non-null float64\n",
      "conversion              1253319 non-null float64\n",
      "touchpoint_type         1027602 non-null object\n",
      "first_touch_date        1253319 non-null datetime64[ns]\n",
      "last_touch_date         1253319 non-null datetime64[ns]\n",
      "source_1                1253319 non-null object\n",
      "source_2                1253319 non-null object\n",
      "source_3                1253319 non-null object\n",
      "touchpoints_in_path     1253319 non-null int64\n",
      "attribution_sequence    1253319 non-null int64\n",
      "path_position           1253319 non-null object\n",
      "dtypes: datetime64[ns](4), float64(3), int64(4), object(11)\n",
      "memory usage: 210.4+ MB\n"
     ]
    }
   ],
   "source": [
    "df_all.info()"
   ]
  },
  {
   "cell_type": "markdown",
   "metadata": {
    "deletable": true,
    "editable": true
   },
   "source": [
    "## frequency on sales"
   ]
  },
  {
   "cell_type": "markdown",
   "metadata": {
    "deletable": true,
    "editable": true
   },
   "source": [
    "conversion window 30days\n",
    "\n",
    "continous window 14 days\n",
    "\n",
    "max path length 30\n",
    "\n",
    "event sales\n",
    "\n",
    "sourse 1 not base\n"
   ]
  },
  {
   "cell_type": "code",
   "execution_count": 8,
   "metadata": {
    "collapsed": true,
    "deletable": true,
    "editable": true
   },
   "outputs": [],
   "source": [
    "sale_df = df_all[df_all.event_type.str.contains('sale')]"
   ]
  },
  {
   "cell_type": "code",
   "execution_count": 9,
   "metadata": {
    "collapsed": true,
    "deletable": true,
    "editable": true
   },
   "outputs": [],
   "source": [
    "sale_df = sale_df[sale_df.source_1!='base']\n",
    "\n",
    "sale_df['touch_to_last'] = (sale_df.event_date-sale_df.touchpoint_date).dt.days\n",
    "\n",
    "df_sale_convwin = sale_df[sale_df.touch_to_last<30]"
   ]
  },
  {
   "cell_type": "code",
   "execution_count": 10,
   "metadata": {
    "collapsed": false,
    "deletable": true,
    "editable": true
   },
   "outputs": [],
   "source": [
    "df_sale_fre = pd.DataFrame({'count':df_sale_convwin.groupby('event_id')['event_id'].count()}).reset_index()"
   ]
  },
  {
   "cell_type": "code",
   "execution_count": 11,
   "metadata": {
    "collapsed": false,
    "deletable": true,
    "editable": true
   },
   "outputs": [],
   "source": [
    "df_sale_fre_count = df_sale_fre.groupby('count')['count'].count().sort_index()[:30]"
   ]
  },
  {
   "cell_type": "code",
   "execution_count": 12,
   "metadata": {
    "collapsed": false,
    "deletable": true,
    "editable": true
   },
   "outputs": [
    {
     "data": {
      "text/plain": [
       "<matplotlib.axes._subplots.AxesSubplot at 0x1825127cb00>"
      ]
     },
     "execution_count": 12,
     "metadata": {},
     "output_type": "execute_result"
    },
    {
     "data": {
      "image/png": "[encoded data removed]",
      "text/plain": [
       "<matplotlib.figure.Figure at 0x18257da6fd0>"
      ]
     },
     "metadata": {},
     "output_type": "display_data"
    }
   ],
   "source": [
    "(df_sale_fre_count/df_sale_fre_count.sum()).cumsum()[:15].plot(figsize = (15,10))"
   ]
  },
  {
   "cell_type": "markdown",
   "metadata": {},
   "source": [
    "## Feature Engineering"
   ]
  },
  {
   "cell_type": "code",
   "execution_count": 13,
   "metadata": {
    "collapsed": false
   },
   "outputs": [],
   "source": [
    "df_nobase=df_all[df_all['source_1']!='base']"
   ]
  },
  {
   "cell_type": "code",
   "execution_count": 14,
   "metadata": {
    "collapsed": false
   },
   "outputs": [
    {
     "name": "stdout",
     "output_type": "stream",
     "text": [
      "<class 'pandas.core.frame.DataFrame'>\n",
      "Int64Index: 1027602 entries, 0 to 1253318\n",
      "Data columns (total 22 columns):\n",
      "unique_row_id           1027602 non-null object\n",
      "cvo_sid                 1027602 non-null object\n",
      "event_site_id           1027602 non-null int64\n",
      "touchpoint_site_id      1027602 non-null int64\n",
      "event_site_name         1027602 non-null object\n",
      "touchpoint_site_name    1027602 non-null object\n",
      "event_type              1027602 non-null object\n",
      "event_id                1027602 non-null object\n",
      "event_date              1027602 non-null datetime64[ns]\n",
      "touchpoint_date         1027602 non-null datetime64[ns]\n",
      "total_event_value       1027602 non-null float64\n",
      "touchpoint_revenue      1027602 non-null float64\n",
      "conversion              1027602 non-null float64\n",
      "touchpoint_type         1027602 non-null object\n",
      "first_touch_date        1027602 non-null datetime64[ns]\n",
      "last_touch_date         1027602 non-null datetime64[ns]\n",
      "source_1                1027602 non-null object\n",
      "source_2                1027602 non-null object\n",
      "source_3                1027602 non-null object\n",
      "touchpoints_in_path     1027602 non-null int64\n",
      "attribution_sequence    1027602 non-null int64\n",
      "path_position           1027602 non-null object\n",
      "dtypes: datetime64[ns](4), float64(3), int64(4), object(11)\n",
      "memory usage: 180.3+ MB\n"
     ]
    }
   ],
   "source": [
    "df_nobase.info()"
   ]
  },
  {
   "cell_type": "code",
   "execution_count": 15,
   "metadata": {
    "collapsed": true
   },
   "outputs": [],
   "source": [
    "selected_col=['event_type','conversion','touchpoint_type','source_1','touchpoints_in_path','attribution_sequence','path_position']"
   ]
  },
  {
   "cell_type": "code",
   "execution_count": 16,
   "metadata": {
    "collapsed": true
   },
   "outputs": [],
   "source": [
    "df_col=[x for x in df_nobase.columns.tolist() if x in selected_col ]\n",
    "\n",
    "df_col.extend(date_col)"
   ]
  },
  {
   "cell_type": "code",
   "execution_count": 17,
   "metadata": {
    "collapsed": false
   },
   "outputs": [
    {
     "data": {
      "text/plain": [
       "['event_type',\n",
       " 'conversion',\n",
       " 'touchpoint_type',\n",
       " 'source_1',\n",
       " 'touchpoints_in_path',\n",
       " 'attribution_sequence',\n",
       " 'path_position',\n",
       " 'event_date',\n",
       " 'touchpoint_date',\n",
       " 'first_touch_date',\n",
       " 'last_touch_date']"
      ]
     },
     "execution_count": 17,
     "metadata": {},
     "output_type": "execute_result"
    }
   ],
   "source": [
    "df_col"
   ]
  },
  {
   "cell_type": "code",
   "execution_count": 18,
   "metadata": {
    "collapsed": false
   },
   "outputs": [],
   "source": [
    "df_keep=df_nobase[df_col]"
   ]
  },
  {
   "cell_type": "code",
   "execution_count": 19,
   "metadata": {
    "collapsed": false
   },
   "outputs": [
    {
     "data": {
      "text/html": [
       "<div>\n",
       "<table border=\"1\" class=\"dataframe\">\n",
       "  <thead>\n",
       "    <tr style=\"text-align: right;\">\n",
       "      <th></th>\n",
       "      <th>event_type</th>\n",
       "      <th>conversion</th>\n",
       "      <th>touchpoint_type</th>\n",
       "      <th>source_1</th>\n",
       "      <th>touchpoints_in_path</th>\n",
       "      <th>attribution_sequence</th>\n",
       "      <th>path_position</th>\n",
       "      <th>event_date</th>\n",
       "      <th>touchpoint_date</th>\n",
       "      <th>first_touch_date</th>\n",
       "      <th>last_touch_date</th>\n",
       "    </tr>\n",
       "  </thead>\n",
       "  <tbody>\n",
       "    <tr>\n",
       "      <th>0</th>\n",
       "      <td>nexium24hour-buy.now</td>\n",
       "      <td>1.000000</td>\n",
       "      <td>visit</td>\n",
       "      <td>ppc nonbrand</td>\n",
       "      <td>1</td>\n",
       "      <td>1</td>\n",
       "      <td>only</td>\n",
       "      <td>2017-04-07 17:54:58</td>\n",
       "      <td>2017-04-07 17:54:58</td>\n",
       "      <td>2017-04-07 17:54:58</td>\n",
       "      <td>2017-04-07 17:54:58</td>\n",
       "    </tr>\n",
       "    <tr>\n",
       "      <th>2</th>\n",
       "      <td>centrum-coupon.submit</td>\n",
       "      <td>0.000047</td>\n",
       "      <td>visit</td>\n",
       "      <td>organic not provided</td>\n",
       "      <td>2</td>\n",
       "      <td>1</td>\n",
       "      <td>introducer</td>\n",
       "      <td>2017-04-21 17:52:51</td>\n",
       "      <td>2017-04-12 12:26:32</td>\n",
       "      <td>2017-04-12 12:26:32</td>\n",
       "      <td>2017-04-21 17:52:51</td>\n",
       "    </tr>\n",
       "    <tr>\n",
       "      <th>3</th>\n",
       "      <td>centrum-coupon.submit</td>\n",
       "      <td>0.011891</td>\n",
       "      <td>visit</td>\n",
       "      <td>organic not provided</td>\n",
       "      <td>2</td>\n",
       "      <td>2</td>\n",
       "      <td>closer</td>\n",
       "      <td>2017-04-21 17:52:51</td>\n",
       "      <td>2017-04-21 17:50:56</td>\n",
       "      <td>2017-04-12 12:26:32</td>\n",
       "      <td>2017-04-21 17:52:51</td>\n",
       "    </tr>\n",
       "    <tr>\n",
       "      <th>7</th>\n",
       "      <td>centrum-coupon.submit</td>\n",
       "      <td>0.197314</td>\n",
       "      <td>visit</td>\n",
       "      <td>ppc brand</td>\n",
       "      <td>1</td>\n",
       "      <td>1</td>\n",
       "      <td>only</td>\n",
       "      <td>2017-04-30 18:04:52</td>\n",
       "      <td>2017-04-30 18:04:22</td>\n",
       "      <td>2017-04-30 18:04:22</td>\n",
       "      <td>2017-04-30 18:04:52</td>\n",
       "    </tr>\n",
       "    <tr>\n",
       "      <th>8</th>\n",
       "      <td>centrum-email.sign.up</td>\n",
       "      <td>1.000000</td>\n",
       "      <td>visit</td>\n",
       "      <td>social network  paid</td>\n",
       "      <td>1</td>\n",
       "      <td>1</td>\n",
       "      <td>only</td>\n",
       "      <td>2017-04-19 14:12:59</td>\n",
       "      <td>2017-04-19 14:12:00</td>\n",
       "      <td>2017-04-19 14:12:00</td>\n",
       "      <td>2017-04-19 14:12:00</td>\n",
       "    </tr>\n",
       "  </tbody>\n",
       "</table>\n",
       "</div>"
      ],
      "text/plain": [
       "              event_type  conversion touchpoint_type              source_1  \\\n",
       "0   nexium24hour-buy.now    1.000000           visit          ppc nonbrand   \n",
       "2  centrum-coupon.submit    0.000047           visit  organic not provided   \n",
       "3  centrum-coupon.submit    0.011891           visit  organic not provided   \n",
       "7  centrum-coupon.submit    0.197314           visit             ppc brand   \n",
       "8  centrum-email.sign.up    1.000000           visit  social network  paid   \n",
       "\n",
       "   touchpoints_in_path  attribution_sequence path_position  \\\n",
       "0                    1                     1          only   \n",
       "2                    2                     1    introducer   \n",
       "3                    2                     2        closer   \n",
       "7                    1                     1          only   \n",
       "8                    1                     1          only   \n",
       "\n",
       "           event_date     touchpoint_date    first_touch_date  \\\n",
       "0 2017-04-07 17:54:58 2017-04-07 17:54:58 2017-04-07 17:54:58   \n",
       "2 2017-04-21 17:52:51 2017-04-12 12:26:32 2017-04-12 12:26:32   \n",
       "3 2017-04-21 17:52:51 2017-04-21 17:50:56 2017-04-12 12:26:32   \n",
       "7 2017-04-30 18:04:52 2017-04-30 18:04:22 2017-04-30 18:04:22   \n",
       "8 2017-04-19 14:12:59 2017-04-19 14:12:00 2017-04-19 14:12:00   \n",
       "\n",
       "      last_touch_date  \n",
       "0 2017-04-07 17:54:58  \n",
       "2 2017-04-21 17:52:51  \n",
       "3 2017-04-21 17:52:51  \n",
       "7 2017-04-30 18:04:52  \n",
       "8 2017-04-19 14:12:00  "
      ]
     },
     "execution_count": 19,
     "metadata": {},
     "output_type": "execute_result"
    }
   ],
   "source": [
    "df_keep.head()"
   ]
  },
  {
   "cell_type": "code",
   "execution_count": 20,
   "metadata": {
    "collapsed": false
   },
   "outputs": [
    {
     "name": "stderr",
     "output_type": "stream",
     "text": [
      "C:\\Users\\zfang\\AppData\\Local\\Continuum\\Anaconda3\\lib\\site-packages\\ipykernel\\__main__.py:1: SettingWithCopyWarning: \n",
      "A value is trying to be set on a copy of a slice from a DataFrame.\n",
      "Try using .loc[row_indexer,col_indexer] = value instead\n",
      "\n",
      "See the caveats in the documentation: http://pandas.pydata.org/pandas-docs/stable/indexing.html#indexing-view-versus-copy\n",
      "  if __name__ == '__main__':\n"
     ]
    }
   ],
   "source": [
    "df_keep['event_to_touchpoint']=(df_keep.event_date-df_keep.touchpoint_date).dt.total_seconds()"
   ]
  },
  {
   "cell_type": "code",
   "execution_count": 21,
   "metadata": {
    "collapsed": false
   },
   "outputs": [
    {
     "name": "stdout",
     "output_type": "stream",
     "text": [
      "<class 'pandas.core.frame.DataFrame'>\n",
      "Int64Index: 1027602 entries, 0 to 1253318\n",
      "Data columns (total 12 columns):\n",
      "event_type              1027602 non-null object\n",
      "conversion              1027602 non-null float64\n",
      "touchpoint_type         1027602 non-null object\n",
      "source_1                1027602 non-null object\n",
      "touchpoints_in_path     1027602 non-null int64\n",
      "attribution_sequence    1027602 non-null int64\n",
      "path_position           1027602 non-null object\n",
      "event_date              1027602 non-null datetime64[ns]\n",
      "touchpoint_date         1027602 non-null datetime64[ns]\n",
      "first_touch_date        1027602 non-null datetime64[ns]\n",
      "last_touch_date         1027602 non-null datetime64[ns]\n",
      "event_to_touchpoint     1027602 non-null float64\n",
      "dtypes: datetime64[ns](4), float64(2), int64(2), object(4)\n",
      "memory usage: 101.9+ MB\n"
     ]
    }
   ],
   "source": [
    "df_keep.info()"
   ]
  },
  {
   "cell_type": "code",
   "execution_count": 22,
   "metadata": {
    "collapsed": true
   },
   "outputs": [],
   "source": [
    "event_type_split=df_keep.event_type.apply(lambda x: pd.Series([i for i in (x.split('-'))]))"
   ]
  },
  {
   "cell_type": "code",
   "execution_count": 23,
   "metadata": {
    "collapsed": false
   },
   "outputs": [],
   "source": [
    "df_keep2=pd.concat([df_keep,event_type_split],axis=1).rename(columns={0:'brand',1:'event'})"
   ]
  },
  {
   "cell_type": "code",
   "execution_count": 24,
   "metadata": {
    "collapsed": false
   },
   "outputs": [],
   "source": [
    "df_keep2['day_of_week']=df_keep2.touchpoint_date.dt.weekday_name"
   ]
  },
  {
   "cell_type": "code",
   "execution_count": 25,
   "metadata": {
    "collapsed": true
   },
   "outputs": [],
   "source": [
    "df_keep2['month']=df_keep2.touchpoint_date.dt.month"
   ]
  },
  {
   "cell_type": "code",
   "execution_count": 26,
   "metadata": {
    "collapsed": false
   },
   "outputs": [],
   "source": [
    "df_keep2['week_of_month']=(df_keep2.touchpoint_date.dt.day-1)//7+1"
   ]
  },
  {
   "cell_type": "code",
   "execution_count": 27,
   "metadata": {
    "collapsed": true
   },
   "outputs": [],
   "source": [
    "df_keep3=df_keep2.iloc[:,1:]"
   ]
  },
  {
   "cell_type": "code",
   "execution_count": 28,
   "metadata": {
    "collapsed": false
   },
   "outputs": [],
   "source": [
    "df_keep3=df_keep3.reset_index(drop=True)"
   ]
  },
  {
   "cell_type": "code",
   "execution_count": 29,
   "metadata": {
    "collapsed": false
   },
   "outputs": [
    {
     "name": "stdout",
     "output_type": "stream",
     "text": [
      "<class 'pandas.core.frame.DataFrame'>\n",
      "RangeIndex: 1027602 entries, 0 to 1027601\n",
      "Data columns (total 16 columns):\n",
      "conversion              1027602 non-null float64\n",
      "touchpoint_type         1027602 non-null object\n",
      "source_1                1027602 non-null object\n",
      "touchpoints_in_path     1027602 non-null int64\n",
      "attribution_sequence    1027602 non-null int64\n",
      "path_position           1027602 non-null object\n",
      "event_date              1027602 non-null datetime64[ns]\n",
      "touchpoint_date         1027602 non-null datetime64[ns]\n",
      "first_touch_date        1027602 non-null datetime64[ns]\n",
      "last_touch_date         1027602 non-null datetime64[ns]\n",
      "event_to_touchpoint     1027602 non-null float64\n",
      "brand                   1027602 non-null object\n",
      "event                   242165 non-null object\n",
      "day_of_week             1027602 non-null object\n",
      "month                   1027602 non-null int64\n",
      "week_of_month           1027602 non-null int64\n",
      "dtypes: datetime64[ns](4), float64(2), int64(4), object(6)\n",
      "memory usage: 125.4+ MB\n"
     ]
    }
   ],
   "source": [
    "df_keep3.info()"
   ]
  },
  {
   "cell_type": "markdown",
   "metadata": {},
   "source": [
    "## Get Dummies"
   ]
  },
  {
   "cell_type": "code",
   "execution_count": 30,
   "metadata": {
    "collapsed": true
   },
   "outputs": [],
   "source": [
    "df_dummies=pd.get_dummies(df_keep3,columns=['touchpoint_type','source_1','path_position','brand','event','day_of_week','month','week_of_month'],\n",
    "                          drop_first=True)"
   ]
  },
  {
   "cell_type": "code",
   "execution_count": 31,
   "metadata": {
    "collapsed": false
   },
   "outputs": [
    {
     "name": "stdout",
     "output_type": "stream",
     "text": [
      "<class 'pandas.core.frame.DataFrame'>\n",
      "RangeIndex: 1027602 entries, 0 to 1027601\n",
      "Data columns (total 66 columns):\n",
      "conversion                        1027602 non-null float64\n",
      "touchpoints_in_path               1027602 non-null int64\n",
      "attribution_sequence              1027602 non-null int64\n",
      "event_date                        1027602 non-null datetime64[ns]\n",
      "touchpoint_date                   1027602 non-null datetime64[ns]\n",
      "first_touch_date                  1027602 non-null datetime64[ns]\n",
      "last_touch_date                   1027602 non-null datetime64[ns]\n",
      "event_to_touchpoint               1027602 non-null float64\n",
      "touchpoint_type_visit             1027602 non-null uint8\n",
      "source_1_coupon                   1027602 non-null uint8\n",
      "source_1_display                  1027602 non-null uint8\n",
      "source_1_ecrm                     1027602 non-null uint8\n",
      "source_1_email                    1027602 non-null uint8\n",
      "source_1_influencer               1027602 non-null uint8\n",
      "source_1_organic brand            1027602 non-null uint8\n",
      "source_1_organic nonbrand         1027602 non-null uint8\n",
      "source_1_organic not provided     1027602 non-null uint8\n",
      "source_1_other                    1027602 non-null uint8\n",
      "source_1_pchbrands                1027602 non-null uint8\n",
      "source_1_ppc brand                1027602 non-null uint8\n",
      "source_1_ppc content              1027602 non-null uint8\n",
      "source_1_ppc nonbrand             1027602 non-null uint8\n",
      "source_1_social n etwork paid     1027602 non-null uint8\n",
      "source_1_social n etworkpaid      1027602 non-null uint8\n",
      "source_1_social network           1027602 non-null uint8\n",
      "source_1_social network  paid     1027602 non-null uint8\n",
      "source_1_social network paid      1027602 non-null uint8\n",
      "source_1_text                     1027602 non-null uint8\n",
      "source_1_video                    1027602 non-null uint8\n",
      "source_1_zalo                     1027602 non-null uint8\n",
      "path_position_influencer          1027602 non-null uint8\n",
      "path_position_introducer          1027602 non-null uint8\n",
      "path_position_only                1027602 non-null uint8\n",
      "brand_advil pm                    1027602 non-null uint8\n",
      "brand_centrum                     1027602 non-null uint8\n",
      "brand_emergenc                    1027602 non-null uint8\n",
      "brand_nexium24hour                1027602 non-null uint8\n",
      "brand_preparationh                1027602 non-null uint8\n",
      "brand_sale.advil                  1027602 non-null uint8\n",
      "brand_sale.advilpm                1027602 non-null uint8\n",
      "brand_sale.centrum                1027602 non-null uint8\n",
      "brand_sale.emergenc               1027602 non-null uint8\n",
      "brand_sale.nexium                 1027602 non-null uint8\n",
      "brand_sale.preparationh           1027602 non-null uint8\n",
      "event_buy.now                     1027602 non-null uint8\n",
      "event_coupon.submit               1027602 non-null uint8\n",
      "event_email.sign.up               1027602 non-null uint8\n",
      "event_freesample.submit           1027602 non-null uint8\n",
      "event_sale.online                 1027602 non-null uint8\n",
      "event_sweepstakes.social.share    1027602 non-null uint8\n",
      "event_sweepstakes.submit          1027602 non-null uint8\n",
      "day_of_week_Monday                1027602 non-null uint8\n",
      "day_of_week_Saturday              1027602 non-null uint8\n",
      "day_of_week_Sunday                1027602 non-null uint8\n",
      "day_of_week_Thursday              1027602 non-null uint8\n",
      "day_of_week_Tuesday               1027602 non-null uint8\n",
      "day_of_week_Wednesday             1027602 non-null uint8\n",
      "month_2                           1027602 non-null uint8\n",
      "month_3                           1027602 non-null uint8\n",
      "month_4                           1027602 non-null uint8\n",
      "month_11                          1027602 non-null uint8\n",
      "month_12                          1027602 non-null uint8\n",
      "week_of_month_2                   1027602 non-null uint8\n",
      "week_of_month_3                   1027602 non-null uint8\n",
      "week_of_month_4                   1027602 non-null uint8\n",
      "week_of_month_5                   1027602 non-null uint8\n",
      "dtypes: datetime64[ns](4), float64(2), int64(2), uint8(58)\n",
      "memory usage: 119.6 MB\n"
     ]
    }
   ],
   "source": [
    "df_dummies.info()"
   ]
  },
  {
   "cell_type": "markdown",
   "metadata": {},
   "source": [
    "## Model Creation "
   ]
  },
  {
   "cell_type": "code",
   "execution_count": 32,
   "metadata": {
    "collapsed": true
   },
   "outputs": [],
   "source": [
    "from sklearn.preprocessing import StandardScaler"
   ]
  },
  {
   "cell_type": "code",
   "execution_count": 33,
   "metadata": {
    "collapsed": true
   },
   "outputs": [],
   "source": [
    "scaler=StandardScaler()"
   ]
  },
  {
   "cell_type": "code",
   "execution_count": 34,
   "metadata": {
    "collapsed": false
   },
   "outputs": [],
   "source": [
    "df_dummies=df_dummies.drop(df_dummies[date_col],axis=1)"
   ]
  },
  {
   "cell_type": "code",
   "execution_count": 35,
   "metadata": {
    "collapsed": false
   },
   "outputs": [
    {
     "data": {
      "text/plain": [
       "array([[ 6.11268238, -0.29509325, -0.25276015, ..., -0.52403992,\n",
       "        -0.52075148, -0.31968734],\n",
       "       [-0.25556963, -0.29175264, -0.25276015, ..., -0.52403992,\n",
       "        -0.52075148, -0.31968734],\n",
       "       [-0.18014051, -0.29175264, -0.2470374 , ...,  1.90825157,\n",
       "        -0.52075148, -0.31968734],\n",
       "       ..., \n",
       "       [-0.16953051, -0.29509325, -0.25276015, ...,  1.90825157,\n",
       "        -0.52075148, -0.31968734],\n",
       "       [ 4.23900363, -0.29509325, -0.25276015, ..., -0.52403992,\n",
       "        -0.52075148,  3.12805626],\n",
       "       [ 2.26884132, -0.29509325, -0.25276015, ..., -0.52403992,\n",
       "        -0.52075148,  3.12805626]])"
      ]
     },
     "execution_count": 35,
     "metadata": {},
     "output_type": "execute_result"
    }
   ],
   "source": [
    "scaler.fit_transform(df_dummies)"
   ]
  },
  {
   "cell_type": "code",
   "execution_count": 36,
   "metadata": {
    "collapsed": false
   },
   "outputs": [],
   "source": [
    "msk=np.random.rand(len(df_dummies))<0.8"
   ]
  },
  {
   "cell_type": "code",
   "execution_count": 37,
   "metadata": {
    "collapsed": true
   },
   "outputs": [],
   "source": [
    "train=df_dummies[msk]"
   ]
  },
  {
   "cell_type": "code",
   "execution_count": 38,
   "metadata": {
    "collapsed": true
   },
   "outputs": [],
   "source": [
    "test=df_dummies[~msk]"
   ]
  },
  {
   "cell_type": "code",
   "execution_count": 39,
   "metadata": {
    "collapsed": true
   },
   "outputs": [],
   "source": [
    "from sklearn import metrics"
   ]
  },
  {
   "cell_type": "code",
   "execution_count": 40,
   "metadata": {
    "collapsed": false
   },
   "outputs": [],
   "source": [
    "from sklearn.linear_model import Ridge,Lasso\n",
    "predictors=[x for x in train.columns.tolist() if x!=['conversion']]\n",
    "alg=Ridge(alpha=0.05,normalize=True)"
   ]
  },
  {
   "cell_type": "code",
   "execution_count": 41,
   "metadata": {
    "collapsed": false
   },
   "outputs": [
    {
     "data": {
      "text/plain": [
       "Ridge(alpha=0.05, copy_X=True, fit_intercept=True, max_iter=None,\n",
       "   normalize=True, random_state=None, solver='auto', tol=0.001)"
      ]
     },
     "execution_count": 41,
     "metadata": {},
     "output_type": "execute_result"
    }
   ],
   "source": [
    "alg.fit(train[predictors],train['conversion'])"
   ]
  },
  {
   "cell_type": "code",
   "execution_count": 42,
   "metadata": {
    "collapsed": false
   },
   "outputs": [
    {
     "data": {
      "text/plain": [
       "9.9632356732287303e-05"
      ]
     },
     "execution_count": 42,
     "metadata": {},
     "output_type": "execute_result"
    }
   ],
   "source": [
    "metrics.mean_squared_error(test['conversion'],alg.predict(test[predictors]))"
   ]
  },
  {
   "cell_type": "code",
   "execution_count": null,
   "metadata": {
    "collapsed": true
   },
   "outputs": [],
   "source": []
  }
 ],
 "metadata": {
  "kernelspec": {
   "display_name": "Python [default]",
   "language": "python",
   "name": "python3"
  },
  "language_info": {
   "codemirror_mode": {
    "name": "ipython",
    "version": 3
   },
   "file_extension": ".py",
   "mimetype": "text/x-python",
   "name": "python",
   "nbconvert_exporter": "python",
   "pygments_lexer": "ipython3",
   "version": "3.5.2"
  }
 },
 "nbformat": 4,
 "nbformat_minor": 2
}
