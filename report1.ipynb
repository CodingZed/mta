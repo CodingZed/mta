{
 "cells": [
  {
   "cell_type": "markdown",
   "metadata": {
    "deletable": true,
    "editable": true
   },
   "source": [
    "## Import dataset "
   ]
  },
  {
   "cell_type": "code",
   "execution_count": 1,
   "metadata": {
    "collapsed": true,
    "deletable": true,
    "editable": true
   },
   "outputs": [],
   "source": [
    "import pandas as pd\n",
    "import numpy as np\n",
    "import matplotlib.pyplot as plt\n",
    "import datetime"
   ]
  },
  {
   "cell_type": "code",
   "execution_count": 2,
   "metadata": {
    "collapsed": true,
    "deletable": true,
    "editable": true
   },
   "outputs": [],
   "source": [
    "plt.style.use('ggplot')\n",
    "%matplotlib inline"
   ]
  },
  {
   "cell_type": "code",
   "execution_count": 3,
   "metadata": {
    "collapsed": false,
    "deletable": true,
    "editable": true
   },
   "outputs": [
    {
     "name": "stderr",
     "output_type": "stream",
     "text": [
      "C:\\Users\\zfang\\AppData\\Local\\Continuum\\Anaconda3\\lib\\site-packages\\IPython\\core\\interactiveshell.py:2717: DtypeWarning: Columns (7) have mixed types. Specify dtype option on import or set low_memory=False.\n",
      "  interactivity=interactivity, compiler=compiler, result=result)\n"
     ]
    }
   ],
   "source": [
    "df_all = pd.read_csv('DCD_April.csv')"
   ]
  },
  {
   "cell_type": "code",
   "execution_count": 4,
   "metadata": {
    "collapsed": true,
    "deletable": true,
    "editable": true
   },
   "outputs": [],
   "source": [
    "df_all.columns = [col.lower().replace(' ','_') for col in df_all.columns.tolist()]\n",
    "df_all.columns = [col.lower().replace('/timestamp','') for col in df_all.columns.tolist()]"
   ]
  },
  {
   "cell_type": "code",
   "execution_count": 5,
   "metadata": {
    "collapsed": false,
    "deletable": true,
    "editable": true
   },
   "outputs": [],
   "source": [
    "date_col = [col for col in df_all.columns.tolist() if 'date' in col]\n",
    "df_all[date_col] = df_all[date_col].apply(pd.to_datetime,format = \"%m/%d/%Y %H:%M:%S\")"
   ]
  },
  {
   "cell_type": "code",
   "execution_count": 61,
   "metadata": {
    "collapsed": false
   },
   "outputs": [
    {
     "data": {
      "text/html": [
       "<div>\n",
       "<table border=\"1\" class=\"dataframe\">\n",
       "  <thead>\n",
       "    <tr style=\"text-align: right;\">\n",
       "      <th></th>\n",
       "      <th>unique_row_id</th>\n",
       "      <th>cvo_sid</th>\n",
       "      <th>event_site_id</th>\n",
       "      <th>touchpoint_site_id</th>\n",
       "      <th>event_site_name</th>\n",
       "      <th>touchpoint_site_name</th>\n",
       "      <th>event_type</th>\n",
       "      <th>event_id</th>\n",
       "      <th>event_date</th>\n",
       "      <th>touchpoint_date</th>\n",
       "      <th>...</th>\n",
       "      <th>conversion</th>\n",
       "      <th>touchpoint_type</th>\n",
       "      <th>first_touch_date</th>\n",
       "      <th>last_touch_date</th>\n",
       "      <th>source_1</th>\n",
       "      <th>source_2</th>\n",
       "      <th>source_3</th>\n",
       "      <th>touchpoints_in_path</th>\n",
       "      <th>attribution_sequence</th>\n",
       "      <th>path_position</th>\n",
       "    </tr>\n",
       "  </thead>\n",
       "  <tbody>\n",
       "    <tr>\n",
       "      <th>0</th>\n",
       "      <td>5W9DNMBQDD9D_1491602098.559270_1955401_-256266...</td>\n",
       "      <td>5W9DNMBQDD9D</td>\n",
       "      <td>78</td>\n",
       "      <td>78</td>\n",
       "      <td>Nexium24hour</td>\n",
       "      <td>Nexium24hour</td>\n",
       "      <td>nexium24hour-buy.now</td>\n",
       "      <td>1000003139</td>\n",
       "      <td>2017-04-07 17:54:58</td>\n",
       "      <td>2017-04-07 17:54:58</td>\n",
       "      <td>...</td>\n",
       "      <td>1.000000</td>\n",
       "      <td>visit</td>\n",
       "      <td>2017-04-07 17:54:58</td>\n",
       "      <td>2017-04-07 17:54:58</td>\n",
       "      <td>ppc nonbrand</td>\n",
       "      <td>google</td>\n",
       "      <td>+cure +heartburn</td>\n",
       "      <td>1</td>\n",
       "      <td>1</td>\n",
       "      <td>only</td>\n",
       "    </tr>\n",
       "    <tr>\n",
       "      <th>1</th>\n",
       "      <td>7XPU6KNGJ5SQ_1492811571.793190_1765394_1765394_0</td>\n",
       "      <td>7XPU6KNGJ5SQ</td>\n",
       "      <td>762</td>\n",
       "      <td>762</td>\n",
       "      <td>Centrum</td>\n",
       "      <td>Centrum</td>\n",
       "      <td>centrum-coupon.submit</td>\n",
       "      <td>100000665</td>\n",
       "      <td>2017-04-21 17:52:51</td>\n",
       "      <td>2017-04-21 17:52:51</td>\n",
       "      <td>...</td>\n",
       "      <td>0.988062</td>\n",
       "      <td>NaN</td>\n",
       "      <td>2017-04-12 12:26:32</td>\n",
       "      <td>2017-04-21 17:52:51</td>\n",
       "      <td>base</td>\n",
       "      <td>n/a</td>\n",
       "      <td>n/a</td>\n",
       "      <td>2</td>\n",
       "      <td>0</td>\n",
       "      <td>n/a</td>\n",
       "    </tr>\n",
       "  </tbody>\n",
       "</table>\n",
       "<p>2 rows × 22 columns</p>\n",
       "</div>"
      ],
      "text/plain": [
       "                                       unique_row_id       cvo_sid  \\\n",
       "0  5W9DNMBQDD9D_1491602098.559270_1955401_-256266...  5W9DNMBQDD9D   \n",
       "1   7XPU6KNGJ5SQ_1492811571.793190_1765394_1765394_0  7XPU6KNGJ5SQ   \n",
       "\n",
       "   event_site_id  touchpoint_site_id event_site_name touchpoint_site_name  \\\n",
       "0             78                  78    Nexium24hour         Nexium24hour   \n",
       "1            762                 762         Centrum              Centrum   \n",
       "\n",
       "              event_type    event_id          event_date     touchpoint_date  \\\n",
       "0   nexium24hour-buy.now  1000003139 2017-04-07 17:54:58 2017-04-07 17:54:58   \n",
       "1  centrum-coupon.submit   100000665 2017-04-21 17:52:51 2017-04-21 17:52:51   \n",
       "\n",
       "       ...        conversion  touchpoint_type    first_touch_date  \\\n",
       "0      ...          1.000000            visit 2017-04-07 17:54:58   \n",
       "1      ...          0.988062              NaN 2017-04-12 12:26:32   \n",
       "\n",
       "      last_touch_date      source_1 source_2          source_3  \\\n",
       "0 2017-04-07 17:54:58  ppc nonbrand   google  +cure +heartburn   \n",
       "1 2017-04-21 17:52:51          base      n/a               n/a   \n",
       "\n",
       "  touchpoints_in_path attribution_sequence  path_position  \n",
       "0                   1                    1           only  \n",
       "1                   2                    0            n/a  \n",
       "\n",
       "[2 rows x 22 columns]"
      ]
     },
     "execution_count": 61,
     "metadata": {},
     "output_type": "execute_result"
    }
   ],
   "source": [
    "df_all.head(n=2)"
   ]
  },
  {
   "cell_type": "markdown",
   "metadata": {},
   "source": [
    "## Feature Engineering"
   ]
  },
  {
   "cell_type": "code",
   "execution_count": 6,
   "metadata": {
    "collapsed": false
   },
   "outputs": [],
   "source": [
    "df_base_remove=df_all[df_all['source_1']!='base']"
   ]
  },
  {
   "cell_type": "code",
   "execution_count": 7,
   "metadata": {
    "collapsed": false
   },
   "outputs": [
    {
     "name": "stdout",
     "output_type": "stream",
     "text": [
      "<class 'pandas.core.frame.DataFrame'>\n",
      "Int64Index: 1027602 entries, 0 to 1253318\n",
      "Data columns (total 22 columns):\n",
      "unique_row_id           1027602 non-null object\n",
      "cvo_sid                 1027602 non-null object\n",
      "event_site_id           1027602 non-null int64\n",
      "touchpoint_site_id      1027602 non-null int64\n",
      "event_site_name         1027602 non-null object\n",
      "touchpoint_site_name    1027602 non-null object\n",
      "event_type              1027602 non-null object\n",
      "event_id                1027602 non-null object\n",
      "event_date              1027602 non-null datetime64[ns]\n",
      "touchpoint_date         1027602 non-null datetime64[ns]\n",
      "total_event_value       1027602 non-null float64\n",
      "touchpoint_revenue      1027602 non-null float64\n",
      "conversion              1027602 non-null float64\n",
      "touchpoint_type         1027602 non-null object\n",
      "first_touch_date        1027602 non-null datetime64[ns]\n",
      "last_touch_date         1027602 non-null datetime64[ns]\n",
      "source_1                1027602 non-null object\n",
      "source_2                1027602 non-null object\n",
      "source_3                1027602 non-null object\n",
      "touchpoints_in_path     1027602 non-null int64\n",
      "attribution_sequence    1027602 non-null int64\n",
      "path_position           1027602 non-null object\n",
      "dtypes: datetime64[ns](4), float64(3), int64(4), object(11)\n",
      "memory usage: 180.3+ MB\n"
     ]
    }
   ],
   "source": [
    "df_base_remove.info()"
   ]
  },
  {
   "cell_type": "code",
   "execution_count": 62,
   "metadata": {
    "collapsed": true
   },
   "outputs": [],
   "source": [
    "selected_col=['event_site_name','touchpoint_site_name','event_type','conversion','touchpoint_type','source_1','source_2','touchpoints_in_path','attribution_sequence','path_position']"
   ]
  },
  {
   "cell_type": "code",
   "execution_count": 63,
   "metadata": {
    "collapsed": false
   },
   "outputs": [],
   "source": [
    "selected_col.extend(date_col)"
   ]
  },
  {
   "cell_type": "code",
   "execution_count": 64,
   "metadata": {
    "collapsed": false
   },
   "outputs": [
    {
     "data": {
      "text/plain": [
       "['event_site_name',\n",
       " 'touchpoint_site_name',\n",
       " 'event_type',\n",
       " 'conversion',\n",
       " 'touchpoint_type',\n",
       " 'source_1',\n",
       " 'source_2',\n",
       " 'touchpoints_in_path',\n",
       " 'attribution_sequence',\n",
       " 'path_position',\n",
       " 'event_date',\n",
       " 'touchpoint_date',\n",
       " 'first_touch_date',\n",
       " 'last_touch_date']"
      ]
     },
     "execution_count": 64,
     "metadata": {},
     "output_type": "execute_result"
    }
   ],
   "source": [
    "selected_col"
   ]
  },
  {
   "cell_type": "code",
   "execution_count": 65,
   "metadata": {
    "collapsed": false
   },
   "outputs": [],
   "source": [
    "df_model=df_base_remove[selected_col]"
   ]
  },
  {
   "cell_type": "code",
   "execution_count": 66,
   "metadata": {
    "collapsed": false
   },
   "outputs": [
    {
     "data": {
      "text/plain": [
       "source_1              source_2        \n",
       "organic brand         cse.google.co.uk      1\n",
       "organic nonbrand      www.google.co.uk      1\n",
       "organic not provided  m-search.co.uk        1\n",
       "other                 darukade.com          1\n",
       "                      talktalk.co.uk        1\n",
       "organic brand         www.google.co.uk      2\n",
       "other                 centrum.co.uk        16\n",
       "organic not provided  www.google.co.uk     41\n",
       "                      google.co.uk        936\n",
       "Name: source_2, dtype: int64"
      ]
     },
     "execution_count": 66,
     "metadata": {},
     "output_type": "execute_result"
    }
   ],
   "source": [
    "df_model[df_model.source_2.str.contains('uk')].groupby(['source_1','source_2']).source_2.count().sort_values()"
   ]
  },
  {
   "cell_type": "code",
   "execution_count": 67,
   "metadata": {
    "collapsed": false
   },
   "outputs": [],
   "source": [
    "#df_model[df_model.source_2.str.contains('google')].groupby('source_2').source_2.count()[lambda x:x<20].sort_values()"
   ]
  },
  {
   "cell_type": "code",
   "execution_count": 68,
   "metadata": {
    "collapsed": false
   },
   "outputs": [
    {
     "name": "stderr",
     "output_type": "stream",
     "text": [
      "C:\\Users\\zfang\\AppData\\Local\\Continuum\\Anaconda3\\lib\\site-packages\\pandas\\core\\generic.py:2773: SettingWithCopyWarning: \n",
      "A value is trying to be set on a copy of a slice from a DataFrame.\n",
      "Try using .loc[row_indexer,col_indexer] = value instead\n",
      "\n",
      "See the caveats in the documentation: http://pandas.pydata.org/pandas-docs/stable/indexing.html#indexing-view-versus-copy\n",
      "  self[name] = value\n"
     ]
    }
   ],
   "source": [
    "df_model.source_2=[row.replace('www.google.co.','google.co.') for row in df_model.source_2]"
   ]
  },
  {
   "cell_type": "code",
   "execution_count": 69,
   "metadata": {
    "collapsed": false
   },
   "outputs": [
    {
     "data": {
      "text/plain": [
       "source_1              source_2        \n",
       "organic brand         cse.google.co.uk      1\n",
       "organic nonbrand      google.co.uk          1\n",
       "organic not provided  m-search.co.uk        1\n",
       "other                 darukade.com          1\n",
       "                      talktalk.co.uk        1\n",
       "organic brand         google.co.uk          2\n",
       "other                 centrum.co.uk        16\n",
       "organic not provided  google.co.uk        977\n",
       "Name: source_2, dtype: int64"
      ]
     },
     "execution_count": 69,
     "metadata": {},
     "output_type": "execute_result"
    }
   ],
   "source": [
    "df_model[df_model.source_2.str.contains('uk')].groupby(['source_1','source_2']).source_2.count().sort_values()"
   ]
  },
  {
   "cell_type": "code",
   "execution_count": 70,
   "metadata": {
    "collapsed": false
   },
   "outputs": [
    {
     "name": "stderr",
     "output_type": "stream",
     "text": [
      "C:\\Users\\zfang\\AppData\\Local\\Continuum\\Anaconda3\\lib\\site-packages\\pandas\\core\\generic.py:3554: SettingWithCopyWarning: \n",
      "A value is trying to be set on a copy of a slice from a DataFrame\n",
      "\n",
      "See the caveats in the documentation: http://pandas.pydata.org/pandas-docs/stable/indexing.html#indexing-view-versus-copy\n",
      "  self._update_inplace(new_data)\n"
     ]
    }
   ],
   "source": [
    "df_model.source_2.replace({'yahoo_gemini':'yahoo-gemini',\n",
    "                           'bing.com':'bing',\n",
    "                           'facebook.com':'facebook',\n",
    "                           'twitter.com':'twitter'},inplace=True)"
   ]
  },
  {
   "cell_type": "code",
   "execution_count": 71,
   "metadata": {
    "collapsed": false
   },
   "outputs": [
    {
     "data": {
      "text/plain": [
       "source_1\n",
       "content                  18998\n",
       "coupon                   11957\n",
       "display                 726649\n",
       "ecrm                       102\n",
       "email                     6028\n",
       "influencer                 311\n",
       "organic brand             1461\n",
       "organic nonbrand           197\n",
       "organic not provided     22413\n",
       "other                    15354\n",
       "pchbrands                   93\n",
       "ppc brand                36791\n",
       "ppc content                  8\n",
       "ppc nonbrand              7640\n",
       "social n etwork paid       536\n",
       "social n etworkpaid          4\n",
       "social network            9324\n",
       "social network  paid       244\n",
       "social network paid       4813\n",
       "text                       215\n",
       "video                   164463\n",
       "zalo                         1\n",
       "Name: source_1, dtype: int64"
      ]
     },
     "execution_count": 71,
     "metadata": {},
     "output_type": "execute_result"
    }
   ],
   "source": [
    "df_model.groupby('source_1').source_1.count()"
   ]
  },
  {
   "cell_type": "code",
   "execution_count": 72,
   "metadata": {
    "collapsed": false
   },
   "outputs": [
    {
     "name": "stderr",
     "output_type": "stream",
     "text": [
      "C:\\Users\\zfang\\AppData\\Local\\Continuum\\Anaconda3\\lib\\site-packages\\pandas\\core\\generic.py:3554: SettingWithCopyWarning: \n",
      "A value is trying to be set on a copy of a slice from a DataFrame\n",
      "\n",
      "See the caveats in the documentation: http://pandas.pydata.org/pandas-docs/stable/indexing.html#indexing-view-versus-copy\n",
      "  self._update_inplace(new_data)\n"
     ]
    }
   ],
   "source": [
    "#rename source_1\n",
    "df_model['source_1'].replace({'social n etwork paid': 'social network paid',\n",
    "                              'social n etworkpaid':'social network paid',\n",
    "                              'social network  paid':'social network paid',\n",
    "                              'pchbrands':'ppc brand'},inplace=True)"
   ]
  },
  {
   "cell_type": "code",
   "execution_count": 73,
   "metadata": {
    "collapsed": false
   },
   "outputs": [
    {
     "data": {
      "text/plain": [
       "source_1\n",
       "content                  18998\n",
       "coupon                   11957\n",
       "display                 726649\n",
       "ecrm                       102\n",
       "email                     6028\n",
       "influencer                 311\n",
       "organic brand             1461\n",
       "organic nonbrand           197\n",
       "organic not provided     22413\n",
       "other                    15354\n",
       "ppc brand                36884\n",
       "ppc content                  8\n",
       "ppc nonbrand              7640\n",
       "social network            9324\n",
       "social network paid       5597\n",
       "text                       215\n",
       "video                   164463\n",
       "zalo                         1\n",
       "Name: source_1, dtype: int64"
      ]
     },
     "execution_count": 73,
     "metadata": {},
     "output_type": "execute_result"
    }
   ],
   "source": [
    "df_model.groupby('source_1').source_1.count()"
   ]
  },
  {
   "cell_type": "code",
   "execution_count": 74,
   "metadata": {
    "collapsed": false
   },
   "outputs": [
    {
     "name": "stderr",
     "output_type": "stream",
     "text": [
      "C:\\Users\\zfang\\AppData\\Local\\Continuum\\Anaconda3\\lib\\site-packages\\ipykernel\\__main__.py:1: SettingWithCopyWarning: \n",
      "A value is trying to be set on a copy of a slice from a DataFrame.\n",
      "Try using .loc[row_indexer,col_indexer] = value instead\n",
      "\n",
      "See the caveats in the documentation: http://pandas.pydata.org/pandas-docs/stable/indexing.html#indexing-view-versus-copy\n",
      "  if __name__ == '__main__':\n"
     ]
    }
   ],
   "source": [
    "df_model['event_to_touchpoint']=(df_model.event_date-df_model.touchpoint_date).dt.total_seconds()"
   ]
  },
  {
   "cell_type": "code",
   "execution_count": 75,
   "metadata": {
    "collapsed": false
   },
   "outputs": [
    {
     "data": {
      "text/plain": [
       "(array([  4.09192000e+05,   1.44245000e+05,   1.00133000e+05,\n",
       "          9.37340000e+04,   8.42980000e+04,   6.28760000e+04,\n",
       "          7.06750000e+04,   5.61630000e+04,   6.01700000e+03,\n",
       "          2.69000000e+02]),\n",
       " array([        0. ,   1311754.9,   2623509.8,   3935264.7,   5247019.6,\n",
       "          6558774.5,   7870529.4,   9182284.3,  10494039.2,  11805794.1,\n",
       "         13117549. ]),\n",
       " <a list of 10 Patch objects>)"
      ]
     },
     "execution_count": 75,
     "metadata": {},
     "output_type": "execute_result"
    },
    {
     "data": {
      "image/png": "[encoded data removed]",
      "text/plain": [
       "<matplotlib.figure.Figure at 0x225884d1a58>"
      ]
     },
     "metadata": {},
     "output_type": "display_data"
    }
   ],
   "source": [
    "plt.hist(df_model['event_to_touchpoint'])"
   ]
  },
  {
   "cell_type": "code",
   "execution_count": 76,
   "metadata": {
    "collapsed": false
   },
   "outputs": [
    {
     "name": "stderr",
     "output_type": "stream",
     "text": [
      "C:\\Users\\zfang\\AppData\\Local\\Continuum\\Anaconda3\\lib\\site-packages\\ipykernel\\__main__.py:1: SettingWithCopyWarning: \n",
      "A value is trying to be set on a copy of a slice from a DataFrame.\n",
      "Try using .loc[row_indexer,col_indexer] = value instead\n",
      "\n",
      "See the caveats in the documentation: http://pandas.pydata.org/pandas-docs/stable/indexing.html#indexing-view-versus-copy\n",
      "  if __name__ == '__main__':\n"
     ]
    }
   ],
   "source": [
    "df_model['event_to_touchpoint']=df_model['event_to_touchpoint']+1"
   ]
  },
  {
   "cell_type": "code",
   "execution_count": 77,
   "metadata": {
    "collapsed": false
   },
   "outputs": [
    {
     "name": "stderr",
     "output_type": "stream",
     "text": [
      "C:\\Users\\zfang\\AppData\\Local\\Continuum\\Anaconda3\\lib\\site-packages\\ipykernel\\__main__.py:1: SettingWithCopyWarning: \n",
      "A value is trying to be set on a copy of a slice from a DataFrame.\n",
      "Try using .loc[row_indexer,col_indexer] = value instead\n",
      "\n",
      "See the caveats in the documentation: http://pandas.pydata.org/pandas-docs/stable/indexing.html#indexing-view-versus-copy\n",
      "  if __name__ == '__main__':\n"
     ]
    }
   ],
   "source": [
    "df_model['log_event_to_touchpoint']=np.log(df_model['event_to_touchpoint'])"
   ]
  },
  {
   "cell_type": "code",
   "execution_count": 78,
   "metadata": {
    "collapsed": false
   },
   "outputs": [
    {
     "name": "stderr",
     "output_type": "stream",
     "text": [
      "C:\\Users\\zfang\\AppData\\Local\\Continuum\\Anaconda3\\lib\\site-packages\\ipykernel\\__main__.py:1: SettingWithCopyWarning: \n",
      "A value is trying to be set on a copy of a slice from a DataFrame.\n",
      "Try using .loc[row_indexer,col_indexer] = value instead\n",
      "\n",
      "See the caveats in the documentation: http://pandas.pydata.org/pandas-docs/stable/indexing.html#indexing-view-versus-copy\n",
      "  if __name__ == '__main__':\n"
     ]
    }
   ],
   "source": [
    "df_model['day_of_week']=df_model.touchpoint_date.dt.weekday_name"
   ]
  },
  {
   "cell_type": "code",
   "execution_count": 79,
   "metadata": {
    "collapsed": false
   },
   "outputs": [
    {
     "name": "stderr",
     "output_type": "stream",
     "text": [
      "C:\\Users\\zfang\\AppData\\Local\\Continuum\\Anaconda3\\lib\\site-packages\\ipykernel\\__main__.py:1: SettingWithCopyWarning: \n",
      "A value is trying to be set on a copy of a slice from a DataFrame.\n",
      "Try using .loc[row_indexer,col_indexer] = value instead\n",
      "\n",
      "See the caveats in the documentation: http://pandas.pydata.org/pandas-docs/stable/indexing.html#indexing-view-versus-copy\n",
      "  if __name__ == '__main__':\n"
     ]
    }
   ],
   "source": [
    "df_model['month']=df_model.touchpoint_date.dt.month"
   ]
  },
  {
   "cell_type": "code",
   "execution_count": 80,
   "metadata": {
    "collapsed": false
   },
   "outputs": [
    {
     "name": "stderr",
     "output_type": "stream",
     "text": [
      "C:\\Users\\zfang\\AppData\\Local\\Continuum\\Anaconda3\\lib\\site-packages\\ipykernel\\__main__.py:1: SettingWithCopyWarning: \n",
      "A value is trying to be set on a copy of a slice from a DataFrame.\n",
      "Try using .loc[row_indexer,col_indexer] = value instead\n",
      "\n",
      "See the caveats in the documentation: http://pandas.pydata.org/pandas-docs/stable/indexing.html#indexing-view-versus-copy\n",
      "  if __name__ == '__main__':\n"
     ]
    }
   ],
   "source": [
    "df_model['week_of_month']=(df_model.touchpoint_date.dt.day-1)//7+1"
   ]
  },
  {
   "cell_type": "code",
   "execution_count": 81,
   "metadata": {
    "collapsed": false
   },
   "outputs": [
    {
     "name": "stderr",
     "output_type": "stream",
     "text": [
      "C:\\Users\\zfang\\AppData\\Local\\Continuum\\Anaconda3\\lib\\site-packages\\ipykernel\\__main__.py:2: SettingWithCopyWarning: \n",
      "A value is trying to be set on a copy of a slice from a DataFrame.\n",
      "Try using .loc[row_indexer,col_indexer] = value instead\n",
      "\n",
      "See the caveats in the documentation: http://pandas.pydata.org/pandas-docs/stable/indexing.html#indexing-view-versus-copy\n",
      "  from ipykernel import kernelapp as app\n"
     ]
    }
   ],
   "source": [
    "df_model['>20_touchpoints']=np.where(df_model.touchpoints_in_path>20,\n",
    "                                     1,0)"
   ]
  },
  {
   "cell_type": "code",
   "execution_count": 82,
   "metadata": {
    "collapsed": false
   },
   "outputs": [
    {
     "name": "stderr",
     "output_type": "stream",
     "text": [
      "C:\\Users\\zfang\\AppData\\Local\\Continuum\\Anaconda3\\lib\\site-packages\\ipykernel\\__main__.py:1: SettingWithCopyWarning: \n",
      "A value is trying to be set on a copy of a slice from a DataFrame\n",
      "\n",
      "See the caveats in the documentation: http://pandas.pydata.org/pandas-docs/stable/indexing.html#indexing-view-versus-copy\n",
      "  if __name__ == '__main__':\n"
     ]
    }
   ],
   "source": [
    "df_model.drop('event_to_touchpoint',inplace=True,axis=1)"
   ]
  },
  {
   "cell_type": "code",
   "execution_count": 83,
   "metadata": {
    "collapsed": false
   },
   "outputs": [],
   "source": [
    "from sklearn.cross_validation import train_test_split"
   ]
  },
  {
   "cell_type": "code",
   "execution_count": 84,
   "metadata": {
    "collapsed": false
   },
   "outputs": [],
   "source": [
    "target=df_model.conversion"
   ]
  },
  {
   "cell_type": "code",
   "execution_count": 85,
   "metadata": {
    "collapsed": false
   },
   "outputs": [],
   "source": [
    "#split data into train dataset and test dataset 80/20\n",
    "df_train,df_test,target_train,target_test = train_test_split(df_model,target,test_size=0.2,random_state=1)"
   ]
  },
  {
   "cell_type": "code",
   "execution_count": 86,
   "metadata": {
    "collapsed": true
   },
   "outputs": [],
   "source": [
    "full_data=[df_train,df_test]"
   ]
  },
  {
   "cell_type": "code",
   "execution_count": 88,
   "metadata": {
    "collapsed": false
   },
   "outputs": [
    {
     "name": "stderr",
     "output_type": "stream",
     "text": [
      "C:\\Users\\zfang\\AppData\\Local\\Continuum\\Anaconda3\\lib\\site-packages\\ipykernel\\__main__.py:3: SettingWithCopyWarning: \n",
      "A value is trying to be set on a copy of a slice from a DataFrame.\n",
      "Try using .loc[row_indexer,col_indexer] = value instead\n",
      "\n",
      "See the caveats in the documentation: http://pandas.pydata.org/pandas-docs/stable/indexing.html#indexing-view-versus-copy\n",
      "  app.launch_new_instance()\n",
      "C:\\Users\\zfang\\AppData\\Local\\Continuum\\Anaconda3\\lib\\site-packages\\ipykernel\\__main__.py:4: SettingWithCopyWarning: \n",
      "A value is trying to be set on a copy of a slice from a DataFrame.\n",
      "Try using .loc[row_indexer,col_indexer] = value instead\n",
      "\n",
      "See the caveats in the documentation: http://pandas.pydata.org/pandas-docs/stable/indexing.html#indexing-view-versus-copy\n",
      "C:\\Users\\zfang\\AppData\\Local\\Continuum\\Anaconda3\\lib\\site-packages\\ipykernel\\__main__.py:5: SettingWithCopyWarning: \n",
      "A value is trying to be set on a copy of a slice from a DataFrame.\n",
      "Try using .loc[row_indexer,col_indexer] = value instead\n",
      "\n",
      "See the caveats in the documentation: http://pandas.pydata.org/pandas-docs/stable/indexing.html#indexing-view-versus-copy\n",
      "C:\\Users\\zfang\\AppData\\Local\\Continuum\\Anaconda3\\lib\\site-packages\\ipykernel\\__main__.py:6: SettingWithCopyWarning: \n",
      "A value is trying to be set on a copy of a slice from a DataFrame.\n",
      "Try using .loc[row_indexer,col_indexer] = value instead\n",
      "\n",
      "See the caveats in the documentation: http://pandas.pydata.org/pandas-docs/stable/indexing.html#indexing-view-versus-copy\n",
      "C:\\Users\\zfang\\AppData\\Local\\Continuum\\Anaconda3\\lib\\site-packages\\ipykernel\\__main__.py:7: SettingWithCopyWarning: \n",
      "A value is trying to be set on a copy of a slice from a DataFrame.\n",
      "Try using .loc[row_indexer,col_indexer] = value instead\n",
      "\n",
      "See the caveats in the documentation: http://pandas.pydata.org/pandas-docs/stable/indexing.html#indexing-view-versus-copy\n",
      "C:\\Users\\zfang\\AppData\\Local\\Continuum\\Anaconda3\\lib\\site-packages\\ipykernel\\__main__.py:8: SettingWithCopyWarning: \n",
      "A value is trying to be set on a copy of a slice from a DataFrame.\n",
      "Try using .loc[row_indexer,col_indexer] = value instead\n",
      "\n",
      "See the caveats in the documentation: http://pandas.pydata.org/pandas-docs/stable/indexing.html#indexing-view-versus-copy\n"
     ]
    }
   ],
   "source": [
    "#Calculate conversion mean for selected categories \n",
    "for dataset in full_data:\n",
    "    dataset['channel_con_mean']=dataset.source_1.map(dataset.groupby('source_1')['conversion'].mean())\n",
    "    dataset['touchpoint_site_name_con_mean']=dataset.touchpoint_site_name.map(dataset.groupby('touchpoint_site_name')['conversion'].mean())\n",
    "    dataset['event_site_name_con_mean']=dataset.event_site_name.map(dataset.groupby('event_site_name')['conversion'].mean())   \n",
    "    dataset['channel_con_median']=dataset.source_1.map(dataset.groupby('source_1')['conversion'].median())\n",
    "    dataset['path_position_con_mean']=dataset.path_position.map(dataset.groupby('path_position')['conversion'].mean())\n",
    "    dataset['path_position_con_median']=dataset.path_position.map(dataset.groupby('path_position')['conversion'].median())"
   ]
  },
  {
   "cell_type": "code",
   "execution_count": 89,
   "metadata": {
    "collapsed": false
   },
   "outputs": [
    {
     "name": "stdout",
     "output_type": "stream",
     "text": [
      "<class 'pandas.core.frame.DataFrame'>\n",
      "Int64Index: 822081 entries, 768728 to 153401\n",
      "Data columns (total 25 columns):\n",
      "event_site_name                  822081 non-null object\n",
      "touchpoint_site_name             822081 non-null object\n",
      "event_type                       822081 non-null object\n",
      "conversion                       822081 non-null float64\n",
      "touchpoint_type                  822081 non-null object\n",
      "source_1                         822081 non-null object\n",
      "source_2                         822081 non-null object\n",
      "touchpoints_in_path              822081 non-null int64\n",
      "attribution_sequence             822081 non-null int64\n",
      "path_position                    822081 non-null object\n",
      "event_date                       822081 non-null datetime64[ns]\n",
      "touchpoint_date                  822081 non-null datetime64[ns]\n",
      "first_touch_date                 822081 non-null datetime64[ns]\n",
      "last_touch_date                  822081 non-null datetime64[ns]\n",
      "log_event_to_touchpoint          822081 non-null float64\n",
      "day_of_week                      822081 non-null object\n",
      "month                            822081 non-null int64\n",
      "week_of_month                    822081 non-null int64\n",
      ">20_touchpoints                  822081 non-null int32\n",
      "channel_con_mean                 822081 non-null float64\n",
      "touchpoint_site_name_con_mean    822081 non-null float64\n",
      "event_site_name_con_mean         822081 non-null float64\n",
      "channel_con_median               822081 non-null float64\n",
      "path_position_con_mean           822081 non-null float64\n",
      "path_position_con_median         822081 non-null float64\n",
      "dtypes: datetime64[ns](4), float64(8), int32(1), int64(4), object(8)\n",
      "memory usage: 159.9+ MB\n"
     ]
    }
   ],
   "source": [
    "df_train.info()"
   ]
  },
  {
   "cell_type": "code",
   "execution_count": 90,
   "metadata": {
    "collapsed": false
   },
   "outputs": [
    {
     "name": "stderr",
     "output_type": "stream",
     "text": [
      "C:\\Users\\zfang\\AppData\\Local\\Continuum\\Anaconda3\\lib\\site-packages\\ipykernel\\__main__.py:1: SettingWithCopyWarning: \n",
      "A value is trying to be set on a copy of a slice from a DataFrame.\n",
      "Try using .loc[row_indexer,col_indexer] = value instead\n",
      "\n",
      "See the caveats in the documentation: http://pandas.pydata.org/pandas-docs/stable/indexing.html#indexing-view-versus-copy\n",
      "  if __name__ == '__main__':\n",
      "C:\\Users\\zfang\\AppData\\Local\\Continuum\\Anaconda3\\lib\\site-packages\\ipykernel\\__main__.py:2: SettingWithCopyWarning: \n",
      "A value is trying to be set on a copy of a slice from a DataFrame.\n",
      "Try using .loc[row_indexer,col_indexer] = value instead\n",
      "\n",
      "See the caveats in the documentation: http://pandas.pydata.org/pandas-docs/stable/indexing.html#indexing-view-versus-copy\n",
      "  from ipykernel import kernelapp as app\n"
     ]
    }
   ],
   "source": [
    "df_train['train_test']='train'\n",
    "df_test['train_test']='test'"
   ]
  },
  {
   "cell_type": "code",
   "execution_count": 91,
   "metadata": {
    "collapsed": true
   },
   "outputs": [],
   "source": [
    "df_combine=pd.concat([df_train,df_test],ignore_index=True)"
   ]
  },
  {
   "cell_type": "markdown",
   "metadata": {},
   "source": [
    "## Get Dummies"
   ]
  },
  {
   "cell_type": "code",
   "execution_count": 92,
   "metadata": {
    "collapsed": false
   },
   "outputs": [],
   "source": [
    "df_combine_dummies=pd.get_dummies(df_combine,columns=['event_site_name','touchpoint_site_name','event_type','touchpoint_type','source_1','source_2','path_position','day_of_week','month','week_of_month'],\n",
    "                          drop_first=True)"
   ]
  },
  {
   "cell_type": "code",
   "execution_count": 93,
   "metadata": {
    "collapsed": false
   },
   "outputs": [
    {
     "data": {
      "text/html": [
       "<div>\n",
       "<table border=\"1\" class=\"dataframe\">\n",
       "  <thead>\n",
       "    <tr style=\"text-align: right;\">\n",
       "      <th></th>\n",
       "      <th>conversion</th>\n",
       "      <th>touchpoints_in_path</th>\n",
       "      <th>attribution_sequence</th>\n",
       "      <th>event_date</th>\n",
       "      <th>touchpoint_date</th>\n",
       "      <th>first_touch_date</th>\n",
       "      <th>last_touch_date</th>\n",
       "      <th>log_event_to_touchpoint</th>\n",
       "      <th>&gt;20_touchpoints</th>\n",
       "      <th>channel_con_mean</th>\n",
       "      <th>...</th>\n",
       "      <th>day_of_week_Wednesday</th>\n",
       "      <th>month_2</th>\n",
       "      <th>month_3</th>\n",
       "      <th>month_4</th>\n",
       "      <th>month_11</th>\n",
       "      <th>month_12</th>\n",
       "      <th>week_of_month_2</th>\n",
       "      <th>week_of_month_3</th>\n",
       "      <th>week_of_month_4</th>\n",
       "      <th>week_of_month_5</th>\n",
       "    </tr>\n",
       "  </thead>\n",
       "  <tbody>\n",
       "    <tr>\n",
       "      <th>0</th>\n",
       "      <td>0.000002</td>\n",
       "      <td>15</td>\n",
       "      <td>9</td>\n",
       "      <td>2017-04-06 22:16:00</td>\n",
       "      <td>2017-04-03 16:42:39</td>\n",
       "      <td>2017-01-16 19:09:52</td>\n",
       "      <td>2017-04-06 22:16:00</td>\n",
       "      <td>12.539691</td>\n",
       "      <td>0</td>\n",
       "      <td>0.007424</td>\n",
       "      <td>...</td>\n",
       "      <td>0</td>\n",
       "      <td>0</td>\n",
       "      <td>0</td>\n",
       "      <td>1</td>\n",
       "      <td>0</td>\n",
       "      <td>0</td>\n",
       "      <td>0</td>\n",
       "      <td>0</td>\n",
       "      <td>0</td>\n",
       "      <td>0</td>\n",
       "    </tr>\n",
       "    <tr>\n",
       "      <th>1</th>\n",
       "      <td>0.000040</td>\n",
       "      <td>45</td>\n",
       "      <td>26</td>\n",
       "      <td>2017-04-21 16:08:26</td>\n",
       "      <td>2017-03-21 17:26:57</td>\n",
       "      <td>2016-12-14 19:15:51</td>\n",
       "      <td>2017-04-21 16:08:26</td>\n",
       "      <td>14.798970</td>\n",
       "      <td>1</td>\n",
       "      <td>0.007424</td>\n",
       "      <td>...</td>\n",
       "      <td>0</td>\n",
       "      <td>0</td>\n",
       "      <td>1</td>\n",
       "      <td>0</td>\n",
       "      <td>0</td>\n",
       "      <td>0</td>\n",
       "      <td>0</td>\n",
       "      <td>1</td>\n",
       "      <td>0</td>\n",
       "      <td>0</td>\n",
       "    </tr>\n",
       "    <tr>\n",
       "      <th>2</th>\n",
       "      <td>0.165877</td>\n",
       "      <td>6</td>\n",
       "      <td>3</td>\n",
       "      <td>2017-04-24 01:00:53</td>\n",
       "      <td>2017-04-19 22:29:37</td>\n",
       "      <td>2017-04-19 00:20:51</td>\n",
       "      <td>2017-04-22 11:05:44</td>\n",
       "      <td>12.778963</td>\n",
       "      <td>0</td>\n",
       "      <td>0.007424</td>\n",
       "      <td>...</td>\n",
       "      <td>1</td>\n",
       "      <td>0</td>\n",
       "      <td>0</td>\n",
       "      <td>1</td>\n",
       "      <td>0</td>\n",
       "      <td>0</td>\n",
       "      <td>0</td>\n",
       "      <td>1</td>\n",
       "      <td>0</td>\n",
       "      <td>0</td>\n",
       "    </tr>\n",
       "    <tr>\n",
       "      <th>3</th>\n",
       "      <td>0.000982</td>\n",
       "      <td>25</td>\n",
       "      <td>11</td>\n",
       "      <td>2017-04-04 15:42:00</td>\n",
       "      <td>2017-02-13 12:41:40</td>\n",
       "      <td>2017-01-24 12:44:33</td>\n",
       "      <td>2017-04-04 15:42:00</td>\n",
       "      <td>15.281268</td>\n",
       "      <td>1</td>\n",
       "      <td>0.012657</td>\n",
       "      <td>...</td>\n",
       "      <td>0</td>\n",
       "      <td>1</td>\n",
       "      <td>0</td>\n",
       "      <td>0</td>\n",
       "      <td>0</td>\n",
       "      <td>0</td>\n",
       "      <td>1</td>\n",
       "      <td>0</td>\n",
       "      <td>0</td>\n",
       "      <td>0</td>\n",
       "    </tr>\n",
       "    <tr>\n",
       "      <th>4</th>\n",
       "      <td>0.007667</td>\n",
       "      <td>13</td>\n",
       "      <td>6</td>\n",
       "      <td>2017-04-20 15:32:00</td>\n",
       "      <td>2017-04-03 13:28:09</td>\n",
       "      <td>2017-03-03 12:25:25</td>\n",
       "      <td>2017-04-20 15:32:00</td>\n",
       "      <td>14.205003</td>\n",
       "      <td>0</td>\n",
       "      <td>0.007424</td>\n",
       "      <td>...</td>\n",
       "      <td>0</td>\n",
       "      <td>0</td>\n",
       "      <td>0</td>\n",
       "      <td>1</td>\n",
       "      <td>0</td>\n",
       "      <td>0</td>\n",
       "      <td>0</td>\n",
       "      <td>0</td>\n",
       "      <td>0</td>\n",
       "      <td>0</td>\n",
       "    </tr>\n",
       "  </tbody>\n",
       "</table>\n",
       "<p>5 rows × 671 columns</p>\n",
       "</div>"
      ],
      "text/plain": [
       "   conversion  touchpoints_in_path  attribution_sequence          event_date  \\\n",
       "0    0.000002                   15                     9 2017-04-06 22:16:00   \n",
       "1    0.000040                   45                    26 2017-04-21 16:08:26   \n",
       "2    0.165877                    6                     3 2017-04-24 01:00:53   \n",
       "3    0.000982                   25                    11 2017-04-04 15:42:00   \n",
       "4    0.007667                   13                     6 2017-04-20 15:32:00   \n",
       "\n",
       "      touchpoint_date    first_touch_date     last_touch_date  \\\n",
       "0 2017-04-03 16:42:39 2017-01-16 19:09:52 2017-04-06 22:16:00   \n",
       "1 2017-03-21 17:26:57 2016-12-14 19:15:51 2017-04-21 16:08:26   \n",
       "2 2017-04-19 22:29:37 2017-04-19 00:20:51 2017-04-22 11:05:44   \n",
       "3 2017-02-13 12:41:40 2017-01-24 12:44:33 2017-04-04 15:42:00   \n",
       "4 2017-04-03 13:28:09 2017-03-03 12:25:25 2017-04-20 15:32:00   \n",
       "\n",
       "   log_event_to_touchpoint  >20_touchpoints  channel_con_mean  \\\n",
       "0                12.539691                0          0.007424   \n",
       "1                14.798970                1          0.007424   \n",
       "2                12.778963                0          0.007424   \n",
       "3                15.281268                1          0.012657   \n",
       "4                14.205003                0          0.007424   \n",
       "\n",
       "        ...         day_of_week_Wednesday  month_2  month_3  month_4  \\\n",
       "0       ...                             0        0        0        1   \n",
       "1       ...                             0        0        1        0   \n",
       "2       ...                             1        0        0        1   \n",
       "3       ...                             0        1        0        0   \n",
       "4       ...                             0        0        0        1   \n",
       "\n",
       "   month_11 month_12  week_of_month_2  week_of_month_3  week_of_month_4  \\\n",
       "0         0        0                0                0                0   \n",
       "1         0        0                0                1                0   \n",
       "2         0        0                0                1                0   \n",
       "3         0        0                1                0                0   \n",
       "4         0        0                0                0                0   \n",
       "\n",
       "   week_of_month_5  \n",
       "0                0  \n",
       "1                0  \n",
       "2                0  \n",
       "3                0  \n",
       "4                0  \n",
       "\n",
       "[5 rows x 671 columns]"
      ]
     },
     "execution_count": 93,
     "metadata": {},
     "output_type": "execute_result"
    }
   ],
   "source": [
    "df_combine_dummies.head()"
   ]
  },
  {
   "cell_type": "code",
   "execution_count": 94,
   "metadata": {
    "collapsed": false
   },
   "outputs": [],
   "source": [
    "#split df_combine_dummies into df_train_dummies and df_test_dummies\n",
    "df_train_dummies=df_combine_dummies.loc[df_combine_dummies.train_test=='train',:]\n",
    "df_test_dummies=df_combine_dummies.loc[df_combine_dummies.train_test=='test',:]"
   ]
  },
  {
   "cell_type": "markdown",
   "metadata": {},
   "source": [
    "## Model Creation "
   ]
  },
  {
   "cell_type": "code",
   "execution_count": 95,
   "metadata": {
    "collapsed": true
   },
   "outputs": [],
   "source": [
    "import os"
   ]
  },
  {
   "cell_type": "code",
   "execution_count": 96,
   "metadata": {
    "collapsed": true
   },
   "outputs": [],
   "source": [
    "#environment for xgboost\n",
    "mingw_path = 'C:\\\\Program Files\\\\mingw-w64\\\\x86_64-7.1.0-posix-seh-rt_v5-rev0\\\\mingw64\\\\bin'\n",
    "\n",
    "os.environ['PATH'] = mingw_path + ';' + os.environ['PATH']\n"
   ]
  },
  {
   "cell_type": "code",
   "execution_count": 97,
   "metadata": {
    "collapsed": true
   },
   "outputs": [],
   "source": [
    "from xgboost import XGBRegressor"
   ]
  },
  {
   "cell_type": "code",
   "execution_count": 98,
   "metadata": {
    "collapsed": false
   },
   "outputs": [],
   "source": [
    "from sklearn.linear_model import LinearRegression\n",
    "from sklearn.linear_model import Lasso, Ridge\n",
    "from sklearn.linear_model import ElasticNet\n",
    "from sklearn.linear_model import (Ridge,Lasso, TheilSenRegressor, RANSACRegressor, HuberRegressor)\n",
    "\n",
    "from sklearn.ensemble import (RandomForestRegressor, ExtraTreesRegressor, BaggingRegressor,\n",
    "                              AdaBoostRegressor, GradientBoostingRegressor)\n",
    "from sklearn.neighbors import (KNeighborsRegressor)\n",
    "from sklearn.tree import DecisionTreeRegressor \n",
    "import xgboost as xgb"
   ]
  },
  {
   "cell_type": "code",
   "execution_count": 99,
   "metadata": {
    "collapsed": false
   },
   "outputs": [],
   "source": [
    "from sklearn import metrics\n",
    "from sklearn.cross_validation import KFold,cross_val_score\n",
    "from sklearn.feature_selection import RFE"
   ]
  },
  {
   "cell_type": "code",
   "execution_count": 100,
   "metadata": {
    "collapsed": true
   },
   "outputs": [],
   "source": [
    "full_data_dummies=[df_train_dummies,df_test_dummies]"
   ]
  },
  {
   "cell_type": "code",
   "execution_count": 101,
   "metadata": {
    "collapsed": false
   },
   "outputs": [
    {
     "name": "stderr",
     "output_type": "stream",
     "text": [
      "C:\\Users\\zfang\\AppData\\Local\\Continuum\\Anaconda3\\lib\\site-packages\\ipykernel\\__main__.py:3: SettingWithCopyWarning: \n",
      "A value is trying to be set on a copy of a slice from a DataFrame\n",
      "\n",
      "See the caveats in the documentation: http://pandas.pydata.org/pandas-docs/stable/indexing.html#indexing-view-versus-copy\n",
      "  app.launch_new_instance()\n",
      "C:\\Users\\zfang\\AppData\\Local\\Continuum\\Anaconda3\\lib\\site-packages\\ipykernel\\__main__.py:5: SettingWithCopyWarning: \n",
      "A value is trying to be set on a copy of a slice from a DataFrame\n",
      "\n",
      "See the caveats in the documentation: http://pandas.pydata.org/pandas-docs/stable/indexing.html#indexing-view-versus-copy\n",
      "C:\\Users\\zfang\\AppData\\Local\\Continuum\\Anaconda3\\lib\\site-packages\\ipykernel\\__main__.py:8: SettingWithCopyWarning: \n",
      "A value is trying to be set on a copy of a slice from a DataFrame\n",
      "\n",
      "See the caveats in the documentation: http://pandas.pydata.org/pandas-docs/stable/indexing.html#indexing-view-versus-copy\n"
     ]
    }
   ],
   "source": [
    "#drop column with date\n",
    "for dataset in full_data_dummies:\n",
    "    dataset.drop(date_col,axis=1,inplace=True)\n",
    "    \n",
    "    dataset.drop('train_test',axis=1,inplace=True)\n",
    "\n",
    "    target = dataset.conversion\n",
    "    dataset.drop('conversion',axis=1,inplace=True)"
   ]
  },
  {
   "cell_type": "code",
   "execution_count": 102,
   "metadata": {
    "collapsed": false
   },
   "outputs": [
    {
     "data": {
      "text/plain": [
       "((822081, 665), (205521, 665))"
      ]
     },
     "execution_count": 102,
     "metadata": {},
     "output_type": "execute_result"
    }
   ],
   "source": [
    "df_train_dummies.shape,df_test_dummies.shape"
   ]
  },
  {
   "cell_type": "markdown",
   "metadata": {},
   "source": [
    "### Lasso, features_selection"
   ]
  },
  {
   "cell_type": "code",
   "execution_count": 48,
   "metadata": {
    "collapsed": true
   },
   "outputs": [],
   "source": [
    "lasso=Lasso(alpha=0.05,random_state=1)"
   ]
  },
  {
   "cell_type": "code",
   "execution_count": 53,
   "metadata": {
    "collapsed": true
   },
   "outputs": [],
   "source": [
    "#Recursive Feature Elimination\n",
    "rfe=RFE(lasso,10)"
   ]
  },
  {
   "cell_type": "code",
   "execution_count": 54,
   "metadata": {
    "collapsed": false
   },
   "outputs": [
    {
     "data": {
      "text/plain": [
       "RFE(estimator=Lasso(alpha=0.05, copy_X=True, fit_intercept=True, max_iter=1000,\n",
       "   normalize=False, positive=False, precompute=False, random_state=1,\n",
       "   selection='cyclic', tol=0.0001, warm_start=False),\n",
       "  n_features_to_select=10, step=1, verbose=0)"
      ]
     },
     "execution_count": 54,
     "metadata": {},
     "output_type": "execute_result"
    }
   ],
   "source": [
    "rfe.fit(df_train_dummies,target_train)"
   ]
  },
  {
   "cell_type": "code",
   "execution_count": 68,
   "metadata": {
    "collapsed": false
   },
   "outputs": [
    {
     "data": {
      "text/plain": [
       "array([ True,  True,  True, False, False, False, False, False, False,\n",
       "       False, False, False, False, False, False, False, False, False,\n",
       "       False, False, False, False, False, False, False, False, False,\n",
       "       False, False, False, False, False, False, False, False, False,\n",
       "       False, False, False, False, False, False, False, False, False,\n",
       "       False, False, False, False, False, False, False, False, False,\n",
       "       False, False, False, False, False, False, False, False, False,\n",
       "       False, False, False, False, False, False, False, False,  True,\n",
       "        True,  True,  True,  True,  True,  True], dtype=bool)"
      ]
     },
     "execution_count": 68,
     "metadata": {},
     "output_type": "execute_result"
    }
   ],
   "source": [
    "rfe.support_"
   ]
  },
  {
   "cell_type": "code",
   "execution_count": 71,
   "metadata": {
    "collapsed": false
   },
   "outputs": [
    {
     "data": {
      "text/plain": [
       "Index(['touchpoints_in_path', 'attribution_sequence',\n",
       "       'log_event_to_touchpoint', 'month_4', 'month_11', 'month_12',\n",
       "       'week_of_month_2', 'week_of_month_3', 'week_of_month_4',\n",
       "       'week_of_month_5'],\n",
       "      dtype='object')"
      ]
     },
     "execution_count": 71,
     "metadata": {},
     "output_type": "execute_result"
    }
   ],
   "source": [
    "df_train_dummies.columns[rfe.support_]"
   ]
  },
  {
   "cell_type": "code",
   "execution_count": 80,
   "metadata": {
    "collapsed": true
   },
   "outputs": [],
   "source": [
    "predict_0=rfe.predict(df_test_dummies)"
   ]
  },
  {
   "cell_type": "code",
   "execution_count": 81,
   "metadata": {
    "collapsed": false
   },
   "outputs": [
    {
     "data": {
      "text/plain": [
       "0.33651266625065779"
      ]
     },
     "execution_count": 81,
     "metadata": {},
     "output_type": "execute_result"
    }
   ],
   "source": [
    "lasso.score(df_test_dummies,target_test)"
   ]
  },
  {
   "cell_type": "markdown",
   "metadata": {},
   "source": [
    "### Ridge (Out)"
   ]
  },
  {
   "cell_type": "code",
   "execution_count": 103,
   "metadata": {
    "collapsed": false
   },
   "outputs": [
    {
     "data": {
      "text/plain": [
       "0.56229359500054099"
      ]
     },
     "execution_count": 103,
     "metadata": {},
     "output_type": "execute_result"
    }
   ],
   "source": [
    "\n",
    "alg=Ridge(alpha=0.05,random_state=1)\n",
    "\n",
    "alg.fit(df_train_dummies,target_train)\n",
    "\n",
    "predict = alg.predict(df_test_dummies)\n",
    "\n",
    "df_test.reset_index(drop=True, inplace=True)\n",
    "\n",
    "pd.DataFrame([target_test.values,predict]).T.head()\n",
    "\n",
    "alg.score(df_test_dummies,target_test)\n"
   ]
  },
  {
   "cell_type": "markdown",
   "metadata": {
    "collapsed": false
   },
   "source": [
    "```\n",
    "kf=KFold(len(df_combine_dummies),n_folds=10,\n",
    "         shuffle=True,random_state=0)\n",
    "\n",
    "\n",
    "print (cross_val_score(alg,df_dummies,target,\n",
    "               cv=kf,scoring='neg_mean_squared_error').mean())\n",
    "```"
   ]
  },
  {
   "cell_type": "markdown",
   "metadata": {},
   "source": [
    "### Decision Tree (Out)"
   ]
  },
  {
   "cell_type": "markdown",
   "metadata": {
    "collapsed": true
   },
   "source": [
    "```\n",
    "from sklearn.tree import DecisionTreeRegressor\n",
    "\n",
    "dt=DecisionTreeRegressor(max_depth=40)\n",
    "\n",
    "dt.fit(df_train,target_train)\n",
    "\n",
    "predict2 = dt.predict(df_test)\n",
    "\n",
    "metrics.mean_squared_error(target_test,predict2)\n",
    "\n",
    "dt.score(df_test,target_test)\n",
    "```"
   ]
  },
  {
   "cell_type": "markdown",
   "metadata": {},
   "source": [
    "### Elastic Net (Out)"
   ]
  },
  {
   "cell_type": "markdown",
   "metadata": {
    "collapsed": false
   },
   "source": [
    "```\n",
    "elastic=ElasticNet(alpha=0.5)\n",
    "\n",
    "elastic.fit(df_train_dummies,target_train)\n",
    "\n",
    "predict2 = elastic.predict(df_test_dummies)\n",
    "\n",
    "metrics.mean_squared_error(target_test,predict2)\n",
    "\n",
    "elastic.score(df_test_dummies,target_test)\n",
    "```\n"
   ]
  },
  {
   "cell_type": "markdown",
   "metadata": {},
   "source": [
    "### Random Forest "
   ]
  },
  {
   "cell_type": "code",
   "execution_count": 104,
   "metadata": {
    "collapsed": true
   },
   "outputs": [],
   "source": [
    "from sklearn.ensemble import RandomForestRegressor"
   ]
  },
  {
   "cell_type": "code",
   "execution_count": 105,
   "metadata": {
    "collapsed": true
   },
   "outputs": [],
   "source": [
    "rf=RandomForestRegressor(n_estimators=52,max_depth=None,n_jobs=-1,random_state=1)"
   ]
  },
  {
   "cell_type": "code",
   "execution_count": 106,
   "metadata": {
    "collapsed": false
   },
   "outputs": [
    {
     "data": {
      "text/plain": [
       "RandomForestRegressor(bootstrap=True, criterion='mse', max_depth=None,\n",
       "           max_features='auto', max_leaf_nodes=None,\n",
       "           min_impurity_split=1e-07, min_samples_leaf=1,\n",
       "           min_samples_split=2, min_weight_fraction_leaf=0.0,\n",
       "           n_estimators=52, n_jobs=-1, oob_score=False, random_state=1,\n",
       "           verbose=0, warm_start=False)"
      ]
     },
     "execution_count": 106,
     "metadata": {},
     "output_type": "execute_result"
    }
   ],
   "source": [
    "rf.fit(df_train_dummies,target_train)"
   ]
  },
  {
   "cell_type": "code",
   "execution_count": 107,
   "metadata": {
    "collapsed": false
   },
   "outputs": [],
   "source": [
    "predict1=rf.predict(df_test_dummies)"
   ]
  },
  {
   "cell_type": "code",
   "execution_count": 108,
   "metadata": {
    "collapsed": false
   },
   "outputs": [
    {
     "data": {
      "text/plain": [
       "0.0077912762725722996"
      ]
     },
     "execution_count": 108,
     "metadata": {},
     "output_type": "execute_result"
    }
   ],
   "source": [
    "metrics.mean_squared_error(target_test,predict1)"
   ]
  },
  {
   "cell_type": "code",
   "execution_count": 109,
   "metadata": {
    "collapsed": false
   },
   "outputs": [
    {
     "data": {
      "text/html": [
       "<div>\n",
       "<table border=\"1\" class=\"dataframe\">\n",
       "  <thead>\n",
       "    <tr style=\"text-align: right;\">\n",
       "      <th></th>\n",
       "      <th>0</th>\n",
       "      <th>1</th>\n",
       "      <th>2</th>\n",
       "      <th>3</th>\n",
       "      <th>4</th>\n",
       "      <th>5</th>\n",
       "      <th>6</th>\n",
       "      <th>7</th>\n",
       "      <th>8</th>\n",
       "      <th>9</th>\n",
       "      <th>...</th>\n",
       "      <th>205511</th>\n",
       "      <th>205512</th>\n",
       "      <th>205513</th>\n",
       "      <th>205514</th>\n",
       "      <th>205515</th>\n",
       "      <th>205516</th>\n",
       "      <th>205517</th>\n",
       "      <th>205518</th>\n",
       "      <th>205519</th>\n",
       "      <th>205520</th>\n",
       "    </tr>\n",
       "  </thead>\n",
       "  <tbody>\n",
       "    <tr>\n",
       "      <th>0</th>\n",
       "      <td>0.005126</td>\n",
       "      <td>0.000001</td>\n",
       "      <td>0.000033</td>\n",
       "      <td>0.070821</td>\n",
       "      <td>0.000003</td>\n",
       "      <td>0.001060</td>\n",
       "      <td>0.000015</td>\n",
       "      <td>0.000017</td>\n",
       "      <td>0.006221</td>\n",
       "      <td>0.007965</td>\n",
       "      <td>...</td>\n",
       "      <td>0.000000</td>\n",
       "      <td>0.000000</td>\n",
       "      <td>0.001365</td>\n",
       "      <td>0.000007</td>\n",
       "      <td>0.000192</td>\n",
       "      <td>0.002683</td>\n",
       "      <td>0.000001</td>\n",
       "      <td>0.000001</td>\n",
       "      <td>0.004074</td>\n",
       "      <td>0.005921</td>\n",
       "    </tr>\n",
       "    <tr>\n",
       "      <th>1</th>\n",
       "      <td>0.003392</td>\n",
       "      <td>0.000022</td>\n",
       "      <td>0.000060</td>\n",
       "      <td>0.645051</td>\n",
       "      <td>0.002559</td>\n",
       "      <td>0.001945</td>\n",
       "      <td>0.005351</td>\n",
       "      <td>0.000152</td>\n",
       "      <td>0.001903</td>\n",
       "      <td>0.005369</td>\n",
       "      <td>...</td>\n",
       "      <td>0.000017</td>\n",
       "      <td>0.001791</td>\n",
       "      <td>0.002290</td>\n",
       "      <td>0.001700</td>\n",
       "      <td>0.000294</td>\n",
       "      <td>0.002686</td>\n",
       "      <td>0.000413</td>\n",
       "      <td>0.000987</td>\n",
       "      <td>0.003341</td>\n",
       "      <td>0.003353</td>\n",
       "    </tr>\n",
       "  </tbody>\n",
       "</table>\n",
       "<p>2 rows × 205521 columns</p>\n",
       "</div>"
      ],
      "text/plain": [
       "     0         1         2         3         4         5         6       \\\n",
       "0  0.005126  0.000001  0.000033  0.070821  0.000003  0.001060  0.000015   \n",
       "1  0.003392  0.000022  0.000060  0.645051  0.002559  0.001945  0.005351   \n",
       "\n",
       "     7         8         9         ...       205511    205512    205513  \\\n",
       "0  0.000017  0.006221  0.007965    ...     0.000000  0.000000  0.001365   \n",
       "1  0.000152  0.001903  0.005369    ...     0.000017  0.001791  0.002290   \n",
       "\n",
       "     205514    205515    205516    205517    205518    205519    205520  \n",
       "0  0.000007  0.000192  0.002683  0.000001  0.000001  0.004074  0.005921  \n",
       "1  0.001700  0.000294  0.002686  0.000413  0.000987  0.003341  0.003353  \n",
       "\n",
       "[2 rows x 205521 columns]"
      ]
     },
     "execution_count": 109,
     "metadata": {},
     "output_type": "execute_result"
    }
   ],
   "source": [
    "pd.DataFrame([target_test.values,predict1])"
   ]
  },
  {
   "cell_type": "markdown",
   "metadata": {},
   "source": [
    "* Get the best Random Forest"
   ]
  },
  {
   "cell_type": "code",
   "execution_count": 110,
   "metadata": {
    "collapsed": true
   },
   "outputs": [],
   "source": [
    "#n_trees=range(50,55)\n",
    "#n_scores= []\n",
    "#for n in n_trees:\n",
    "#    rf=RandomForestRegressor(n_estimators=n,max_depth=10)\n",
    "#    rf.fit(df_train,target_train)\n",
    "#    score=metrics.mean_squared_error(target_test,rf.predict(df_test))\n",
    "#    n_scores.append(score)"
   ]
  },
  {
   "cell_type": "code",
   "execution_count": 111,
   "metadata": {
    "collapsed": false
   },
   "outputs": [],
   "source": [
    "#plt.plot(n_trees,n_scores)\n",
    "#plt.xlabel('Value of Trees for Random Forest')\n",
    "#plt.ylabel('Random Forest Mean Squared Error')"
   ]
  },
  {
   "cell_type": "code",
   "execution_count": 112,
   "metadata": {
    "collapsed": false
   },
   "outputs": [],
   "source": [
    "#scores=cross_val_score(rf,df_dummies,target,cv=2,scoring='neg_mean_squared_error')"
   ]
  },
  {
   "cell_type": "code",
   "execution_count": 113,
   "metadata": {
    "collapsed": false
   },
   "outputs": [],
   "source": [
    "#scores"
   ]
  },
  {
   "cell_type": "code",
   "execution_count": 114,
   "metadata": {
    "collapsed": false
   },
   "outputs": [
    {
     "data": {
      "text/plain": [
       "0.6824236625717508"
      ]
     },
     "execution_count": 114,
     "metadata": {},
     "output_type": "execute_result"
    }
   ],
   "source": [
    "rf.score(df_test_dummies,target_test)"
   ]
  },
  {
   "cell_type": "markdown",
   "metadata": {},
   "source": [
    "### GBR"
   ]
  },
  {
   "cell_type": "code",
   "execution_count": 62,
   "metadata": {
    "collapsed": true
   },
   "outputs": [],
   "source": [
    "gbr=GradientBoostingRegressor(n_estimators=52,learning_rate=0.1,max_depth=5,subsample=0.8)"
   ]
  },
  {
   "cell_type": "code",
   "execution_count": 63,
   "metadata": {
    "collapsed": false
   },
   "outputs": [
    {
     "data": {
      "text/plain": [
       "GradientBoostingRegressor(alpha=0.9, criterion='friedman_mse', init=None,\n",
       "             learning_rate=0.1, loss='ls', max_depth=5, max_features=None,\n",
       "             max_leaf_nodes=None, min_impurity_split=1e-07,\n",
       "             min_samples_leaf=1, min_samples_split=2,\n",
       "             min_weight_fraction_leaf=0.0, n_estimators=52, presort='auto',\n",
       "             random_state=None, subsample=0.8, verbose=0, warm_start=False)"
      ]
     },
     "execution_count": 63,
     "metadata": {},
     "output_type": "execute_result"
    }
   ],
   "source": [
    "gbr.fit(df_train_dummies,target_train)"
   ]
  },
  {
   "cell_type": "code",
   "execution_count": 64,
   "metadata": {
    "collapsed": true
   },
   "outputs": [],
   "source": [
    "predict3=gbr.predict(df_test_dummies)"
   ]
  },
  {
   "cell_type": "code",
   "execution_count": 65,
   "metadata": {
    "collapsed": false
   },
   "outputs": [
    {
     "data": {
      "text/plain": [
       "0.0091044161867200341"
      ]
     },
     "execution_count": 65,
     "metadata": {},
     "output_type": "execute_result"
    }
   ],
   "source": [
    "metrics.mean_squared_error(target_test,predict3)"
   ]
  },
  {
   "cell_type": "code",
   "execution_count": 66,
   "metadata": {
    "collapsed": false
   },
   "outputs": [
    {
     "data": {
      "text/plain": [
       "0.62889941957526907"
      ]
     },
     "execution_count": 66,
     "metadata": {},
     "output_type": "execute_result"
    }
   ],
   "source": [
    "gbr.score(df_test_dummies,target_test)"
   ]
  },
  {
   "cell_type": "markdown",
   "metadata": {},
   "source": [
    "### XGBoost "
   ]
  },
  {
   "cell_type": "code",
   "execution_count": 67,
   "metadata": {
    "collapsed": false
   },
   "outputs": [],
   "source": [
    "xgboost=XGBRegressor(n_estimators=200,\n",
    "                     learning_rate=0.02,\n",
    "                     max_depth=4,\n",
    "                     min_child_weight=2,\n",
    "                     gamma=0.9,\n",
    "                     subsample=0.8,\n",
    "                     colsample_bytree=0.8)"
   ]
  },
  {
   "cell_type": "code",
   "execution_count": null,
   "metadata": {
    "collapsed": true
   },
   "outputs": [],
   "source": [
    "xgboost.fit(df_train_dummies,target_train)"
   ]
  },
  {
   "cell_type": "code",
   "execution_count": null,
   "metadata": {
    "collapsed": false
   },
   "outputs": [],
   "source": [
    "predict4=xgboost.predict(df_test_dummies)"
   ]
  },
  {
   "cell_type": "code",
   "execution_count": null,
   "metadata": {
    "collapsed": false
   },
   "outputs": [],
   "source": [
    "metrics.mean_squared_error(target_test,predict4)"
   ]
  },
  {
   "cell_type": "code",
   "execution_count": null,
   "metadata": {
    "collapsed": false
   },
   "outputs": [],
   "source": [
    "xgboost.score(df_test_dummies,target_test)"
   ]
  },
  {
   "cell_type": "code",
   "execution_count": null,
   "metadata": {
    "collapsed": true
   },
   "outputs": [],
   "source": []
  }
 ],
 "metadata": {
  "anaconda-cloud": {},
  "kernelspec": {
   "display_name": "Python [default]",
   "language": "python",
   "name": "python3"
  },
  "language_info": {
   "codemirror_mode": {
    "name": "ipython",
    "version": 3
   },
   "file_extension": ".py",
   "mimetype": "text/x-python",
   "name": "python",
   "nbconvert_exporter": "python",
   "pygments_lexer": "ipython3",
   "version": "3.5.2"
  }
 },
 "nbformat": 4,
 "nbformat_minor": 2
}
