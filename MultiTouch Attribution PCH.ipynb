{
 "cells": [
  {
   "cell_type": "code",
   "execution_count": 1,
   "metadata": {
    "collapsed": true
   },
   "outputs": [],
   "source": [
    "import pandas as pd\n",
    "import numpy as np"
   ]
  },
  {
   "cell_type": "markdown",
   "metadata": {},
   "source": [
    "## Connect to  Google Bigquery"
   ]
  },
  {
   "cell_type": "code",
   "execution_count": 2,
   "metadata": {
    "collapsed": true
   },
   "outputs": [],
   "source": [
    "query1='''SELECT * FROM `cookiepoc-139913.ZedFang_Analytics.ZF_Advil_Attribution_Final`'''"
   ]
  },
  {
   "cell_type": "code",
   "execution_count": 3,
   "metadata": {
    "collapsed": false
   },
   "outputs": [
    {
     "name": "stdout",
     "output_type": "stream",
     "text": [
      "Requesting query... ok.\n",
      "Query running...\n",
      "Query done.\n",
      "Processed: 41.2 Mb\n",
      "\n",
      "Retrieving results...\n",
      "  Got page: 1; 9% done. Elapsed 10.08 s.\n",
      "  Got page: 2; 17% done. Elapsed 16.65 s.\n",
      "  Got page: 3; 26% done. Elapsed 22.28 s.\n",
      "  Got page: 4; 34% done. Elapsed 30.69 s.\n",
      "  Got page: 5; 43% done. Elapsed 37.51 s.\n",
      "  Got page: 6; 52% done. Elapsed 43.38 s.\n",
      "  Got page: 7; 60% done. Elapsed 50.19 s.\n",
      "  Got page: 8; 69% done. Elapsed 56.2 s.\n",
      "  Got page: 9; 77% done. Elapsed 61.8 s.\n",
      "  Got page: 10; 86% done. Elapsed 68.14 s.\n",
      "  Got page: 11; 95% done. Elapsed 74.21 s.\n",
      "  Got page: 12; 100% done. Elapsed 78.41 s.\n",
      "Got 407206 rows.\n",
      "\n",
      "Total time taken 88.47 s.\n",
      "Finished at 2017-04-14 00:45:43.\n"
     ]
    }
   ],
   "source": [
    "proj_id='cookiepoc-139913'\n",
    "df1=pd.io.gbq.read_gbq(query1,project_id=proj_id,dialect='standard')"
   ]
  },
  {
   "cell_type": "code",
   "execution_count": 4,
   "metadata": {
    "collapsed": false
   },
   "outputs": [
    {
     "data": {
      "text/plain": [
       "23143"
      ]
     },
     "execution_count": 4,
     "metadata": {},
     "output_type": "execute_result"
    }
   ],
   "source": [
    "len(df1.User_ID.unique())"
   ]
  },
  {
   "cell_type": "code",
   "execution_count": 5,
   "metadata": {
    "collapsed": false
   },
   "outputs": [
    {
     "data": {
      "text/plain": [
       "time             object\n",
       "User_ID          object\n",
       "Site_ID_DCM      object\n",
       "Placement_ID     object\n",
       "Campaign_ID      object\n",
       "sequence          int64\n",
       "min_imp_time     object\n",
       "Min_CON_Time     object\n",
       "Hourdiff          int64\n",
       "New_Publisher    object\n",
       "dtype: object"
      ]
     },
     "execution_count": 5,
     "metadata": {},
     "output_type": "execute_result"
    }
   ],
   "source": [
    "df1.dtypes"
   ]
  },
  {
   "cell_type": "code",
   "execution_count": 6,
   "metadata": {
    "collapsed": false
   },
   "outputs": [],
   "source": [
    "df1.time=pd.to_datetime(df1.time)"
   ]
  },
  {
   "cell_type": "code",
   "execution_count": 7,
   "metadata": {
    "collapsed": false
   },
   "outputs": [
    {
     "data": {
      "text/plain": [
       "time             datetime64[ns]\n",
       "User_ID                  object\n",
       "Site_ID_DCM              object\n",
       "Placement_ID             object\n",
       "Campaign_ID              object\n",
       "sequence                  int64\n",
       "min_imp_time             object\n",
       "Min_CON_Time             object\n",
       "Hourdiff                  int64\n",
       "New_Publisher            object\n",
       "dtype: object"
      ]
     },
     "execution_count": 7,
     "metadata": {},
     "output_type": "execute_result"
    }
   ],
   "source": [
    "df1.dtypes"
   ]
  },
  {
   "cell_type": "code",
   "execution_count": 8,
   "metadata": {
    "collapsed": false
   },
   "outputs": [
    {
     "data": {
      "text/html": [
       "<div>\n",
       "<table border=\"1\" class=\"dataframe\">\n",
       "  <thead>\n",
       "    <tr style=\"text-align: right;\">\n",
       "      <th></th>\n",
       "      <th>time</th>\n",
       "      <th>User_ID</th>\n",
       "      <th>Site_ID_DCM</th>\n",
       "      <th>Placement_ID</th>\n",
       "      <th>Campaign_ID</th>\n",
       "      <th>sequence</th>\n",
       "      <th>min_imp_time</th>\n",
       "      <th>Min_CON_Time</th>\n",
       "      <th>Hourdiff</th>\n",
       "      <th>New_Publisher</th>\n",
       "    </tr>\n",
       "  </thead>\n",
       "  <tbody>\n",
       "    <tr>\n",
       "      <th>330185</th>\n",
       "      <td>2017-01-02 08:46:01.482725</td>\n",
       "      <td>CAESEOi9dSXPbYgSS3vIXeLG_T8</td>\n",
       "      <td>3021313</td>\n",
       "      <td>143083294</td>\n",
       "      <td>10719314</td>\n",
       "      <td>1</td>\n",
       "      <td>2017-01-02T08:46:01.482725</td>\n",
       "      <td>2017-02-01T07:44:57.259361</td>\n",
       "      <td>719</td>\n",
       "      <td>Time</td>\n",
       "    </tr>\n",
       "    <tr>\n",
       "      <th>209068</th>\n",
       "      <td>2017-01-02 08:46:28.412354</td>\n",
       "      <td>CAESEOi9dSXPbYgSS3vIXeLG_T8</td>\n",
       "      <td>3021313</td>\n",
       "      <td>143085067</td>\n",
       "      <td>10719314</td>\n",
       "      <td>2</td>\n",
       "      <td>2017-01-02T08:46:01.482725</td>\n",
       "      <td>2017-02-01T07:44:57.259361</td>\n",
       "      <td>719</td>\n",
       "      <td>Time</td>\n",
       "    </tr>\n",
       "    <tr>\n",
       "      <th>300192</th>\n",
       "      <td>2017-01-02 08:47:35.126849</td>\n",
       "      <td>CAESEOi9dSXPbYgSS3vIXeLG_T8</td>\n",
       "      <td>3021313</td>\n",
       "      <td>143085525</td>\n",
       "      <td>10719314</td>\n",
       "      <td>3</td>\n",
       "      <td>2017-01-02T08:46:01.482725</td>\n",
       "      <td>2017-02-01T07:44:57.259361</td>\n",
       "      <td>719</td>\n",
       "      <td>Time</td>\n",
       "    </tr>\n",
       "    <tr>\n",
       "      <th>151851</th>\n",
       "      <td>2017-01-02 08:47:54.072912</td>\n",
       "      <td>CAESEOi9dSXPbYgSS3vIXeLG_T8</td>\n",
       "      <td>3021313</td>\n",
       "      <td>143085525</td>\n",
       "      <td>10719314</td>\n",
       "      <td>4</td>\n",
       "      <td>2017-01-02T08:46:01.482725</td>\n",
       "      <td>2017-02-01T07:44:57.259361</td>\n",
       "      <td>719</td>\n",
       "      <td>Time</td>\n",
       "    </tr>\n",
       "    <tr>\n",
       "      <th>38230</th>\n",
       "      <td>2017-01-02 11:49:31.067080</td>\n",
       "      <td>CAESEEK4hB9TcpxWts3rHxGB91c</td>\n",
       "      <td>3021313</td>\n",
       "      <td>143085526</td>\n",
       "      <td>10719314</td>\n",
       "      <td>1</td>\n",
       "      <td>2017-01-02T11:49:31.067080</td>\n",
       "      <td>2017-02-01T10:24:45.262722</td>\n",
       "      <td>719</td>\n",
       "      <td>Time</td>\n",
       "    </tr>\n",
       "    <tr>\n",
       "      <th>301620</th>\n",
       "      <td>2017-01-02 12:01:17.794209</td>\n",
       "      <td>CAESEJzgEOHayT5PT8zeK_EPjQc</td>\n",
       "      <td>3021313</td>\n",
       "      <td>143085526</td>\n",
       "      <td>10719314</td>\n",
       "      <td>1</td>\n",
       "      <td>2017-01-02T12:01:17.794209</td>\n",
       "      <td>2017-02-01T03:38:53.688132</td>\n",
       "      <td>711</td>\n",
       "      <td>Time</td>\n",
       "    </tr>\n",
       "    <tr>\n",
       "      <th>29998</th>\n",
       "      <td>2017-01-02 12:16:52.372578</td>\n",
       "      <td>CAESEEK4hB9TcpxWts3rHxGB91c</td>\n",
       "      <td>3021313</td>\n",
       "      <td>143085526</td>\n",
       "      <td>10719314</td>\n",
       "      <td>2</td>\n",
       "      <td>2017-01-02T11:49:31.067080</td>\n",
       "      <td>2017-02-01T10:24:45.262722</td>\n",
       "      <td>718</td>\n",
       "      <td>Time</td>\n",
       "    </tr>\n",
       "    <tr>\n",
       "      <th>387976</th>\n",
       "      <td>2017-01-02 12:18:12.354719</td>\n",
       "      <td>CAESEEK4hB9TcpxWts3rHxGB91c</td>\n",
       "      <td>3021313</td>\n",
       "      <td>143085909</td>\n",
       "      <td>10719314</td>\n",
       "      <td>3</td>\n",
       "      <td>2017-01-02T11:49:31.067080</td>\n",
       "      <td>2017-02-01T10:24:45.262722</td>\n",
       "      <td>718</td>\n",
       "      <td>Time</td>\n",
       "    </tr>\n",
       "    <tr>\n",
       "      <th>163569</th>\n",
       "      <td>2017-01-02 12:25:12.734986</td>\n",
       "      <td>CAESEJ13H2VDHOQQMODlVJiUKDU</td>\n",
       "      <td>3021313</td>\n",
       "      <td>143085526</td>\n",
       "      <td>10719314</td>\n",
       "      <td>1</td>\n",
       "      <td>2017-01-02T12:25:12.734986</td>\n",
       "      <td>2017-02-01T06:57:55.840994</td>\n",
       "      <td>714</td>\n",
       "      <td>Time</td>\n",
       "    </tr>\n",
       "    <tr>\n",
       "      <th>67370</th>\n",
       "      <td>2017-01-02 14:39:16.702680</td>\n",
       "      <td>CAESEJvqJdNWry4_CVKOS1dYliw</td>\n",
       "      <td>3021313</td>\n",
       "      <td>143085526</td>\n",
       "      <td>10719314</td>\n",
       "      <td>1</td>\n",
       "      <td>2017-01-02T14:39:16.702680</td>\n",
       "      <td>2017-02-01T10:35:51.132607</td>\n",
       "      <td>716</td>\n",
       "      <td>Time</td>\n",
       "    </tr>\n",
       "    <tr>\n",
       "      <th>201132</th>\n",
       "      <td>2017-01-02 15:40:32.372654</td>\n",
       "      <td>CAESEJ13H2VDHOQQMODlVJiUKDU</td>\n",
       "      <td>3021313</td>\n",
       "      <td>143085526</td>\n",
       "      <td>10719314</td>\n",
       "      <td>2</td>\n",
       "      <td>2017-01-02T12:25:12.734986</td>\n",
       "      <td>2017-02-01T06:57:55.840994</td>\n",
       "      <td>711</td>\n",
       "      <td>Time</td>\n",
       "    </tr>\n",
       "    <tr>\n",
       "      <th>189477</th>\n",
       "      <td>2017-01-02 19:55:16.415116</td>\n",
       "      <td>CAESEMFCrE9o_O8XLppEZCjJWuE</td>\n",
       "      <td>3021313</td>\n",
       "      <td>143085526</td>\n",
       "      <td>10719314</td>\n",
       "      <td>1</td>\n",
       "      <td>2017-01-02T19:55:16.415116</td>\n",
       "      <td>2017-02-01T13:06:52.557617</td>\n",
       "      <td>714</td>\n",
       "      <td>Time</td>\n",
       "    </tr>\n",
       "    <tr>\n",
       "      <th>21620</th>\n",
       "      <td>2017-01-02 19:55:59.699728</td>\n",
       "      <td>CAESECaTGEvQGj0MRTJlQ7OmiMk</td>\n",
       "      <td>3021313</td>\n",
       "      <td>143085526</td>\n",
       "      <td>10719314</td>\n",
       "      <td>1</td>\n",
       "      <td>2017-01-02T19:55:59.699728</td>\n",
       "      <td>2017-02-01T01:51:16.322224</td>\n",
       "      <td>702</td>\n",
       "      <td>Time</td>\n",
       "    </tr>\n",
       "    <tr>\n",
       "      <th>127356</th>\n",
       "      <td>2017-01-03 01:13:15.547585</td>\n",
       "      <td>CAESEGSEBLv3gsVXDDbpQ9VUYS4</td>\n",
       "      <td>2095334</td>\n",
       "      <td>143504102</td>\n",
       "      <td>10739956</td>\n",
       "      <td>1</td>\n",
       "      <td>2017-01-03T01:13:15.547585</td>\n",
       "      <td>2017-02-01T02:42:02.496334</td>\n",
       "      <td>697</td>\n",
       "      <td>Amnet</td>\n",
       "    </tr>\n",
       "    <tr>\n",
       "      <th>277039</th>\n",
       "      <td>2017-01-03 01:50:54.374946</td>\n",
       "      <td>CAESEGSEBLv3gsVXDDbpQ9VUYS4</td>\n",
       "      <td>2095334</td>\n",
       "      <td>143504102</td>\n",
       "      <td>10739956</td>\n",
       "      <td>2</td>\n",
       "      <td>2017-01-03T01:13:15.547585</td>\n",
       "      <td>2017-02-01T02:42:02.496334</td>\n",
       "      <td>697</td>\n",
       "      <td>Amnet</td>\n",
       "    </tr>\n",
       "    <tr>\n",
       "      <th>96664</th>\n",
       "      <td>2017-01-03 02:27:49.902613</td>\n",
       "      <td>CAESEA4jXms9aiWkewtufrZDeQw</td>\n",
       "      <td>3021313</td>\n",
       "      <td>143085526</td>\n",
       "      <td>10719314</td>\n",
       "      <td>1</td>\n",
       "      <td>2017-01-03T02:27:49.902613</td>\n",
       "      <td>2017-02-01T05:39:59.137556</td>\n",
       "      <td>699</td>\n",
       "      <td>Time</td>\n",
       "    </tr>\n",
       "    <tr>\n",
       "      <th>300091</th>\n",
       "      <td>2017-01-03 07:44:13.236645</td>\n",
       "      <td>CAESEHk9NepYAunf9CGNQuUlTfQ</td>\n",
       "      <td>3021313</td>\n",
       "      <td>143085067</td>\n",
       "      <td>10719314</td>\n",
       "      <td>1</td>\n",
       "      <td>2017-01-03T07:44:13.236645</td>\n",
       "      <td>2017-02-01T07:43:48.007931</td>\n",
       "      <td>696</td>\n",
       "      <td>Time</td>\n",
       "    </tr>\n",
       "    <tr>\n",
       "      <th>189341</th>\n",
       "      <td>2017-01-03 07:45:59.295247</td>\n",
       "      <td>CAESEHk9NepYAunf9CGNQuUlTfQ</td>\n",
       "      <td>3021313</td>\n",
       "      <td>143085067</td>\n",
       "      <td>10719314</td>\n",
       "      <td>2</td>\n",
       "      <td>2017-01-03T07:44:13.236645</td>\n",
       "      <td>2017-02-01T07:43:48.007931</td>\n",
       "      <td>696</td>\n",
       "      <td>Time</td>\n",
       "    </tr>\n",
       "    <tr>\n",
       "      <th>96679</th>\n",
       "      <td>2017-01-03 08:36:47.425435</td>\n",
       "      <td>CAESEE3164wKxxdr8qNePETgGcw</td>\n",
       "      <td>3021313</td>\n",
       "      <td>143085526</td>\n",
       "      <td>10719314</td>\n",
       "      <td>1</td>\n",
       "      <td>2017-01-03T08:36:47.425435</td>\n",
       "      <td>2017-02-01T10:36:10.755887</td>\n",
       "      <td>698</td>\n",
       "      <td>Time</td>\n",
       "    </tr>\n",
       "    <tr>\n",
       "      <th>217218</th>\n",
       "      <td>2017-01-03 09:47:08.867491</td>\n",
       "      <td>CAESEMrfyBaPgPbE6tl3RTvtZy4</td>\n",
       "      <td>3021313</td>\n",
       "      <td>143085067</td>\n",
       "      <td>10719314</td>\n",
       "      <td>1</td>\n",
       "      <td>2017-01-03T09:47:08.867491</td>\n",
       "      <td>2017-02-01T20:20:57.975259</td>\n",
       "      <td>707</td>\n",
       "      <td>Time</td>\n",
       "    </tr>\n",
       "    <tr>\n",
       "      <th>314510</th>\n",
       "      <td>2017-01-03 10:07:53.805426</td>\n",
       "      <td>CAESEL2FjpKJ2lqaapf-Pv3QCEs</td>\n",
       "      <td>3021313</td>\n",
       "      <td>143085067</td>\n",
       "      <td>10719314</td>\n",
       "      <td>1</td>\n",
       "      <td>2017-01-03T10:07:53.805426</td>\n",
       "      <td>2017-02-01T12:02:43.326655</td>\n",
       "      <td>698</td>\n",
       "      <td>Time</td>\n",
       "    </tr>\n",
       "    <tr>\n",
       "      <th>366657</th>\n",
       "      <td>2017-01-03 10:14:12.064716</td>\n",
       "      <td>CAESEL2FjpKJ2lqaapf-Pv3QCEs</td>\n",
       "      <td>3021313</td>\n",
       "      <td>143085067</td>\n",
       "      <td>10719314</td>\n",
       "      <td>2</td>\n",
       "      <td>2017-01-03T10:07:53.805426</td>\n",
       "      <td>2017-02-01T12:02:43.326655</td>\n",
       "      <td>698</td>\n",
       "      <td>Time</td>\n",
       "    </tr>\n",
       "    <tr>\n",
       "      <th>291917</th>\n",
       "      <td>2017-01-03 10:17:20.403134</td>\n",
       "      <td>CAESEAbs5NVZyd8fs5i4w9vhksI</td>\n",
       "      <td>3021313</td>\n",
       "      <td>143085067</td>\n",
       "      <td>10719314</td>\n",
       "      <td>1</td>\n",
       "      <td>2017-01-03T10:17:20.403134</td>\n",
       "      <td>2017-02-02T08:09:29.074264</td>\n",
       "      <td>718</td>\n",
       "      <td>Time</td>\n",
       "    </tr>\n",
       "    <tr>\n",
       "      <th>379505</th>\n",
       "      <td>2017-01-03 10:23:00.794849</td>\n",
       "      <td>CAESEAbs5NVZyd8fs5i4w9vhksI</td>\n",
       "      <td>3021313</td>\n",
       "      <td>143085067</td>\n",
       "      <td>10719314</td>\n",
       "      <td>2</td>\n",
       "      <td>2017-01-03T10:17:20.403134</td>\n",
       "      <td>2017-02-02T08:09:29.074264</td>\n",
       "      <td>718</td>\n",
       "      <td>Time</td>\n",
       "    </tr>\n",
       "    <tr>\n",
       "      <th>268981</th>\n",
       "      <td>2017-01-03 10:24:18.108593</td>\n",
       "      <td>CAESEAbs5NVZyd8fs5i4w9vhksI</td>\n",
       "      <td>3021313</td>\n",
       "      <td>143085067</td>\n",
       "      <td>10719314</td>\n",
       "      <td>3</td>\n",
       "      <td>2017-01-03T10:17:20.403134</td>\n",
       "      <td>2017-02-02T08:09:29.074264</td>\n",
       "      <td>718</td>\n",
       "      <td>Time</td>\n",
       "    </tr>\n",
       "    <tr>\n",
       "      <th>188064</th>\n",
       "      <td>2017-01-03 10:37:02.462190</td>\n",
       "      <td>CAESEAX5QCyk9m9MUMX0Q6jesHU</td>\n",
       "      <td>3021313</td>\n",
       "      <td>143085909</td>\n",
       "      <td>10719314</td>\n",
       "      <td>1</td>\n",
       "      <td>2017-01-03T10:37:02.462190</td>\n",
       "      <td>2017-02-01T11:00:47.880882</td>\n",
       "      <td>697</td>\n",
       "      <td>Time</td>\n",
       "    </tr>\n",
       "    <tr>\n",
       "      <th>96666</th>\n",
       "      <td>2017-01-03 10:37:35.043021</td>\n",
       "      <td>CAESEAX5QCyk9m9MUMX0Q6jesHU</td>\n",
       "      <td>3021313</td>\n",
       "      <td>143085526</td>\n",
       "      <td>10719314</td>\n",
       "      <td>2</td>\n",
       "      <td>2017-01-03T10:37:02.462190</td>\n",
       "      <td>2017-02-01T11:00:47.880882</td>\n",
       "      <td>697</td>\n",
       "      <td>Time</td>\n",
       "    </tr>\n",
       "    <tr>\n",
       "      <th>404153</th>\n",
       "      <td>2017-01-03 10:43:55.456244</td>\n",
       "      <td>CAESELZYH1iNyaHlXVChcBlHe5s</td>\n",
       "      <td>3021313</td>\n",
       "      <td>143085526</td>\n",
       "      <td>10719314</td>\n",
       "      <td>1</td>\n",
       "      <td>2017-01-03T10:43:55.456244</td>\n",
       "      <td>2017-02-01T14:28:43.847866</td>\n",
       "      <td>700</td>\n",
       "      <td>Time</td>\n",
       "    </tr>\n",
       "    <tr>\n",
       "      <th>75359</th>\n",
       "      <td>2017-01-03 10:47:16.020947</td>\n",
       "      <td>CAESECp3WiRj3Z0qytfEGDf4TNo</td>\n",
       "      <td>3021313</td>\n",
       "      <td>143085067</td>\n",
       "      <td>10719314</td>\n",
       "      <td>1</td>\n",
       "      <td>2017-01-03T10:47:16.020947</td>\n",
       "      <td>2017-02-01T09:45:14.718271</td>\n",
       "      <td>695</td>\n",
       "      <td>Time</td>\n",
       "    </tr>\n",
       "    <tr>\n",
       "      <th>387792</th>\n",
       "      <td>2017-01-03 10:56:20.297270</td>\n",
       "      <td>CAESEDJSmeGXScNfg9PUVG36exI</td>\n",
       "      <td>3021313</td>\n",
       "      <td>143085526</td>\n",
       "      <td>10719314</td>\n",
       "      <td>1</td>\n",
       "      <td>2017-01-03T10:56:20.297270</td>\n",
       "      <td>2017-02-01T19:54:19.329127</td>\n",
       "      <td>705</td>\n",
       "      <td>Time</td>\n",
       "    </tr>\n",
       "    <tr>\n",
       "      <th>...</th>\n",
       "      <td>...</td>\n",
       "      <td>...</td>\n",
       "      <td>...</td>\n",
       "      <td>...</td>\n",
       "      <td>...</td>\n",
       "      <td>...</td>\n",
       "      <td>...</td>\n",
       "      <td>...</td>\n",
       "      <td>...</td>\n",
       "      <td>...</td>\n",
       "    </tr>\n",
       "    <tr>\n",
       "      <th>112026</th>\n",
       "      <td>2017-03-30 23:13:56.459570</td>\n",
       "      <td>CAESEE7gCgPmP5OakcwQC_wuLog</td>\n",
       "      <td>2095334</td>\n",
       "      <td>148953023</td>\n",
       "      <td>10737662</td>\n",
       "      <td>5</td>\n",
       "      <td>2017-03-16T12:56:55.371723</td>\n",
       "      <td>2017-03-30T23:14:16.110165</td>\n",
       "      <td>0</td>\n",
       "      <td>Amnet</td>\n",
       "    </tr>\n",
       "    <tr>\n",
       "      <th>170701</th>\n",
       "      <td>2017-03-30 23:16:55.723545</td>\n",
       "      <td>CAESEH2hOYYeIurhdQ6B_aGiAM0</td>\n",
       "      <td>2095334</td>\n",
       "      <td>148939889</td>\n",
       "      <td>10737662</td>\n",
       "      <td>5</td>\n",
       "      <td>2017-03-28T10:59:49.451248</td>\n",
       "      <td>2017-03-30T23:17:45.339147</td>\n",
       "      <td>0</td>\n",
       "      <td>Amnet</td>\n",
       "    </tr>\n",
       "    <tr>\n",
       "      <th>66392</th>\n",
       "      <td>2017-03-30 23:17:25.183649</td>\n",
       "      <td>CAESEH2hOYYeIurhdQ6B_aGiAM0</td>\n",
       "      <td>2095334</td>\n",
       "      <td>148953023</td>\n",
       "      <td>10737662</td>\n",
       "      <td>6</td>\n",
       "      <td>2017-03-28T10:59:49.451248</td>\n",
       "      <td>2017-03-30T23:17:45.339147</td>\n",
       "      <td>0</td>\n",
       "      <td>Amnet</td>\n",
       "    </tr>\n",
       "    <tr>\n",
       "      <th>202098</th>\n",
       "      <td>2017-03-30 23:26:09.942552</td>\n",
       "      <td>CAESEB5iXfyCyfR6RO3fGEi3EDk</td>\n",
       "      <td>1833669</td>\n",
       "      <td>144087717</td>\n",
       "      <td>10768480</td>\n",
       "      <td>4</td>\n",
       "      <td>2017-03-13T03:17:26.029127</td>\n",
       "      <td>2017-03-30T23:26:16.380101</td>\n",
       "      <td>0</td>\n",
       "      <td>Hulu</td>\n",
       "    </tr>\n",
       "    <tr>\n",
       "      <th>223908</th>\n",
       "      <td>2017-03-30 23:27:38.333143</td>\n",
       "      <td>CAESEAb10vV_5Bn5ANMvbgtznEA</td>\n",
       "      <td>2095334</td>\n",
       "      <td>145801676</td>\n",
       "      <td>10737662</td>\n",
       "      <td>1</td>\n",
       "      <td>2017-03-30T23:27:38.333143</td>\n",
       "      <td>2017-03-30T23:30:36.576365</td>\n",
       "      <td>0</td>\n",
       "      <td>Amnet</td>\n",
       "    </tr>\n",
       "    <tr>\n",
       "      <th>95629</th>\n",
       "      <td>2017-03-30 23:27:54.820110</td>\n",
       "      <td>CAESEAb10vV_5Bn5ANMvbgtznEA</td>\n",
       "      <td>2095334</td>\n",
       "      <td>148953113</td>\n",
       "      <td>10737662</td>\n",
       "      <td>2</td>\n",
       "      <td>2017-03-30T23:27:38.333143</td>\n",
       "      <td>2017-03-30T23:30:36.576365</td>\n",
       "      <td>0</td>\n",
       "      <td>Amnet</td>\n",
       "    </tr>\n",
       "    <tr>\n",
       "      <th>299210</th>\n",
       "      <td>2017-03-30 23:28:24.155210</td>\n",
       "      <td>CAESEAb10vV_5Bn5ANMvbgtznEA</td>\n",
       "      <td>2095334</td>\n",
       "      <td>148953113</td>\n",
       "      <td>10737662</td>\n",
       "      <td>3</td>\n",
       "      <td>2017-03-30T23:27:38.333143</td>\n",
       "      <td>2017-03-30T23:30:36.576365</td>\n",
       "      <td>0</td>\n",
       "      <td>Amnet</td>\n",
       "    </tr>\n",
       "    <tr>\n",
       "      <th>162549</th>\n",
       "      <td>2017-03-30 23:28:25.971529</td>\n",
       "      <td>CAESEAb10vV_5Bn5ANMvbgtznEA</td>\n",
       "      <td>2095334</td>\n",
       "      <td>148953113</td>\n",
       "      <td>10737662</td>\n",
       "      <td>4</td>\n",
       "      <td>2017-03-30T23:27:38.333143</td>\n",
       "      <td>2017-03-30T23:30:36.576365</td>\n",
       "      <td>0</td>\n",
       "      <td>Amnet</td>\n",
       "    </tr>\n",
       "    <tr>\n",
       "      <th>179745</th>\n",
       "      <td>2017-03-30 23:29:10.725288</td>\n",
       "      <td>CAESEAb10vV_5Bn5ANMvbgtznEA</td>\n",
       "      <td>2095334</td>\n",
       "      <td>148953113</td>\n",
       "      <td>10737662</td>\n",
       "      <td>5</td>\n",
       "      <td>2017-03-30T23:27:38.333143</td>\n",
       "      <td>2017-03-30T23:30:36.576365</td>\n",
       "      <td>0</td>\n",
       "      <td>Amnet</td>\n",
       "    </tr>\n",
       "    <tr>\n",
       "      <th>187213</th>\n",
       "      <td>2017-03-30 23:30:12.418975</td>\n",
       "      <td>CAESEB3hFX9vSBX6GFxGoUhZulU</td>\n",
       "      <td>3021313</td>\n",
       "      <td>143084664</td>\n",
       "      <td>10719314</td>\n",
       "      <td>1</td>\n",
       "      <td>2017-03-30T23:30:12.418975</td>\n",
       "      <td>2017-03-30T23:48:12.143377</td>\n",
       "      <td>0</td>\n",
       "      <td>Time</td>\n",
       "    </tr>\n",
       "    <tr>\n",
       "      <th>172346</th>\n",
       "      <td>2017-03-30 23:31:11.600620</td>\n",
       "      <td>CAESEB3hFX9vSBX6GFxGoUhZulU</td>\n",
       "      <td>3021313</td>\n",
       "      <td>143084664</td>\n",
       "      <td>10719314</td>\n",
       "      <td>2</td>\n",
       "      <td>2017-03-30T23:30:12.418975</td>\n",
       "      <td>2017-03-30T23:48:12.143377</td>\n",
       "      <td>0</td>\n",
       "      <td>Time</td>\n",
       "    </tr>\n",
       "    <tr>\n",
       "      <th>74752</th>\n",
       "      <td>2017-03-30 23:31:56.556712</td>\n",
       "      <td>CAESEB3hFX9vSBX6GFxGoUhZulU</td>\n",
       "      <td>3021313</td>\n",
       "      <td>143084664</td>\n",
       "      <td>10719314</td>\n",
       "      <td>3</td>\n",
       "      <td>2017-03-30T23:30:12.418975</td>\n",
       "      <td>2017-03-30T23:48:12.143377</td>\n",
       "      <td>0</td>\n",
       "      <td>Time</td>\n",
       "    </tr>\n",
       "    <tr>\n",
       "      <th>301766</th>\n",
       "      <td>2017-03-30 23:32:37.985609</td>\n",
       "      <td>CAESEDBVaCeCTE90S1wbvCVrcow</td>\n",
       "      <td>3021313</td>\n",
       "      <td>143085909</td>\n",
       "      <td>10719314</td>\n",
       "      <td>3</td>\n",
       "      <td>2017-03-26T16:22:34.691655</td>\n",
       "      <td>2017-03-30T23:33:03.115768</td>\n",
       "      <td>0</td>\n",
       "      <td>Time</td>\n",
       "    </tr>\n",
       "    <tr>\n",
       "      <th>305213</th>\n",
       "      <td>2017-03-30 23:32:53.106381</td>\n",
       "      <td>CAESEDBVaCeCTE90S1wbvCVrcow</td>\n",
       "      <td>3021313</td>\n",
       "      <td>143085909</td>\n",
       "      <td>10719314</td>\n",
       "      <td>4</td>\n",
       "      <td>2017-03-26T16:22:34.691655</td>\n",
       "      <td>2017-03-30T23:33:03.115768</td>\n",
       "      <td>0</td>\n",
       "      <td>Time</td>\n",
       "    </tr>\n",
       "    <tr>\n",
       "      <th>216563</th>\n",
       "      <td>2017-03-30 23:34:14.858900</td>\n",
       "      <td>CAESEB3hFX9vSBX6GFxGoUhZulU</td>\n",
       "      <td>3021313</td>\n",
       "      <td>143084664</td>\n",
       "      <td>10719314</td>\n",
       "      <td>4</td>\n",
       "      <td>2017-03-30T23:30:12.418975</td>\n",
       "      <td>2017-03-30T23:48:12.143377</td>\n",
       "      <td>0</td>\n",
       "      <td>Time</td>\n",
       "    </tr>\n",
       "    <tr>\n",
       "      <th>395280</th>\n",
       "      <td>2017-03-30 23:36:33.948135</td>\n",
       "      <td>CAESEB3hFX9vSBX6GFxGoUhZulU</td>\n",
       "      <td>3021313</td>\n",
       "      <td>143084664</td>\n",
       "      <td>10719314</td>\n",
       "      <td>5</td>\n",
       "      <td>2017-03-30T23:30:12.418975</td>\n",
       "      <td>2017-03-30T23:48:12.143377</td>\n",
       "      <td>0</td>\n",
       "      <td>Time</td>\n",
       "    </tr>\n",
       "    <tr>\n",
       "      <th>312577</th>\n",
       "      <td>2017-03-30 23:39:07.364198</td>\n",
       "      <td>CAESEGdt3VWNR-71ncFMNDaoOtY</td>\n",
       "      <td>3021313</td>\n",
       "      <td>143084664</td>\n",
       "      <td>10719314</td>\n",
       "      <td>11</td>\n",
       "      <td>2017-03-23T19:27:28.950848</td>\n",
       "      <td>2017-03-30T23:44:08.928191</td>\n",
       "      <td>0</td>\n",
       "      <td>Time</td>\n",
       "    </tr>\n",
       "    <tr>\n",
       "      <th>142600</th>\n",
       "      <td>2017-03-30 23:41:29.647101</td>\n",
       "      <td>CAESEIxs36Xt9EUpEweOi0rnykc</td>\n",
       "      <td>3021313</td>\n",
       "      <td>143085909</td>\n",
       "      <td>10719314</td>\n",
       "      <td>1</td>\n",
       "      <td>2017-03-30T23:41:29.647101</td>\n",
       "      <td>2017-03-30T23:44:43.051808</td>\n",
       "      <td>0</td>\n",
       "      <td>Time</td>\n",
       "    </tr>\n",
       "    <tr>\n",
       "      <th>97047</th>\n",
       "      <td>2017-03-30 23:42:38.571316</td>\n",
       "      <td>CAESEIz3fnjjRmMsYq7KvPX3BQ8</td>\n",
       "      <td>3021313</td>\n",
       "      <td>143085909</td>\n",
       "      <td>10719314</td>\n",
       "      <td>4</td>\n",
       "      <td>2017-03-29T10:45:30.611041</td>\n",
       "      <td>2017-03-30T23:42:46.819261</td>\n",
       "      <td>0</td>\n",
       "      <td>Time</td>\n",
       "    </tr>\n",
       "    <tr>\n",
       "      <th>246153</th>\n",
       "      <td>2017-03-30 23:42:44.900227</td>\n",
       "      <td>CAESEIxs36Xt9EUpEweOi0rnykc</td>\n",
       "      <td>3021313</td>\n",
       "      <td>143084664</td>\n",
       "      <td>10719314</td>\n",
       "      <td>2</td>\n",
       "      <td>2017-03-30T23:41:29.647101</td>\n",
       "      <td>2017-03-30T23:44:43.051808</td>\n",
       "      <td>0</td>\n",
       "      <td>Time</td>\n",
       "    </tr>\n",
       "    <tr>\n",
       "      <th>255268</th>\n",
       "      <td>2017-03-30 23:43:21.294355</td>\n",
       "      <td>CAESEIxs36Xt9EUpEweOi0rnykc</td>\n",
       "      <td>3021313</td>\n",
       "      <td>143085909</td>\n",
       "      <td>10719314</td>\n",
       "      <td>3</td>\n",
       "      <td>2017-03-30T23:41:29.647101</td>\n",
       "      <td>2017-03-30T23:44:43.051808</td>\n",
       "      <td>0</td>\n",
       "      <td>Time</td>\n",
       "    </tr>\n",
       "    <tr>\n",
       "      <th>358919</th>\n",
       "      <td>2017-03-30 23:44:36.154073</td>\n",
       "      <td>CAESEIxs36Xt9EUpEweOi0rnykc</td>\n",
       "      <td>3021313</td>\n",
       "      <td>143085909</td>\n",
       "      <td>10719314</td>\n",
       "      <td>4</td>\n",
       "      <td>2017-03-30T23:41:29.647101</td>\n",
       "      <td>2017-03-30T23:44:43.051808</td>\n",
       "      <td>0</td>\n",
       "      <td>Time</td>\n",
       "    </tr>\n",
       "    <tr>\n",
       "      <th>343952</th>\n",
       "      <td>2017-03-30 23:45:27.564954</td>\n",
       "      <td>CAESEEnuqAxxsyySrsUaPIwq_JE</td>\n",
       "      <td>3021313</td>\n",
       "      <td>143085909</td>\n",
       "      <td>10719314</td>\n",
       "      <td>1</td>\n",
       "      <td>2017-03-30T23:45:27.564954</td>\n",
       "      <td>2017-03-30T23:50:19.759097</td>\n",
       "      <td>0</td>\n",
       "      <td>Time</td>\n",
       "    </tr>\n",
       "    <tr>\n",
       "      <th>96930</th>\n",
       "      <td>2017-03-30 23:45:41.921743</td>\n",
       "      <td>CAESEEnuqAxxsyySrsUaPIwq_JE</td>\n",
       "      <td>3021313</td>\n",
       "      <td>143085909</td>\n",
       "      <td>10719314</td>\n",
       "      <td>2</td>\n",
       "      <td>2017-03-30T23:45:27.564954</td>\n",
       "      <td>2017-03-30T23:50:19.759097</td>\n",
       "      <td>0</td>\n",
       "      <td>Time</td>\n",
       "    </tr>\n",
       "    <tr>\n",
       "      <th>67602</th>\n",
       "      <td>2017-03-30 23:46:42.527786</td>\n",
       "      <td>CAESEEnuqAxxsyySrsUaPIwq_JE</td>\n",
       "      <td>3021313</td>\n",
       "      <td>143085909</td>\n",
       "      <td>10719314</td>\n",
       "      <td>3</td>\n",
       "      <td>2017-03-30T23:45:27.564954</td>\n",
       "      <td>2017-03-30T23:50:19.759097</td>\n",
       "      <td>0</td>\n",
       "      <td>Time</td>\n",
       "    </tr>\n",
       "    <tr>\n",
       "      <th>367024</th>\n",
       "      <td>2017-03-30 23:47:50.406449</td>\n",
       "      <td>CAESEEnuqAxxsyySrsUaPIwq_JE</td>\n",
       "      <td>3021313</td>\n",
       "      <td>143085909</td>\n",
       "      <td>10719314</td>\n",
       "      <td>4</td>\n",
       "      <td>2017-03-30T23:45:27.564954</td>\n",
       "      <td>2017-03-30T23:50:19.759097</td>\n",
       "      <td>0</td>\n",
       "      <td>Time</td>\n",
       "    </tr>\n",
       "    <tr>\n",
       "      <th>201660</th>\n",
       "      <td>2017-03-30 23:55:32.363506</td>\n",
       "      <td>CAESENiFXmT6rb5QXBpsIWgDNp8</td>\n",
       "      <td>3021313</td>\n",
       "      <td>143085909</td>\n",
       "      <td>10719314</td>\n",
       "      <td>1</td>\n",
       "      <td>2017-03-30T23:55:32.363506</td>\n",
       "      <td>2017-03-30T23:59:32.486683</td>\n",
       "      <td>0</td>\n",
       "      <td>Time</td>\n",
       "    </tr>\n",
       "    <tr>\n",
       "      <th>403847</th>\n",
       "      <td>2017-03-30 23:56:10.889447</td>\n",
       "      <td>CAESENiFXmT6rb5QXBpsIWgDNp8</td>\n",
       "      <td>3021313</td>\n",
       "      <td>143084664</td>\n",
       "      <td>10719314</td>\n",
       "      <td>2</td>\n",
       "      <td>2017-03-30T23:55:32.363506</td>\n",
       "      <td>2017-03-30T23:59:32.486683</td>\n",
       "      <td>0</td>\n",
       "      <td>Time</td>\n",
       "    </tr>\n",
       "    <tr>\n",
       "      <th>209732</th>\n",
       "      <td>2017-03-30 23:58:19.082506</td>\n",
       "      <td>CAESENiFXmT6rb5QXBpsIWgDNp8</td>\n",
       "      <td>3021313</td>\n",
       "      <td>143085909</td>\n",
       "      <td>10719314</td>\n",
       "      <td>3</td>\n",
       "      <td>2017-03-30T23:55:32.363506</td>\n",
       "      <td>2017-03-30T23:59:32.486683</td>\n",
       "      <td>0</td>\n",
       "      <td>Time</td>\n",
       "    </tr>\n",
       "    <tr>\n",
       "      <th>359119</th>\n",
       "      <td>2017-03-30 23:59:17.603790</td>\n",
       "      <td>CAESENiFXmT6rb5QXBpsIWgDNp8</td>\n",
       "      <td>3021313</td>\n",
       "      <td>143085909</td>\n",
       "      <td>10719314</td>\n",
       "      <td>4</td>\n",
       "      <td>2017-03-30T23:55:32.363506</td>\n",
       "      <td>2017-03-30T23:59:32.486683</td>\n",
       "      <td>0</td>\n",
       "      <td>Time</td>\n",
       "    </tr>\n",
       "  </tbody>\n",
       "</table>\n",
       "<p>407206 rows × 10 columns</p>\n",
       "</div>"
      ],
      "text/plain": [
       "                             time                      User_ID Site_ID_DCM  \\\n",
       "330185 2017-01-02 08:46:01.482725  CAESEOi9dSXPbYgSS3vIXeLG_T8     3021313   \n",
       "209068 2017-01-02 08:46:28.412354  CAESEOi9dSXPbYgSS3vIXeLG_T8     3021313   \n",
       "300192 2017-01-02 08:47:35.126849  CAESEOi9dSXPbYgSS3vIXeLG_T8     3021313   \n",
       "151851 2017-01-02 08:47:54.072912  CAESEOi9dSXPbYgSS3vIXeLG_T8     3021313   \n",
       "38230  2017-01-02 11:49:31.067080  CAESEEK4hB9TcpxWts3rHxGB91c     3021313   \n",
       "301620 2017-01-02 12:01:17.794209  CAESEJzgEOHayT5PT8zeK_EPjQc     3021313   \n",
       "29998  2017-01-02 12:16:52.372578  CAESEEK4hB9TcpxWts3rHxGB91c     3021313   \n",
       "387976 2017-01-02 12:18:12.354719  CAESEEK4hB9TcpxWts3rHxGB91c     3021313   \n",
       "163569 2017-01-02 12:25:12.734986  CAESEJ13H2VDHOQQMODlVJiUKDU     3021313   \n",
       "67370  2017-01-02 14:39:16.702680  CAESEJvqJdNWry4_CVKOS1dYliw     3021313   \n",
       "201132 2017-01-02 15:40:32.372654  CAESEJ13H2VDHOQQMODlVJiUKDU     3021313   \n",
       "189477 2017-01-02 19:55:16.415116  CAESEMFCrE9o_O8XLppEZCjJWuE     3021313   \n",
       "21620  2017-01-02 19:55:59.699728  CAESECaTGEvQGj0MRTJlQ7OmiMk     3021313   \n",
       "127356 2017-01-03 01:13:15.547585  CAESEGSEBLv3gsVXDDbpQ9VUYS4     2095334   \n",
       "277039 2017-01-03 01:50:54.374946  CAESEGSEBLv3gsVXDDbpQ9VUYS4     2095334   \n",
       "96664  2017-01-03 02:27:49.902613  CAESEA4jXms9aiWkewtufrZDeQw     3021313   \n",
       "300091 2017-01-03 07:44:13.236645  CAESEHk9NepYAunf9CGNQuUlTfQ     3021313   \n",
       "189341 2017-01-03 07:45:59.295247  CAESEHk9NepYAunf9CGNQuUlTfQ     3021313   \n",
       "96679  2017-01-03 08:36:47.425435  CAESEE3164wKxxdr8qNePETgGcw     3021313   \n",
       "217218 2017-01-03 09:47:08.867491  CAESEMrfyBaPgPbE6tl3RTvtZy4     3021313   \n",
       "314510 2017-01-03 10:07:53.805426  CAESEL2FjpKJ2lqaapf-Pv3QCEs     3021313   \n",
       "366657 2017-01-03 10:14:12.064716  CAESEL2FjpKJ2lqaapf-Pv3QCEs     3021313   \n",
       "291917 2017-01-03 10:17:20.403134  CAESEAbs5NVZyd8fs5i4w9vhksI     3021313   \n",
       "379505 2017-01-03 10:23:00.794849  CAESEAbs5NVZyd8fs5i4w9vhksI     3021313   \n",
       "268981 2017-01-03 10:24:18.108593  CAESEAbs5NVZyd8fs5i4w9vhksI     3021313   \n",
       "188064 2017-01-03 10:37:02.462190  CAESEAX5QCyk9m9MUMX0Q6jesHU     3021313   \n",
       "96666  2017-01-03 10:37:35.043021  CAESEAX5QCyk9m9MUMX0Q6jesHU     3021313   \n",
       "404153 2017-01-03 10:43:55.456244  CAESELZYH1iNyaHlXVChcBlHe5s     3021313   \n",
       "75359  2017-01-03 10:47:16.020947  CAESECp3WiRj3Z0qytfEGDf4TNo     3021313   \n",
       "387792 2017-01-03 10:56:20.297270  CAESEDJSmeGXScNfg9PUVG36exI     3021313   \n",
       "...                           ...                          ...         ...   \n",
       "112026 2017-03-30 23:13:56.459570  CAESEE7gCgPmP5OakcwQC_wuLog     2095334   \n",
       "170701 2017-03-30 23:16:55.723545  CAESEH2hOYYeIurhdQ6B_aGiAM0     2095334   \n",
       "66392  2017-03-30 23:17:25.183649  CAESEH2hOYYeIurhdQ6B_aGiAM0     2095334   \n",
       "202098 2017-03-30 23:26:09.942552  CAESEB5iXfyCyfR6RO3fGEi3EDk     1833669   \n",
       "223908 2017-03-30 23:27:38.333143  CAESEAb10vV_5Bn5ANMvbgtznEA     2095334   \n",
       "95629  2017-03-30 23:27:54.820110  CAESEAb10vV_5Bn5ANMvbgtznEA     2095334   \n",
       "299210 2017-03-30 23:28:24.155210  CAESEAb10vV_5Bn5ANMvbgtznEA     2095334   \n",
       "162549 2017-03-30 23:28:25.971529  CAESEAb10vV_5Bn5ANMvbgtznEA     2095334   \n",
       "179745 2017-03-30 23:29:10.725288  CAESEAb10vV_5Bn5ANMvbgtznEA     2095334   \n",
       "187213 2017-03-30 23:30:12.418975  CAESEB3hFX9vSBX6GFxGoUhZulU     3021313   \n",
       "172346 2017-03-30 23:31:11.600620  CAESEB3hFX9vSBX6GFxGoUhZulU     3021313   \n",
       "74752  2017-03-30 23:31:56.556712  CAESEB3hFX9vSBX6GFxGoUhZulU     3021313   \n",
       "301766 2017-03-30 23:32:37.985609  CAESEDBVaCeCTE90S1wbvCVrcow     3021313   \n",
       "305213 2017-03-30 23:32:53.106381  CAESEDBVaCeCTE90S1wbvCVrcow     3021313   \n",
       "216563 2017-03-30 23:34:14.858900  CAESEB3hFX9vSBX6GFxGoUhZulU     3021313   \n",
       "395280 2017-03-30 23:36:33.948135  CAESEB3hFX9vSBX6GFxGoUhZulU     3021313   \n",
       "312577 2017-03-30 23:39:07.364198  CAESEGdt3VWNR-71ncFMNDaoOtY     3021313   \n",
       "142600 2017-03-30 23:41:29.647101  CAESEIxs36Xt9EUpEweOi0rnykc     3021313   \n",
       "97047  2017-03-30 23:42:38.571316  CAESEIz3fnjjRmMsYq7KvPX3BQ8     3021313   \n",
       "246153 2017-03-30 23:42:44.900227  CAESEIxs36Xt9EUpEweOi0rnykc     3021313   \n",
       "255268 2017-03-30 23:43:21.294355  CAESEIxs36Xt9EUpEweOi0rnykc     3021313   \n",
       "358919 2017-03-30 23:44:36.154073  CAESEIxs36Xt9EUpEweOi0rnykc     3021313   \n",
       "343952 2017-03-30 23:45:27.564954  CAESEEnuqAxxsyySrsUaPIwq_JE     3021313   \n",
       "96930  2017-03-30 23:45:41.921743  CAESEEnuqAxxsyySrsUaPIwq_JE     3021313   \n",
       "67602  2017-03-30 23:46:42.527786  CAESEEnuqAxxsyySrsUaPIwq_JE     3021313   \n",
       "367024 2017-03-30 23:47:50.406449  CAESEEnuqAxxsyySrsUaPIwq_JE     3021313   \n",
       "201660 2017-03-30 23:55:32.363506  CAESENiFXmT6rb5QXBpsIWgDNp8     3021313   \n",
       "403847 2017-03-30 23:56:10.889447  CAESENiFXmT6rb5QXBpsIWgDNp8     3021313   \n",
       "209732 2017-03-30 23:58:19.082506  CAESENiFXmT6rb5QXBpsIWgDNp8     3021313   \n",
       "359119 2017-03-30 23:59:17.603790  CAESENiFXmT6rb5QXBpsIWgDNp8     3021313   \n",
       "\n",
       "       Placement_ID Campaign_ID  sequence                min_imp_time  \\\n",
       "330185    143083294    10719314         1  2017-01-02T08:46:01.482725   \n",
       "209068    143085067    10719314         2  2017-01-02T08:46:01.482725   \n",
       "300192    143085525    10719314         3  2017-01-02T08:46:01.482725   \n",
       "151851    143085525    10719314         4  2017-01-02T08:46:01.482725   \n",
       "38230     143085526    10719314         1  2017-01-02T11:49:31.067080   \n",
       "301620    143085526    10719314         1  2017-01-02T12:01:17.794209   \n",
       "29998     143085526    10719314         2  2017-01-02T11:49:31.067080   \n",
       "387976    143085909    10719314         3  2017-01-02T11:49:31.067080   \n",
       "163569    143085526    10719314         1  2017-01-02T12:25:12.734986   \n",
       "67370     143085526    10719314         1  2017-01-02T14:39:16.702680   \n",
       "201132    143085526    10719314         2  2017-01-02T12:25:12.734986   \n",
       "189477    143085526    10719314         1  2017-01-02T19:55:16.415116   \n",
       "21620     143085526    10719314         1  2017-01-02T19:55:59.699728   \n",
       "127356    143504102    10739956         1  2017-01-03T01:13:15.547585   \n",
       "277039    143504102    10739956         2  2017-01-03T01:13:15.547585   \n",
       "96664     143085526    10719314         1  2017-01-03T02:27:49.902613   \n",
       "300091    143085067    10719314         1  2017-01-03T07:44:13.236645   \n",
       "189341    143085067    10719314         2  2017-01-03T07:44:13.236645   \n",
       "96679     143085526    10719314         1  2017-01-03T08:36:47.425435   \n",
       "217218    143085067    10719314         1  2017-01-03T09:47:08.867491   \n",
       "314510    143085067    10719314         1  2017-01-03T10:07:53.805426   \n",
       "366657    143085067    10719314         2  2017-01-03T10:07:53.805426   \n",
       "291917    143085067    10719314         1  2017-01-03T10:17:20.403134   \n",
       "379505    143085067    10719314         2  2017-01-03T10:17:20.403134   \n",
       "268981    143085067    10719314         3  2017-01-03T10:17:20.403134   \n",
       "188064    143085909    10719314         1  2017-01-03T10:37:02.462190   \n",
       "96666     143085526    10719314         2  2017-01-03T10:37:02.462190   \n",
       "404153    143085526    10719314         1  2017-01-03T10:43:55.456244   \n",
       "75359     143085067    10719314         1  2017-01-03T10:47:16.020947   \n",
       "387792    143085526    10719314         1  2017-01-03T10:56:20.297270   \n",
       "...             ...         ...       ...                         ...   \n",
       "112026    148953023    10737662         5  2017-03-16T12:56:55.371723   \n",
       "170701    148939889    10737662         5  2017-03-28T10:59:49.451248   \n",
       "66392     148953023    10737662         6  2017-03-28T10:59:49.451248   \n",
       "202098    144087717    10768480         4  2017-03-13T03:17:26.029127   \n",
       "223908    145801676    10737662         1  2017-03-30T23:27:38.333143   \n",
       "95629     148953113    10737662         2  2017-03-30T23:27:38.333143   \n",
       "299210    148953113    10737662         3  2017-03-30T23:27:38.333143   \n",
       "162549    148953113    10737662         4  2017-03-30T23:27:38.333143   \n",
       "179745    148953113    10737662         5  2017-03-30T23:27:38.333143   \n",
       "187213    143084664    10719314         1  2017-03-30T23:30:12.418975   \n",
       "172346    143084664    10719314         2  2017-03-30T23:30:12.418975   \n",
       "74752     143084664    10719314         3  2017-03-30T23:30:12.418975   \n",
       "301766    143085909    10719314         3  2017-03-26T16:22:34.691655   \n",
       "305213    143085909    10719314         4  2017-03-26T16:22:34.691655   \n",
       "216563    143084664    10719314         4  2017-03-30T23:30:12.418975   \n",
       "395280    143084664    10719314         5  2017-03-30T23:30:12.418975   \n",
       "312577    143084664    10719314        11  2017-03-23T19:27:28.950848   \n",
       "142600    143085909    10719314         1  2017-03-30T23:41:29.647101   \n",
       "97047     143085909    10719314         4  2017-03-29T10:45:30.611041   \n",
       "246153    143084664    10719314         2  2017-03-30T23:41:29.647101   \n",
       "255268    143085909    10719314         3  2017-03-30T23:41:29.647101   \n",
       "358919    143085909    10719314         4  2017-03-30T23:41:29.647101   \n",
       "343952    143085909    10719314         1  2017-03-30T23:45:27.564954   \n",
       "96930     143085909    10719314         2  2017-03-30T23:45:27.564954   \n",
       "67602     143085909    10719314         3  2017-03-30T23:45:27.564954   \n",
       "367024    143085909    10719314         4  2017-03-30T23:45:27.564954   \n",
       "201660    143085909    10719314         1  2017-03-30T23:55:32.363506   \n",
       "403847    143084664    10719314         2  2017-03-30T23:55:32.363506   \n",
       "209732    143085909    10719314         3  2017-03-30T23:55:32.363506   \n",
       "359119    143085909    10719314         4  2017-03-30T23:55:32.363506   \n",
       "\n",
       "                      Min_CON_Time  Hourdiff New_Publisher  \n",
       "330185  2017-02-01T07:44:57.259361       719          Time  \n",
       "209068  2017-02-01T07:44:57.259361       719          Time  \n",
       "300192  2017-02-01T07:44:57.259361       719          Time  \n",
       "151851  2017-02-01T07:44:57.259361       719          Time  \n",
       "38230   2017-02-01T10:24:45.262722       719          Time  \n",
       "301620  2017-02-01T03:38:53.688132       711          Time  \n",
       "29998   2017-02-01T10:24:45.262722       718          Time  \n",
       "387976  2017-02-01T10:24:45.262722       718          Time  \n",
       "163569  2017-02-01T06:57:55.840994       714          Time  \n",
       "67370   2017-02-01T10:35:51.132607       716          Time  \n",
       "201132  2017-02-01T06:57:55.840994       711          Time  \n",
       "189477  2017-02-01T13:06:52.557617       714          Time  \n",
       "21620   2017-02-01T01:51:16.322224       702          Time  \n",
       "127356  2017-02-01T02:42:02.496334       697         Amnet  \n",
       "277039  2017-02-01T02:42:02.496334       697         Amnet  \n",
       "96664   2017-02-01T05:39:59.137556       699          Time  \n",
       "300091  2017-02-01T07:43:48.007931       696          Time  \n",
       "189341  2017-02-01T07:43:48.007931       696          Time  \n",
       "96679   2017-02-01T10:36:10.755887       698          Time  \n",
       "217218  2017-02-01T20:20:57.975259       707          Time  \n",
       "314510  2017-02-01T12:02:43.326655       698          Time  \n",
       "366657  2017-02-01T12:02:43.326655       698          Time  \n",
       "291917  2017-02-02T08:09:29.074264       718          Time  \n",
       "379505  2017-02-02T08:09:29.074264       718          Time  \n",
       "268981  2017-02-02T08:09:29.074264       718          Time  \n",
       "188064  2017-02-01T11:00:47.880882       697          Time  \n",
       "96666   2017-02-01T11:00:47.880882       697          Time  \n",
       "404153  2017-02-01T14:28:43.847866       700          Time  \n",
       "75359   2017-02-01T09:45:14.718271       695          Time  \n",
       "387792  2017-02-01T19:54:19.329127       705          Time  \n",
       "...                            ...       ...           ...  \n",
       "112026  2017-03-30T23:14:16.110165         0         Amnet  \n",
       "170701  2017-03-30T23:17:45.339147         0         Amnet  \n",
       "66392   2017-03-30T23:17:45.339147         0         Amnet  \n",
       "202098  2017-03-30T23:26:16.380101         0          Hulu  \n",
       "223908  2017-03-30T23:30:36.576365         0         Amnet  \n",
       "95629   2017-03-30T23:30:36.576365         0         Amnet  \n",
       "299210  2017-03-30T23:30:36.576365         0         Amnet  \n",
       "162549  2017-03-30T23:30:36.576365         0         Amnet  \n",
       "179745  2017-03-30T23:30:36.576365         0         Amnet  \n",
       "187213  2017-03-30T23:48:12.143377         0          Time  \n",
       "172346  2017-03-30T23:48:12.143377         0          Time  \n",
       "74752   2017-03-30T23:48:12.143377         0          Time  \n",
       "301766  2017-03-30T23:33:03.115768         0          Time  \n",
       "305213  2017-03-30T23:33:03.115768         0          Time  \n",
       "216563  2017-03-30T23:48:12.143377         0          Time  \n",
       "395280  2017-03-30T23:48:12.143377         0          Time  \n",
       "312577  2017-03-30T23:44:08.928191         0          Time  \n",
       "142600  2017-03-30T23:44:43.051808         0          Time  \n",
       "97047   2017-03-30T23:42:46.819261         0          Time  \n",
       "246153  2017-03-30T23:44:43.051808         0          Time  \n",
       "255268  2017-03-30T23:44:43.051808         0          Time  \n",
       "358919  2017-03-30T23:44:43.051808         0          Time  \n",
       "343952  2017-03-30T23:50:19.759097         0          Time  \n",
       "96930   2017-03-30T23:50:19.759097         0          Time  \n",
       "67602   2017-03-30T23:50:19.759097         0          Time  \n",
       "367024  2017-03-30T23:50:19.759097         0          Time  \n",
       "201660  2017-03-30T23:59:32.486683         0          Time  \n",
       "403847  2017-03-30T23:59:32.486683         0          Time  \n",
       "209732  2017-03-30T23:59:32.486683         0          Time  \n",
       "359119  2017-03-30T23:59:32.486683         0          Time  \n",
       "\n",
       "[407206 rows x 10 columns]"
      ]
     },
     "execution_count": 8,
     "metadata": {},
     "output_type": "execute_result"
    }
   ],
   "source": [
    "df1.sort_values('time')"
   ]
  },
  {
   "cell_type": "markdown",
   "metadata": {},
   "source": [
    "<img src=\"Google_Analytics_Attribution_Modeling.jpg\">"
   ]
  },
  {
   "cell_type": "markdown",
   "metadata": {},
   "source": [
    "### First Touch "
   ]
  },
  {
   "cell_type": "code",
   "execution_count": 9,
   "metadata": {
    "collapsed": false
   },
   "outputs": [],
   "source": [
    "First_Touch=df1[df1.sequence==1].groupby('New_Publisher',as_index=False).User_ID.count(). \\\n",
    "                 sort_values(by='User_ID',ascending=False).reset_index(drop=True)"
   ]
  },
  {
   "cell_type": "code",
   "execution_count": 10,
   "metadata": {
    "collapsed": false
   },
   "outputs": [],
   "source": [
    "First_Touch.rename(columns={'User_ID':'First_Touch'},inplace=True)"
   ]
  },
  {
   "cell_type": "code",
   "execution_count": 11,
   "metadata": {
    "collapsed": false
   },
   "outputs": [],
   "source": [
    "First_Touch=First_Touch.set_index('New_Publisher')"
   ]
  },
  {
   "cell_type": "markdown",
   "metadata": {},
   "source": [
    "### Last Touch "
   ]
  },
  {
   "cell_type": "code",
   "execution_count": 12,
   "metadata": {
    "collapsed": false
   },
   "outputs": [],
   "source": [
    "last_idx=df1.groupby('User_ID').time.transform(max)==df1.time"
   ]
  },
  {
   "cell_type": "code",
   "execution_count": 13,
   "metadata": {
    "collapsed": false
   },
   "outputs": [],
   "source": [
    "df1_last=df1[last_idx]"
   ]
  },
  {
   "cell_type": "code",
   "execution_count": 14,
   "metadata": {
    "collapsed": true
   },
   "outputs": [],
   "source": [
    "Last_Touch=df1_last.groupby('New_Publisher',as_index=False).User_ID.count().set_index('New_Publisher')"
   ]
  },
  {
   "cell_type": "code",
   "execution_count": 15,
   "metadata": {
    "collapsed": false
   },
   "outputs": [],
   "source": [
    "Last_Touch.rename(columns={'User_ID':'Last_Touch'},inplace=True)"
   ]
  },
  {
   "cell_type": "code",
   "execution_count": 16,
   "metadata": {
    "collapsed": false
   },
   "outputs": [
    {
     "data": {
      "text/html": [
       "<div>\n",
       "<table border=\"1\" class=\"dataframe\">\n",
       "  <thead>\n",
       "    <tr style=\"text-align: right;\">\n",
       "      <th></th>\n",
       "      <th>First_Touch</th>\n",
       "      <th>Last_Touch</th>\n",
       "    </tr>\n",
       "  </thead>\n",
       "  <tbody>\n",
       "    <tr>\n",
       "      <th>Amnet</th>\n",
       "      <td>10872</td>\n",
       "      <td>10319.0</td>\n",
       "    </tr>\n",
       "    <tr>\n",
       "      <th>Conversant</th>\n",
       "      <td>1</td>\n",
       "      <td>NaN</td>\n",
       "    </tr>\n",
       "    <tr>\n",
       "      <th>Hulu</th>\n",
       "      <td>106</td>\n",
       "      <td>115.0</td>\n",
       "    </tr>\n",
       "    <tr>\n",
       "      <th>Pandora</th>\n",
       "      <td>2442</td>\n",
       "      <td>2447.0</td>\n",
       "    </tr>\n",
       "    <tr>\n",
       "      <th>People Entertainment Network</th>\n",
       "      <td>1</td>\n",
       "      <td>NaN</td>\n",
       "    </tr>\n",
       "    <tr>\n",
       "      <th>Time</th>\n",
       "      <td>7596</td>\n",
       "      <td>7566.0</td>\n",
       "    </tr>\n",
       "    <tr>\n",
       "      <th>Walt Disney ABC</th>\n",
       "      <td>1601</td>\n",
       "      <td>2206.0</td>\n",
       "    </tr>\n",
       "    <tr>\n",
       "      <th>Youtube</th>\n",
       "      <td>524</td>\n",
       "      <td>490.0</td>\n",
       "    </tr>\n",
       "  </tbody>\n",
       "</table>\n",
       "</div>"
      ],
      "text/plain": [
       "                              First_Touch  Last_Touch\n",
       "Amnet                               10872     10319.0\n",
       "Conversant                              1         NaN\n",
       "Hulu                                  106       115.0\n",
       "Pandora                              2442      2447.0\n",
       "People Entertainment Network            1         NaN\n",
       "Time                                 7596      7566.0\n",
       "Walt Disney ABC                      1601      2206.0\n",
       "Youtube                               524       490.0"
      ]
     },
     "execution_count": 16,
     "metadata": {},
     "output_type": "execute_result"
    }
   ],
   "source": [
    "pd.concat([First_Touch,Last_Touch],join='outer',axis=1)"
   ]
  },
  {
   "cell_type": "markdown",
   "metadata": {},
   "source": [
    "### Linear "
   ]
  },
  {
   "cell_type": "code",
   "execution_count": 17,
   "metadata": {
    "collapsed": false
   },
   "outputs": [
    {
     "data": {
      "text/plain": [
       "407206"
      ]
     },
     "execution_count": 17,
     "metadata": {},
     "output_type": "execute_result"
    }
   ],
   "source": [
    "total_points=len(df1)\n",
    "\n",
    "total_points"
   ]
  },
  {
   "cell_type": "code",
   "execution_count": 53,
   "metadata": {
    "collapsed": false
   },
   "outputs": [
    {
     "data": {
      "text/plain": [
       "User_ID                      New_Publisher  \n",
       "CAESEA-3F6AonCV-FWs3if0qe4g  Amnet                2\n",
       "                             Time                 1\n",
       "CAESEA-3WjoHAnfWLW3y95Figg0  Time                 3\n",
       "CAESEA-CX9UT9dSaCkZKSGNsRrc  Amnet                5\n",
       "CAESEA-Dx9vCxjRBFz0cI0B3tOg  Walt Disney ABC      3\n",
       "CAESEA-IG57dvlLvXiL46HzHEEQ  Time                 1\n",
       "                             Walt Disney ABC      4\n",
       "CAESEA-LaJIsfP2L2i1rCavYN8Q  Amnet                4\n",
       "CAESEA-Rfr1NYlYd1KxCdosQAbs  Amnet               52\n",
       "CAESEA-SF4m5Xzyr20FZ2KedcLo  Youtube              3\n",
       "CAESEA-SZSGOX-9xTGnlcKSAoQg  Time                 3\n",
       "CAESEA-UyMA42WFHgvCe-LdLGtY  Pandora              3\n",
       "CAESEA-W3R6N_kFiBVYBn54Bl-c  Pandora              3\n",
       "CAESEA-Xym2Jho7_0rUvoAxeFBU  Time                 3\n",
       "CAESEA-j9qytYB8g9cem5p7rCks  Walt Disney ABC      3\n",
       "CAESEA-jT0_u489xjmiK_Q5Mi9I  Time                 3\n",
       "CAESEA-lgEOT25Rk3jzDgI3KdUI  Walt Disney ABC      4\n",
       "CAESEA-nBdA87ZGcvEZMjiRqHrU  Time                 3\n",
       "CAESEA-qiWRejjmYmxvpF_mSXRo  Amnet               25\n",
       "CAESEA-qmqZFwZiHZRd8b_8NiQM  Amnet               70\n",
       "CAESEA-tePaQ4bycyKxaZTKK-pc  Amnet                8\n",
       "CAESEA-ve1TAIwzFPH5iaS1DoaY  Time                42\n",
       "CAESEA-w33xOL_FKTdYH_IcleJw  Amnet                3\n",
       "                             Time                 2\n",
       "CAESEA-xMEX-96fV2rxkV4A9Iuc  Amnet               22\n",
       "CAESEA-ykqWd1LMmP2g0rXdV900  Amnet                4\n",
       "CAESEA01t8wlGBDEfZbd9E3wg-8  Amnet               19\n",
       "CAESEA0G81vGzhJPUii4voBx0gI  Time                 3\n",
       "CAESEA0HPVodSzJohOwFXER7H3I  Pandora              6\n",
       "CAESEA0JS_DS0ZFAXqM5eFZGrJY  Time                 4\n",
       "                                               ... \n",
       "CAESEPyjXfRYSaQzWpbUDXtrzDw  Amnet               45\n",
       "CAESEPylAYYRhwUNB__EnJqp_o8  Time                 2\n",
       "                             Walt Disney ABC      1\n",
       "CAESEPypnUf8S9gfGrk6PzIL0Uo  Time                18\n",
       "CAESEPyqaFtVQV4Pqk6rtfVziFg  Time                 8\n",
       "CAESEPytT4OI-JlcRes8r6kv_NE  Time                 3\n",
       "CAESEPz0XkUCKC7oYfFdF4SegA8  Amnet               11\n",
       "CAESEPzEIOyUF5sK6AP1IGO3egM  Amnet                3\n",
       "CAESEPzFAArXCHd2Shuy7YdcQho  Amnet                4\n",
       "CAESEPzHT9uz49-9z65RgNAYOdI  Amnet              197\n",
       "CAESEPzIS4qZVlh9Hx1kCn5I9oo  Amnet               30\n",
       "CAESEPzLk5EnDhIcdKpz2aZxK00  Amnet                9\n",
       "CAESEPzRsMycp5EHNdczVZPcn_M  Amnet              134\n",
       "CAESEPzS0kj7Civva2EYnCvt9zM  Pandora              9\n",
       "CAESEPzT0rua4wpB5RWVhJHlqyE  Time                41\n",
       "CAESEPzXqvo7AbsBo2IUB1LL9xs  Amnet                3\n",
       "CAESEPza3RlAE5kIlrRA0YbAbLM  Amnet                6\n",
       "CAESEPzc_neqjJKecZ8wO34hAHU  Amnet               52\n",
       "CAESEPzdh-b8qn1phS2nlHs8DkQ  Time                 7\n",
       "CAESEPzeUi_E3u3FD-aJkB8BRz0  Amnet               58\n",
       "CAESEPzevY5oFKtwIg9yF2twZ-I  Time                 6\n",
       "CAESEPzghd51bNzo2tjo3S3-8pI  Pandora             81\n",
       "CAESEPzkl3YsJg592ptYKCCTLz8  Amnet               45\n",
       "CAESEPzndAMBEehJLbKPkPQF88g  Time                15\n",
       "CAESEPzozdlk2EbFcpdxG9rrfEc  Time                20\n",
       "CAESEPzpb2cjRqdh-1usjihDsgo  Time                12\n",
       "CAESEPzqJGT4PfajX8RQGb3L3Y4  Amnet                9\n",
       "CAESEPzqd3bX7mGZlMpa6Zax3e8  Amnet                3\n",
       "CAESEPzwx1uuIQXukWVLcZz4M60  Amnet                8\n",
       "CAESEPzyeSUnKXys5l1-TIAOcMU  Amnet               38\n",
       "Name: time, dtype: int64"
      ]
     },
     "execution_count": 53,
     "metadata": {},
     "output_type": "execute_result"
    }
   ],
   "source": [
    "df1.groupby(['User_ID','New_Publisher']).time.count()"
   ]
  },
  {
   "cell_type": "code",
   "execution_count": 19,
   "metadata": {
    "collapsed": false
   },
   "outputs": [],
   "source": [
    "touchpoints_count=df1.groupby('New_Publisher').User_ID.count()"
   ]
  },
  {
   "cell_type": "code",
   "execution_count": 20,
   "metadata": {
    "collapsed": false
   },
   "outputs": [],
   "source": [
    "touchpoints_per=touchpoints_count.astype(float)/total_points"
   ]
  },
  {
   "cell_type": "code",
   "execution_count": 52,
   "metadata": {
    "collapsed": false
   },
   "outputs": [
    {
     "data": {
      "text/plain": [
       "New_Publisher\n",
       "Amnet                           0.747514\n",
       "Conversant                      0.000005\n",
       "Hulu                            0.001530\n",
       "Pandora                         0.047575\n",
       "People Entertainment Network    0.000005\n",
       "Time                            0.175211\n",
       "Walt Disney ABC                 0.019676\n",
       "Youtube                         0.008485\n",
       "Name: User_ID, dtype: float64"
      ]
     },
     "execution_count": 52,
     "metadata": {},
     "output_type": "execute_result"
    }
   ],
   "source": [
    "touchpoints_per"
   ]
  },
  {
   "cell_type": "code",
   "execution_count": 21,
   "metadata": {
    "collapsed": false
   },
   "outputs": [],
   "source": [
    "Linear=round(touchpoints_per*total_conversions).reset_index().set_index('New_Publisher')"
   ]
  },
  {
   "cell_type": "code",
   "execution_count": 22,
   "metadata": {
    "collapsed": false
   },
   "outputs": [],
   "source": [
    "Linear.rename(columns={'User_ID':'Linear'},inplace=True)"
   ]
  },
  {
   "cell_type": "code",
   "execution_count": 48,
   "metadata": {
    "collapsed": false
   },
   "outputs": [],
   "source": [
    "com=pd.concat([First_Touch,Last_Touch,Linear],join='outer',axis=1)"
   ]
  },
  {
   "cell_type": "code",
   "execution_count": 49,
   "metadata": {
    "collapsed": false
   },
   "outputs": [
    {
     "data": {
      "text/html": [
       "<div>\n",
       "<table border=\"1\" class=\"dataframe\">\n",
       "  <thead>\n",
       "    <tr style=\"text-align: right;\">\n",
       "      <th></th>\n",
       "      <th>First_Touch</th>\n",
       "      <th>Last_Touch</th>\n",
       "      <th>Linear</th>\n",
       "    </tr>\n",
       "  </thead>\n",
       "  <tbody>\n",
       "    <tr>\n",
       "      <th>Amnet</th>\n",
       "      <td>10872</td>\n",
       "      <td>10319.0</td>\n",
       "      <td>17300.0</td>\n",
       "    </tr>\n",
       "    <tr>\n",
       "      <th>Conversant</th>\n",
       "      <td>1</td>\n",
       "      <td>NaN</td>\n",
       "      <td>0.0</td>\n",
       "    </tr>\n",
       "    <tr>\n",
       "      <th>Hulu</th>\n",
       "      <td>106</td>\n",
       "      <td>115.0</td>\n",
       "      <td>35.0</td>\n",
       "    </tr>\n",
       "    <tr>\n",
       "      <th>Pandora</th>\n",
       "      <td>2442</td>\n",
       "      <td>2447.0</td>\n",
       "      <td>1101.0</td>\n",
       "    </tr>\n",
       "    <tr>\n",
       "      <th>People Entertainment Network</th>\n",
       "      <td>1</td>\n",
       "      <td>NaN</td>\n",
       "      <td>0.0</td>\n",
       "    </tr>\n",
       "    <tr>\n",
       "      <th>Time</th>\n",
       "      <td>7596</td>\n",
       "      <td>7566.0</td>\n",
       "      <td>4055.0</td>\n",
       "    </tr>\n",
       "    <tr>\n",
       "      <th>Walt Disney ABC</th>\n",
       "      <td>1601</td>\n",
       "      <td>2206.0</td>\n",
       "      <td>455.0</td>\n",
       "    </tr>\n",
       "    <tr>\n",
       "      <th>Youtube</th>\n",
       "      <td>524</td>\n",
       "      <td>490.0</td>\n",
       "      <td>196.0</td>\n",
       "    </tr>\n",
       "  </tbody>\n",
       "</table>\n",
       "</div>"
      ],
      "text/plain": [
       "                              First_Touch  Last_Touch   Linear\n",
       "Amnet                               10872     10319.0  17300.0\n",
       "Conversant                              1         NaN      0.0\n",
       "Hulu                                  106       115.0     35.0\n",
       "Pandora                              2442      2447.0   1101.0\n",
       "People Entertainment Network            1         NaN      0.0\n",
       "Time                                 7596      7566.0   4055.0\n",
       "Walt Disney ABC                      1601      2206.0    455.0\n",
       "Youtube                               524       490.0    196.0"
      ]
     },
     "execution_count": 49,
     "metadata": {},
     "output_type": "execute_result"
    }
   ],
   "source": [
    "com"
   ]
  },
  {
   "cell_type": "markdown",
   "metadata": {},
   "source": [
    "#### Position Based "
   ]
  },
  {
   "cell_type": "code",
   "execution_count": 24,
   "metadata": {
    "collapsed": false
   },
   "outputs": [],
   "source": [
    "First=First_Touch*0.4"
   ]
  },
  {
   "cell_type": "code",
   "execution_count": 25,
   "metadata": {
    "collapsed": false
   },
   "outputs": [
    {
     "data": {
      "text/html": [
       "<div>\n",
       "<table border=\"1\" class=\"dataframe\">\n",
       "  <thead>\n",
       "    <tr style=\"text-align: right;\">\n",
       "      <th></th>\n",
       "      <th>First_Touch</th>\n",
       "    </tr>\n",
       "    <tr>\n",
       "      <th>New_Publisher</th>\n",
       "      <th></th>\n",
       "    </tr>\n",
       "  </thead>\n",
       "  <tbody>\n",
       "    <tr>\n",
       "      <th>Amnet</th>\n",
       "      <td>4348.8</td>\n",
       "    </tr>\n",
       "    <tr>\n",
       "      <th>Time</th>\n",
       "      <td>3038.4</td>\n",
       "    </tr>\n",
       "    <tr>\n",
       "      <th>Pandora</th>\n",
       "      <td>976.8</td>\n",
       "    </tr>\n",
       "    <tr>\n",
       "      <th>Walt Disney ABC</th>\n",
       "      <td>640.4</td>\n",
       "    </tr>\n",
       "    <tr>\n",
       "      <th>Youtube</th>\n",
       "      <td>209.6</td>\n",
       "    </tr>\n",
       "    <tr>\n",
       "      <th>Hulu</th>\n",
       "      <td>42.4</td>\n",
       "    </tr>\n",
       "    <tr>\n",
       "      <th>Conversant</th>\n",
       "      <td>0.4</td>\n",
       "    </tr>\n",
       "    <tr>\n",
       "      <th>People Entertainment Network</th>\n",
       "      <td>0.4</td>\n",
       "    </tr>\n",
       "  </tbody>\n",
       "</table>\n",
       "</div>"
      ],
      "text/plain": [
       "                              First_Touch\n",
       "New_Publisher                            \n",
       "Amnet                              4348.8\n",
       "Time                               3038.4\n",
       "Pandora                             976.8\n",
       "Walt Disney ABC                     640.4\n",
       "Youtube                             209.6\n",
       "Hulu                                 42.4\n",
       "Conversant                            0.4\n",
       "People Entertainment Network          0.4"
      ]
     },
     "execution_count": 25,
     "metadata": {},
     "output_type": "execute_result"
    }
   ],
   "source": [
    "First"
   ]
  },
  {
   "cell_type": "code",
   "execution_count": 26,
   "metadata": {
    "collapsed": false
   },
   "outputs": [],
   "source": [
    "Last=Last_Touch*0.4"
   ]
  },
  {
   "cell_type": "code",
   "execution_count": 27,
   "metadata": {
    "collapsed": false
   },
   "outputs": [],
   "source": [
    "middle=df1[(df1.sequence!=1) & (df1.groupby('User_ID').time.transform(max)!=df1.time)]"
   ]
  },
  {
   "cell_type": "code",
   "execution_count": 28,
   "metadata": {
    "collapsed": false
   },
   "outputs": [
    {
     "data": {
      "text/plain": [
       "360920"
      ]
     },
     "execution_count": 28,
     "metadata": {},
     "output_type": "execute_result"
    }
   ],
   "source": [
    "len(middle)"
   ]
  },
  {
   "cell_type": "code",
   "execution_count": 29,
   "metadata": {
    "collapsed": false
   },
   "outputs": [],
   "source": [
    "middle_points_c=len(middle)"
   ]
  },
  {
   "cell_type": "code",
   "execution_count": 31,
   "metadata": {
    "collapsed": false
   },
   "outputs": [],
   "source": [
    "middle_per=middle.groupby('New_Publisher').User_ID.count()/middle_points_c"
   ]
  },
  {
   "cell_type": "code",
   "execution_count": 32,
   "metadata": {
    "collapsed": false
   },
   "outputs": [
    {
     "data": {
      "text/plain": [
       "New_Publisher\n",
       "Amnet                           0.784664\n",
       "Conversant                      0.000003\n",
       "Hulu                            0.001114\n",
       "Pandora                         0.040131\n",
       "People Entertainment Network    0.000003\n",
       "Time                            0.155672\n",
       "Walt Disney ABC                 0.011651\n",
       "Youtube                         0.006763\n",
       "Name: User_ID, dtype: float64"
      ]
     },
     "execution_count": 32,
     "metadata": {},
     "output_type": "execute_result"
    }
   ],
   "source": [
    "middle_per"
   ]
  },
  {
   "cell_type": "code",
   "execution_count": 33,
   "metadata": {
    "collapsed": false
   },
   "outputs": [],
   "source": [
    "Middle=middle_per*0.2*total_conversions"
   ]
  },
  {
   "cell_type": "code",
   "execution_count": 34,
   "metadata": {
    "collapsed": false
   },
   "outputs": [
    {
     "data": {
      "text/html": [
       "<div>\n",
       "<table border=\"1\" class=\"dataframe\">\n",
       "  <thead>\n",
       "    <tr style=\"text-align: right;\">\n",
       "      <th></th>\n",
       "      <th>New_Publisher</th>\n",
       "      <th>User_ID</th>\n",
       "    </tr>\n",
       "  </thead>\n",
       "  <tbody>\n",
       "    <tr>\n",
       "      <th>0</th>\n",
       "      <td>Amnet</td>\n",
       "      <td>3631.896677</td>\n",
       "    </tr>\n",
       "    <tr>\n",
       "      <th>1</th>\n",
       "      <td>Conversant</td>\n",
       "      <td>0.012824</td>\n",
       "    </tr>\n",
       "    <tr>\n",
       "      <th>2</th>\n",
       "      <td>Hulu</td>\n",
       "      <td>5.155428</td>\n",
       "    </tr>\n",
       "    <tr>\n",
       "      <th>3</th>\n",
       "      <td>Pandora</td>\n",
       "      <td>185.749314</td>\n",
       "    </tr>\n",
       "    <tr>\n",
       "      <th>4</th>\n",
       "      <td>People Entertainment Network</td>\n",
       "      <td>0.012824</td>\n",
       "    </tr>\n",
       "    <tr>\n",
       "      <th>5</th>\n",
       "      <td>Time</td>\n",
       "      <td>720.541646</td>\n",
       "    </tr>\n",
       "    <tr>\n",
       "      <th>6</th>\n",
       "      <td>Walt Disney ABC</td>\n",
       "      <td>53.926806</td>\n",
       "    </tr>\n",
       "    <tr>\n",
       "      <th>7</th>\n",
       "      <td>Youtube</td>\n",
       "      <td>31.304479</td>\n",
       "    </tr>\n",
       "  </tbody>\n",
       "</table>\n",
       "</div>"
      ],
      "text/plain": [
       "                  New_Publisher      User_ID\n",
       "0                         Amnet  3631.896677\n",
       "1                    Conversant     0.012824\n",
       "2                          Hulu     5.155428\n",
       "3                       Pandora   185.749314\n",
       "4  People Entertainment Network     0.012824\n",
       "5                          Time   720.541646\n",
       "6               Walt Disney ABC    53.926806\n",
       "7                       Youtube    31.304479"
      ]
     },
     "execution_count": 34,
     "metadata": {},
     "output_type": "execute_result"
    }
   ],
   "source": [
    "Middle.reset_index()"
   ]
  },
  {
   "cell_type": "code",
   "execution_count": 35,
   "metadata": {
    "collapsed": false
   },
   "outputs": [],
   "source": [
    "#First.add(Middle,axis=0)"
   ]
  },
  {
   "cell_type": "code",
   "execution_count": 36,
   "metadata": {
    "collapsed": true
   },
   "outputs": [],
   "source": [
    "agg_df=pd.concat([First,Last,Middle],axis=1)"
   ]
  },
  {
   "cell_type": "code",
   "execution_count": 37,
   "metadata": {
    "collapsed": false
   },
   "outputs": [],
   "source": [
    "Position_Based=round(agg_df.sum(axis=1).to_frame())"
   ]
  },
  {
   "cell_type": "code",
   "execution_count": 38,
   "metadata": {
    "collapsed": false
   },
   "outputs": [],
   "source": [
    "Position_Based.rename(columns={0:'PositionBased'},inplace=True)"
   ]
  },
  {
   "cell_type": "code",
   "execution_count": 39,
   "metadata": {
    "collapsed": false
   },
   "outputs": [
    {
     "data": {
      "text/html": [
       "<div>\n",
       "<table border=\"1\" class=\"dataframe\">\n",
       "  <thead>\n",
       "    <tr style=\"text-align: right;\">\n",
       "      <th></th>\n",
       "      <th>PositionBased</th>\n",
       "    </tr>\n",
       "  </thead>\n",
       "  <tbody>\n",
       "    <tr>\n",
       "      <th>Amnet</th>\n",
       "      <td>12108.0</td>\n",
       "    </tr>\n",
       "    <tr>\n",
       "      <th>Conversant</th>\n",
       "      <td>0.0</td>\n",
       "    </tr>\n",
       "    <tr>\n",
       "      <th>Hulu</th>\n",
       "      <td>94.0</td>\n",
       "    </tr>\n",
       "    <tr>\n",
       "      <th>Pandora</th>\n",
       "      <td>2141.0</td>\n",
       "    </tr>\n",
       "    <tr>\n",
       "      <th>People Entertainment Network</th>\n",
       "      <td>0.0</td>\n",
       "    </tr>\n",
       "    <tr>\n",
       "      <th>Time</th>\n",
       "      <td>6785.0</td>\n",
       "    </tr>\n",
       "    <tr>\n",
       "      <th>Walt Disney ABC</th>\n",
       "      <td>1577.0</td>\n",
       "    </tr>\n",
       "    <tr>\n",
       "      <th>Youtube</th>\n",
       "      <td>437.0</td>\n",
       "    </tr>\n",
       "  </tbody>\n",
       "</table>\n",
       "</div>"
      ],
      "text/plain": [
       "                              PositionBased\n",
       "Amnet                               12108.0\n",
       "Conversant                              0.0\n",
       "Hulu                                   94.0\n",
       "Pandora                              2141.0\n",
       "People Entertainment Network            0.0\n",
       "Time                                 6785.0\n",
       "Walt Disney ABC                      1577.0\n",
       "Youtube                               437.0"
      ]
     },
     "execution_count": 39,
     "metadata": {},
     "output_type": "execute_result"
    }
   ],
   "source": [
    "Position_Based"
   ]
  },
  {
   "cell_type": "code",
   "execution_count": 50,
   "metadata": {
    "collapsed": true
   },
   "outputs": [],
   "source": [
    "com=pd.concat([com,Position_Based],axis=1)"
   ]
  },
  {
   "cell_type": "code",
   "execution_count": 51,
   "metadata": {
    "collapsed": false
   },
   "outputs": [
    {
     "data": {
      "text/html": [
       "<div>\n",
       "<table border=\"1\" class=\"dataframe\">\n",
       "  <thead>\n",
       "    <tr style=\"text-align: right;\">\n",
       "      <th></th>\n",
       "      <th>First_Touch</th>\n",
       "      <th>Last_Touch</th>\n",
       "      <th>Linear</th>\n",
       "      <th>PositionBased</th>\n",
       "    </tr>\n",
       "  </thead>\n",
       "  <tbody>\n",
       "    <tr>\n",
       "      <th>Amnet</th>\n",
       "      <td>10872</td>\n",
       "      <td>10319.0</td>\n",
       "      <td>17300.0</td>\n",
       "      <td>12108.0</td>\n",
       "    </tr>\n",
       "    <tr>\n",
       "      <th>Conversant</th>\n",
       "      <td>1</td>\n",
       "      <td>NaN</td>\n",
       "      <td>0.0</td>\n",
       "      <td>0.0</td>\n",
       "    </tr>\n",
       "    <tr>\n",
       "      <th>Hulu</th>\n",
       "      <td>106</td>\n",
       "      <td>115.0</td>\n",
       "      <td>35.0</td>\n",
       "      <td>94.0</td>\n",
       "    </tr>\n",
       "    <tr>\n",
       "      <th>Pandora</th>\n",
       "      <td>2442</td>\n",
       "      <td>2447.0</td>\n",
       "      <td>1101.0</td>\n",
       "      <td>2141.0</td>\n",
       "    </tr>\n",
       "    <tr>\n",
       "      <th>People Entertainment Network</th>\n",
       "      <td>1</td>\n",
       "      <td>NaN</td>\n",
       "      <td>0.0</td>\n",
       "      <td>0.0</td>\n",
       "    </tr>\n",
       "    <tr>\n",
       "      <th>Time</th>\n",
       "      <td>7596</td>\n",
       "      <td>7566.0</td>\n",
       "      <td>4055.0</td>\n",
       "      <td>6785.0</td>\n",
       "    </tr>\n",
       "    <tr>\n",
       "      <th>Walt Disney ABC</th>\n",
       "      <td>1601</td>\n",
       "      <td>2206.0</td>\n",
       "      <td>455.0</td>\n",
       "      <td>1577.0</td>\n",
       "    </tr>\n",
       "    <tr>\n",
       "      <th>Youtube</th>\n",
       "      <td>524</td>\n",
       "      <td>490.0</td>\n",
       "      <td>196.0</td>\n",
       "      <td>437.0</td>\n",
       "    </tr>\n",
       "  </tbody>\n",
       "</table>\n",
       "</div>"
      ],
      "text/plain": [
       "                              First_Touch  Last_Touch   Linear  PositionBased\n",
       "Amnet                               10872     10319.0  17300.0        12108.0\n",
       "Conversant                              1         NaN      0.0            0.0\n",
       "Hulu                                  106       115.0     35.0           94.0\n",
       "Pandora                              2442      2447.0   1101.0         2141.0\n",
       "People Entertainment Network            1         NaN      0.0            0.0\n",
       "Time                                 7596      7566.0   4055.0         6785.0\n",
       "Walt Disney ABC                      1601      2206.0    455.0         1577.0\n",
       "Youtube                               524       490.0    196.0          437.0"
      ]
     },
     "execution_count": 51,
     "metadata": {},
     "output_type": "execute_result"
    }
   ],
   "source": [
    "com"
   ]
  },
  {
   "cell_type": "markdown",
   "metadata": {},
   "source": [
    "### Markov Chain "
   ]
  },
  {
   "cell_type": "code",
   "execution_count": 40,
   "metadata": {
    "collapsed": true
   },
   "outputs": [],
   "source": [
    "query2='''\n",
    "select User_ID,group_concat(New_Publisher,'>') from \n",
    "(SELECT * FROM [cookiepoc-139913:ZedFang_Analytics.ZF_Advil_Attribution_Final] \n",
    "order by User_ID,sequence)\n",
    "Group by User_ID\n",
    "'''"
   ]
  },
  {
   "cell_type": "code",
   "execution_count": 41,
   "metadata": {
    "collapsed": false
   },
   "outputs": [
    {
     "name": "stdout",
     "output_type": "stream",
     "text": [
      "Requesting query... ok.\n",
      "Query running...\n",
      "Query done.\n",
      "Cache hit.\n",
      "\n",
      "Retrieving results...\n",
      "Got 23143 rows.\n",
      "\n",
      "Total time taken 1.97 s.\n",
      "Finished at 2017-04-14 00:47:33.\n"
     ]
    }
   ],
   "source": [
    "proj_id='cookiepoc-139913'\n",
    "df2=pd.io.gbq.read_gbq(query2,project_id=proj_id,dialect='legacy')"
   ]
  },
  {
   "cell_type": "code",
   "execution_count": 45,
   "metadata": {
    "collapsed": false
   },
   "outputs": [],
   "source": [
    "df2.rename(columns={'f0_':'Channels'},inplace=True)"
   ]
  },
  {
   "cell_type": "code",
   "execution_count": 46,
   "metadata": {
    "collapsed": false
   },
   "outputs": [
    {
     "data": {
      "text/html": [
       "<div>\n",
       "<table border=\"1\" class=\"dataframe\">\n",
       "  <thead>\n",
       "    <tr style=\"text-align: right;\">\n",
       "      <th></th>\n",
       "      <th>User_ID</th>\n",
       "      <th>Channels</th>\n",
       "    </tr>\n",
       "  </thead>\n",
       "  <tbody>\n",
       "    <tr>\n",
       "      <th>0</th>\n",
       "      <td>CAESEA-3F6AonCV-FWs3if0qe4g</td>\n",
       "      <td>Time&gt;Amnet&gt;Amnet</td>\n",
       "    </tr>\n",
       "    <tr>\n",
       "      <th>1</th>\n",
       "      <td>CAESEA-3WjoHAnfWLW3y95Figg0</td>\n",
       "      <td>Time&gt;Time&gt;Time</td>\n",
       "    </tr>\n",
       "    <tr>\n",
       "      <th>2</th>\n",
       "      <td>CAESEA-CX9UT9dSaCkZKSGNsRrc</td>\n",
       "      <td>Amnet&gt;Amnet&gt;Amnet&gt;Amnet&gt;Amnet</td>\n",
       "    </tr>\n",
       "    <tr>\n",
       "      <th>3</th>\n",
       "      <td>CAESEA-Dx9vCxjRBFz0cI0B3tOg</td>\n",
       "      <td>Walt Disney ABC&gt;Walt Disney ABC&gt;Walt Disney ABC</td>\n",
       "    </tr>\n",
       "    <tr>\n",
       "      <th>4</th>\n",
       "      <td>CAESEA-IG57dvlLvXiL46HzHEEQ</td>\n",
       "      <td>Walt Disney ABC&gt;Walt Disney ABC&gt;Walt Disney AB...</td>\n",
       "    </tr>\n",
       "  </tbody>\n",
       "</table>\n",
       "</div>"
      ],
      "text/plain": [
       "                       User_ID  \\\n",
       "0  CAESEA-3F6AonCV-FWs3if0qe4g   \n",
       "1  CAESEA-3WjoHAnfWLW3y95Figg0   \n",
       "2  CAESEA-CX9UT9dSaCkZKSGNsRrc   \n",
       "3  CAESEA-Dx9vCxjRBFz0cI0B3tOg   \n",
       "4  CAESEA-IG57dvlLvXiL46HzHEEQ   \n",
       "\n",
       "                                            Channels  \n",
       "0                                   Time>Amnet>Amnet  \n",
       "1                                     Time>Time>Time  \n",
       "2                      Amnet>Amnet>Amnet>Amnet>Amnet  \n",
       "3    Walt Disney ABC>Walt Disney ABC>Walt Disney ABC  \n",
       "4  Walt Disney ABC>Walt Disney ABC>Walt Disney AB...  "
      ]
     },
     "execution_count": 46,
     "metadata": {},
     "output_type": "execute_result"
    }
   ],
   "source": [
    "df2.head()"
   ]
  },
  {
   "cell_type": "code",
   "execution_count": 47,
   "metadata": {
    "collapsed": true
   },
   "outputs": [],
   "source": [
    "df2.to_csv('demo.csv')"
   ]
  },
  {
   "cell_type": "code",
   "execution_count": null,
   "metadata": {
    "collapsed": true
   },
   "outputs": [],
   "source": []
  },
  {
   "cell_type": "code",
   "execution_count": null,
   "metadata": {
    "collapsed": false
   },
   "outputs": [],
   "source": [
    "import pykov"
   ]
  },
  {
   "cell_type": "code",
   "execution_count": null,
   "metadata": {
    "collapsed": true
   },
   "outputs": [],
   "source": []
  }
 ],
 "metadata": {
  "anaconda-cloud": {},
  "kernelspec": {
   "display_name": "Python [default]",
   "language": "python",
   "name": "python3"
  },
  "language_info": {
   "codemirror_mode": {
    "name": "ipython",
    "version": 3
   },
   "file_extension": ".py",
   "mimetype": "text/x-python",
   "name": "python",
   "nbconvert_exporter": "python",
   "pygments_lexer": "ipython3",
   "version": "3.5.2"
  }
 },
 "nbformat": 4,
 "nbformat_minor": 2
}
